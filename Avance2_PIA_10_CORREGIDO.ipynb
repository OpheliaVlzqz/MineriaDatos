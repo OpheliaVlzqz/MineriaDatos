{
  "nbformat": 4,
  "nbformat_minor": 0,
  "metadata": {
    "colab": {
      "name": " Avance2_PIA_10.ipynb",
      "provenance": [],
      "collapsed_sections": []
    },
    "kernelspec": {
      "name": "python3",
      "display_name": "Python 3"
    },
    "language_info": {
      "name": "python"
    }
  },
  "cells": [
    {
      "cell_type": "markdown",
      "metadata": {
        "id": "FWUZ_A5NPrEj"
      },
      "source": [
        "# **Equipo: 10**\n",
        "Integrantes\n",
        "\n",
        "\n",
        "*   \n",
        "1856652 Velázquez Montemayor Ofelia\n",
        "*   \n",
        "1856652 Velázquez Montemayor Ofelia\n",
        "*\n",
        "1862149 Cruz Martínez Diego Adrian\n",
        "*\n",
        "1867216 Martínez Reyes Jose Miguel\n",
        "*\n",
        "1941488 García Ortega Jose Andrés\n",
        "*\n",
        "1941564 Ramirez Moreno Diana Gabriela"
      ]
    },
    {
      "cell_type": "markdown",
      "metadata": {
        "id": "d606BPuroM1H"
      },
      "source": [
        "**GRUPO 001.- Lunes de 7:00-10:00 PM**\n",
        "\n",
        "\n",
        "Objetivo: Estimar una fecha en la cuál se pueda llegar a una nueva normalidad mas segura para todos, a partir de la cifras de las personas vacunadas. \n"
      ]
    },
    {
      "cell_type": "markdown",
      "metadata": {
        "id": "rHbmpHZ6ctha"
      },
      "source": [
        "# **Base de datos principal: COVID-19 World Vaccination Progress**"
      ]
    },
    {
      "cell_type": "markdown",
      "metadata": {
        "id": "YiZwpxfOcpke"
      },
      "source": [
        "\n",
        "URL de la pagina:  https://www.kaggle.com/gpreda/covid-world-vaccination-progress"
      ]
    },
    {
      "cell_type": "markdown",
      "metadata": {
        "id": "tTIKVYamZYV9"
      },
      "source": [
        "# **Introducción General**"
      ]
    },
    {
      "cell_type": "markdown",
      "metadata": {
        "id": "lFyVJFQDZk6l"
      },
      "source": [
        "Nuestra base de datos muestra el progreso de vacunación mundial contra el COVID-19. Los coronavirus son una familia de virus que causan enfermedades (desde el resfriado común hasta enfermedades respiratorias más graves) y circulan entre humanos y animales. \n",
        "El COVID-19 es la enfermedad causada por el nuevo coronavirus conocido como SARS-CoV-2. La OMS tuvo noticia por primera vez de la existencia de este nuevo virus el 31 de diciembre de 2019, al ser informada de un grupo de casos de «neumonía vírica» que se habían declarado en Wuhan (República Popular China).\n",
        "\n",
        "Algunos de los síntomas que puede presentar una persona con COVID-19 son, fiebre, tos seca, cansancio, pérdida del gusto y/o del olfato, dolor de garganta, dolor de cabeza, náuseas, vómito, diarrea, etc. El sector de la población con más riesgo son las personas de más de 60 años y las que padecen afecciones médicas subyacentes, como hipertensión arterial, problemas cardíacos o pulmonares, \n",
        "diabetes, obesidad o cáncer, corren un mayor riesgo de presentar cuadros graves. \n",
        "Sin embargo, cualquier persona, a cualquier edad, puede enfermar de COVID-19 y presentar un cuadro grave o morir.    \n",
        "El tiempo entre la exposición a la COVID-19 y el momento en que comienzan los síntomas es, de media, de 5 o 6 días, pero puede variar entre 1 y 14 días. Por ello se recomienda que las personas que hayan estado expuestas al virus se queden en casa, alejadas de otras personas, durante 14 días, con el fin de prevenir la propagación del virus.\n",
        "\n",
        "El COVID-19 ha afectado mucho a la humanidad, han muerto 4.49 M de personas en el mundo y se han enfermado 216 M de personas. De los casi 7,000 profesionales de la salud en el mundo que han perdido la vida por el Covid-19, al menos 1,320 se registraron en México, según un reporte de Amnistía Internacional. La pandemia ha afectado a la economía de todos los países del mundo, los precios de las materias primas cayeron, mientras subió el gasto público para la lucha contra la pandemia que  a consecuencia de esta muchos negocios cerraron, subió el índice de desempleo y aumentó la inseguridad. La deuda fiscal de muchos países se incrementó enormemente. \n",
        "\n",
        "Una herramienta que nos ayude a explorar los datos del COVID-19 ayudaría bastante en distintas áreas principalmente en el área médica, como por ejemplo llevar un control de las muertes, los infectados y los recuperados de las personas no vacunadas y las vacunadas, para poder ver el grado de efectividad que tienen las distintas vacunas y si tienen el mismo grado de efectividad en una persona joven o en una persona de edad avanzada. También estos datos nos ayudarían en la economía, porque con esas cifras los gobiernos sabrían cuánto riesgo tienen las personas al acudir a ciertos establecimientos y así tomar la decisión de abrirlos, cerrarlos o poner un límite de personas, ya una vez que la mayoría o una gran parte de la población se encuentra vacunada. \n"
      ]
    },
    {
      "cell_type": "markdown",
      "metadata": {
        "id": "VTOMhN9nZtrO"
      },
      "source": [
        "# **Descripción de los datos**"
      ]
    },
    {
      "cell_type": "markdown",
      "metadata": {
        "id": "6qmJeKaGZzs3"
      },
      "source": [
        "\n",
        "**Tipo de datos**: Tablas \n",
        "\n",
        "**Descripción de las columnas**: la base de datos cuenta con 16 columnas y otras 4 columnas en otro archivo. \n"
      ]
    },
    {
      "cell_type": "markdown",
      "metadata": {
        "id": "gZiUmfaHaGqZ"
      },
      "source": [
        "\n",
        "\n",
        "*   País - string \n",
        "*   Código ISO del país - string\n",
        "*   Fecha - object (fecha de entrada de los datos) \n",
        "Número total de vacunas - float (número absoluto total de inmunizaciones)\n",
        "*   Número total de personas vacunadas - float\n",
        "*   Número total de personas totalmente vacunadas - float\n",
        "*   Vacunaciones diarias (en bruto) - float\n",
        "*   Vacunaciones totales por cien - float (relación entre el número de vacunaciones y la población total hasta la fecha en el país)\n",
        "*   Número total de personas vacunadas por cada cien - float (Relación entre la población inmunizada y la población total hasta la fecha en el país)\n",
        "*   Número total de personas totalmente vacunadas por cada cien -float (Relación  entre la población totalmente inmunizada y la población total hasta la fecha en el país )\n",
        "*   Número de vacunaciones por día -float\n",
        "*   Vacunaciones diarias por millón - float (relación entre el número de vacunaciones y la población total para la fecha actual en el país)\n",
        "*   Vacunas utilizadas en el país - string\n"
      ]
    },
    {
      "cell_type": "markdown",
      "metadata": {
        "id": "cQHhDZ9Dbi6I"
      },
      "source": [
        "# **Justificación del uso de datos**"
      ]
    },
    {
      "cell_type": "markdown",
      "metadata": {
        "id": "0GQuORqvbl-0"
      },
      "source": [
        "Los datos se recolectaron desde el database de kaggle \"COVID-19 World Vaccination Progress\", el cual incluye dos archivos CSV \"country_vaccinations_by_manufacturer\" & \"country_vaccinations\". \n",
        "\n",
        "\n",
        "De las 2 bases anteriormente mencionadas solamente haremos uso de \"country vaccinations\", esto debido a que la información que nos proporciona es mucho más útil para nuestro objetivo principal. Esta base de datos nos brinda datos sobre las personas totalmente vacunadas, el tipo de vacuna aplicada, las vacunaciones que se realizan diariamente todo con sus respectivas fechas y de todos los países, sin embargo, nuestro enfoque será solamente con México.\n",
        "\n",
        "Teniendo en cuenta los datos que nos proporciona esta base y el uso que le daremos la información que tomaremos en cuenta las personas totalmente vacunadas con su respectiva fecha para hacer el analisis y cumplimiento del objetivo principal. \n",
        "\n",
        "\n",
        "\n",
        "\n",
        "\n",
        "\n",
        "\n",
        "\n",
        "\n",
        "\n",
        "\n",
        "\n",
        "\n",
        "\n",
        "\n",
        "\n",
        "\n",
        "\n",
        "\n",
        "\n",
        "\n",
        "\n",
        " "
      ]
    },
    {
      "cell_type": "markdown",
      "metadata": {
        "id": "BVJtr3HbbpG5"
      },
      "source": [
        "# **Objetivo final**"
      ]
    },
    {
      "cell_type": "markdown",
      "metadata": {
        "id": "avwfz75hb37I"
      },
      "source": [
        "\n",
        "Principal: Prediccion de la fecha en la que volveremos a la \"normalidad\" en México. \n",
        "\n",
        "Secundario: Comparación de México con EUA país con respecto a la vacunación para revisar como se relacionan.\n"
      ]
    },
    {
      "cell_type": "markdown",
      "metadata": {
        "id": "h5DJWMpFb6Wb"
      },
      "source": [
        "# **Preguntas de interés**"
      ]
    },
    {
      "cell_type": "markdown",
      "metadata": {
        "id": "BtkDca4Ebv_a"
      },
      "source": [
        "\n",
        "\n",
        "*   ¿Cuál es el país que ha vacunado a mayor parte de su población?\n",
        "*   ¿Qué país es el que ha tenido menor número de vacunaciones por día?\n",
        "\n",
        "\n"
      ]
    },
    {
      "cell_type": "markdown",
      "metadata": {
        "id": "W7QzpnU6nEDH"
      },
      "source": [
        "# **Limpieza de datos**\n",
        "\n",
        "**Leer el archivo**\n",
        "\n",
        "El primer paso sera importar las librerias las cuales podremos utilizar para la lectura y limpieza de datos. Despues se mandará llamar el archivo el cual esta en formato excel. Para eliminar los posibles simbolos que no se puedan leer utilizaremos encoding."
      ]
    },
    {
      "cell_type": "code",
      "metadata": {
        "id": "I6xaLQlzO7Y1"
      },
      "source": [
        "\n",
        "from google.colab import  files\n",
        "import pandas as pd\n",
        "import numpy as np\n",
        "import seaborn as sns\n",
        "import matplotlib.pyplot as plt\n",
        "fig, ax = plt.subplots()\n",
        "%matplotlib inline\n",
        "import matplotlib as mpl\n",
        "\n",
        "\n"
      ],
      "execution_count": 12,
      "outputs": []
    },
    {
      "cell_type": "code",
      "metadata": {
        "id": "0wWJEBE0SNs-"
      },
      "source": [
        "covid = pd.read_csv(\"country_vaccinations.csv\")"
      ],
      "execution_count": 13,
      "outputs": []
    },
    {
      "cell_type": "code",
      "metadata": {
        "id": "T_SJL8Y-1hKY"
      },
      "source": [
        "from google.colab import drive\n",
        "drive.mount('/content/drive')"
      ],
      "execution_count": null,
      "outputs": []
    },
    {
      "cell_type": "code",
      "metadata": {
        "colab": {
          "base_uri": "https://localhost:8080/"
        },
        "id": "huissKX9b-Hy",
        "outputId": "29fe0569-751c-46cb-8e92-514371641a64"
      },
      "source": [
        "covid.tipo=pd.read_csv(\"country_vaccinations_by_manufacturer.csv\")"
      ],
      "execution_count": 14,
      "outputs": [
        {
          "output_type": "stream",
          "name": "stderr",
          "text": [
            "/usr/local/lib/python3.7/dist-packages/ipykernel_launcher.py:1: UserWarning: Pandas doesn't allow columns to be created via a new attribute name - see https://pandas.pydata.org/pandas-docs/stable/indexing.html#attribute-access\n",
            "  \"\"\"Entry point for launching an IPython kernel.\n"
          ]
        }
      ]
    },
    {
      "cell_type": "markdown",
      "metadata": {
        "id": "cy6W0hBQu5W_"
      },
      "source": [
        "**Tamaño de la base de datos**\n",
        "\n",
        "Se utiliza la función shape para revisar el tamaño de la base de datos. "
      ]
    },
    {
      "cell_type": "code",
      "metadata": {
        "id": "FjFnY6fQVzU2",
        "colab": {
          "base_uri": "https://localhost:8080/"
        },
        "outputId": "0a30a8c4-d890-401d-cddd-20963437ac9c"
      },
      "source": [
        "covid.shape\n",
        "\n"
      ],
      "execution_count": 15,
      "outputs": [
        {
          "output_type": "execute_result",
          "data": {
            "text/plain": [
              "(48113, 15)"
            ]
          },
          "metadata": {},
          "execution_count": 15
        }
      ]
    },
    {
      "cell_type": "markdown",
      "metadata": {
        "id": "EVML0KipxPkW"
      },
      "source": [
        "La base de datos cuenta con 40204 filas y 15 columnas. \n",
        "\n",
        "Con la función head, revisaremos nuestros primeros 10 datos de la base de datos y para revisar los ultimos se utilizara la función tail "
      ]
    },
    {
      "cell_type": "code",
      "metadata": {
        "colab": {
          "base_uri": "https://localhost:8080/",
          "height": 719
        },
        "id": "LzsbGnnhcmcY",
        "outputId": "d2c642d3-1e31-47db-d3b7-58ea16c60fd1"
      },
      "source": [
        "covid.head(10)"
      ],
      "execution_count": 16,
      "outputs": [
        {
          "output_type": "execute_result",
          "data": {
            "text/html": [
              "<div>\n",
              "<style scoped>\n",
              "    .dataframe tbody tr th:only-of-type {\n",
              "        vertical-align: middle;\n",
              "    }\n",
              "\n",
              "    .dataframe tbody tr th {\n",
              "        vertical-align: top;\n",
              "    }\n",
              "\n",
              "    .dataframe thead th {\n",
              "        text-align: right;\n",
              "    }\n",
              "</style>\n",
              "<table border=\"1\" class=\"dataframe\">\n",
              "  <thead>\n",
              "    <tr style=\"text-align: right;\">\n",
              "      <th></th>\n",
              "      <th>country</th>\n",
              "      <th>iso_code</th>\n",
              "      <th>date</th>\n",
              "      <th>total_vaccinations</th>\n",
              "      <th>people_vaccinated</th>\n",
              "      <th>people_fully_vaccinated</th>\n",
              "      <th>daily_vaccinations_raw</th>\n",
              "      <th>daily_vaccinations</th>\n",
              "      <th>total_vaccinations_per_hundred</th>\n",
              "      <th>people_vaccinated_per_hundred</th>\n",
              "      <th>people_fully_vaccinated_per_hundred</th>\n",
              "      <th>daily_vaccinations_per_million</th>\n",
              "      <th>vaccines</th>\n",
              "      <th>source_name</th>\n",
              "      <th>source_website</th>\n",
              "    </tr>\n",
              "  </thead>\n",
              "  <tbody>\n",
              "    <tr>\n",
              "      <th>0</th>\n",
              "      <td>Afghanistan</td>\n",
              "      <td>AFG</td>\n",
              "      <td>2021-02-22</td>\n",
              "      <td>0.0</td>\n",
              "      <td>0.0</td>\n",
              "      <td>NaN</td>\n",
              "      <td>NaN</td>\n",
              "      <td>NaN</td>\n",
              "      <td>0.00</td>\n",
              "      <td>0.00</td>\n",
              "      <td>NaN</td>\n",
              "      <td>NaN</td>\n",
              "      <td>Johnson&amp;Johnson, Oxford/AstraZeneca, Pfizer/Bi...</td>\n",
              "      <td>World Health Organization</td>\n",
              "      <td>https://app.powerbi.com/view?r=eyJrIjoiYTkyM2V...</td>\n",
              "    </tr>\n",
              "    <tr>\n",
              "      <th>1</th>\n",
              "      <td>Afghanistan</td>\n",
              "      <td>AFG</td>\n",
              "      <td>2021-02-23</td>\n",
              "      <td>NaN</td>\n",
              "      <td>NaN</td>\n",
              "      <td>NaN</td>\n",
              "      <td>NaN</td>\n",
              "      <td>1367.0</td>\n",
              "      <td>NaN</td>\n",
              "      <td>NaN</td>\n",
              "      <td>NaN</td>\n",
              "      <td>34.0</td>\n",
              "      <td>Johnson&amp;Johnson, Oxford/AstraZeneca, Pfizer/Bi...</td>\n",
              "      <td>World Health Organization</td>\n",
              "      <td>https://app.powerbi.com/view?r=eyJrIjoiYTkyM2V...</td>\n",
              "    </tr>\n",
              "    <tr>\n",
              "      <th>2</th>\n",
              "      <td>Afghanistan</td>\n",
              "      <td>AFG</td>\n",
              "      <td>2021-02-24</td>\n",
              "      <td>NaN</td>\n",
              "      <td>NaN</td>\n",
              "      <td>NaN</td>\n",
              "      <td>NaN</td>\n",
              "      <td>1367.0</td>\n",
              "      <td>NaN</td>\n",
              "      <td>NaN</td>\n",
              "      <td>NaN</td>\n",
              "      <td>34.0</td>\n",
              "      <td>Johnson&amp;Johnson, Oxford/AstraZeneca, Pfizer/Bi...</td>\n",
              "      <td>World Health Organization</td>\n",
              "      <td>https://app.powerbi.com/view?r=eyJrIjoiYTkyM2V...</td>\n",
              "    </tr>\n",
              "    <tr>\n",
              "      <th>3</th>\n",
              "      <td>Afghanistan</td>\n",
              "      <td>AFG</td>\n",
              "      <td>2021-02-25</td>\n",
              "      <td>NaN</td>\n",
              "      <td>NaN</td>\n",
              "      <td>NaN</td>\n",
              "      <td>NaN</td>\n",
              "      <td>1367.0</td>\n",
              "      <td>NaN</td>\n",
              "      <td>NaN</td>\n",
              "      <td>NaN</td>\n",
              "      <td>34.0</td>\n",
              "      <td>Johnson&amp;Johnson, Oxford/AstraZeneca, Pfizer/Bi...</td>\n",
              "      <td>World Health Organization</td>\n",
              "      <td>https://app.powerbi.com/view?r=eyJrIjoiYTkyM2V...</td>\n",
              "    </tr>\n",
              "    <tr>\n",
              "      <th>4</th>\n",
              "      <td>Afghanistan</td>\n",
              "      <td>AFG</td>\n",
              "      <td>2021-02-26</td>\n",
              "      <td>NaN</td>\n",
              "      <td>NaN</td>\n",
              "      <td>NaN</td>\n",
              "      <td>NaN</td>\n",
              "      <td>1367.0</td>\n",
              "      <td>NaN</td>\n",
              "      <td>NaN</td>\n",
              "      <td>NaN</td>\n",
              "      <td>34.0</td>\n",
              "      <td>Johnson&amp;Johnson, Oxford/AstraZeneca, Pfizer/Bi...</td>\n",
              "      <td>World Health Organization</td>\n",
              "      <td>https://app.powerbi.com/view?r=eyJrIjoiYTkyM2V...</td>\n",
              "    </tr>\n",
              "    <tr>\n",
              "      <th>5</th>\n",
              "      <td>Afghanistan</td>\n",
              "      <td>AFG</td>\n",
              "      <td>2021-02-27</td>\n",
              "      <td>NaN</td>\n",
              "      <td>NaN</td>\n",
              "      <td>NaN</td>\n",
              "      <td>NaN</td>\n",
              "      <td>1367.0</td>\n",
              "      <td>NaN</td>\n",
              "      <td>NaN</td>\n",
              "      <td>NaN</td>\n",
              "      <td>34.0</td>\n",
              "      <td>Johnson&amp;Johnson, Oxford/AstraZeneca, Pfizer/Bi...</td>\n",
              "      <td>World Health Organization</td>\n",
              "      <td>https://app.powerbi.com/view?r=eyJrIjoiYTkyM2V...</td>\n",
              "    </tr>\n",
              "    <tr>\n",
              "      <th>6</th>\n",
              "      <td>Afghanistan</td>\n",
              "      <td>AFG</td>\n",
              "      <td>2021-02-28</td>\n",
              "      <td>8200.0</td>\n",
              "      <td>8200.0</td>\n",
              "      <td>NaN</td>\n",
              "      <td>NaN</td>\n",
              "      <td>1367.0</td>\n",
              "      <td>0.02</td>\n",
              "      <td>0.02</td>\n",
              "      <td>NaN</td>\n",
              "      <td>34.0</td>\n",
              "      <td>Johnson&amp;Johnson, Oxford/AstraZeneca, Pfizer/Bi...</td>\n",
              "      <td>World Health Organization</td>\n",
              "      <td>https://app.powerbi.com/view?r=eyJrIjoiYTkyM2V...</td>\n",
              "    </tr>\n",
              "    <tr>\n",
              "      <th>7</th>\n",
              "      <td>Afghanistan</td>\n",
              "      <td>AFG</td>\n",
              "      <td>2021-03-01</td>\n",
              "      <td>NaN</td>\n",
              "      <td>NaN</td>\n",
              "      <td>NaN</td>\n",
              "      <td>NaN</td>\n",
              "      <td>1580.0</td>\n",
              "      <td>NaN</td>\n",
              "      <td>NaN</td>\n",
              "      <td>NaN</td>\n",
              "      <td>40.0</td>\n",
              "      <td>Johnson&amp;Johnson, Oxford/AstraZeneca, Pfizer/Bi...</td>\n",
              "      <td>World Health Organization</td>\n",
              "      <td>https://app.powerbi.com/view?r=eyJrIjoiYTkyM2V...</td>\n",
              "    </tr>\n",
              "    <tr>\n",
              "      <th>8</th>\n",
              "      <td>Afghanistan</td>\n",
              "      <td>AFG</td>\n",
              "      <td>2021-03-02</td>\n",
              "      <td>NaN</td>\n",
              "      <td>NaN</td>\n",
              "      <td>NaN</td>\n",
              "      <td>NaN</td>\n",
              "      <td>1794.0</td>\n",
              "      <td>NaN</td>\n",
              "      <td>NaN</td>\n",
              "      <td>NaN</td>\n",
              "      <td>45.0</td>\n",
              "      <td>Johnson&amp;Johnson, Oxford/AstraZeneca, Pfizer/Bi...</td>\n",
              "      <td>World Health Organization</td>\n",
              "      <td>https://app.powerbi.com/view?r=eyJrIjoiYTkyM2V...</td>\n",
              "    </tr>\n",
              "    <tr>\n",
              "      <th>9</th>\n",
              "      <td>Afghanistan</td>\n",
              "      <td>AFG</td>\n",
              "      <td>2021-03-03</td>\n",
              "      <td>NaN</td>\n",
              "      <td>NaN</td>\n",
              "      <td>NaN</td>\n",
              "      <td>NaN</td>\n",
              "      <td>2008.0</td>\n",
              "      <td>NaN</td>\n",
              "      <td>NaN</td>\n",
              "      <td>NaN</td>\n",
              "      <td>50.0</td>\n",
              "      <td>Johnson&amp;Johnson, Oxford/AstraZeneca, Pfizer/Bi...</td>\n",
              "      <td>World Health Organization</td>\n",
              "      <td>https://app.powerbi.com/view?r=eyJrIjoiYTkyM2V...</td>\n",
              "    </tr>\n",
              "  </tbody>\n",
              "</table>\n",
              "</div>"
            ],
            "text/plain": [
              "       country  ...                                     source_website\n",
              "0  Afghanistan  ...  https://app.powerbi.com/view?r=eyJrIjoiYTkyM2V...\n",
              "1  Afghanistan  ...  https://app.powerbi.com/view?r=eyJrIjoiYTkyM2V...\n",
              "2  Afghanistan  ...  https://app.powerbi.com/view?r=eyJrIjoiYTkyM2V...\n",
              "3  Afghanistan  ...  https://app.powerbi.com/view?r=eyJrIjoiYTkyM2V...\n",
              "4  Afghanistan  ...  https://app.powerbi.com/view?r=eyJrIjoiYTkyM2V...\n",
              "5  Afghanistan  ...  https://app.powerbi.com/view?r=eyJrIjoiYTkyM2V...\n",
              "6  Afghanistan  ...  https://app.powerbi.com/view?r=eyJrIjoiYTkyM2V...\n",
              "7  Afghanistan  ...  https://app.powerbi.com/view?r=eyJrIjoiYTkyM2V...\n",
              "8  Afghanistan  ...  https://app.powerbi.com/view?r=eyJrIjoiYTkyM2V...\n",
              "9  Afghanistan  ...  https://app.powerbi.com/view?r=eyJrIjoiYTkyM2V...\n",
              "\n",
              "[10 rows x 15 columns]"
            ]
          },
          "metadata": {},
          "execution_count": 16
        }
      ]
    },
    {
      "cell_type": "code",
      "metadata": {
        "id": "yLvSU5NocnfD",
        "colab": {
          "base_uri": "https://localhost:8080/",
          "height": 719
        },
        "outputId": "c473c251-bb75-4804-a715-0b247e1f5787"
      },
      "source": [
        "covid.tail(10)"
      ],
      "execution_count": 17,
      "outputs": [
        {
          "output_type": "execute_result",
          "data": {
            "text/html": [
              "<div>\n",
              "<style scoped>\n",
              "    .dataframe tbody tr th:only-of-type {\n",
              "        vertical-align: middle;\n",
              "    }\n",
              "\n",
              "    .dataframe tbody tr th {\n",
              "        vertical-align: top;\n",
              "    }\n",
              "\n",
              "    .dataframe thead th {\n",
              "        text-align: right;\n",
              "    }\n",
              "</style>\n",
              "<table border=\"1\" class=\"dataframe\">\n",
              "  <thead>\n",
              "    <tr style=\"text-align: right;\">\n",
              "      <th></th>\n",
              "      <th>country</th>\n",
              "      <th>iso_code</th>\n",
              "      <th>date</th>\n",
              "      <th>total_vaccinations</th>\n",
              "      <th>people_vaccinated</th>\n",
              "      <th>people_fully_vaccinated</th>\n",
              "      <th>daily_vaccinations_raw</th>\n",
              "      <th>daily_vaccinations</th>\n",
              "      <th>total_vaccinations_per_hundred</th>\n",
              "      <th>people_vaccinated_per_hundred</th>\n",
              "      <th>people_fully_vaccinated_per_hundred</th>\n",
              "      <th>daily_vaccinations_per_million</th>\n",
              "      <th>vaccines</th>\n",
              "      <th>source_name</th>\n",
              "      <th>source_website</th>\n",
              "    </tr>\n",
              "  </thead>\n",
              "  <tbody>\n",
              "    <tr>\n",
              "      <th>48103</th>\n",
              "      <td>Zimbabwe</td>\n",
              "      <td>ZWE</td>\n",
              "      <td>2021-09-21</td>\n",
              "      <td>5084031.0</td>\n",
              "      <td>2976212.0</td>\n",
              "      <td>2107819.0</td>\n",
              "      <td>39222.0</td>\n",
              "      <td>40467.0</td>\n",
              "      <td>33.69</td>\n",
              "      <td>19.72</td>\n",
              "      <td>13.97</td>\n",
              "      <td>2681.0</td>\n",
              "      <td>Oxford/AstraZeneca, Sinopharm/Beijing, Sinovac...</td>\n",
              "      <td>Ministry of Health</td>\n",
              "      <td>https://www.arcgis.com/home/webmap/viewer.html...</td>\n",
              "    </tr>\n",
              "    <tr>\n",
              "      <th>48104</th>\n",
              "      <td>Zimbabwe</td>\n",
              "      <td>ZWE</td>\n",
              "      <td>2021-09-22</td>\n",
              "      <td>5123522.0</td>\n",
              "      <td>2992048.0</td>\n",
              "      <td>2131474.0</td>\n",
              "      <td>39491.0</td>\n",
              "      <td>38244.0</td>\n",
              "      <td>33.95</td>\n",
              "      <td>19.83</td>\n",
              "      <td>14.12</td>\n",
              "      <td>2534.0</td>\n",
              "      <td>Oxford/AstraZeneca, Sinopharm/Beijing, Sinovac...</td>\n",
              "      <td>Ministry of Health</td>\n",
              "      <td>https://www.arcgis.com/home/webmap/viewer.html...</td>\n",
              "    </tr>\n",
              "    <tr>\n",
              "      <th>48105</th>\n",
              "      <td>Zimbabwe</td>\n",
              "      <td>ZWE</td>\n",
              "      <td>2021-09-23</td>\n",
              "      <td>5166508.0</td>\n",
              "      <td>3007945.0</td>\n",
              "      <td>2158563.0</td>\n",
              "      <td>42986.0</td>\n",
              "      <td>28887.0</td>\n",
              "      <td>34.23</td>\n",
              "      <td>19.93</td>\n",
              "      <td>14.30</td>\n",
              "      <td>1914.0</td>\n",
              "      <td>Oxford/AstraZeneca, Sinopharm/Beijing, Sinovac...</td>\n",
              "      <td>Ministry of Health</td>\n",
              "      <td>https://www.arcgis.com/home/webmap/viewer.html...</td>\n",
              "    </tr>\n",
              "    <tr>\n",
              "      <th>48106</th>\n",
              "      <td>Zimbabwe</td>\n",
              "      <td>ZWE</td>\n",
              "      <td>2021-09-24</td>\n",
              "      <td>5197363.0</td>\n",
              "      <td>3021593.0</td>\n",
              "      <td>2175770.0</td>\n",
              "      <td>30855.0</td>\n",
              "      <td>31280.0</td>\n",
              "      <td>34.44</td>\n",
              "      <td>20.02</td>\n",
              "      <td>14.42</td>\n",
              "      <td>2073.0</td>\n",
              "      <td>Oxford/AstraZeneca, Sinopharm/Beijing, Sinovac...</td>\n",
              "      <td>Ministry of Health</td>\n",
              "      <td>https://www.arcgis.com/home/webmap/viewer.html...</td>\n",
              "    </tr>\n",
              "    <tr>\n",
              "      <th>48107</th>\n",
              "      <td>Zimbabwe</td>\n",
              "      <td>ZWE</td>\n",
              "      <td>2021-09-25</td>\n",
              "      <td>5218672.0</td>\n",
              "      <td>3030042.0</td>\n",
              "      <td>2188630.0</td>\n",
              "      <td>21309.0</td>\n",
              "      <td>32310.0</td>\n",
              "      <td>34.58</td>\n",
              "      <td>20.08</td>\n",
              "      <td>14.50</td>\n",
              "      <td>2141.0</td>\n",
              "      <td>Oxford/AstraZeneca, Sinopharm/Beijing, Sinovac...</td>\n",
              "      <td>Ministry of Health</td>\n",
              "      <td>https://www.arcgis.com/home/webmap/viewer.html...</td>\n",
              "    </tr>\n",
              "    <tr>\n",
              "      <th>48108</th>\n",
              "      <td>Zimbabwe</td>\n",
              "      <td>ZWE</td>\n",
              "      <td>2021-09-26</td>\n",
              "      <td>5234875.0</td>\n",
              "      <td>3036623.0</td>\n",
              "      <td>2198252.0</td>\n",
              "      <td>16203.0</td>\n",
              "      <td>31405.0</td>\n",
              "      <td>34.69</td>\n",
              "      <td>20.12</td>\n",
              "      <td>14.57</td>\n",
              "      <td>2081.0</td>\n",
              "      <td>Oxford/AstraZeneca, Sinopharm/Beijing, Sinovac...</td>\n",
              "      <td>Ministry of Health</td>\n",
              "      <td>https://www.arcgis.com/home/webmap/viewer.html...</td>\n",
              "    </tr>\n",
              "    <tr>\n",
              "      <th>48109</th>\n",
              "      <td>Zimbabwe</td>\n",
              "      <td>ZWE</td>\n",
              "      <td>2021-09-27</td>\n",
              "      <td>5263782.0</td>\n",
              "      <td>3050981.0</td>\n",
              "      <td>2212801.0</td>\n",
              "      <td>28907.0</td>\n",
              "      <td>31282.0</td>\n",
              "      <td>34.88</td>\n",
              "      <td>20.22</td>\n",
              "      <td>14.66</td>\n",
              "      <td>2073.0</td>\n",
              "      <td>Oxford/AstraZeneca, Sinopharm/Beijing, Sinovac...</td>\n",
              "      <td>Ministry of Health</td>\n",
              "      <td>https://www.arcgis.com/home/webmap/viewer.html...</td>\n",
              "    </tr>\n",
              "    <tr>\n",
              "      <th>48110</th>\n",
              "      <td>Zimbabwe</td>\n",
              "      <td>ZWE</td>\n",
              "      <td>2021-09-28</td>\n",
              "      <td>5290317.0</td>\n",
              "      <td>3060086.0</td>\n",
              "      <td>2230231.0</td>\n",
              "      <td>26535.0</td>\n",
              "      <td>29469.0</td>\n",
              "      <td>35.05</td>\n",
              "      <td>20.28</td>\n",
              "      <td>14.78</td>\n",
              "      <td>1953.0</td>\n",
              "      <td>Oxford/AstraZeneca, Sinopharm/Beijing, Sinovac...</td>\n",
              "      <td>Ministry of Health</td>\n",
              "      <td>https://www.arcgis.com/home/webmap/viewer.html...</td>\n",
              "    </tr>\n",
              "    <tr>\n",
              "      <th>48111</th>\n",
              "      <td>Zimbabwe</td>\n",
              "      <td>ZWE</td>\n",
              "      <td>2021-09-29</td>\n",
              "      <td>5320565.0</td>\n",
              "      <td>3071643.0</td>\n",
              "      <td>2248922.0</td>\n",
              "      <td>30248.0</td>\n",
              "      <td>28149.0</td>\n",
              "      <td>35.25</td>\n",
              "      <td>20.35</td>\n",
              "      <td>14.90</td>\n",
              "      <td>1865.0</td>\n",
              "      <td>Oxford/AstraZeneca, Sinopharm/Beijing, Sinovac...</td>\n",
              "      <td>Ministry of Health</td>\n",
              "      <td>https://www.arcgis.com/home/webmap/viewer.html...</td>\n",
              "    </tr>\n",
              "    <tr>\n",
              "      <th>48112</th>\n",
              "      <td>Zimbabwe</td>\n",
              "      <td>ZWE</td>\n",
              "      <td>2021-09-30</td>\n",
              "      <td>5355820.0</td>\n",
              "      <td>3083764.0</td>\n",
              "      <td>2272056.0</td>\n",
              "      <td>35255.0</td>\n",
              "      <td>27045.0</td>\n",
              "      <td>35.49</td>\n",
              "      <td>20.43</td>\n",
              "      <td>15.05</td>\n",
              "      <td>1792.0</td>\n",
              "      <td>Oxford/AstraZeneca, Sinopharm/Beijing, Sinovac...</td>\n",
              "      <td>Ministry of Health</td>\n",
              "      <td>https://www.arcgis.com/home/webmap/viewer.html...</td>\n",
              "    </tr>\n",
              "  </tbody>\n",
              "</table>\n",
              "</div>"
            ],
            "text/plain": [
              "        country  ...                                     source_website\n",
              "48103  Zimbabwe  ...  https://www.arcgis.com/home/webmap/viewer.html...\n",
              "48104  Zimbabwe  ...  https://www.arcgis.com/home/webmap/viewer.html...\n",
              "48105  Zimbabwe  ...  https://www.arcgis.com/home/webmap/viewer.html...\n",
              "48106  Zimbabwe  ...  https://www.arcgis.com/home/webmap/viewer.html...\n",
              "48107  Zimbabwe  ...  https://www.arcgis.com/home/webmap/viewer.html...\n",
              "48108  Zimbabwe  ...  https://www.arcgis.com/home/webmap/viewer.html...\n",
              "48109  Zimbabwe  ...  https://www.arcgis.com/home/webmap/viewer.html...\n",
              "48110  Zimbabwe  ...  https://www.arcgis.com/home/webmap/viewer.html...\n",
              "48111  Zimbabwe  ...  https://www.arcgis.com/home/webmap/viewer.html...\n",
              "48112  Zimbabwe  ...  https://www.arcgis.com/home/webmap/viewer.html...\n",
              "\n",
              "[10 rows x 15 columns]"
            ]
          },
          "metadata": {},
          "execution_count": 17
        }
      ]
    },
    {
      "cell_type": "markdown",
      "metadata": {
        "id": "WtN6S8N0yON5"
      },
      "source": [
        "**Manejo de columnas**\n",
        "\n",
        "Para mejor visualización de las columnas, se decidió eliminar las columnas con información no relevante para nuestro objetivo. Para tomar esta decisión primero se mostrara el nombre de las  columnas existentes y después el tipo de dato que contienen respectivamente \n"
      ]
    },
    {
      "cell_type": "code",
      "metadata": {
        "colab": {
          "base_uri": "https://localhost:8080/"
        },
        "id": "NJFSe-AiceKL",
        "outputId": "adfe5ac7-57c8-4694-b3a9-6ac7bc0e5693"
      },
      "source": [
        "covid.columns\n",
        "\n"
      ],
      "execution_count": 18,
      "outputs": [
        {
          "output_type": "execute_result",
          "data": {
            "text/plain": [
              "Index(['country', 'iso_code', 'date', 'total_vaccinations',\n",
              "       'people_vaccinated', 'people_fully_vaccinated',\n",
              "       'daily_vaccinations_raw', 'daily_vaccinations',\n",
              "       'total_vaccinations_per_hundred', 'people_vaccinated_per_hundred',\n",
              "       'people_fully_vaccinated_per_hundred', 'daily_vaccinations_per_million',\n",
              "       'vaccines', 'source_name', 'source_website'],\n",
              "      dtype='object')"
            ]
          },
          "metadata": {},
          "execution_count": 18
        }
      ]
    },
    {
      "cell_type": "code",
      "metadata": {
        "colab": {
          "base_uri": "https://localhost:8080/"
        },
        "id": "sk1iVgUIyrFK",
        "outputId": "0fc5995c-bc80-45f3-fb2f-676717379680"
      },
      "source": [
        "covid.dtypes"
      ],
      "execution_count": 19,
      "outputs": [
        {
          "output_type": "execute_result",
          "data": {
            "text/plain": [
              "country                                 object\n",
              "iso_code                                object\n",
              "date                                    object\n",
              "total_vaccinations                     float64\n",
              "people_vaccinated                      float64\n",
              "people_fully_vaccinated                float64\n",
              "daily_vaccinations_raw                 float64\n",
              "daily_vaccinations                     float64\n",
              "total_vaccinations_per_hundred         float64\n",
              "people_vaccinated_per_hundred          float64\n",
              "people_fully_vaccinated_per_hundred    float64\n",
              "daily_vaccinations_per_million         float64\n",
              "vaccines                                object\n",
              "source_name                             object\n",
              "source_website                          object\n",
              "dtype: object"
            ]
          },
          "metadata": {},
          "execution_count": 19
        }
      ]
    },
    {
      "cell_type": "markdown",
      "metadata": {
        "id": "kYkNZ7Qx2uw2"
      },
      "source": [
        "En este apartado podemos ver las columnas que no nos serán útiles para nuestro objetivo, por lo tanto serán eliminadas \n",
        "\n",
        "\n",
        "Estas son las columnas que consideramos innecesarias para nuestro objetivo:\n",
        "\n",
        "\n",
        "*   iso_code Es la abreviación del país, teniendo el nombre del país este dato \n",
        "es redundante\n",
        "*total_vaccinations este es el número absoluto de inmunizaciones totales en el país.\n",
        "*people_vaccinated son para una determinada entrada de datos, el número de vacunaciones para esa fecha/país\n",
        "*daily_vaccinations_raw son para una determinada entrada de datos, el número de vacunaciones para esa fecha/país\n",
        "*total_vaccinations_per_hundred son relación (en porcentaje) entre el número de vacunaciones y la población total hasta la fecha en el país.\n",
        "*people_vaccinated_per_hundred son la relación (en porcentaje) entre la población inmunizada y la población total hasta la fecha en el país.\n",
        "*people_fully_vaccinated_per_hundred  son la relación (en porcentaje) entre la población totalmente inmunizada y la población total hasta la fecha en el país.   \n",
        "*daily_vaccinations_per_million son la relación (en ppm) entre el número de vacunaciones y la población total para la fecha actual en el país.\n",
        "*source_name y source_website Es el nombre y la pagina de la fuente de los datos, esta información útil para saber que los datos son confiables pero no para la minería de datos.\n",
        "\n",
        "Teniendo en cuenta nuestro objetivo estas columnas son innecesarias ya que no tienen relevancia para ayudarnos a saber cuando México va a regresar a la normalidad, en su mayoria presentan datos redundantes para el analisis.  \n",
        "\n",
        "\n"
      ]
    },
    {
      "cell_type": "code",
      "metadata": {
        "id": "V0zNLL-amYeq",
        "colab": {
          "base_uri": "https://localhost:8080/",
          "height": 779
        },
        "outputId": "fc74c74d-703d-4291-e500-1f5d8718e2cc"
      },
      "source": [
        "covid1=covid.drop(['iso_code','total_vaccinations','people_vaccinated','daily_vaccinations_raw', 'total_vaccinations_per_hundred', 'people_vaccinated_per_hundred', 'daily_vaccinations_per_million', 'source_name', 'source_website'],axis=1)\n",
        "covid1"
      ],
      "execution_count": 40,
      "outputs": [
        {
          "output_type": "execute_result",
          "data": {
            "text/html": [
              "<div>\n",
              "<style scoped>\n",
              "    .dataframe tbody tr th:only-of-type {\n",
              "        vertical-align: middle;\n",
              "    }\n",
              "\n",
              "    .dataframe tbody tr th {\n",
              "        vertical-align: top;\n",
              "    }\n",
              "\n",
              "    .dataframe thead th {\n",
              "        text-align: right;\n",
              "    }\n",
              "</style>\n",
              "<table border=\"1\" class=\"dataframe\">\n",
              "  <thead>\n",
              "    <tr style=\"text-align: right;\">\n",
              "      <th></th>\n",
              "      <th>country</th>\n",
              "      <th>date</th>\n",
              "      <th>people_fully_vaccinated</th>\n",
              "      <th>daily_vaccinations</th>\n",
              "      <th>people_fully_vaccinated_per_hundred</th>\n",
              "      <th>vaccines</th>\n",
              "    </tr>\n",
              "  </thead>\n",
              "  <tbody>\n",
              "    <tr>\n",
              "      <th>0</th>\n",
              "      <td>Afghanistan</td>\n",
              "      <td>2021-02-22</td>\n",
              "      <td>NaN</td>\n",
              "      <td>NaN</td>\n",
              "      <td>NaN</td>\n",
              "      <td>Johnson&amp;Johnson, Oxford/AstraZeneca, Pfizer/Bi...</td>\n",
              "    </tr>\n",
              "    <tr>\n",
              "      <th>1</th>\n",
              "      <td>Afghanistan</td>\n",
              "      <td>2021-02-23</td>\n",
              "      <td>NaN</td>\n",
              "      <td>1367.0</td>\n",
              "      <td>NaN</td>\n",
              "      <td>Johnson&amp;Johnson, Oxford/AstraZeneca, Pfizer/Bi...</td>\n",
              "    </tr>\n",
              "    <tr>\n",
              "      <th>2</th>\n",
              "      <td>Afghanistan</td>\n",
              "      <td>2021-02-24</td>\n",
              "      <td>NaN</td>\n",
              "      <td>1367.0</td>\n",
              "      <td>NaN</td>\n",
              "      <td>Johnson&amp;Johnson, Oxford/AstraZeneca, Pfizer/Bi...</td>\n",
              "    </tr>\n",
              "    <tr>\n",
              "      <th>3</th>\n",
              "      <td>Afghanistan</td>\n",
              "      <td>2021-02-25</td>\n",
              "      <td>NaN</td>\n",
              "      <td>1367.0</td>\n",
              "      <td>NaN</td>\n",
              "      <td>Johnson&amp;Johnson, Oxford/AstraZeneca, Pfizer/Bi...</td>\n",
              "    </tr>\n",
              "    <tr>\n",
              "      <th>4</th>\n",
              "      <td>Afghanistan</td>\n",
              "      <td>2021-02-26</td>\n",
              "      <td>NaN</td>\n",
              "      <td>1367.0</td>\n",
              "      <td>NaN</td>\n",
              "      <td>Johnson&amp;Johnson, Oxford/AstraZeneca, Pfizer/Bi...</td>\n",
              "    </tr>\n",
              "    <tr>\n",
              "      <th>...</th>\n",
              "      <td>...</td>\n",
              "      <td>...</td>\n",
              "      <td>...</td>\n",
              "      <td>...</td>\n",
              "      <td>...</td>\n",
              "      <td>...</td>\n",
              "    </tr>\n",
              "    <tr>\n",
              "      <th>48108</th>\n",
              "      <td>Zimbabwe</td>\n",
              "      <td>2021-09-26</td>\n",
              "      <td>2198252.0</td>\n",
              "      <td>31405.0</td>\n",
              "      <td>14.57</td>\n",
              "      <td>Oxford/AstraZeneca, Sinopharm/Beijing, Sinovac...</td>\n",
              "    </tr>\n",
              "    <tr>\n",
              "      <th>48109</th>\n",
              "      <td>Zimbabwe</td>\n",
              "      <td>2021-09-27</td>\n",
              "      <td>2212801.0</td>\n",
              "      <td>31282.0</td>\n",
              "      <td>14.66</td>\n",
              "      <td>Oxford/AstraZeneca, Sinopharm/Beijing, Sinovac...</td>\n",
              "    </tr>\n",
              "    <tr>\n",
              "      <th>48110</th>\n",
              "      <td>Zimbabwe</td>\n",
              "      <td>2021-09-28</td>\n",
              "      <td>2230231.0</td>\n",
              "      <td>29469.0</td>\n",
              "      <td>14.78</td>\n",
              "      <td>Oxford/AstraZeneca, Sinopharm/Beijing, Sinovac...</td>\n",
              "    </tr>\n",
              "    <tr>\n",
              "      <th>48111</th>\n",
              "      <td>Zimbabwe</td>\n",
              "      <td>2021-09-29</td>\n",
              "      <td>2248922.0</td>\n",
              "      <td>28149.0</td>\n",
              "      <td>14.90</td>\n",
              "      <td>Oxford/AstraZeneca, Sinopharm/Beijing, Sinovac...</td>\n",
              "    </tr>\n",
              "    <tr>\n",
              "      <th>48112</th>\n",
              "      <td>Zimbabwe</td>\n",
              "      <td>2021-09-30</td>\n",
              "      <td>2272056.0</td>\n",
              "      <td>27045.0</td>\n",
              "      <td>15.05</td>\n",
              "      <td>Oxford/AstraZeneca, Sinopharm/Beijing, Sinovac...</td>\n",
              "    </tr>\n",
              "  </tbody>\n",
              "</table>\n",
              "<p>48113 rows × 6 columns</p>\n",
              "</div>"
            ],
            "text/plain": [
              "           country  ...                                           vaccines\n",
              "0      Afghanistan  ...  Johnson&Johnson, Oxford/AstraZeneca, Pfizer/Bi...\n",
              "1      Afghanistan  ...  Johnson&Johnson, Oxford/AstraZeneca, Pfizer/Bi...\n",
              "2      Afghanistan  ...  Johnson&Johnson, Oxford/AstraZeneca, Pfizer/Bi...\n",
              "3      Afghanistan  ...  Johnson&Johnson, Oxford/AstraZeneca, Pfizer/Bi...\n",
              "4      Afghanistan  ...  Johnson&Johnson, Oxford/AstraZeneca, Pfizer/Bi...\n",
              "...            ...  ...                                                ...\n",
              "48108     Zimbabwe  ...  Oxford/AstraZeneca, Sinopharm/Beijing, Sinovac...\n",
              "48109     Zimbabwe  ...  Oxford/AstraZeneca, Sinopharm/Beijing, Sinovac...\n",
              "48110     Zimbabwe  ...  Oxford/AstraZeneca, Sinopharm/Beijing, Sinovac...\n",
              "48111     Zimbabwe  ...  Oxford/AstraZeneca, Sinopharm/Beijing, Sinovac...\n",
              "48112     Zimbabwe  ...  Oxford/AstraZeneca, Sinopharm/Beijing, Sinovac...\n",
              "\n",
              "[48113 rows x 6 columns]"
            ]
          },
          "metadata": {},
          "execution_count": 40
        }
      ]
    },
    {
      "cell_type": "markdown",
      "metadata": {
        "id": "35iSEscE1Ejy"
      },
      "source": [
        "Como nuestro enfoque solamente es en México eliminaremos las filas que no sean México."
      ]
    },
    {
      "cell_type": "code",
      "metadata": {
        "id": "8aOuYA-i1J6b"
      },
      "source": [
        "vect=covid1[covid1['country']!=\"Mexico\"].index\n",
        "covid2=covid1.drop(vect)\n",
        "covid2=covid2.dropna()"
      ],
      "execution_count": 118,
      "outputs": []
    },
    {
      "cell_type": "markdown",
      "metadata": {
        "id": "IspWtX7aDjio"
      },
      "source": [
        "A continuación eliminaremos las primeras 23 filas las cuales no nos brindan información de la población totalmente vacunada puesto que por lógica los primeros meses no habrá personas totalmente vacunadas por el tiempo de espera entre cada dosis "
      ]
    },
    {
      "cell_type": "code",
      "metadata": {
        "id": "nKaVgUsLEeSY"
      },
      "source": [
        "covid3=covid2.drop(range(27663,27677,1), axis=0)"
      ],
      "execution_count": 42,
      "outputs": []
    },
    {
      "cell_type": "code",
      "metadata": {
        "colab": {
          "base_uri": "https://localhost:8080/",
          "height": 929
        },
        "id": "crGgdKG7Vy-e",
        "outputId": "4070dd86-88ee-4a3b-d4ea-b45461f59ebd"
      },
      "source": [
        "covid3"
      ],
      "execution_count": 43,
      "outputs": [
        {
          "output_type": "execute_result",
          "data": {
            "text/html": [
              "<div>\n",
              "<style scoped>\n",
              "    .dataframe tbody tr th:only-of-type {\n",
              "        vertical-align: middle;\n",
              "    }\n",
              "\n",
              "    .dataframe tbody tr th {\n",
              "        vertical-align: top;\n",
              "    }\n",
              "\n",
              "    .dataframe thead th {\n",
              "        text-align: right;\n",
              "    }\n",
              "</style>\n",
              "<table border=\"1\" class=\"dataframe\">\n",
              "  <thead>\n",
              "    <tr style=\"text-align: right;\">\n",
              "      <th></th>\n",
              "      <th>country</th>\n",
              "      <th>date</th>\n",
              "      <th>people_fully_vaccinated</th>\n",
              "      <th>daily_vaccinations</th>\n",
              "      <th>people_fully_vaccinated_per_hundred</th>\n",
              "      <th>vaccines</th>\n",
              "    </tr>\n",
              "  </thead>\n",
              "  <tbody>\n",
              "    <tr>\n",
              "      <th>27677</th>\n",
              "      <td>Mexico</td>\n",
              "      <td>2021-01-07</td>\n",
              "      <td>NaN</td>\n",
              "      <td>4230.0</td>\n",
              "      <td>NaN</td>\n",
              "      <td>CanSino, Johnson&amp;Johnson, Moderna, Oxford/Astr...</td>\n",
              "    </tr>\n",
              "    <tr>\n",
              "      <th>27678</th>\n",
              "      <td>Mexico</td>\n",
              "      <td>2021-01-08</td>\n",
              "      <td>NaN</td>\n",
              "      <td>4984.0</td>\n",
              "      <td>NaN</td>\n",
              "      <td>CanSino, Johnson&amp;Johnson, Moderna, Oxford/Astr...</td>\n",
              "    </tr>\n",
              "    <tr>\n",
              "      <th>27679</th>\n",
              "      <td>Mexico</td>\n",
              "      <td>2021-01-09</td>\n",
              "      <td>NaN</td>\n",
              "      <td>5488.0</td>\n",
              "      <td>NaN</td>\n",
              "      <td>CanSino, Johnson&amp;Johnson, Moderna, Oxford/Astr...</td>\n",
              "    </tr>\n",
              "    <tr>\n",
              "      <th>27680</th>\n",
              "      <td>Mexico</td>\n",
              "      <td>2021-01-10</td>\n",
              "      <td>NaN</td>\n",
              "      <td>5876.0</td>\n",
              "      <td>NaN</td>\n",
              "      <td>CanSino, Johnson&amp;Johnson, Moderna, Oxford/Astr...</td>\n",
              "    </tr>\n",
              "    <tr>\n",
              "      <th>27681</th>\n",
              "      <td>Mexico</td>\n",
              "      <td>2021-01-11</td>\n",
              "      <td>NaN</td>\n",
              "      <td>6157.0</td>\n",
              "      <td>NaN</td>\n",
              "      <td>CanSino, Johnson&amp;Johnson, Moderna, Oxford/Astr...</td>\n",
              "    </tr>\n",
              "    <tr>\n",
              "      <th>...</th>\n",
              "      <td>...</td>\n",
              "      <td>...</td>\n",
              "      <td>...</td>\n",
              "      <td>...</td>\n",
              "      <td>...</td>\n",
              "      <td>...</td>\n",
              "    </tr>\n",
              "    <tr>\n",
              "      <th>27938</th>\n",
              "      <td>Mexico</td>\n",
              "      <td>2021-09-25</td>\n",
              "      <td>44511000.0</td>\n",
              "      <td>559303.0</td>\n",
              "      <td>34.17</td>\n",
              "      <td>CanSino, Johnson&amp;Johnson, Moderna, Oxford/Astr...</td>\n",
              "    </tr>\n",
              "    <tr>\n",
              "      <th>27939</th>\n",
              "      <td>Mexico</td>\n",
              "      <td>2021-09-26</td>\n",
              "      <td>44626347.0</td>\n",
              "      <td>532540.0</td>\n",
              "      <td>34.26</td>\n",
              "      <td>CanSino, Johnson&amp;Johnson, Moderna, Oxford/Astr...</td>\n",
              "    </tr>\n",
              "    <tr>\n",
              "      <th>27940</th>\n",
              "      <td>Mexico</td>\n",
              "      <td>2021-09-27</td>\n",
              "      <td>44902572.0</td>\n",
              "      <td>541148.0</td>\n",
              "      <td>34.47</td>\n",
              "      <td>CanSino, Johnson&amp;Johnson, Moderna, Oxford/Astr...</td>\n",
              "    </tr>\n",
              "    <tr>\n",
              "      <th>27941</th>\n",
              "      <td>Mexico</td>\n",
              "      <td>2021-09-28</td>\n",
              "      <td>45284037.0</td>\n",
              "      <td>531969.0</td>\n",
              "      <td>34.76</td>\n",
              "      <td>CanSino, Johnson&amp;Johnson, Moderna, Oxford/Astr...</td>\n",
              "    </tr>\n",
              "    <tr>\n",
              "      <th>27942</th>\n",
              "      <td>Mexico</td>\n",
              "      <td>2021-09-29</td>\n",
              "      <td>45572525.0</td>\n",
              "      <td>523824.0</td>\n",
              "      <td>34.99</td>\n",
              "      <td>CanSino, Johnson&amp;Johnson, Moderna, Oxford/Astr...</td>\n",
              "    </tr>\n",
              "  </tbody>\n",
              "</table>\n",
              "<p>266 rows × 6 columns</p>\n",
              "</div>"
            ],
            "text/plain": [
              "      country  ...                                           vaccines\n",
              "27677  Mexico  ...  CanSino, Johnson&Johnson, Moderna, Oxford/Astr...\n",
              "27678  Mexico  ...  CanSino, Johnson&Johnson, Moderna, Oxford/Astr...\n",
              "27679  Mexico  ...  CanSino, Johnson&Johnson, Moderna, Oxford/Astr...\n",
              "27680  Mexico  ...  CanSino, Johnson&Johnson, Moderna, Oxford/Astr...\n",
              "27681  Mexico  ...  CanSino, Johnson&Johnson, Moderna, Oxford/Astr...\n",
              "...       ...  ...                                                ...\n",
              "27938  Mexico  ...  CanSino, Johnson&Johnson, Moderna, Oxford/Astr...\n",
              "27939  Mexico  ...  CanSino, Johnson&Johnson, Moderna, Oxford/Astr...\n",
              "27940  Mexico  ...  CanSino, Johnson&Johnson, Moderna, Oxford/Astr...\n",
              "27941  Mexico  ...  CanSino, Johnson&Johnson, Moderna, Oxford/Astr...\n",
              "27942  Mexico  ...  CanSino, Johnson&Johnson, Moderna, Oxford/Astr...\n",
              "\n",
              "[266 rows x 6 columns]"
            ]
          },
          "metadata": {},
          "execution_count": 43
        }
      ]
    },
    {
      "cell_type": "markdown",
      "metadata": {
        "id": "cFEZZWeK7-bq"
      },
      "source": [
        "En el siguiente apartado se identificarán los espacios nulos y se sustituirán por la media previamente calculada"
      ]
    },
    {
      "cell_type": "code",
      "metadata": {
        "colab": {
          "base_uri": "https://localhost:8080/"
        },
        "id": "p1NQUdN-zZXi",
        "outputId": "06f81bce-9127-417d-859c-10e007f6974e"
      },
      "source": [
        "covid3.isnull().any()"
      ],
      "execution_count": 44,
      "outputs": [
        {
          "output_type": "execute_result",
          "data": {
            "text/plain": [
              "country                                False\n",
              "date                                   False\n",
              "people_fully_vaccinated                 True\n",
              "daily_vaccinations                     False\n",
              "people_fully_vaccinated_per_hundred     True\n",
              "vaccines                               False\n",
              "dtype: bool"
            ]
          },
          "metadata": {},
          "execution_count": 44
        }
      ]
    },
    {
      "cell_type": "code",
      "metadata": {
        "id": "Nq2BrFH-Uv3k"
      },
      "source": [
        "vacmx=covid3.fillna(covid3.mean())\n",
        "vacmx['date'] = pd.to_datetime(vacmx['date'],)\n",
        "vacmx = vacmx.set_index('date')\n",
        "\n"
      ],
      "execution_count": 57,
      "outputs": []
    },
    {
      "cell_type": "code",
      "metadata": {
        "colab": {
          "base_uri": "https://localhost:8080/",
          "height": 790
        },
        "id": "r1tkAacMVYBL",
        "outputId": "ba91b7cf-d29d-4148-fdd8-6120430c7eca"
      },
      "source": [
        "vacmx"
      ],
      "execution_count": 58,
      "outputs": [
        {
          "output_type": "execute_result",
          "data": {
            "text/html": [
              "<div>\n",
              "<style scoped>\n",
              "    .dataframe tbody tr th:only-of-type {\n",
              "        vertical-align: middle;\n",
              "    }\n",
              "\n",
              "    .dataframe tbody tr th {\n",
              "        vertical-align: top;\n",
              "    }\n",
              "\n",
              "    .dataframe thead th {\n",
              "        text-align: right;\n",
              "    }\n",
              "</style>\n",
              "<table border=\"1\" class=\"dataframe\">\n",
              "  <thead>\n",
              "    <tr style=\"text-align: right;\">\n",
              "      <th></th>\n",
              "      <th>country</th>\n",
              "      <th>people_fully_vaccinated</th>\n",
              "      <th>daily_vaccinations</th>\n",
              "      <th>people_fully_vaccinated_per_hundred</th>\n",
              "      <th>vaccines</th>\n",
              "    </tr>\n",
              "    <tr>\n",
              "      <th>date</th>\n",
              "      <th></th>\n",
              "      <th></th>\n",
              "      <th></th>\n",
              "      <th></th>\n",
              "      <th></th>\n",
              "    </tr>\n",
              "  </thead>\n",
              "  <tbody>\n",
              "    <tr>\n",
              "      <th>2021-01-07</th>\n",
              "      <td>Mexico</td>\n",
              "      <td>1.507921e+07</td>\n",
              "      <td>4230.0</td>\n",
              "      <td>11.576017</td>\n",
              "      <td>CanSino, Johnson&amp;Johnson, Moderna, Oxford/Astr...</td>\n",
              "    </tr>\n",
              "    <tr>\n",
              "      <th>2021-01-08</th>\n",
              "      <td>Mexico</td>\n",
              "      <td>1.507921e+07</td>\n",
              "      <td>4984.0</td>\n",
              "      <td>11.576017</td>\n",
              "      <td>CanSino, Johnson&amp;Johnson, Moderna, Oxford/Astr...</td>\n",
              "    </tr>\n",
              "    <tr>\n",
              "      <th>2021-01-09</th>\n",
              "      <td>Mexico</td>\n",
              "      <td>1.507921e+07</td>\n",
              "      <td>5488.0</td>\n",
              "      <td>11.576017</td>\n",
              "      <td>CanSino, Johnson&amp;Johnson, Moderna, Oxford/Astr...</td>\n",
              "    </tr>\n",
              "    <tr>\n",
              "      <th>2021-01-10</th>\n",
              "      <td>Mexico</td>\n",
              "      <td>1.507921e+07</td>\n",
              "      <td>5876.0</td>\n",
              "      <td>11.576017</td>\n",
              "      <td>CanSino, Johnson&amp;Johnson, Moderna, Oxford/Astr...</td>\n",
              "    </tr>\n",
              "    <tr>\n",
              "      <th>2021-01-11</th>\n",
              "      <td>Mexico</td>\n",
              "      <td>1.507921e+07</td>\n",
              "      <td>6157.0</td>\n",
              "      <td>11.576017</td>\n",
              "      <td>CanSino, Johnson&amp;Johnson, Moderna, Oxford/Astr...</td>\n",
              "    </tr>\n",
              "    <tr>\n",
              "      <th>...</th>\n",
              "      <td>...</td>\n",
              "      <td>...</td>\n",
              "      <td>...</td>\n",
              "      <td>...</td>\n",
              "      <td>...</td>\n",
              "    </tr>\n",
              "    <tr>\n",
              "      <th>2021-09-25</th>\n",
              "      <td>Mexico</td>\n",
              "      <td>4.451100e+07</td>\n",
              "      <td>559303.0</td>\n",
              "      <td>34.170000</td>\n",
              "      <td>CanSino, Johnson&amp;Johnson, Moderna, Oxford/Astr...</td>\n",
              "    </tr>\n",
              "    <tr>\n",
              "      <th>2021-09-26</th>\n",
              "      <td>Mexico</td>\n",
              "      <td>4.462635e+07</td>\n",
              "      <td>532540.0</td>\n",
              "      <td>34.260000</td>\n",
              "      <td>CanSino, Johnson&amp;Johnson, Moderna, Oxford/Astr...</td>\n",
              "    </tr>\n",
              "    <tr>\n",
              "      <th>2021-09-27</th>\n",
              "      <td>Mexico</td>\n",
              "      <td>4.490257e+07</td>\n",
              "      <td>541148.0</td>\n",
              "      <td>34.470000</td>\n",
              "      <td>CanSino, Johnson&amp;Johnson, Moderna, Oxford/Astr...</td>\n",
              "    </tr>\n",
              "    <tr>\n",
              "      <th>2021-09-28</th>\n",
              "      <td>Mexico</td>\n",
              "      <td>4.528404e+07</td>\n",
              "      <td>531969.0</td>\n",
              "      <td>34.760000</td>\n",
              "      <td>CanSino, Johnson&amp;Johnson, Moderna, Oxford/Astr...</td>\n",
              "    </tr>\n",
              "    <tr>\n",
              "      <th>2021-09-29</th>\n",
              "      <td>Mexico</td>\n",
              "      <td>4.557252e+07</td>\n",
              "      <td>523824.0</td>\n",
              "      <td>34.990000</td>\n",
              "      <td>CanSino, Johnson&amp;Johnson, Moderna, Oxford/Astr...</td>\n",
              "    </tr>\n",
              "  </tbody>\n",
              "</table>\n",
              "<p>266 rows × 5 columns</p>\n",
              "</div>"
            ],
            "text/plain": [
              "           country  ...                                           vaccines\n",
              "date                ...                                                   \n",
              "2021-01-07  Mexico  ...  CanSino, Johnson&Johnson, Moderna, Oxford/Astr...\n",
              "2021-01-08  Mexico  ...  CanSino, Johnson&Johnson, Moderna, Oxford/Astr...\n",
              "2021-01-09  Mexico  ...  CanSino, Johnson&Johnson, Moderna, Oxford/Astr...\n",
              "2021-01-10  Mexico  ...  CanSino, Johnson&Johnson, Moderna, Oxford/Astr...\n",
              "2021-01-11  Mexico  ...  CanSino, Johnson&Johnson, Moderna, Oxford/Astr...\n",
              "...            ...  ...                                                ...\n",
              "2021-09-25  Mexico  ...  CanSino, Johnson&Johnson, Moderna, Oxford/Astr...\n",
              "2021-09-26  Mexico  ...  CanSino, Johnson&Johnson, Moderna, Oxford/Astr...\n",
              "2021-09-27  Mexico  ...  CanSino, Johnson&Johnson, Moderna, Oxford/Astr...\n",
              "2021-09-28  Mexico  ...  CanSino, Johnson&Johnson, Moderna, Oxford/Astr...\n",
              "2021-09-29  Mexico  ...  CanSino, Johnson&Johnson, Moderna, Oxford/Astr...\n",
              "\n",
              "[266 rows x 5 columns]"
            ]
          },
          "metadata": {},
          "execution_count": 58
        }
      ]
    },
    {
      "cell_type": "code",
      "metadata": {
        "colab": {
          "base_uri": "https://localhost:8080/"
        },
        "id": "fPZZddNO8DZ4",
        "outputId": "43f8b23e-0c14-47b1-d138-f4e670de6395"
      },
      "source": [
        "vacusa=covid1[covid1['country']==\"United States\"]\n",
        "vacusa['date'] = pd.to_datetime(vacusa['date'],)\n",
        "vacusa = vacusa.set_index('date')\n",
        "vacusa=vacusa.dropna()"
      ],
      "execution_count": 79,
      "outputs": [
        {
          "output_type": "stream",
          "name": "stderr",
          "text": [
            "/usr/local/lib/python3.7/dist-packages/ipykernel_launcher.py:2: SettingWithCopyWarning: \n",
            "A value is trying to be set on a copy of a slice from a DataFrame.\n",
            "Try using .loc[row_indexer,col_indexer] = value instead\n",
            "\n",
            "See the caveats in the documentation: https://pandas.pydata.org/pandas-docs/stable/user_guide/indexing.html#returning-a-view-versus-a-copy\n",
            "  \n"
          ]
        }
      ]
    },
    {
      "cell_type": "code",
      "metadata": {
        "id": "BIMgPClP0eZA",
        "colab": {
          "base_uri": "https://localhost:8080/"
        },
        "outputId": "80114c6d-386d-443e-8303-8ec123af74ea"
      },
      "source": [
        "vacmx.isnull().any()"
      ],
      "execution_count": 71,
      "outputs": [
        {
          "output_type": "execute_result",
          "data": {
            "text/plain": [
              "Pais                                             False\n",
              "Numero total de personas totalmente vacunadas    False\n",
              "Vacunaciones diarias                             False\n",
              "Personas completamente vacunadas por cien        False\n",
              "Vacunas                                          False\n",
              "dtype: bool"
            ]
          },
          "metadata": {},
          "execution_count": 71
        }
      ]
    },
    {
      "cell_type": "code",
      "metadata": {
        "colab": {
          "base_uri": "https://localhost:8080/"
        },
        "id": "tKm417Pb90Lo",
        "outputId": "f3bf0856-94f0-4436-e310-5b3816d08aa7"
      },
      "source": [
        "vacusa.isnull().any()"
      ],
      "execution_count": 74,
      "outputs": [
        {
          "output_type": "execute_result",
          "data": {
            "text/plain": [
              "country                                False\n",
              "people_fully_vaccinated                 True\n",
              "daily_vaccinations                      True\n",
              "people_fully_vaccinated_per_hundred     True\n",
              "vaccines                               False\n",
              "dtype: bool"
            ]
          },
          "metadata": {},
          "execution_count": 74
        }
      ]
    },
    {
      "cell_type": "markdown",
      "metadata": {
        "id": "5aGI3TYxz5e8"
      },
      "source": [
        "Ahora que solamente tenemos la población que nos interesa, para poder lograr el objetivo principal es necesario sacar el porcentaje de las personas totalmente vacunadas por lo que añadiremos una nueva columna a la base de datos"
      ]
    },
    {
      "cell_type": "markdown",
      "metadata": {
        "id": "1hMD1phD7zHG"
      },
      "source": [
        "A continuación se cambiará el nombre de las columnas, para que sea más fácil identificarlas "
      ]
    },
    {
      "cell_type": "code",
      "metadata": {
        "id": "kGTsBcKH2cVo",
        "colab": {
          "base_uri": "https://localhost:8080/",
          "height": 637
        },
        "outputId": "f1aa23db-f708-4bc9-c50d-cf0472c3063e"
      },
      "source": [
        "vacmx.rename(columns={'country':'Pais'}, inplace = True)\n",
        "\n",
        "vacmx.rename(columns={'people_fully_vaccinated':'Numero total de personas totalmente vacunadas'},inplace = True)\n",
        "vacmx.rename(columns={'daily_vaccinations':'Vacunaciones diarias'},inplace = True)\n",
        "vacmx.rename(columns={'people_fully_vaccinated_per_hundred':'Personas completamente vacunadas por cien'}, inplace = True)\n",
        "vacmx.rename(columns={'vaccines':'Vacunas'},inplace = True)\n",
        "vacmx\n"
      ],
      "execution_count": 87,
      "outputs": [
        {
          "output_type": "execute_result",
          "data": {
            "text/html": [
              "<div>\n",
              "<style scoped>\n",
              "    .dataframe tbody tr th:only-of-type {\n",
              "        vertical-align: middle;\n",
              "    }\n",
              "\n",
              "    .dataframe tbody tr th {\n",
              "        vertical-align: top;\n",
              "    }\n",
              "\n",
              "    .dataframe thead th {\n",
              "        text-align: right;\n",
              "    }\n",
              "</style>\n",
              "<table border=\"1\" class=\"dataframe\">\n",
              "  <thead>\n",
              "    <tr style=\"text-align: right;\">\n",
              "      <th></th>\n",
              "      <th>Pais</th>\n",
              "      <th>Numero total de personas totalmente vacunadas</th>\n",
              "      <th>Vacunaciones diarias</th>\n",
              "      <th>Personas completamente vacunadas por cien</th>\n",
              "      <th>Vacunas</th>\n",
              "    </tr>\n",
              "    <tr>\n",
              "      <th>date</th>\n",
              "      <th></th>\n",
              "      <th></th>\n",
              "      <th></th>\n",
              "      <th></th>\n",
              "      <th></th>\n",
              "    </tr>\n",
              "  </thead>\n",
              "  <tbody>\n",
              "    <tr>\n",
              "      <th>2021-01-07</th>\n",
              "      <td>Mexico</td>\n",
              "      <td>1.507921e+07</td>\n",
              "      <td>4230.0</td>\n",
              "      <td>11.576017</td>\n",
              "      <td>CanSino, Johnson&amp;Johnson, Moderna, Oxford/Astr...</td>\n",
              "    </tr>\n",
              "    <tr>\n",
              "      <th>2021-01-08</th>\n",
              "      <td>Mexico</td>\n",
              "      <td>1.507921e+07</td>\n",
              "      <td>4984.0</td>\n",
              "      <td>11.576017</td>\n",
              "      <td>CanSino, Johnson&amp;Johnson, Moderna, Oxford/Astr...</td>\n",
              "    </tr>\n",
              "    <tr>\n",
              "      <th>2021-01-09</th>\n",
              "      <td>Mexico</td>\n",
              "      <td>1.507921e+07</td>\n",
              "      <td>5488.0</td>\n",
              "      <td>11.576017</td>\n",
              "      <td>CanSino, Johnson&amp;Johnson, Moderna, Oxford/Astr...</td>\n",
              "    </tr>\n",
              "    <tr>\n",
              "      <th>2021-01-10</th>\n",
              "      <td>Mexico</td>\n",
              "      <td>1.507921e+07</td>\n",
              "      <td>5876.0</td>\n",
              "      <td>11.576017</td>\n",
              "      <td>CanSino, Johnson&amp;Johnson, Moderna, Oxford/Astr...</td>\n",
              "    </tr>\n",
              "    <tr>\n",
              "      <th>2021-01-11</th>\n",
              "      <td>Mexico</td>\n",
              "      <td>1.507921e+07</td>\n",
              "      <td>6157.0</td>\n",
              "      <td>11.576017</td>\n",
              "      <td>CanSino, Johnson&amp;Johnson, Moderna, Oxford/Astr...</td>\n",
              "    </tr>\n",
              "    <tr>\n",
              "      <th>...</th>\n",
              "      <td>...</td>\n",
              "      <td>...</td>\n",
              "      <td>...</td>\n",
              "      <td>...</td>\n",
              "      <td>...</td>\n",
              "    </tr>\n",
              "    <tr>\n",
              "      <th>2021-09-25</th>\n",
              "      <td>Mexico</td>\n",
              "      <td>4.451100e+07</td>\n",
              "      <td>559303.0</td>\n",
              "      <td>34.170000</td>\n",
              "      <td>CanSino, Johnson&amp;Johnson, Moderna, Oxford/Astr...</td>\n",
              "    </tr>\n",
              "    <tr>\n",
              "      <th>2021-09-26</th>\n",
              "      <td>Mexico</td>\n",
              "      <td>4.462635e+07</td>\n",
              "      <td>532540.0</td>\n",
              "      <td>34.260000</td>\n",
              "      <td>CanSino, Johnson&amp;Johnson, Moderna, Oxford/Astr...</td>\n",
              "    </tr>\n",
              "    <tr>\n",
              "      <th>2021-09-27</th>\n",
              "      <td>Mexico</td>\n",
              "      <td>4.490257e+07</td>\n",
              "      <td>541148.0</td>\n",
              "      <td>34.470000</td>\n",
              "      <td>CanSino, Johnson&amp;Johnson, Moderna, Oxford/Astr...</td>\n",
              "    </tr>\n",
              "    <tr>\n",
              "      <th>2021-09-28</th>\n",
              "      <td>Mexico</td>\n",
              "      <td>4.528404e+07</td>\n",
              "      <td>531969.0</td>\n",
              "      <td>34.760000</td>\n",
              "      <td>CanSino, Johnson&amp;Johnson, Moderna, Oxford/Astr...</td>\n",
              "    </tr>\n",
              "    <tr>\n",
              "      <th>2021-09-29</th>\n",
              "      <td>Mexico</td>\n",
              "      <td>4.557252e+07</td>\n",
              "      <td>523824.0</td>\n",
              "      <td>34.990000</td>\n",
              "      <td>CanSino, Johnson&amp;Johnson, Moderna, Oxford/Astr...</td>\n",
              "    </tr>\n",
              "  </tbody>\n",
              "</table>\n",
              "<p>266 rows × 5 columns</p>\n",
              "</div>"
            ],
            "text/plain": [
              "              Pais  ...                                            Vacunas\n",
              "date                ...                                                   \n",
              "2021-01-07  Mexico  ...  CanSino, Johnson&Johnson, Moderna, Oxford/Astr...\n",
              "2021-01-08  Mexico  ...  CanSino, Johnson&Johnson, Moderna, Oxford/Astr...\n",
              "2021-01-09  Mexico  ...  CanSino, Johnson&Johnson, Moderna, Oxford/Astr...\n",
              "2021-01-10  Mexico  ...  CanSino, Johnson&Johnson, Moderna, Oxford/Astr...\n",
              "2021-01-11  Mexico  ...  CanSino, Johnson&Johnson, Moderna, Oxford/Astr...\n",
              "...            ...  ...                                                ...\n",
              "2021-09-25  Mexico  ...  CanSino, Johnson&Johnson, Moderna, Oxford/Astr...\n",
              "2021-09-26  Mexico  ...  CanSino, Johnson&Johnson, Moderna, Oxford/Astr...\n",
              "2021-09-27  Mexico  ...  CanSino, Johnson&Johnson, Moderna, Oxford/Astr...\n",
              "2021-09-28  Mexico  ...  CanSino, Johnson&Johnson, Moderna, Oxford/Astr...\n",
              "2021-09-29  Mexico  ...  CanSino, Johnson&Johnson, Moderna, Oxford/Astr...\n",
              "\n",
              "[266 rows x 5 columns]"
            ]
          },
          "metadata": {},
          "execution_count": 87
        }
      ]
    },
    {
      "cell_type": "code",
      "metadata": {
        "id": "I3eF5IfIA76n"
      },
      "source": [
        "vacusa.rename(columns={'country':'Pais'}, inplace = True)\n",
        "\n",
        "vacusa.rename(columns={'people_fully_vaccinated':'Numero total de personas totalmente vacunadas'},inplace = True)\n",
        "vacusa.rename(columns={'daily_vaccinations':'Vacunaciones diarias'},inplace = True)\n",
        "vacusa.rename(columns={'people_fully_vaccinated_per_hundred':'Personas completamente vacunadas por cien'}, inplace = True)\n",
        "vacusa.rename(columns={'vaccines':'Vacunas'},inplace = True)\n"
      ],
      "execution_count": 82,
      "outputs": []
    },
    {
      "cell_type": "markdown",
      "metadata": {
        "id": "G4Sxzvbvlh9M"
      },
      "source": [
        "\n",
        "Reordenamos las columnas de orden según consideramos mas útil, este paso es unicamente para una mejor visualización\n"
      ]
    },
    {
      "cell_type": "markdown",
      "metadata": {
        "id": "pxkrBCdOqBft"
      },
      "source": [
        "# Visualización de la segunda base de datos"
      ]
    },
    {
      "cell_type": "code",
      "metadata": {
        "id": "h3WyRnCuqAo8",
        "colab": {
          "base_uri": "https://localhost:8080/",
          "height": 422
        },
        "outputId": "54071996-f3a7-444a-f57a-de2143ded5c6"
      },
      "source": [
        "covid.tipo"
      ],
      "execution_count": null,
      "outputs": [
        {
          "output_type": "execute_result",
          "data": {
            "text/html": [
              "<div>\n",
              "<style scoped>\n",
              "    .dataframe tbody tr th:only-of-type {\n",
              "        vertical-align: middle;\n",
              "    }\n",
              "\n",
              "    .dataframe tbody tr th {\n",
              "        vertical-align: top;\n",
              "    }\n",
              "\n",
              "    .dataframe thead th {\n",
              "        text-align: right;\n",
              "    }\n",
              "</style>\n",
              "<table border=\"1\" class=\"dataframe\">\n",
              "  <thead>\n",
              "    <tr style=\"text-align: right;\">\n",
              "      <th></th>\n",
              "      <th>location</th>\n",
              "      <th>date</th>\n",
              "      <th>vaccine</th>\n",
              "      <th>total_vaccinations</th>\n",
              "    </tr>\n",
              "  </thead>\n",
              "  <tbody>\n",
              "    <tr>\n",
              "      <th>0</th>\n",
              "      <td>Austria</td>\n",
              "      <td>2021-01-08</td>\n",
              "      <td>Johnson&amp;Johnson</td>\n",
              "      <td>0</td>\n",
              "    </tr>\n",
              "    <tr>\n",
              "      <th>1</th>\n",
              "      <td>Austria</td>\n",
              "      <td>2021-01-08</td>\n",
              "      <td>Moderna</td>\n",
              "      <td>0</td>\n",
              "    </tr>\n",
              "    <tr>\n",
              "      <th>2</th>\n",
              "      <td>Austria</td>\n",
              "      <td>2021-01-08</td>\n",
              "      <td>Oxford/AstraZeneca</td>\n",
              "      <td>0</td>\n",
              "    </tr>\n",
              "    <tr>\n",
              "      <th>3</th>\n",
              "      <td>Austria</td>\n",
              "      <td>2021-01-08</td>\n",
              "      <td>Pfizer/BioNTech</td>\n",
              "      <td>31132</td>\n",
              "    </tr>\n",
              "    <tr>\n",
              "      <th>4</th>\n",
              "      <td>Austria</td>\n",
              "      <td>2021-01-15</td>\n",
              "      <td>Johnson&amp;Johnson</td>\n",
              "      <td>0</td>\n",
              "    </tr>\n",
              "    <tr>\n",
              "      <th>...</th>\n",
              "      <td>...</td>\n",
              "      <td>...</td>\n",
              "      <td>...</td>\n",
              "      <td>...</td>\n",
              "    </tr>\n",
              "    <tr>\n",
              "      <th>12819</th>\n",
              "      <td>Uruguay</td>\n",
              "      <td>2021-08-25</td>\n",
              "      <td>Pfizer/BioNTech</td>\n",
              "      <td>1803938</td>\n",
              "    </tr>\n",
              "    <tr>\n",
              "      <th>12820</th>\n",
              "      <td>Uruguay</td>\n",
              "      <td>2021-08-25</td>\n",
              "      <td>Sinovac</td>\n",
              "      <td>3242821</td>\n",
              "    </tr>\n",
              "    <tr>\n",
              "      <th>12821</th>\n",
              "      <td>Uruguay</td>\n",
              "      <td>2021-08-26</td>\n",
              "      <td>Oxford/AstraZeneca</td>\n",
              "      <td>86572</td>\n",
              "    </tr>\n",
              "    <tr>\n",
              "      <th>12822</th>\n",
              "      <td>Uruguay</td>\n",
              "      <td>2021-08-26</td>\n",
              "      <td>Pfizer/BioNTech</td>\n",
              "      <td>1812059</td>\n",
              "    </tr>\n",
              "    <tr>\n",
              "      <th>12823</th>\n",
              "      <td>Uruguay</td>\n",
              "      <td>2021-08-26</td>\n",
              "      <td>Sinovac</td>\n",
              "      <td>3242903</td>\n",
              "    </tr>\n",
              "  </tbody>\n",
              "</table>\n",
              "<p>12824 rows × 4 columns</p>\n",
              "</div>"
            ],
            "text/plain": [
              "      location        date             vaccine  total_vaccinations\n",
              "0      Austria  2021-01-08     Johnson&Johnson                   0\n",
              "1      Austria  2021-01-08             Moderna                   0\n",
              "2      Austria  2021-01-08  Oxford/AstraZeneca                   0\n",
              "3      Austria  2021-01-08     Pfizer/BioNTech               31132\n",
              "4      Austria  2021-01-15     Johnson&Johnson                   0\n",
              "...        ...         ...                 ...                 ...\n",
              "12819  Uruguay  2021-08-25     Pfizer/BioNTech             1803938\n",
              "12820  Uruguay  2021-08-25             Sinovac             3242821\n",
              "12821  Uruguay  2021-08-26  Oxford/AstraZeneca               86572\n",
              "12822  Uruguay  2021-08-26     Pfizer/BioNTech             1812059\n",
              "12823  Uruguay  2021-08-26             Sinovac             3242903\n",
              "\n",
              "[12824 rows x 4 columns]"
            ]
          },
          "metadata": {},
          "execution_count": 104
        }
      ]
    },
    {
      "cell_type": "markdown",
      "metadata": {
        "id": "rZ5-LOhQqgBT"
      },
      "source": [
        "En esta base de datos no consideramos necesario el limpiar los datos, ya que la información ya viene de una manera útil para nuestro objetivo"
      ]
    },
    {
      "cell_type": "markdown",
      "metadata": {
        "id": "jSBtNXwyve-q"
      },
      "source": [
        "# Preguntas de interes\n",
        "# Cuál es el país que ha vacunado a mayor parte de su población?\n",
        "\n",
        "\n",
        "Utilizaremos la función gruopby para agrupar los datos por países y calcularemos el máximo de los índices de vacunación con la funcion agg"
      ]
    },
    {
      "cell_type": "code",
      "metadata": {
        "colab": {
          "base_uri": "https://localhost:8080/"
        },
        "id": "_-IPJkiBnV91",
        "outputId": "affea147-5a06-464b-b992-78fc278bfb71"
      },
      "source": [
        "grup=covid.groupby(\"country\")['people_fully_vaccinated_per_hundred'].max().nlargest(10)\n",
        "grup"
      ],
      "execution_count": 64,
      "outputs": [
        {
          "output_type": "execute_result",
          "data": {
            "text/plain": [
              "country\n",
              "Gibraltar               117.51\n",
              "Pitcairn                100.00\n",
              "Portugal                 85.21\n",
              "United Arab Emirates     82.56\n",
              "Malta                    81.71\n",
              "Iceland                  80.53\n",
              "Spain                    78.33\n",
              "Cayman Islands           77.42\n",
              "Singapore                76.79\n",
              "Qatar                    75.70\n",
              "Name: people_fully_vaccinated_per_hundred, dtype: float64"
            ]
          },
          "metadata": {},
          "execution_count": 64
        }
      ]
    },
    {
      "cell_type": "markdown",
      "metadata": {
        "id": "ibmjEDIQxvAG"
      },
      "source": [
        "El resultado a esta pregunta es interesante, puesto que el país con mayor parte de su población vacunada es gibraltar, con mas de un 100%\n",
        "\n",
        "¿pero como es esto posible?\n",
        "\n",
        "Gibraltar es un país pequeño con alta afluencia de extranjeros\n",
        "y los datos solo miden las vacunas aplicadas sin considerar si los pacientes eran locales o no , entonces podemos asumir que Gibraltar ha aplicado más vacunas que toda su población por el flujo de extranjeros\n",
        "\n"
      ]
    },
    {
      "cell_type": "markdown",
      "metadata": {
        "id": "gQFDsvPWy9_c"
      },
      "source": [
        "# ¿Qué país es el que ha tenido menor número de vacunaciones por día?\n"
      ]
    },
    {
      "cell_type": "code",
      "metadata": {
        "colab": {
          "base_uri": "https://localhost:8080/",
          "height": 454
        },
        "id": "Q8tT-Z0gzAWm",
        "outputId": "932df22f-7d3f-4f51-f1a6-b2294f93d85a"
      },
      "source": [
        "grup1=covid.groupby(\"country\").agg({\n",
        "    \"daily_vaccinations_per_million\": \"mean\"\n",
        "    \n",
        "})\n",
        "grup1"
      ],
      "execution_count": null,
      "outputs": [
        {
          "output_type": "execute_result",
          "data": {
            "text/html": [
              "<div>\n",
              "<style scoped>\n",
              "    .dataframe tbody tr th:only-of-type {\n",
              "        vertical-align: middle;\n",
              "    }\n",
              "\n",
              "    .dataframe tbody tr th {\n",
              "        vertical-align: top;\n",
              "    }\n",
              "\n",
              "    .dataframe thead th {\n",
              "        text-align: right;\n",
              "    }\n",
              "</style>\n",
              "<table border=\"1\" class=\"dataframe\">\n",
              "  <thead>\n",
              "    <tr style=\"text-align: right;\">\n",
              "      <th></th>\n",
              "      <th>daily_vaccinations_per_million</th>\n",
              "    </tr>\n",
              "    <tr>\n",
              "      <th>country</th>\n",
              "      <th></th>\n",
              "    </tr>\n",
              "  </thead>\n",
              "  <tbody>\n",
              "    <tr>\n",
              "      <th>Afghanistan</th>\n",
              "      <td>252.795322</td>\n",
              "    </tr>\n",
              "    <tr>\n",
              "      <th>Albania</th>\n",
              "      <td>2110.986900</td>\n",
              "    </tr>\n",
              "    <tr>\n",
              "      <th>Algeria</th>\n",
              "      <td>448.431373</td>\n",
              "    </tr>\n",
              "    <tr>\n",
              "      <th>Andorra</th>\n",
              "      <td>5740.019704</td>\n",
              "    </tr>\n",
              "    <tr>\n",
              "      <th>Angola</th>\n",
              "      <td>296.859551</td>\n",
              "    </tr>\n",
              "    <tr>\n",
              "      <th>...</th>\n",
              "      <td>...</td>\n",
              "    </tr>\n",
              "    <tr>\n",
              "      <th>Wales</th>\n",
              "      <td>5544.855469</td>\n",
              "    </tr>\n",
              "    <tr>\n",
              "      <th>Wallis and Futuna</th>\n",
              "      <td>5349.811688</td>\n",
              "    </tr>\n",
              "    <tr>\n",
              "      <th>Yemen</th>\n",
              "      <td>124.200000</td>\n",
              "    </tr>\n",
              "    <tr>\n",
              "      <th>Zambia</th>\n",
              "      <td>216.792593</td>\n",
              "    </tr>\n",
              "    <tr>\n",
              "      <th>Zimbabwe</th>\n",
              "      <td>1331.751323</td>\n",
              "    </tr>\n",
              "  </tbody>\n",
              "</table>\n",
              "<p>222 rows × 1 columns</p>\n",
              "</div>"
            ],
            "text/plain": [
              "                   daily_vaccinations_per_million\n",
              "country                                          \n",
              "Afghanistan                            252.795322\n",
              "Albania                               2110.986900\n",
              "Algeria                                448.431373\n",
              "Andorra                               5740.019704\n",
              "Angola                                 296.859551\n",
              "...                                           ...\n",
              "Wales                                 5544.855469\n",
              "Wallis and Futuna                     5349.811688\n",
              "Yemen                                  124.200000\n",
              "Zambia                                 216.792593\n",
              "Zimbabwe                              1331.751323\n",
              "\n",
              "[222 rows x 1 columns]"
            ]
          },
          "metadata": {},
          "execution_count": 106
        }
      ]
    },
    {
      "cell_type": "code",
      "metadata": {
        "colab": {
          "base_uri": "https://localhost:8080/"
        },
        "id": "-7jNHoLgzjyp",
        "outputId": "d59a43f4-c034-4085-819c-c0cc79867ba3"
      },
      "source": [
        "v5=grup1[\"daily_vaccinations_per_million\"].idxmin()\n",
        "v6=grup1[\"daily_vaccinations_per_million\"].min()\n",
        "\n",
        "print(\"el pais con menor numero de vacunaciones diarias es \",v5,\" con un promedio de \",v6,\" por cada millon de habitantes\")"
      ],
      "execution_count": null,
      "outputs": [
        {
          "output_type": "stream",
          "name": "stdout",
          "text": [
            "el pais con menor numero de vacunaciones diarias es  Bonaire Sint Eustatius and Saba  con un promedio de  0.0  por cada millon de habitantes\n"
          ]
        }
      ]
    },
    {
      "cell_type": "markdown",
      "metadata": {
        "id": "5AfkMUNA2414"
      },
      "source": [
        "Podemos observar que el país Bonaire Sint Eustatius and Saba es el que menos vacunas diarias aplica ya que no ha empezado su proceso de vacunaciones."
      ]
    },
    {
      "cell_type": "markdown",
      "metadata": {
        "id": "ALT7R4VP3SHi"
      },
      "source": [
        "Ahora buscaremos la respuesta a la misma pregunta excluyendo a los países que no han empezado a vacunar a su poblacion"
      ]
    },
    {
      "cell_type": "code",
      "metadata": {
        "colab": {
          "base_uri": "https://localhost:8080/",
          "height": 454
        },
        "id": "Pp5cgVC50wb9",
        "outputId": "09c6ab24-51a7-4885-ce22-0dd84b0c01b1"
      },
      "source": [
        "grup2=grup1[grup1[\"daily_vaccinations_per_million\"] > 0]\n",
        "grup2"
      ],
      "execution_count": null,
      "outputs": [
        {
          "output_type": "execute_result",
          "data": {
            "text/html": [
              "<div>\n",
              "<style scoped>\n",
              "    .dataframe tbody tr th:only-of-type {\n",
              "        vertical-align: middle;\n",
              "    }\n",
              "\n",
              "    .dataframe tbody tr th {\n",
              "        vertical-align: top;\n",
              "    }\n",
              "\n",
              "    .dataframe thead th {\n",
              "        text-align: right;\n",
              "    }\n",
              "</style>\n",
              "<table border=\"1\" class=\"dataframe\">\n",
              "  <thead>\n",
              "    <tr style=\"text-align: right;\">\n",
              "      <th></th>\n",
              "      <th>daily_vaccinations_per_million</th>\n",
              "    </tr>\n",
              "    <tr>\n",
              "      <th>country</th>\n",
              "      <th></th>\n",
              "    </tr>\n",
              "  </thead>\n",
              "  <tbody>\n",
              "    <tr>\n",
              "      <th>Afghanistan</th>\n",
              "      <td>252.795322</td>\n",
              "    </tr>\n",
              "    <tr>\n",
              "      <th>Albania</th>\n",
              "      <td>2110.986900</td>\n",
              "    </tr>\n",
              "    <tr>\n",
              "      <th>Algeria</th>\n",
              "      <td>448.431373</td>\n",
              "    </tr>\n",
              "    <tr>\n",
              "      <th>Andorra</th>\n",
              "      <td>5740.019704</td>\n",
              "    </tr>\n",
              "    <tr>\n",
              "      <th>Angola</th>\n",
              "      <td>296.859551</td>\n",
              "    </tr>\n",
              "    <tr>\n",
              "      <th>...</th>\n",
              "      <td>...</td>\n",
              "    </tr>\n",
              "    <tr>\n",
              "      <th>Wales</th>\n",
              "      <td>5544.855469</td>\n",
              "    </tr>\n",
              "    <tr>\n",
              "      <th>Wallis and Futuna</th>\n",
              "      <td>5349.811688</td>\n",
              "    </tr>\n",
              "    <tr>\n",
              "      <th>Yemen</th>\n",
              "      <td>124.200000</td>\n",
              "    </tr>\n",
              "    <tr>\n",
              "      <th>Zambia</th>\n",
              "      <td>216.792593</td>\n",
              "    </tr>\n",
              "    <tr>\n",
              "      <th>Zimbabwe</th>\n",
              "      <td>1331.751323</td>\n",
              "    </tr>\n",
              "  </tbody>\n",
              "</table>\n",
              "<p>220 rows × 1 columns</p>\n",
              "</div>"
            ],
            "text/plain": [
              "                   daily_vaccinations_per_million\n",
              "country                                          \n",
              "Afghanistan                            252.795322\n",
              "Albania                               2110.986900\n",
              "Algeria                                448.431373\n",
              "Andorra                               5740.019704\n",
              "Angola                                 296.859551\n",
              "...                                           ...\n",
              "Wales                                 5544.855469\n",
              "Wallis and Futuna                     5349.811688\n",
              "Yemen                                  124.200000\n",
              "Zambia                                 216.792593\n",
              "Zimbabwe                              1331.751323\n",
              "\n",
              "[220 rows x 1 columns]"
            ]
          },
          "metadata": {},
          "execution_count": 108
        }
      ]
    },
    {
      "cell_type": "code",
      "metadata": {
        "colab": {
          "base_uri": "https://localhost:8080/"
        },
        "id": "PlOJn4-w1VGd",
        "outputId": "4ce83f18-6bed-41c8-cd44-96c29927b09d"
      },
      "source": [
        "v7=grup2[\"daily_vaccinations_per_million\"].idxmin()\n",
        "v8=grup2[\"daily_vaccinations_per_million\"].min()\n",
        "print(\"El pais con menor numero de vacunaciones diarias es \",v7,\" con un promedio de \",v8,\" por cada millon de habitantes\")"
      ],
      "execution_count": null,
      "outputs": [
        {
          "output_type": "stream",
          "name": "stdout",
          "text": [
            "El pais con menor numero de vacunaciones diarias es  Democratic Republic of Congo  con un promedio de  7.4140625  por cada millon de habitantes\n"
          ]
        }
      ]
    },
    {
      "cell_type": "markdown",
      "metadata": {
        "id": "PdROF8FU3M8s"
      },
      "source": [
        "El país con menor promedio de vacunaciones diarias es Democratic Republic of Congo, con apenas ~7.5 vacunaciones diarias por cada millon de habitantes"
      ]
    },
    {
      "cell_type": "markdown",
      "metadata": {
        "id": "WL7BtG9as62B"
      },
      "source": [
        "# Estadística Descriptiva"
      ]
    },
    {
      "cell_type": "code",
      "metadata": {
        "id": "Z__bR2Fxvn2z",
        "colab": {
          "base_uri": "https://localhost:8080/",
          "height": 111
        },
        "outputId": "6685bf77-d8b1-4217-84fb-0db0ed637f20"
      },
      "source": [
        "infomx=vacmx.groupby(\"Pais\").agg({\n",
        "    \"Vacunaciones diarias\": \"mean\",\n",
        "  \n",
        "     \"Numero total de personas totalmente vacunadas\": \"max\"\n",
        "})\n",
        "infomx"
      ],
      "execution_count": 91,
      "outputs": [
        {
          "output_type": "execute_result",
          "data": {
            "text/html": [
              "<div>\n",
              "<style scoped>\n",
              "    .dataframe tbody tr th:only-of-type {\n",
              "        vertical-align: middle;\n",
              "    }\n",
              "\n",
              "    .dataframe tbody tr th {\n",
              "        vertical-align: top;\n",
              "    }\n",
              "\n",
              "    .dataframe thead th {\n",
              "        text-align: right;\n",
              "    }\n",
              "</style>\n",
              "<table border=\"1\" class=\"dataframe\">\n",
              "  <thead>\n",
              "    <tr style=\"text-align: right;\">\n",
              "      <th></th>\n",
              "      <th>Vacunaciones diarias</th>\n",
              "      <th>Numero total de personas totalmente vacunadas</th>\n",
              "    </tr>\n",
              "    <tr>\n",
              "      <th>Pais</th>\n",
              "      <th></th>\n",
              "      <th></th>\n",
              "    </tr>\n",
              "  </thead>\n",
              "  <tbody>\n",
              "    <tr>\n",
              "      <th>Mexico</th>\n",
              "      <td>374341.364662</td>\n",
              "      <td>45572525.0</td>\n",
              "    </tr>\n",
              "  </tbody>\n",
              "</table>\n",
              "</div>"
            ],
            "text/plain": [
              "        Vacunaciones diarias  Numero total de personas totalmente vacunadas\n",
              "Pais                                                                       \n",
              "Mexico         374341.364662                                     45572525.0"
            ]
          },
          "metadata": {},
          "execution_count": 91
        }
      ]
    },
    {
      "cell_type": "code",
      "metadata": {
        "colab": {
          "base_uri": "https://localhost:8080/",
          "height": 111
        },
        "id": "dT_M1uW6Bk3k",
        "outputId": "c5064605-491f-4bc6-a219-b1721407da3d"
      },
      "source": [
        "infousa=vacusa.groupby(\"Pais\").agg({\n",
        "    \"Vacunaciones diarias\": \"mean\",\n",
        "  \n",
        "     \"Numero total de personas totalmente vacunadas\": \"max\"\n",
        "})\n",
        "infousa"
      ],
      "execution_count": 92,
      "outputs": [
        {
          "output_type": "execute_result",
          "data": {
            "text/html": [
              "<div>\n",
              "<style scoped>\n",
              "    .dataframe tbody tr th:only-of-type {\n",
              "        vertical-align: middle;\n",
              "    }\n",
              "\n",
              "    .dataframe tbody tr th {\n",
              "        vertical-align: top;\n",
              "    }\n",
              "\n",
              "    .dataframe thead th {\n",
              "        text-align: right;\n",
              "    }\n",
              "</style>\n",
              "<table border=\"1\" class=\"dataframe\">\n",
              "  <thead>\n",
              "    <tr style=\"text-align: right;\">\n",
              "      <th></th>\n",
              "      <th>Vacunaciones diarias</th>\n",
              "      <th>Numero total de personas totalmente vacunadas</th>\n",
              "    </tr>\n",
              "    <tr>\n",
              "      <th>Pais</th>\n",
              "      <th></th>\n",
              "      <th></th>\n",
              "    </tr>\n",
              "  </thead>\n",
              "  <tbody>\n",
              "    <tr>\n",
              "      <th>United States</th>\n",
              "      <td>1.489607e+06</td>\n",
              "      <td>184601450.0</td>\n",
              "    </tr>\n",
              "  </tbody>\n",
              "</table>\n",
              "</div>"
            ],
            "text/plain": [
              "               Vacunaciones diarias  Numero total de personas totalmente vacunadas\n",
              "Pais                                                                              \n",
              "United States          1.489607e+06                                    184601450.0"
            ]
          },
          "metadata": {},
          "execution_count": 92
        }
      ]
    },
    {
      "cell_type": "markdown",
      "metadata": {
        "id": "6C_2iNJx5XRJ"
      },
      "source": [
        "En esta tabla tenemos la informacion descriptiva dividida por pais, en el que se muestran el promedio de vacunaciones diarias y el máximo del numero total de personas totalmente vacunadas."
      ]
    },
    {
      "cell_type": "code",
      "metadata": {
        "colab": {
          "base_uri": "https://localhost:8080/",
          "height": 297
        },
        "id": "PYFgH-_L3Km5",
        "outputId": "e72d8e25-34bc-4ad4-815e-4e757f91e9f2"
      },
      "source": [
        "vacmx.describe()"
      ],
      "execution_count": 96,
      "outputs": [
        {
          "output_type": "execute_result",
          "data": {
            "text/html": [
              "<div>\n",
              "<style scoped>\n",
              "    .dataframe tbody tr th:only-of-type {\n",
              "        vertical-align: middle;\n",
              "    }\n",
              "\n",
              "    .dataframe tbody tr th {\n",
              "        vertical-align: top;\n",
              "    }\n",
              "\n",
              "    .dataframe thead th {\n",
              "        text-align: right;\n",
              "    }\n",
              "</style>\n",
              "<table border=\"1\" class=\"dataframe\">\n",
              "  <thead>\n",
              "    <tr style=\"text-align: right;\">\n",
              "      <th></th>\n",
              "      <th>Numero total de personas totalmente vacunadas</th>\n",
              "      <th>Vacunaciones diarias</th>\n",
              "      <th>Personas completamente vacunadas por cien</th>\n",
              "    </tr>\n",
              "  </thead>\n",
              "  <tbody>\n",
              "    <tr>\n",
              "      <th>count</th>\n",
              "      <td>2.660000e+02</td>\n",
              "      <td>2.660000e+02</td>\n",
              "      <td>266.000000</td>\n",
              "    </tr>\n",
              "    <tr>\n",
              "      <th>mean</th>\n",
              "      <td>1.507921e+07</td>\n",
              "      <td>3.743414e+05</td>\n",
              "      <td>11.576017</td>\n",
              "    </tr>\n",
              "    <tr>\n",
              "      <th>std</th>\n",
              "      <td>1.308072e+07</td>\n",
              "      <td>2.481934e+05</td>\n",
              "      <td>10.041974</td>\n",
              "    </tr>\n",
              "    <tr>\n",
              "      <th>min</th>\n",
              "      <td>1.958000e+03</td>\n",
              "      <td>2.302000e+03</td>\n",
              "      <td>0.000000</td>\n",
              "    </tr>\n",
              "    <tr>\n",
              "      <th>25%</th>\n",
              "      <td>1.090588e+06</td>\n",
              "      <td>1.768418e+05</td>\n",
              "      <td>0.835000</td>\n",
              "    </tr>\n",
              "    <tr>\n",
              "      <th>50%</th>\n",
              "      <td>1.507921e+07</td>\n",
              "      <td>3.961370e+05</td>\n",
              "      <td>11.576017</td>\n",
              "    </tr>\n",
              "    <tr>\n",
              "      <th>75%</th>\n",
              "      <td>2.348249e+07</td>\n",
              "      <td>5.275958e+05</td>\n",
              "      <td>18.027500</td>\n",
              "    </tr>\n",
              "    <tr>\n",
              "      <th>max</th>\n",
              "      <td>4.557252e+07</td>\n",
              "      <td>1.088095e+06</td>\n",
              "      <td>34.990000</td>\n",
              "    </tr>\n",
              "  </tbody>\n",
              "</table>\n",
              "</div>"
            ],
            "text/plain": [
              "       Numero total de personas totalmente vacunadas  ...  Personas completamente vacunadas por cien\n",
              "count                                   2.660000e+02  ...                                 266.000000\n",
              "mean                                    1.507921e+07  ...                                  11.576017\n",
              "std                                     1.308072e+07  ...                                  10.041974\n",
              "min                                     1.958000e+03  ...                                   0.000000\n",
              "25%                                     1.090588e+06  ...                                   0.835000\n",
              "50%                                     1.507921e+07  ...                                  11.576017\n",
              "75%                                     2.348249e+07  ...                                  18.027500\n",
              "max                                     4.557252e+07  ...                                  34.990000\n",
              "\n",
              "[8 rows x 3 columns]"
            ]
          },
          "metadata": {},
          "execution_count": 96
        }
      ]
    },
    {
      "cell_type": "code",
      "metadata": {
        "colab": {
          "base_uri": "https://localhost:8080/",
          "height": 297
        },
        "id": "iNL_KV9DCVku",
        "outputId": "4352f312-48c8-46d8-e4d9-61eac92bae4f"
      },
      "source": [
        "vacusa.describe()"
      ],
      "execution_count": 97,
      "outputs": [
        {
          "output_type": "execute_result",
          "data": {
            "text/html": [
              "<div>\n",
              "<style scoped>\n",
              "    .dataframe tbody tr th:only-of-type {\n",
              "        vertical-align: middle;\n",
              "    }\n",
              "\n",
              "    .dataframe tbody tr th {\n",
              "        vertical-align: top;\n",
              "    }\n",
              "\n",
              "    .dataframe thead th {\n",
              "        text-align: right;\n",
              "    }\n",
              "</style>\n",
              "<table border=\"1\" class=\"dataframe\">\n",
              "  <thead>\n",
              "    <tr style=\"text-align: right;\">\n",
              "      <th></th>\n",
              "      <th>Numero total de personas totalmente vacunadas</th>\n",
              "      <th>Vacunaciones diarias</th>\n",
              "      <th>Personas completamente vacunadas por cien</th>\n",
              "    </tr>\n",
              "  </thead>\n",
              "  <tbody>\n",
              "    <tr>\n",
              "      <th>count</th>\n",
              "      <td>2.510000e+02</td>\n",
              "      <td>2.510000e+02</td>\n",
              "      <td>251.000000</td>\n",
              "    </tr>\n",
              "    <tr>\n",
              "      <th>mean</th>\n",
              "      <td>1.073052e+08</td>\n",
              "      <td>1.489607e+06</td>\n",
              "      <td>31.905378</td>\n",
              "    </tr>\n",
              "    <tr>\n",
              "      <th>std</th>\n",
              "      <td>6.236313e+07</td>\n",
              "      <td>8.209150e+05</td>\n",
              "      <td>18.542781</td>\n",
              "    </tr>\n",
              "    <tr>\n",
              "      <th>min</th>\n",
              "      <td>1.342086e+06</td>\n",
              "      <td>5.067710e+05</td>\n",
              "      <td>0.400000</td>\n",
              "    </tr>\n",
              "    <tr>\n",
              "      <th>25%</th>\n",
              "      <td>4.452609e+07</td>\n",
              "      <td>7.730355e+05</td>\n",
              "      <td>13.235000</td>\n",
              "    </tr>\n",
              "    <tr>\n",
              "      <th>50%</th>\n",
              "      <td>1.300142e+08</td>\n",
              "      <td>1.234838e+06</td>\n",
              "      <td>38.660000</td>\n",
              "    </tr>\n",
              "    <tr>\n",
              "      <th>75%</th>\n",
              "      <td>1.632429e+08</td>\n",
              "      <td>2.124756e+06</td>\n",
              "      <td>48.540000</td>\n",
              "    </tr>\n",
              "    <tr>\n",
              "      <th>max</th>\n",
              "      <td>1.846014e+08</td>\n",
              "      <td>3.384387e+06</td>\n",
              "      <td>54.890000</td>\n",
              "    </tr>\n",
              "  </tbody>\n",
              "</table>\n",
              "</div>"
            ],
            "text/plain": [
              "       Numero total de personas totalmente vacunadas  ...  Personas completamente vacunadas por cien\n",
              "count                                   2.510000e+02  ...                                 251.000000\n",
              "mean                                    1.073052e+08  ...                                  31.905378\n",
              "std                                     6.236313e+07  ...                                  18.542781\n",
              "min                                     1.342086e+06  ...                                   0.400000\n",
              "25%                                     4.452609e+07  ...                                  13.235000\n",
              "50%                                     1.300142e+08  ...                                  38.660000\n",
              "75%                                     1.632429e+08  ...                                  48.540000\n",
              "max                                     1.846014e+08  ...                                  54.890000\n",
              "\n",
              "[8 rows x 3 columns]"
            ]
          },
          "metadata": {},
          "execution_count": 97
        }
      ]
    },
    {
      "cell_type": "markdown",
      "metadata": {
        "id": "hHyawO6vwjUq"
      },
      "source": [
        "Investigamos como sacar los estadísticos que íbamos a necesitar para analizar correctamente los datos. La función describe nos arroja la cuenta de los datos, la media, la desviación estándar, el mínimo, el máximo y los cuartiles del total de los pia. La cuenta de los datos nos ayuda a visualizar mejor la tabla, para saber con cuantos datos estamos trabajando y señar mejor las distribuciones de los datos. La media nos da una descripción de la característica que nos interesa de una población dada por la base de datos. La desviación estándar nos indica que tan dispersos están los datos respecto a la media. El máximo y el mínimo nos ayudan a ver el rango en el cual están los datos. Los cuartiles nos muestran una mejor distribución de los datos."
      ]
    },
    {
      "cell_type": "markdown",
      "metadata": {
        "id": "xKRh7cOBVivP"
      },
      "source": [
        "Esto nos ayuda a visualizar cuales son los países que mas vacunas han aplicado y poder comparar donde esta México y así generar conclusiones al respecto del manejo de la pandemia en comparación a estos países."
      ]
    },
    {
      "cell_type": "code",
      "metadata": {
        "colab": {
          "base_uri": "https://localhost:8080/",
          "height": 419
        },
        "id": "4UcFye350eAe",
        "outputId": "cb5cca6e-7cea-4bb7-8982-a289f656303f"
      },
      "source": [
        "info2=covid.tipo.groupby([\"location\",\"vaccine\"], as_index=False).agg({\n",
        "          \"total_vaccinations\": \"sum\"\n",
        "\n",
        "    \n",
        "})\n",
        "info2"
      ],
      "execution_count": 100,
      "outputs": [
        {
          "output_type": "execute_result",
          "data": {
            "text/html": [
              "<div>\n",
              "<style scoped>\n",
              "    .dataframe tbody tr th:only-of-type {\n",
              "        vertical-align: middle;\n",
              "    }\n",
              "\n",
              "    .dataframe tbody tr th {\n",
              "        vertical-align: top;\n",
              "    }\n",
              "\n",
              "    .dataframe thead th {\n",
              "        text-align: right;\n",
              "    }\n",
              "</style>\n",
              "<table border=\"1\" class=\"dataframe\">\n",
              "  <thead>\n",
              "    <tr style=\"text-align: right;\">\n",
              "      <th></th>\n",
              "      <th>location</th>\n",
              "      <th>vaccine</th>\n",
              "      <th>total_vaccinations</th>\n",
              "    </tr>\n",
              "  </thead>\n",
              "  <tbody>\n",
              "    <tr>\n",
              "      <th>0</th>\n",
              "      <td>Austria</td>\n",
              "      <td>Johnson&amp;Johnson</td>\n",
              "      <td>3648375</td>\n",
              "    </tr>\n",
              "    <tr>\n",
              "      <th>1</th>\n",
              "      <td>Austria</td>\n",
              "      <td>Moderna</td>\n",
              "      <td>19341794</td>\n",
              "    </tr>\n",
              "    <tr>\n",
              "      <th>2</th>\n",
              "      <td>Austria</td>\n",
              "      <td>Oxford/AstraZeneca</td>\n",
              "      <td>34052660</td>\n",
              "    </tr>\n",
              "    <tr>\n",
              "      <th>3</th>\n",
              "      <td>Austria</td>\n",
              "      <td>Pfizer/BioNTech</td>\n",
              "      <td>143507156</td>\n",
              "    </tr>\n",
              "    <tr>\n",
              "      <th>4</th>\n",
              "      <td>Belgium</td>\n",
              "      <td>Johnson&amp;Johnson</td>\n",
              "      <td>5546947</td>\n",
              "    </tr>\n",
              "    <tr>\n",
              "      <th>...</th>\n",
              "      <td>...</td>\n",
              "      <td>...</td>\n",
              "      <td>...</td>\n",
              "    </tr>\n",
              "    <tr>\n",
              "      <th>141</th>\n",
              "      <td>United States</td>\n",
              "      <td>Moderna</td>\n",
              "      <td>25023433583</td>\n",
              "    </tr>\n",
              "    <tr>\n",
              "      <th>142</th>\n",
              "      <td>United States</td>\n",
              "      <td>Pfizer/BioNTech</td>\n",
              "      <td>33011832531</td>\n",
              "    </tr>\n",
              "    <tr>\n",
              "      <th>143</th>\n",
              "      <td>Uruguay</td>\n",
              "      <td>Oxford/AstraZeneca</td>\n",
              "      <td>10491026</td>\n",
              "    </tr>\n",
              "    <tr>\n",
              "      <th>144</th>\n",
              "      <td>Uruguay</td>\n",
              "      <td>Pfizer/BioNTech</td>\n",
              "      <td>199711464</td>\n",
              "    </tr>\n",
              "    <tr>\n",
              "      <th>145</th>\n",
              "      <td>Uruguay</td>\n",
              "      <td>Sinovac</td>\n",
              "      <td>462761476</td>\n",
              "    </tr>\n",
              "  </tbody>\n",
              "</table>\n",
              "<p>146 rows × 3 columns</p>\n",
              "</div>"
            ],
            "text/plain": [
              "          location             vaccine  total_vaccinations\n",
              "0          Austria     Johnson&Johnson             3648375\n",
              "1          Austria             Moderna            19341794\n",
              "2          Austria  Oxford/AstraZeneca            34052660\n",
              "3          Austria     Pfizer/BioNTech           143507156\n",
              "4          Belgium     Johnson&Johnson             5546947\n",
              "..             ...                 ...                 ...\n",
              "141  United States             Moderna         25023433583\n",
              "142  United States     Pfizer/BioNTech         33011832531\n",
              "143        Uruguay  Oxford/AstraZeneca            10491026\n",
              "144        Uruguay     Pfizer/BioNTech           199711464\n",
              "145        Uruguay             Sinovac           462761476\n",
              "\n",
              "[146 rows x 3 columns]"
            ]
          },
          "metadata": {},
          "execution_count": 100
        }
      ]
    },
    {
      "cell_type": "markdown",
      "metadata": {
        "id": "F0SjS7KD4p4o"
      },
      "source": [
        "Nos muestra los países agrupados por el tipo de vacuna que se ha aplicado y el total de dosis aplicadas, nos sirve para visualizar cuantas vacunas de un tipo especifico aplicaron por país, tomando en cuenta la efectividad que se muestra que tienen con respecto al virus. "
      ]
    },
    {
      "cell_type": "markdown",
      "metadata": {
        "id": "7biYaUTDQydQ"
      },
      "source": [
        "# **Graficas**"
      ]
    },
    {
      "cell_type": "code",
      "metadata": {
        "id": "be2lvAWyQ20O",
        "colab": {
          "base_uri": "https://localhost:8080/",
          "height": 696
        },
        "outputId": "06b738c7-b6be-4119-a136-9700cbd2f195"
      },
      "source": [
        "covid3=covid1.groupby(\"country\")[\"daily_vaccinations\"].sum().nlargest(5)\n",
        "plt.figure(figsize=(10,10))\n",
        "covid3.plot(x = \"Pais\", kind = 'bar', alpha = 0.75)\n",
        "plt.xlabel(\"Paises\")\n",
        "plt.ylabel(\"Total de vacunas aplicadas\")\n",
        "plt.title(\"Paises con mayor cantidad de vacunas aplicadas\")\n"
      ],
      "execution_count": 145,
      "outputs": [
        {
          "output_type": "execute_result",
          "data": {
            "text/plain": [
              "Text(0.5, 1.0, 'Paises con mayor cantidad de vacunas aplicadas')"
            ]
          },
          "metadata": {},
          "execution_count": 145
        },
        {
          "output_type": "display_data",
          "data": {
            "image/png": "[encoded data removed]",
            "text/plain": [
              "<Figure size 720x720 with 1 Axes>"
            ]
          },
          "metadata": {
            "needs_background": "light"
          }
        }
      ]
    },
    {
      "cell_type": "markdown",
      "metadata": {
        "id": "fvcyGKv_Xaak"
      },
      "source": [
        "Para empezar a realizar todas las gráficas puestas a continuación. Se hizo una investigación de cómo hacer diferentes tipos de graficas, se analizo cuales serían las más adecuadas para trabajar con nuestros datos. \n",
        "\n",
        "Dentro de la grafica podemos notar la cantidad de vacunas que se han aplicado dentro de los 10 paises con mayor cantidad de vacunas aplicadas.\n",
        "\n",
        "Podemos observar que EUA es uno de los paises mas fuertes en el mundo en cuanto a vacunaciones por día que se aplican. Esto nos indica que como vecino es muy bueno compararnos con ellos debido a que podemos tomar como ejemplo para poder ver que tan bien se estan haciendo las cosas dentro de Mexico. "
      ]
    },
    {
      "cell_type": "code",
      "metadata": {
        "id": "vV2J9iguqqZg"
      },
      "source": [
        ""
      ],
      "execution_count": null,
      "outputs": []
    },
    {
      "cell_type": "code",
      "metadata": {
        "id": "tg8TJo9gXPAW",
        "colab": {
          "base_uri": "https://localhost:8080/",
          "height": 624
        },
        "outputId": "9b5ec2db-ac48-46dd-ca95-f0489f1f30fb"
      },
      "source": [
        "\n",
        "plt.figure(figsize=(10,10))\n",
        "plt.plot(vacmx[\"Vacunaciones diarias\"])\n",
        "plt.plot(vacusa[\"Vacunaciones diarias\"])\n",
        "plt.title(\"Mexico vs USA  vacunaciones diarias\")"
      ],
      "execution_count": 112,
      "outputs": [
        {
          "output_type": "execute_result",
          "data": {
            "text/plain": [
              "Text(0.5, 1.0, 'Mexico vs USA  vacunaciones diarias')"
            ]
          },
          "metadata": {},
          "execution_count": 112
        },
        {
          "output_type": "display_data",
          "data": {
            "image/png": "[encoded data removed]",
            "text/plain": [
              "<Figure size 720x720 with 1 Axes>"
            ]
          },
          "metadata": {
            "needs_background": "light"
          }
        }
      ]
    },
    {
      "cell_type": "markdown",
      "metadata": {
        "id": "-LtTJ2aJrXCn"
      },
      "source": [
        "Siendo México nuestro país principal en el cual nos vamos a enfocar en el análisis de nuestros datos, mostramos esta gráfica, en la cual se exhiben el numero total de vacunas diarias por día. En el eje de las “y” son millones de habitantes. \n",
        "\n",
        "Para poder realizar esta gráfica filtramos a México, se hizo una pequeña modificación a los datos iguales a 0 para mejor visualización de la grafica.\n",
        "\n",
        "Lo mismo hacemos con EUA ya que es el pais que vamos a comparar debido a que comparten mucha relacion economica y politica estos dos paises.\n",
        "\n",
        "Esta grafica es fundamental para nuestro análisis porque nos ayuda a estar mas cerca de cumplir nuestro objetivo (Predicción de la fecha en la que volveremos a la \"normalidad\" en México) puesto que nos da una idea de como se ha estado vacunando diario en mexico y si se estan aplicando muchas o pocas.  \n"
      ]
    },
    {
      "cell_type": "code",
      "metadata": {
        "colab": {
          "base_uri": "https://localhost:8080/",
          "height": 638
        },
        "id": "BniZm7FBidqG",
        "outputId": "bff9b513-2faf-46e7-cfcd-5522ea7ffb64"
      },
      "source": [
        "\n",
        "top5=covid1[covid1['country'].isin([\"Mexico\",\"Canada\",\"United States\"])]\n",
        "top5=top5.dropna()\n",
        "plt.figure(figsize=(10,10))\n",
        "sns.violinplot(\n",
        "    x=\"country\",\n",
        "    y=\"people_fully_vaccinated\",\n",
        "    data= top5\n",
        ")\n",
        "plt.ylabel(\"Personas completamente vacunadas\")\n",
        "plt.xlabel(\"Paises\")\n",
        "plt.title(\"Comparacion paises T-MEC\")"
      ],
      "execution_count": 137,
      "outputs": [
        {
          "output_type": "execute_result",
          "data": {
            "text/plain": [
              "Text(0.5, 1.0, 'Comparacion paises T-MEC')"
            ]
          },
          "metadata": {},
          "execution_count": 137
        },
        {
          "output_type": "display_data",
          "data": {
            "image/png": "[encoded data removed]",
            "text/plain": [
              "<Figure size 720x720 with 1 Axes>"
            ]
          },
          "metadata": {
            "needs_background": "light"
          }
        }
      ]
    },
    {
      "cell_type": "markdown",
      "metadata": {
        "id": "K7dzR7Tfti39"
      },
      "source": [
        "La grafica anterior nos muestra una comparación del numero total de personas totalmente vacunadas entre los países de Norteamérica que son Canadá, Estados Unidos y México. Como es de esperarse, Estados unidos tiene la mayor cantidad de habitantes totalmente vacunados, puesto que es el país con más habitantes de los tres y el que tiene mejor acceso a las vacunas y por lo tanto tiene un mayor rango y parece que tiene una distribución simétrica. \n",
        "\n",
        "En cambio, México y Canadá cuentan con asimetría positiva ya que los datos se concentran en la parte inferior de la distribución, como se observa cuentan con datos menos dispersos. \n",
        "\n"
      ]
    },
    {
      "cell_type": "code",
      "metadata": {
        "colab": {
          "base_uri": "https://localhost:8080/",
          "height": 638
        },
        "id": "KKeI254Um9iJ",
        "outputId": "bb65d4ae-d1d0-46b9-c48c-5a5b8bf0ec7a"
      },
      "source": [
        "Bottom5=covid1[covid1['country'].isin([\"Mexico\",\"United States\",\"Argentina\",\"Chile\",\"Colombia\",\"Peru\"])]\n",
        "plt.figure(figsize=(10,10))\n",
        "sns.boxplot(\n",
        "    x=\"country\",\n",
        "    y=\"people_fully_vaccinated\",\n",
        "    data= Bottom5\n",
        ")\n",
        "plt.ylabel(\"Personas completamente vacunadas\")\n",
        "plt.xlabel(\"Paises\")\n",
        "plt.title(\"Comparacion paises LATAM y EUA\")"
      ],
      "execution_count": 136,
      "outputs": [
        {
          "output_type": "execute_result",
          "data": {
            "text/plain": [
              "Text(0.5, 1.0, 'Comparacion paises LATAM y EUA')"
            ]
          },
          "metadata": {},
          "execution_count": 136
        },
        {
          "output_type": "display_data",
          "data": {
            "image/png": "[encoded data removed]",
            "text/plain": [
              "<Figure size 720x720 with 1 Axes>"
            ]
          },
          "metadata": {
            "needs_background": "light"
          }
        }
      ]
    },
    {
      "cell_type": "markdown",
      "metadata": {
        "id": "lhQI-v_ouWVg"
      },
      "source": [
        "En esta grafica quisimos observar y comparar a México con algunos de los países más importantes de Latinoamérica puesto que las costumbres, nivel y calidad de vida en estos países, no difiere mucho que los de México. Estos países son Argentina, Chile, Colombia y peru. Al observar como se distribuyen el numero total de personas totalmente vacunadas, la mediana de los 5 países se encuentra en un rango de entre 0-1, parece que entre Argentina y Perú son los que tienen la mediana más baja y el que la tiene más elevada es Chile. \n",
        "\n",
        "\n",
        "\n",
        "Por ultimo podemos ver como claramente EUA es superior a todos los paises por diferencia y Mexico al ser vecino debria aspirar a parecerse mas a este ultimo."
      ]
    },
    {
      "cell_type": "code",
      "metadata": {
        "colab": {
          "base_uri": "https://localhost:8080/",
          "height": 842
        },
        "id": "ZmJmTDsmnQfJ",
        "outputId": "5157f872-ff82-45a0-9b3b-ec4a7ed26787"
      },
      "source": [
        "f,ax=plt.subplots(figsize = (10,10))\n",
        "sns.heatmap(covid2.corr(),annot= True,linewidths=0.5,fmt = \".1f\",ax=ax)\n",
        "plt.xticks(rotation=90)\n",
        "plt.yticks(rotation=0)\n",
        "plt.title('Mapa de correlación')\n",
        "plt.savefig('graph.png')\n",
        "plt.show()"
      ],
      "execution_count": null,
      "outputs": [
        {
          "output_type": "display_data",
          "data": {
            "image/png": "[encoded data removed]",
            "text/plain": [
              "<Figure size 720x720 with 2 Axes>"
            ]
          },
          "metadata": {
            "needs_background": "light"
          }
        }
      ]
    },
    {
      "cell_type": "markdown",
      "metadata": {
        "id": "Ho2pYiVOujmN"
      },
      "source": [
        "Este grafico nos permitió demostrar la relación existente entre las clases de datos y cuantificar la intensidad de dicha relación. Se utiliza para conocer si efectivamente existe una correlación entre las magnitudes o parámetros de un problema y, en caso positivo, de qué tipo es la correlación."
      ]
    },
    {
      "cell_type": "markdown",
      "metadata": {
        "id": "VQnAsYs4v8GO"
      },
      "source": [
        "# **Conclusión**"
      ]
    },
    {
      "cell_type": "markdown",
      "metadata": {
        "id": "ETvs_RfEv_9q"
      },
      "source": [
        "Se analizó la información actual de los países y así pudimos medir cuales han tenido una mayor eficiencia en el manejo de la pandemia a nivel de vacunaciones. Gracias a la limpieza de datos la información se reduce y en modo de resumen nos da las cifras para dar un mayor análisis al país de México, ya que cuanto mayor sea el porcentaje de la población que se vacuna, más pronto llegaremos a la inmunidad de rebaño que refiere a la protección o resistencia que posee una comunidad a la infección debido a la presencia de individuos inmunes a ella. En el caso del coronavirus, según varios informes científicos, la inmunidad colectiva se lograría si alrededor del 60% de la población desarrollara anticuerpos, y con todo esto estimar la fecha en la que México podría implementar el seguro regreso a las actividades, en cambio hay otros países que aún no ofrecen las suficientes vacunas para retomar con las actividades normal en el país, es importante que se le dé una mayor enfoque aquellos países que salieron con el menor índice de vacunación ya que esto afecta a múltiples sistemas en un país. Con todo esto se logró el objetivo secundario de observar a México con los diversos países para compararlo y sacar conclusiones de ella, gracias al reporte podremos utilizar la técnica de serie de tiempo para cumplir nuestro objetivo principal. "
      ]
    }
  ]
}