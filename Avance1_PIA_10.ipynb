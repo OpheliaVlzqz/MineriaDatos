{
  "nbformat": 4,
  "nbformat_minor": 0,
  "metadata": {
    "colab": {
      "name": "Avance1_PIA_10.ipynb",
      "provenance": [],
      "collapsed_sections": [],
      "include_colab_link": true
    },
    "kernelspec": {
      "name": "python3",
      "display_name": "Python 3"
    },
    "language_info": {
      "name": "python"
    }
  },
  "cells": [
    {
      "cell_type": "markdown",
      "metadata": {
        "id": "view-in-github",
        "colab_type": "text"
      },
      "source": [
        "<a href=\"https://colab.research.google.com/github/OpheliaVlzqz/MineriaDatos/blob/main/Avance1_PIA_10.ipynb\" target=\"_parent\"><img src=\"https://colab.research.google.com/assets/colab-badge.svg\" alt=\"Open In Colab\"/></a>"
      ]
    },
    {
      "cell_type": "markdown",
      "metadata": {
        "id": "FWUZ_A5NPrEj"
      },
      "source": [
        "# **Equipo: 10**\n",
        "Integrantes\n",
        "\n",
        "\n",
        "*   \n",
        "1856652 Velázquez Montemayor Ofelia\n",
        "*   \n",
        "1856652 Velázquez Montemayor Ofelia\n",
        "*\n",
        "1862149 Cruz Martínez Diego Adrian\n",
        "*\n",
        "1867216 Martínez Reyes Jose Miguel\n",
        "*\n",
        "1941488 García Ortega Jose Andrés\n",
        "*\n",
        "1941564 Ramirez Moreno Diana Gabriela"
      ]
    },
    {
      "cell_type": "markdown",
      "metadata": {
        "id": "d606BPuroM1H"
      },
      "source": [
        "**GRUPO 001.- Lunes de 7:00-10:00 PM**\n",
        "\n",
        "\n",
        "Objetivo: Estimar una fecha en la cuál se pueda llegar a una nueva normalidad mas segura para todos, a partir de la cifras de las personas vacunadas. \n"
      ]
    },
    {
      "cell_type": "markdown",
      "metadata": {
        "id": "rHbmpHZ6ctha"
      },
      "source": [
        "# **Base de datos principal: COVID-19 World Vaccination Progress**"
      ]
    },
    {
      "cell_type": "markdown",
      "metadata": {
        "id": "YiZwpxfOcpke"
      },
      "source": [
        "\n",
        "URL de la pagina:  https://www.kaggle.com/datasets"
      ]
    },
    {
      "cell_type": "markdown",
      "metadata": {
        "id": "tTIKVYamZYV9"
      },
      "source": [
        "# **Introducción General**"
      ]
    },
    {
      "cell_type": "markdown",
      "metadata": {
        "id": "lFyVJFQDZk6l"
      },
      "source": [
        "Nuestra base de datos muestra el progreso de vacunación mundial contra el COVID-19. Los coronavirus son una familia de virus que causan enfermedades (desde el resfriado común hasta enfermedades respiratorias más graves) y circulan entre humanos y animales. \n",
        "El COVID-19 es la enfermedad causada por el nuevo coronavirus conocido como SARS-CoV-2. La OMS tuvo noticia por primera vez de la existencia de este nuevo virus el 31 de diciembre de 2019, al ser informada de un grupo de casos de «neumonía vírica» que se habían declarado en Wuhan (República Popular China).\n",
        "\n",
        "Algunos de los síntomas que puede presentar una persona con COVID-19 son, fiebre, tos seca, cansancio, pérdida del gusto y/o del olfato, dolor de garganta, dolor de cabeza, náuseas, vómito, diarrea, etc. El sector de la población con más riesgo son las personas de más de 60 años y las que padecen afecciones médicas subyacentes, como hipertensión arterial, problemas cardíacos o pulmonares, \n",
        "diabetes, obesidad o cáncer, corren un mayor riesgo de presentar cuadros graves. \n",
        "Sin embargo, cualquier persona, a cualquier edad, puede enfermar de COVID-19 y presentar un cuadro grave o morir.    \n",
        "El tiempo entre la exposición a la COVID-19 y el momento en que comienzan los síntomas es, de media, de 5 o 6 días, pero puede variar entre 1 y 14 días. Por ello se recomienda que las personas que hayan estado expuestas al virus se queden en casa, alejadas de otras personas, durante 14 días, con el fin de prevenir la propagación del virus.\n",
        "\n",
        "El COVID-19 ha afectado mucho a la humanidad, han muerto 4.49 M de personas en el mundo y se han enfermado 216 M de personas. De los casi 7,000 profesionales de la salud en el mundo que han perdido la vida por el Covid-19, al menos 1,320 se registraron en México, según un reporte de Amnistía Internacional. La pandemia ha afectado a la economía de todos los países del mundo, los precios de las materias primas cayeron, mientras subió el gasto público para la lucha contra la pandemia que  a consecuencia de esta muchos negocios cerraron, subió el índice de desempleo y aumentó la inseguridad. La deuda fiscal de muchos países se incrementó enormemente. \n",
        "\n",
        "Una herramienta que nos ayude a explorar los datos del COVID-19 ayudaría bastante en distintas áreas principalmente en el área médica, como por ejemplo llevar un control de las muertes, los infectados y los recuperados de las personas no vacunadas y las vacunadas, para poder ver el grado de efectividad que tienen las distintas vacunas y si tienen el mismo grado de efectividad en una persona joven o en una persona de edad avanzada. También estos datos nos ayudarían en la economía, porque con esas cifras los gobiernos sabrían cuánto riesgo tienen las personas al acudir a ciertos establecimientos y así tomar la decisión de abrirlos, cerrarlos o poner un límite de personas, ya una vez que la mayoría o una gran parte de la población se encuentra vacunada. \n"
      ]
    },
    {
      "cell_type": "markdown",
      "metadata": {
        "id": "VTOMhN9nZtrO"
      },
      "source": [
        "# **Descripción de los datos**"
      ]
    },
    {
      "cell_type": "markdown",
      "metadata": {
        "id": "6qmJeKaGZzs3"
      },
      "source": [
        "\n",
        "**Tipo de datos**: Tablas \n",
        "\n",
        "**Descripción de las columnas**: la base de datos cuenta con 16 columnas y otras 4 columnas en otro archivo. \n"
      ]
    },
    {
      "cell_type": "markdown",
      "metadata": {
        "id": "gZiUmfaHaGqZ"
      },
      "source": [
        "\n",
        "\n",
        "*   País - string \n",
        "*   Código ISO del país - string\n",
        "*   Fecha - object (fecha de entrada de los datos) \n",
        "Número total de vacunas - float (número absoluto total de inmunizaciones)\n",
        "*   Número total de personas vacunadas - float\n",
        "*   Número total de personas totalmente vacunadas - float\n",
        "*   Vacunaciones diarias (en bruto) - float\n",
        "*   Vacunaciones totales por cien - float (relación entre el número de vacunaciones y la población total hasta la fecha en el país)\n",
        "*   Número total de personas vacunadas por cada cien - float (Relación entre la población inmunizada y la población total hasta la fecha en el país)\n",
        "*   Número total de personas totalmente vacunadas por cada cien -float (Relación  entre la población totalmente inmunizada y la población total hasta la fecha en el país )\n",
        "*   Número de vacunaciones por día -float\n",
        "*   Vacunaciones diarias por millón - float (relación entre el número de vacunaciones y la población total para la fecha actual en el país)\n",
        "*   Vacunas utilizadas en el país - string\n"
      ]
    },
    {
      "cell_type": "markdown",
      "metadata": {
        "id": "cQHhDZ9Dbi6I"
      },
      "source": [
        "# **Justificación del uso de datos**"
      ]
    },
    {
      "cell_type": "markdown",
      "metadata": {
        "id": "0GQuORqvbl-0"
      },
      "source": [
        "Los datos se recolectaron desde el database de kaggle \"COVID-19 World Vaccination Progress\", el cual incluye dos archivos CSV \"country_vaccinations_by_manufacturer\" & \"country_vaccinations\"\n",
        "\n",
        "\n",
        "De los cuales despreciaremos el primero, ya que la información que incluye es la cantidad de vacunas usadas de cada laboratorio en los diferentes países, y como veremos en nuestro objetivo esta información será innecesaria.\n",
        "\n",
        "\n",
        "Ahora nos centraremos en la información que proporciona el database \"country_vaccinations\"\n",
        "\n",
        "Algunas de las características que más nos llamaron la atención para trabajar con esta base de datos son, todos los países que se encuentran registrados en ella y cada uno de ellos tiene gran cantidad de información. Cabe destacar lo interesante de como la base desglosa la información del proceso de vacunación en cada país de una manera practica y clara, muestra en cada columna datos muy útiles para llevar un control y nos permite tener una noción de cuanta es la cantidad de inmunización de cada país\n",
        "\n",
        "El database esta organizado de una buena manera, logrando así una facil compresnión de esta, puesto que contiene todos los países por orden alfabético y los datos de cada país están ordenados de manera cronológica, todo esto mencionado anteriormente son los beneficios que nos brinda la base de datos y así nos facilitará los siguiente análisis a realizar para cumplir el objetivo\n",
        "\n",
        "\n",
        "Los datos dentro de esta base nos proporcionan la información útil puesto que, no solo tiene el numero de vacunas aplicadas diariamente, sino cuantas personas tienen por lo menos una dosis y cuales ya están completamente vacunadas y cada dato tiene su índice respecto al nivel de población lo que facilita la comparación entre países, ya que el numero de vacunas aplicadas es relativo a la población.\n",
        "\n",
        "\n",
        "\n",
        "\n",
        "\n",
        "\n",
        "\n",
        "\n",
        "\n",
        "\n",
        "\n",
        "\n",
        "\n",
        "\n",
        "\n",
        "\n",
        "\n",
        "\n",
        "\n",
        "\n",
        "\n",
        "\n",
        " "
      ]
    },
    {
      "cell_type": "markdown",
      "metadata": {
        "id": "BVJtr3HbbpG5"
      },
      "source": [
        "# **Objetivo final**"
      ]
    },
    {
      "cell_type": "markdown",
      "metadata": {
        "id": "avwfz75hb37I"
      },
      "source": [
        "\n",
        "Proporcionar información para reanudar las actividades cotidianas en cada uno de los países, considerado que a mayor porcentaje de población vacunada las restricciones impuestas para frenar propagación de la COVID-19 irán disminuyendo hasta desaparecer.\n",
        "\n",
        "Para este objetivo se asume que el tipo de vacuna utilizada es igualmente efectiva y solo nos interesaremos en los porcentajes de vacunación de la población sin tomar en cuenta el tipo de vacuna.\n",
        "\n",
        "\n",
        "Además de un objetivo secundario, el cual es poder analizar la información actual de cada uno de los paises para asi poder determinar cuales fueron los más eficientes en el manejo de la pandemia a nivel de vacunaciones y cuales los menos, y de esta manera poder clasificarlos según su efectividad.\n"
      ]
    },
    {
      "cell_type": "markdown",
      "metadata": {
        "id": "h5DJWMpFb6Wb"
      },
      "source": [
        "# **Preguntas de interés**"
      ]
    },
    {
      "cell_type": "markdown",
      "metadata": {
        "id": "BtkDca4Ebv_a"
      },
      "source": [
        "\n",
        "\n",
        "*   ¿Cuál es el país que ha vacunado a mayor parte de su población?\n",
        "*   ¿Qué país es el que ha tenido menor número de vacunaciones por día?\n",
        "\n",
        "\n"
      ]
    },
    {
      "cell_type": "markdown",
      "metadata": {
        "id": "W7QzpnU6nEDH"
      },
      "source": [
        "# **Limpieza de datos**\n",
        "\n",
        "**Leer el archivo**\n",
        "\n",
        "El primer paso sera importar las librerias las cuales podremos utilizar para la lectura y limpieza de datos. Despues se mandará llamar el archivo el cual esta en formato excel. Para eliminar los posibles simbolos que no se puedan leer utilizaremos encoding."
      ]
    },
    {
      "cell_type": "code",
      "metadata": {
        "id": "I6xaLQlzO7Y1"
      },
      "source": [
        "import pandas as pd\n",
        "import numpy as np\n",
        "from google.colab import  files\n",
        "files.upload()\n",
        "covid = pd.read_csv(\"country_vaccinations.csv\")\n"
      ],
      "execution_count": null,
      "outputs": []
    },
    {
      "cell_type": "markdown",
      "metadata": {
        "id": "cy6W0hBQu5W_"
      },
      "source": [
        "**Tamaño de la base de datos**\n",
        "\n",
        "Se utiliza la función shape para revisar el tamaño de la base de datos. "
      ]
    },
    {
      "cell_type": "code",
      "metadata": {
        "id": "FjFnY6fQVzU2",
        "colab": {
          "base_uri": "https://localhost:8080/"
        },
        "outputId": "3fba4a98-b1ae-4696-8572-278cba33f62d"
      },
      "source": [
        "covid.shape\n"
      ],
      "execution_count": null,
      "outputs": [
        {
          "output_type": "execute_result",
          "data": {
            "text/plain": [
              "(40204, 15)"
            ]
          },
          "metadata": {},
          "execution_count": 68
        }
      ]
    },
    {
      "cell_type": "markdown",
      "metadata": {
        "id": "EVML0KipxPkW"
      },
      "source": [
        "La base de datos cuenta con 40204 filas y 15 columnas. \n",
        "\n",
        "Con la función head, revisaremos nuestros primeros 10 datos de la base de datos y para revisar los ultimos se utilizara la función tail "
      ]
    },
    {
      "cell_type": "code",
      "metadata": {
        "colab": {
          "base_uri": "https://localhost:8080/",
          "height": 719
        },
        "id": "LzsbGnnhcmcY",
        "outputId": "b8fe1fd4-b1a7-4ac8-c88d-68bed78b3ca9"
      },
      "source": [
        "covid.head(10)"
      ],
      "execution_count": null,
      "outputs": [
        {
          "output_type": "execute_result",
          "data": {
            "text/html": [
              "<div>\n",
              "<style scoped>\n",
              "    .dataframe tbody tr th:only-of-type {\n",
              "        vertical-align: middle;\n",
              "    }\n",
              "\n",
              "    .dataframe tbody tr th {\n",
              "        vertical-align: top;\n",
              "    }\n",
              "\n",
              "    .dataframe thead th {\n",
              "        text-align: right;\n",
              "    }\n",
              "</style>\n",
              "<table border=\"1\" class=\"dataframe\">\n",
              "  <thead>\n",
              "    <tr style=\"text-align: right;\">\n",
              "      <th></th>\n",
              "      <th>country</th>\n",
              "      <th>iso_code</th>\n",
              "      <th>date</th>\n",
              "      <th>total_vaccinations</th>\n",
              "      <th>people_vaccinated</th>\n",
              "      <th>people_fully_vaccinated</th>\n",
              "      <th>daily_vaccinations_raw</th>\n",
              "      <th>daily_vaccinations</th>\n",
              "      <th>total_vaccinations_per_hundred</th>\n",
              "      <th>people_vaccinated_per_hundred</th>\n",
              "      <th>people_fully_vaccinated_per_hundred</th>\n",
              "      <th>daily_vaccinations_per_million</th>\n",
              "      <th>vaccines</th>\n",
              "      <th>source_name</th>\n",
              "      <th>source_website</th>\n",
              "    </tr>\n",
              "  </thead>\n",
              "  <tbody>\n",
              "    <tr>\n",
              "      <th>0</th>\n",
              "      <td>Afghanistan</td>\n",
              "      <td>AFG</td>\n",
              "      <td>2021-02-22</td>\n",
              "      <td>0.0</td>\n",
              "      <td>0.0</td>\n",
              "      <td>NaN</td>\n",
              "      <td>NaN</td>\n",
              "      <td>NaN</td>\n",
              "      <td>0.00</td>\n",
              "      <td>0.00</td>\n",
              "      <td>NaN</td>\n",
              "      <td>NaN</td>\n",
              "      <td>Johnson&amp;Johnson, Oxford/AstraZeneca, Pfizer/Bi...</td>\n",
              "      <td>World Health Organization</td>\n",
              "      <td>https://covid19.who.int/</td>\n",
              "    </tr>\n",
              "    <tr>\n",
              "      <th>1</th>\n",
              "      <td>Afghanistan</td>\n",
              "      <td>AFG</td>\n",
              "      <td>2021-02-23</td>\n",
              "      <td>NaN</td>\n",
              "      <td>NaN</td>\n",
              "      <td>NaN</td>\n",
              "      <td>NaN</td>\n",
              "      <td>1367.0</td>\n",
              "      <td>NaN</td>\n",
              "      <td>NaN</td>\n",
              "      <td>NaN</td>\n",
              "      <td>34.0</td>\n",
              "      <td>Johnson&amp;Johnson, Oxford/AstraZeneca, Pfizer/Bi...</td>\n",
              "      <td>World Health Organization</td>\n",
              "      <td>https://covid19.who.int/</td>\n",
              "    </tr>\n",
              "    <tr>\n",
              "      <th>2</th>\n",
              "      <td>Afghanistan</td>\n",
              "      <td>AFG</td>\n",
              "      <td>2021-02-24</td>\n",
              "      <td>NaN</td>\n",
              "      <td>NaN</td>\n",
              "      <td>NaN</td>\n",
              "      <td>NaN</td>\n",
              "      <td>1367.0</td>\n",
              "      <td>NaN</td>\n",
              "      <td>NaN</td>\n",
              "      <td>NaN</td>\n",
              "      <td>34.0</td>\n",
              "      <td>Johnson&amp;Johnson, Oxford/AstraZeneca, Pfizer/Bi...</td>\n",
              "      <td>World Health Organization</td>\n",
              "      <td>https://covid19.who.int/</td>\n",
              "    </tr>\n",
              "    <tr>\n",
              "      <th>3</th>\n",
              "      <td>Afghanistan</td>\n",
              "      <td>AFG</td>\n",
              "      <td>2021-02-25</td>\n",
              "      <td>NaN</td>\n",
              "      <td>NaN</td>\n",
              "      <td>NaN</td>\n",
              "      <td>NaN</td>\n",
              "      <td>1367.0</td>\n",
              "      <td>NaN</td>\n",
              "      <td>NaN</td>\n",
              "      <td>NaN</td>\n",
              "      <td>34.0</td>\n",
              "      <td>Johnson&amp;Johnson, Oxford/AstraZeneca, Pfizer/Bi...</td>\n",
              "      <td>World Health Organization</td>\n",
              "      <td>https://covid19.who.int/</td>\n",
              "    </tr>\n",
              "    <tr>\n",
              "      <th>4</th>\n",
              "      <td>Afghanistan</td>\n",
              "      <td>AFG</td>\n",
              "      <td>2021-02-26</td>\n",
              "      <td>NaN</td>\n",
              "      <td>NaN</td>\n",
              "      <td>NaN</td>\n",
              "      <td>NaN</td>\n",
              "      <td>1367.0</td>\n",
              "      <td>NaN</td>\n",
              "      <td>NaN</td>\n",
              "      <td>NaN</td>\n",
              "      <td>34.0</td>\n",
              "      <td>Johnson&amp;Johnson, Oxford/AstraZeneca, Pfizer/Bi...</td>\n",
              "      <td>World Health Organization</td>\n",
              "      <td>https://covid19.who.int/</td>\n",
              "    </tr>\n",
              "    <tr>\n",
              "      <th>5</th>\n",
              "      <td>Afghanistan</td>\n",
              "      <td>AFG</td>\n",
              "      <td>2021-02-27</td>\n",
              "      <td>NaN</td>\n",
              "      <td>NaN</td>\n",
              "      <td>NaN</td>\n",
              "      <td>NaN</td>\n",
              "      <td>1367.0</td>\n",
              "      <td>NaN</td>\n",
              "      <td>NaN</td>\n",
              "      <td>NaN</td>\n",
              "      <td>34.0</td>\n",
              "      <td>Johnson&amp;Johnson, Oxford/AstraZeneca, Pfizer/Bi...</td>\n",
              "      <td>World Health Organization</td>\n",
              "      <td>https://covid19.who.int/</td>\n",
              "    </tr>\n",
              "    <tr>\n",
              "      <th>6</th>\n",
              "      <td>Afghanistan</td>\n",
              "      <td>AFG</td>\n",
              "      <td>2021-02-28</td>\n",
              "      <td>8200.0</td>\n",
              "      <td>8200.0</td>\n",
              "      <td>NaN</td>\n",
              "      <td>NaN</td>\n",
              "      <td>1367.0</td>\n",
              "      <td>0.02</td>\n",
              "      <td>0.02</td>\n",
              "      <td>NaN</td>\n",
              "      <td>34.0</td>\n",
              "      <td>Johnson&amp;Johnson, Oxford/AstraZeneca, Pfizer/Bi...</td>\n",
              "      <td>World Health Organization</td>\n",
              "      <td>https://covid19.who.int/</td>\n",
              "    </tr>\n",
              "    <tr>\n",
              "      <th>7</th>\n",
              "      <td>Afghanistan</td>\n",
              "      <td>AFG</td>\n",
              "      <td>2021-03-01</td>\n",
              "      <td>NaN</td>\n",
              "      <td>NaN</td>\n",
              "      <td>NaN</td>\n",
              "      <td>NaN</td>\n",
              "      <td>1580.0</td>\n",
              "      <td>NaN</td>\n",
              "      <td>NaN</td>\n",
              "      <td>NaN</td>\n",
              "      <td>40.0</td>\n",
              "      <td>Johnson&amp;Johnson, Oxford/AstraZeneca, Pfizer/Bi...</td>\n",
              "      <td>World Health Organization</td>\n",
              "      <td>https://covid19.who.int/</td>\n",
              "    </tr>\n",
              "    <tr>\n",
              "      <th>8</th>\n",
              "      <td>Afghanistan</td>\n",
              "      <td>AFG</td>\n",
              "      <td>2021-03-02</td>\n",
              "      <td>NaN</td>\n",
              "      <td>NaN</td>\n",
              "      <td>NaN</td>\n",
              "      <td>NaN</td>\n",
              "      <td>1794.0</td>\n",
              "      <td>NaN</td>\n",
              "      <td>NaN</td>\n",
              "      <td>NaN</td>\n",
              "      <td>45.0</td>\n",
              "      <td>Johnson&amp;Johnson, Oxford/AstraZeneca, Pfizer/Bi...</td>\n",
              "      <td>World Health Organization</td>\n",
              "      <td>https://covid19.who.int/</td>\n",
              "    </tr>\n",
              "    <tr>\n",
              "      <th>9</th>\n",
              "      <td>Afghanistan</td>\n",
              "      <td>AFG</td>\n",
              "      <td>2021-03-03</td>\n",
              "      <td>NaN</td>\n",
              "      <td>NaN</td>\n",
              "      <td>NaN</td>\n",
              "      <td>NaN</td>\n",
              "      <td>2008.0</td>\n",
              "      <td>NaN</td>\n",
              "      <td>NaN</td>\n",
              "      <td>NaN</td>\n",
              "      <td>50.0</td>\n",
              "      <td>Johnson&amp;Johnson, Oxford/AstraZeneca, Pfizer/Bi...</td>\n",
              "      <td>World Health Organization</td>\n",
              "      <td>https://covid19.who.int/</td>\n",
              "    </tr>\n",
              "  </tbody>\n",
              "</table>\n",
              "</div>"
            ],
            "text/plain": [
              "       country iso_code  ...                source_name            source_website\n",
              "0  Afghanistan      AFG  ...  World Health Organization  https://covid19.who.int/\n",
              "1  Afghanistan      AFG  ...  World Health Organization  https://covid19.who.int/\n",
              "2  Afghanistan      AFG  ...  World Health Organization  https://covid19.who.int/\n",
              "3  Afghanistan      AFG  ...  World Health Organization  https://covid19.who.int/\n",
              "4  Afghanistan      AFG  ...  World Health Organization  https://covid19.who.int/\n",
              "5  Afghanistan      AFG  ...  World Health Organization  https://covid19.who.int/\n",
              "6  Afghanistan      AFG  ...  World Health Organization  https://covid19.who.int/\n",
              "7  Afghanistan      AFG  ...  World Health Organization  https://covid19.who.int/\n",
              "8  Afghanistan      AFG  ...  World Health Organization  https://covid19.who.int/\n",
              "9  Afghanistan      AFG  ...  World Health Organization  https://covid19.who.int/\n",
              "\n",
              "[10 rows x 15 columns]"
            ]
          },
          "metadata": {},
          "execution_count": 25
        }
      ]
    },
    {
      "cell_type": "code",
      "metadata": {
        "id": "yLvSU5NocnfD"
      },
      "source": [
        "covid.tail(10)"
      ],
      "execution_count": null,
      "outputs": []
    },
    {
      "cell_type": "markdown",
      "metadata": {
        "id": "WtN6S8N0yON5"
      },
      "source": [
        "**Manejo de columnas**\n",
        "\n",
        "Para mejor visualización de las columnas, se decidió eliminar las columnas con información no relevante para nuestro objetivo. Para tomar esta decisión primero se mostrara el nombre de las  columnas existentes y después el tipo de dato que contienen respectivamente \n"
      ]
    },
    {
      "cell_type": "code",
      "metadata": {
        "colab": {
          "base_uri": "https://localhost:8080/"
        },
        "id": "NJFSe-AiceKL",
        "outputId": "ebd780b9-917a-434c-ccbf-c043295741bd"
      },
      "source": [
        "covid.columns\n",
        "\n"
      ],
      "execution_count": null,
      "outputs": [
        {
          "output_type": "execute_result",
          "data": {
            "text/plain": [
              "Index(['country', 'iso_code', 'date', 'total_vaccinations',\n",
              "       'people_vaccinated', 'people_fully_vaccinated',\n",
              "       'daily_vaccinations_raw', 'daily_vaccinations',\n",
              "       'total_vaccinations_per_hundred', 'people_vaccinated_per_hundred',\n",
              "       'people_fully_vaccinated_per_hundred', 'daily_vaccinations_per_million',\n",
              "       'vaccines', 'source_name', 'source_website'],\n",
              "      dtype='object')"
            ]
          },
          "metadata": {},
          "execution_count": 46
        }
      ]
    },
    {
      "cell_type": "code",
      "metadata": {
        "colab": {
          "base_uri": "https://localhost:8080/"
        },
        "id": "sk1iVgUIyrFK",
        "outputId": "9b4af896-02cc-4057-a376-1ee2d3e84ce3"
      },
      "source": [
        "covid.dtypes"
      ],
      "execution_count": null,
      "outputs": [
        {
          "output_type": "execute_result",
          "data": {
            "text/plain": [
              "country                                 object\n",
              "iso_code                                object\n",
              "date                                    object\n",
              "total_vaccinations                     float64\n",
              "people_vaccinated                      float64\n",
              "people_fully_vaccinated                float64\n",
              "daily_vaccinations_raw                 float64\n",
              "daily_vaccinations                     float64\n",
              "total_vaccinations_per_hundred         float64\n",
              "people_vaccinated_per_hundred          float64\n",
              "people_fully_vaccinated_per_hundred    float64\n",
              "daily_vaccinations_per_million         float64\n",
              "vaccines                                object\n",
              "source_name                             object\n",
              "source_website                          object\n",
              "dtype: object"
            ]
          },
          "metadata": {},
          "execution_count": 45
        }
      ]
    },
    {
      "cell_type": "markdown",
      "metadata": {
        "id": "kYkNZ7Qx2uw2"
      },
      "source": [
        "En este apartado podemos ver las columnas que no nos serán útiles para nuestro objetivo, por lo tanto serán eliminadas \n",
        "\n",
        "\n",
        "Las 4 columnas las consideramos innecesarias para nuestro objetivo ya que:\n",
        "\n",
        "\n",
        "*   iso_code Es la abreviación del país, teniendo el nombre del país este dato \n",
        "es redundante\n",
        "*\n",
        "vaccines Es el tipo de vacuna utilizada , como solo nos interesa la cantidad de personas vacunadas sin importar el tipo este dato es innecesario\n",
        "*source_name y source_website Es el nombre y la pagina de la fuente de los datos, esta información útil para saber que los datos son confiables pero no para la minería de datos\n",
        "\n",
        "\n"
      ]
    },
    {
      "cell_type": "code",
      "metadata": {
        "id": "V0zNLL-amYeq",
        "colab": {
          "base_uri": "https://localhost:8080/",
          "height": 591
        },
        "outputId": "ead522f3-dfae-4292-878c-b08e21b0351b"
      },
      "source": [
        "covid1=covid.drop(['iso_code','source_name','source_website','vaccines'],axis=1)\n",
        "covid1"
      ],
      "execution_count": null,
      "outputs": [
        {
          "output_type": "execute_result",
          "data": {
            "text/html": [
              "<div>\n",
              "<style scoped>\n",
              "    .dataframe tbody tr th:only-of-type {\n",
              "        vertical-align: middle;\n",
              "    }\n",
              "\n",
              "    .dataframe tbody tr th {\n",
              "        vertical-align: top;\n",
              "    }\n",
              "\n",
              "    .dataframe thead th {\n",
              "        text-align: right;\n",
              "    }\n",
              "</style>\n",
              "<table border=\"1\" class=\"dataframe\">\n",
              "  <thead>\n",
              "    <tr style=\"text-align: right;\">\n",
              "      <th></th>\n",
              "      <th>country</th>\n",
              "      <th>date</th>\n",
              "      <th>total_vaccinations</th>\n",
              "      <th>people_vaccinated</th>\n",
              "      <th>people_fully_vaccinated</th>\n",
              "      <th>daily_vaccinations_raw</th>\n",
              "      <th>daily_vaccinations</th>\n",
              "      <th>total_vaccinations_per_hundred</th>\n",
              "      <th>people_vaccinated_per_hundred</th>\n",
              "      <th>people_fully_vaccinated_per_hundred</th>\n",
              "      <th>daily_vaccinations_per_million</th>\n",
              "    </tr>\n",
              "  </thead>\n",
              "  <tbody>\n",
              "    <tr>\n",
              "      <th>0</th>\n",
              "      <td>Afghanistan</td>\n",
              "      <td>2021-02-22</td>\n",
              "      <td>0.0</td>\n",
              "      <td>0.0</td>\n",
              "      <td>NaN</td>\n",
              "      <td>NaN</td>\n",
              "      <td>NaN</td>\n",
              "      <td>0.00</td>\n",
              "      <td>0.00</td>\n",
              "      <td>NaN</td>\n",
              "      <td>NaN</td>\n",
              "    </tr>\n",
              "    <tr>\n",
              "      <th>1</th>\n",
              "      <td>Afghanistan</td>\n",
              "      <td>2021-02-23</td>\n",
              "      <td>NaN</td>\n",
              "      <td>NaN</td>\n",
              "      <td>NaN</td>\n",
              "      <td>NaN</td>\n",
              "      <td>1367.0</td>\n",
              "      <td>NaN</td>\n",
              "      <td>NaN</td>\n",
              "      <td>NaN</td>\n",
              "      <td>34.0</td>\n",
              "    </tr>\n",
              "    <tr>\n",
              "      <th>2</th>\n",
              "      <td>Afghanistan</td>\n",
              "      <td>2021-02-24</td>\n",
              "      <td>NaN</td>\n",
              "      <td>NaN</td>\n",
              "      <td>NaN</td>\n",
              "      <td>NaN</td>\n",
              "      <td>1367.0</td>\n",
              "      <td>NaN</td>\n",
              "      <td>NaN</td>\n",
              "      <td>NaN</td>\n",
              "      <td>34.0</td>\n",
              "    </tr>\n",
              "    <tr>\n",
              "      <th>3</th>\n",
              "      <td>Afghanistan</td>\n",
              "      <td>2021-02-25</td>\n",
              "      <td>NaN</td>\n",
              "      <td>NaN</td>\n",
              "      <td>NaN</td>\n",
              "      <td>NaN</td>\n",
              "      <td>1367.0</td>\n",
              "      <td>NaN</td>\n",
              "      <td>NaN</td>\n",
              "      <td>NaN</td>\n",
              "      <td>34.0</td>\n",
              "    </tr>\n",
              "    <tr>\n",
              "      <th>4</th>\n",
              "      <td>Afghanistan</td>\n",
              "      <td>2021-02-26</td>\n",
              "      <td>NaN</td>\n",
              "      <td>NaN</td>\n",
              "      <td>NaN</td>\n",
              "      <td>NaN</td>\n",
              "      <td>1367.0</td>\n",
              "      <td>NaN</td>\n",
              "      <td>NaN</td>\n",
              "      <td>NaN</td>\n",
              "      <td>34.0</td>\n",
              "    </tr>\n",
              "    <tr>\n",
              "      <th>...</th>\n",
              "      <td>...</td>\n",
              "      <td>...</td>\n",
              "      <td>...</td>\n",
              "      <td>...</td>\n",
              "      <td>...</td>\n",
              "      <td>...</td>\n",
              "      <td>...</td>\n",
              "      <td>...</td>\n",
              "      <td>...</td>\n",
              "      <td>...</td>\n",
              "      <td>...</td>\n",
              "    </tr>\n",
              "    <tr>\n",
              "      <th>40199</th>\n",
              "      <td>Zimbabwe</td>\n",
              "      <td>2021-08-21</td>\n",
              "      <td>3753242.0</td>\n",
              "      <td>2301341.0</td>\n",
              "      <td>1451901.0</td>\n",
              "      <td>53734.0</td>\n",
              "      <td>74048.0</td>\n",
              "      <td>24.87</td>\n",
              "      <td>15.25</td>\n",
              "      <td>9.62</td>\n",
              "      <td>4906.0</td>\n",
              "    </tr>\n",
              "    <tr>\n",
              "      <th>40200</th>\n",
              "      <td>Zimbabwe</td>\n",
              "      <td>2021-08-22</td>\n",
              "      <td>3773199.0</td>\n",
              "      <td>2312117.0</td>\n",
              "      <td>1461082.0</td>\n",
              "      <td>19957.0</td>\n",
              "      <td>69134.0</td>\n",
              "      <td>25.00</td>\n",
              "      <td>15.32</td>\n",
              "      <td>9.68</td>\n",
              "      <td>4581.0</td>\n",
              "    </tr>\n",
              "    <tr>\n",
              "      <th>40201</th>\n",
              "      <td>Zimbabwe</td>\n",
              "      <td>2021-08-23</td>\n",
              "      <td>3829011.0</td>\n",
              "      <td>2345043.0</td>\n",
              "      <td>1483968.0</td>\n",
              "      <td>55812.0</td>\n",
              "      <td>69004.0</td>\n",
              "      <td>25.37</td>\n",
              "      <td>15.54</td>\n",
              "      <td>9.83</td>\n",
              "      <td>4572.0</td>\n",
              "    </tr>\n",
              "    <tr>\n",
              "      <th>40202</th>\n",
              "      <td>Zimbabwe</td>\n",
              "      <td>2021-08-24</td>\n",
              "      <td>3889424.0</td>\n",
              "      <td>2382059.0</td>\n",
              "      <td>1507365.0</td>\n",
              "      <td>60413.0</td>\n",
              "      <td>62638.0</td>\n",
              "      <td>25.77</td>\n",
              "      <td>15.78</td>\n",
              "      <td>9.99</td>\n",
              "      <td>4150.0</td>\n",
              "    </tr>\n",
              "    <tr>\n",
              "      <th>40203</th>\n",
              "      <td>Zimbabwe</td>\n",
              "      <td>2021-08-25</td>\n",
              "      <td>4015517.0</td>\n",
              "      <td>2453229.0</td>\n",
              "      <td>1562288.0</td>\n",
              "      <td>126093.0</td>\n",
              "      <td>67597.0</td>\n",
              "      <td>26.61</td>\n",
              "      <td>16.25</td>\n",
              "      <td>10.35</td>\n",
              "      <td>4479.0</td>\n",
              "    </tr>\n",
              "  </tbody>\n",
              "</table>\n",
              "<p>40204 rows × 11 columns</p>\n",
              "</div>"
            ],
            "text/plain": [
              "           country  ... daily_vaccinations_per_million\n",
              "0      Afghanistan  ...                            NaN\n",
              "1      Afghanistan  ...                           34.0\n",
              "2      Afghanistan  ...                           34.0\n",
              "3      Afghanistan  ...                           34.0\n",
              "4      Afghanistan  ...                           34.0\n",
              "...            ...  ...                            ...\n",
              "40199     Zimbabwe  ...                         4906.0\n",
              "40200     Zimbabwe  ...                         4581.0\n",
              "40201     Zimbabwe  ...                         4572.0\n",
              "40202     Zimbabwe  ...                         4150.0\n",
              "40203     Zimbabwe  ...                         4479.0\n",
              "\n",
              "[40204 rows x 11 columns]"
            ]
          },
          "metadata": {},
          "execution_count": 73
        }
      ]
    },
    {
      "cell_type": "markdown",
      "metadata": {
        "id": "cFEZZWeK7-bq"
      },
      "source": [
        "En el siguiente apartado se identificarán los espacios nulos y se sustituirán por cero, para represetar que ese día no hubo datos de vacunación."
      ]
    },
    {
      "cell_type": "code",
      "metadata": {
        "colab": {
          "base_uri": "https://localhost:8080/"
        },
        "id": "p1NQUdN-zZXi",
        "outputId": "888a0e44-161f-4250-9f06-529848bf9f95"
      },
      "source": [
        "covid1.isnull().any()"
      ],
      "execution_count": null,
      "outputs": [
        {
          "output_type": "execute_result",
          "data": {
            "text/plain": [
              "Pais                                                           False\n",
              "Fecha                                                          False\n",
              "Numero total de vacunas                                         True\n",
              "Numero total de personas vacunadas                              True\n",
              "Numero total de personas totalmente vacunadas                   True\n",
              "Vacunaciones diarias (en bruto)                                 True\n",
              "Vacunaciones diarias                                            True\n",
              "Vacunaciones totales por cien                                   True\n",
              "Numero total de personas vacunadas por cada cien                True\n",
              "Numero total de personas totalmente vacunadas por cada cien     True\n",
              "Vacunaciones diarias por millon                                 True\n",
              "dtype: bool"
            ]
          },
          "metadata": {},
          "execution_count": 77
        }
      ]
    },
    {
      "cell_type": "code",
      "metadata": {
        "id": "BIMgPClP0eZA",
        "colab": {
          "base_uri": "https://localhost:8080/"
        },
        "outputId": "3e9c6a71-9aeb-4b84-bb43-1ce8982fd783"
      },
      "source": [
        "covid1.fillna(0, inplace=True)\n",
        "\n",
        "covid1.isnull().any()"
      ],
      "execution_count": null,
      "outputs": [
        {
          "output_type": "execute_result",
          "data": {
            "text/plain": [
              "Pais                                                           False\n",
              "Fecha                                                          False\n",
              "Numero total de vacunas                                        False\n",
              "Numero total de personas vacunadas                             False\n",
              "Numero total de personas totalmente vacunadas                  False\n",
              "Vacunaciones diarias (en bruto)                                False\n",
              "Vacunaciones diarias                                           False\n",
              "Vacunaciones totales por cien                                  False\n",
              "Numero total de personas vacunadas por cada cien               False\n",
              "Numero total de personas totalmente vacunadas por cada cien    False\n",
              "Vacunaciones diarias por millon                                False\n",
              "dtype: bool"
            ]
          },
          "metadata": {},
          "execution_count": 78
        }
      ]
    },
    {
      "cell_type": "markdown",
      "metadata": {
        "id": "1hMD1phD7zHG"
      },
      "source": [
        "A continuación se cambiará el nombre de las columnas, para que sea más fácil identificarlas "
      ]
    },
    {
      "cell_type": "code",
      "metadata": {
        "id": "kGTsBcKH2cVo",
        "colab": {
          "base_uri": "https://localhost:8080/",
          "height": 603
        },
        "outputId": "d5f89f4e-4289-4687-98b8-a3956da40276"
      },
      "source": [
        "covid1.rename(columns={'country':'Pais'}, inplace = True)\n",
        "covid1.rename(columns={'date':'Fecha'},inplace = True)\n",
        "covid1.rename(columns={'total_vaccinations':'Numero total de vacunas'},inplace = True)\n",
        "covid1.rename(columns={'people_vaccinated':'Numero total de personas vacunadas'},inplace = True)\n",
        "covid1.rename(columns={'people_fully_vaccinated':'Numero total de personas totalmente vacunadas'},inplace = True)\n",
        "covid1.rename(columns={'daily_vaccinations_raw':'Vacunaciones diarias (en bruto)'},inplace = True)\n",
        "covid1.rename(columns={'daily_vaccinations':'Vacunaciones diarias'},inplace = True)\n",
        "covid1.rename(columns={'total_vaccinations_per_hundred':'Vacunaciones totales por cien'},inplace = True)\n",
        "covid1.rename(columns={'people_vaccinated_per_hundred':'Numero total de personas vacunadas por cada cien'},inplace = True)\n",
        "covid1.rename(columns={'people_fully_vaccinated_per_hundred':'Numero total de personas totalmente vacunadas por cada cien'},inplace = True)\n",
        "covid1.rename(columns={'daily_vaccinations_per_million':'Vacunaciones diarias por millon'},inplace = True)\n",
        "covid1\n"
      ],
      "execution_count": null,
      "outputs": [
        {
          "output_type": "execute_result",
          "data": {
            "text/html": [
              "<div>\n",
              "<style scoped>\n",
              "    .dataframe tbody tr th:only-of-type {\n",
              "        vertical-align: middle;\n",
              "    }\n",
              "\n",
              "    .dataframe tbody tr th {\n",
              "        vertical-align: top;\n",
              "    }\n",
              "\n",
              "    .dataframe thead th {\n",
              "        text-align: right;\n",
              "    }\n",
              "</style>\n",
              "<table border=\"1\" class=\"dataframe\">\n",
              "  <thead>\n",
              "    <tr style=\"text-align: right;\">\n",
              "      <th></th>\n",
              "      <th>Pais</th>\n",
              "      <th>Fecha</th>\n",
              "      <th>Numero total de vacunas</th>\n",
              "      <th>Numero total de personas vacunadas</th>\n",
              "      <th>Numero total de personas totalmente vacunadas</th>\n",
              "      <th>Vacunaciones diarias (en bruto)</th>\n",
              "      <th>Vacunaciones diarias</th>\n",
              "      <th>Vacunaciones totales por cien</th>\n",
              "      <th>Numero total de personas vacunadas por cada cien</th>\n",
              "      <th>Numero total de personas totalmente vacunadas por cada cien</th>\n",
              "      <th>Vacunaciones diarias por millon</th>\n",
              "    </tr>\n",
              "  </thead>\n",
              "  <tbody>\n",
              "    <tr>\n",
              "      <th>0</th>\n",
              "      <td>Afghanistan</td>\n",
              "      <td>2021-02-22</td>\n",
              "      <td>0.0</td>\n",
              "      <td>0.0</td>\n",
              "      <td>0.0</td>\n",
              "      <td>0.0</td>\n",
              "      <td>0.0</td>\n",
              "      <td>0.00</td>\n",
              "      <td>0.00</td>\n",
              "      <td>0.00</td>\n",
              "      <td>0.0</td>\n",
              "    </tr>\n",
              "    <tr>\n",
              "      <th>1</th>\n",
              "      <td>Afghanistan</td>\n",
              "      <td>2021-02-23</td>\n",
              "      <td>0.0</td>\n",
              "      <td>0.0</td>\n",
              "      <td>0.0</td>\n",
              "      <td>0.0</td>\n",
              "      <td>1367.0</td>\n",
              "      <td>0.00</td>\n",
              "      <td>0.00</td>\n",
              "      <td>0.00</td>\n",
              "      <td>34.0</td>\n",
              "    </tr>\n",
              "    <tr>\n",
              "      <th>2</th>\n",
              "      <td>Afghanistan</td>\n",
              "      <td>2021-02-24</td>\n",
              "      <td>0.0</td>\n",
              "      <td>0.0</td>\n",
              "      <td>0.0</td>\n",
              "      <td>0.0</td>\n",
              "      <td>1367.0</td>\n",
              "      <td>0.00</td>\n",
              "      <td>0.00</td>\n",
              "      <td>0.00</td>\n",
              "      <td>34.0</td>\n",
              "    </tr>\n",
              "    <tr>\n",
              "      <th>3</th>\n",
              "      <td>Afghanistan</td>\n",
              "      <td>2021-02-25</td>\n",
              "      <td>0.0</td>\n",
              "      <td>0.0</td>\n",
              "      <td>0.0</td>\n",
              "      <td>0.0</td>\n",
              "      <td>1367.0</td>\n",
              "      <td>0.00</td>\n",
              "      <td>0.00</td>\n",
              "      <td>0.00</td>\n",
              "      <td>34.0</td>\n",
              "    </tr>\n",
              "    <tr>\n",
              "      <th>4</th>\n",
              "      <td>Afghanistan</td>\n",
              "      <td>2021-02-26</td>\n",
              "      <td>0.0</td>\n",
              "      <td>0.0</td>\n",
              "      <td>0.0</td>\n",
              "      <td>0.0</td>\n",
              "      <td>1367.0</td>\n",
              "      <td>0.00</td>\n",
              "      <td>0.00</td>\n",
              "      <td>0.00</td>\n",
              "      <td>34.0</td>\n",
              "    </tr>\n",
              "    <tr>\n",
              "      <th>...</th>\n",
              "      <td>...</td>\n",
              "      <td>...</td>\n",
              "      <td>...</td>\n",
              "      <td>...</td>\n",
              "      <td>...</td>\n",
              "      <td>...</td>\n",
              "      <td>...</td>\n",
              "      <td>...</td>\n",
              "      <td>...</td>\n",
              "      <td>...</td>\n",
              "      <td>...</td>\n",
              "    </tr>\n",
              "    <tr>\n",
              "      <th>40199</th>\n",
              "      <td>Zimbabwe</td>\n",
              "      <td>2021-08-21</td>\n",
              "      <td>3753242.0</td>\n",
              "      <td>2301341.0</td>\n",
              "      <td>1451901.0</td>\n",
              "      <td>53734.0</td>\n",
              "      <td>74048.0</td>\n",
              "      <td>24.87</td>\n",
              "      <td>15.25</td>\n",
              "      <td>9.62</td>\n",
              "      <td>4906.0</td>\n",
              "    </tr>\n",
              "    <tr>\n",
              "      <th>40200</th>\n",
              "      <td>Zimbabwe</td>\n",
              "      <td>2021-08-22</td>\n",
              "      <td>3773199.0</td>\n",
              "      <td>2312117.0</td>\n",
              "      <td>1461082.0</td>\n",
              "      <td>19957.0</td>\n",
              "      <td>69134.0</td>\n",
              "      <td>25.00</td>\n",
              "      <td>15.32</td>\n",
              "      <td>9.68</td>\n",
              "      <td>4581.0</td>\n",
              "    </tr>\n",
              "    <tr>\n",
              "      <th>40201</th>\n",
              "      <td>Zimbabwe</td>\n",
              "      <td>2021-08-23</td>\n",
              "      <td>3829011.0</td>\n",
              "      <td>2345043.0</td>\n",
              "      <td>1483968.0</td>\n",
              "      <td>55812.0</td>\n",
              "      <td>69004.0</td>\n",
              "      <td>25.37</td>\n",
              "      <td>15.54</td>\n",
              "      <td>9.83</td>\n",
              "      <td>4572.0</td>\n",
              "    </tr>\n",
              "    <tr>\n",
              "      <th>40202</th>\n",
              "      <td>Zimbabwe</td>\n",
              "      <td>2021-08-24</td>\n",
              "      <td>3889424.0</td>\n",
              "      <td>2382059.0</td>\n",
              "      <td>1507365.0</td>\n",
              "      <td>60413.0</td>\n",
              "      <td>62638.0</td>\n",
              "      <td>25.77</td>\n",
              "      <td>15.78</td>\n",
              "      <td>9.99</td>\n",
              "      <td>4150.0</td>\n",
              "    </tr>\n",
              "    <tr>\n",
              "      <th>40203</th>\n",
              "      <td>Zimbabwe</td>\n",
              "      <td>2021-08-25</td>\n",
              "      <td>4015517.0</td>\n",
              "      <td>2453229.0</td>\n",
              "      <td>1562288.0</td>\n",
              "      <td>126093.0</td>\n",
              "      <td>67597.0</td>\n",
              "      <td>26.61</td>\n",
              "      <td>16.25</td>\n",
              "      <td>10.35</td>\n",
              "      <td>4479.0</td>\n",
              "    </tr>\n",
              "  </tbody>\n",
              "</table>\n",
              "<p>40204 rows × 11 columns</p>\n",
              "</div>"
            ],
            "text/plain": [
              "              Pais  ... Vacunaciones diarias por millon\n",
              "0      Afghanistan  ...                             0.0\n",
              "1      Afghanistan  ...                            34.0\n",
              "2      Afghanistan  ...                            34.0\n",
              "3      Afghanistan  ...                            34.0\n",
              "4      Afghanistan  ...                            34.0\n",
              "...            ...  ...                             ...\n",
              "40199     Zimbabwe  ...                          4906.0\n",
              "40200     Zimbabwe  ...                          4581.0\n",
              "40201     Zimbabwe  ...                          4572.0\n",
              "40202     Zimbabwe  ...                          4150.0\n",
              "40203     Zimbabwe  ...                          4479.0\n",
              "\n",
              "[40204 rows x 11 columns]"
            ]
          },
          "metadata": {},
          "execution_count": 79
        }
      ]
    },
    {
      "cell_type": "markdown",
      "metadata": {
        "id": "G4Sxzvbvlh9M"
      },
      "source": [
        "\n",
        "Reordenamos las columnas de orden según consideramos mas útil\n"
      ]
    },
    {
      "cell_type": "code",
      "metadata": {
        "id": "RPzHiRex9SrP",
        "colab": {
          "base_uri": "https://localhost:8080/",
          "height": 603
        },
        "outputId": "deeac362-97e0-494b-898a-a98c929f52d1"
      },
      "source": [
        "covid2=covid1.reindex(columns=['Pais','Fecha','Vacunaciones diarias (en bruto)','Vacunaciones diarias','Numero total de vacunas','Vacunaciones totales por cien','Numero total de personas vacunadas','Numero total de personas vacunadas por cada cien','Numero total de personas totalmente vacunadas','Numero total de personas totalmente vacunadas por cada cien','Vacunaciones diarias por millon'])\n",
        "covid2"
      ],
      "execution_count": null,
      "outputs": [
        {
          "output_type": "execute_result",
          "data": {
            "text/html": [
              "<div>\n",
              "<style scoped>\n",
              "    .dataframe tbody tr th:only-of-type {\n",
              "        vertical-align: middle;\n",
              "    }\n",
              "\n",
              "    .dataframe tbody tr th {\n",
              "        vertical-align: top;\n",
              "    }\n",
              "\n",
              "    .dataframe thead th {\n",
              "        text-align: right;\n",
              "    }\n",
              "</style>\n",
              "<table border=\"1\" class=\"dataframe\">\n",
              "  <thead>\n",
              "    <tr style=\"text-align: right;\">\n",
              "      <th></th>\n",
              "      <th>Pais</th>\n",
              "      <th>Fecha</th>\n",
              "      <th>Vacunaciones diarias (en bruto)</th>\n",
              "      <th>Vacunaciones diarias</th>\n",
              "      <th>Numero total de vacunas</th>\n",
              "      <th>Vacunaciones totales por cien</th>\n",
              "      <th>Numero total de personas vacunadas</th>\n",
              "      <th>Numero total de personas vacunadas por cada cien</th>\n",
              "      <th>Numero total de personas totalmente vacunadas</th>\n",
              "      <th>Numero total de personas totalmente vacunadas por cada cien</th>\n",
              "      <th>Vacunaciones diarias por millon</th>\n",
              "    </tr>\n",
              "  </thead>\n",
              "  <tbody>\n",
              "    <tr>\n",
              "      <th>0</th>\n",
              "      <td>Afghanistan</td>\n",
              "      <td>2021-02-22</td>\n",
              "      <td>0.0</td>\n",
              "      <td>0.0</td>\n",
              "      <td>0.0</td>\n",
              "      <td>0.00</td>\n",
              "      <td>0.0</td>\n",
              "      <td>0.00</td>\n",
              "      <td>0.0</td>\n",
              "      <td>0.00</td>\n",
              "      <td>0.0</td>\n",
              "    </tr>\n",
              "    <tr>\n",
              "      <th>1</th>\n",
              "      <td>Afghanistan</td>\n",
              "      <td>2021-02-23</td>\n",
              "      <td>0.0</td>\n",
              "      <td>1367.0</td>\n",
              "      <td>0.0</td>\n",
              "      <td>0.00</td>\n",
              "      <td>0.0</td>\n",
              "      <td>0.00</td>\n",
              "      <td>0.0</td>\n",
              "      <td>0.00</td>\n",
              "      <td>34.0</td>\n",
              "    </tr>\n",
              "    <tr>\n",
              "      <th>2</th>\n",
              "      <td>Afghanistan</td>\n",
              "      <td>2021-02-24</td>\n",
              "      <td>0.0</td>\n",
              "      <td>1367.0</td>\n",
              "      <td>0.0</td>\n",
              "      <td>0.00</td>\n",
              "      <td>0.0</td>\n",
              "      <td>0.00</td>\n",
              "      <td>0.0</td>\n",
              "      <td>0.00</td>\n",
              "      <td>34.0</td>\n",
              "    </tr>\n",
              "    <tr>\n",
              "      <th>3</th>\n",
              "      <td>Afghanistan</td>\n",
              "      <td>2021-02-25</td>\n",
              "      <td>0.0</td>\n",
              "      <td>1367.0</td>\n",
              "      <td>0.0</td>\n",
              "      <td>0.00</td>\n",
              "      <td>0.0</td>\n",
              "      <td>0.00</td>\n",
              "      <td>0.0</td>\n",
              "      <td>0.00</td>\n",
              "      <td>34.0</td>\n",
              "    </tr>\n",
              "    <tr>\n",
              "      <th>4</th>\n",
              "      <td>Afghanistan</td>\n",
              "      <td>2021-02-26</td>\n",
              "      <td>0.0</td>\n",
              "      <td>1367.0</td>\n",
              "      <td>0.0</td>\n",
              "      <td>0.00</td>\n",
              "      <td>0.0</td>\n",
              "      <td>0.00</td>\n",
              "      <td>0.0</td>\n",
              "      <td>0.00</td>\n",
              "      <td>34.0</td>\n",
              "    </tr>\n",
              "    <tr>\n",
              "      <th>...</th>\n",
              "      <td>...</td>\n",
              "      <td>...</td>\n",
              "      <td>...</td>\n",
              "      <td>...</td>\n",
              "      <td>...</td>\n",
              "      <td>...</td>\n",
              "      <td>...</td>\n",
              "      <td>...</td>\n",
              "      <td>...</td>\n",
              "      <td>...</td>\n",
              "      <td>...</td>\n",
              "    </tr>\n",
              "    <tr>\n",
              "      <th>40199</th>\n",
              "      <td>Zimbabwe</td>\n",
              "      <td>2021-08-21</td>\n",
              "      <td>53734.0</td>\n",
              "      <td>74048.0</td>\n",
              "      <td>3753242.0</td>\n",
              "      <td>24.87</td>\n",
              "      <td>2301341.0</td>\n",
              "      <td>15.25</td>\n",
              "      <td>1451901.0</td>\n",
              "      <td>9.62</td>\n",
              "      <td>4906.0</td>\n",
              "    </tr>\n",
              "    <tr>\n",
              "      <th>40200</th>\n",
              "      <td>Zimbabwe</td>\n",
              "      <td>2021-08-22</td>\n",
              "      <td>19957.0</td>\n",
              "      <td>69134.0</td>\n",
              "      <td>3773199.0</td>\n",
              "      <td>25.00</td>\n",
              "      <td>2312117.0</td>\n",
              "      <td>15.32</td>\n",
              "      <td>1461082.0</td>\n",
              "      <td>9.68</td>\n",
              "      <td>4581.0</td>\n",
              "    </tr>\n",
              "    <tr>\n",
              "      <th>40201</th>\n",
              "      <td>Zimbabwe</td>\n",
              "      <td>2021-08-23</td>\n",
              "      <td>55812.0</td>\n",
              "      <td>69004.0</td>\n",
              "      <td>3829011.0</td>\n",
              "      <td>25.37</td>\n",
              "      <td>2345043.0</td>\n",
              "      <td>15.54</td>\n",
              "      <td>1483968.0</td>\n",
              "      <td>9.83</td>\n",
              "      <td>4572.0</td>\n",
              "    </tr>\n",
              "    <tr>\n",
              "      <th>40202</th>\n",
              "      <td>Zimbabwe</td>\n",
              "      <td>2021-08-24</td>\n",
              "      <td>60413.0</td>\n",
              "      <td>62638.0</td>\n",
              "      <td>3889424.0</td>\n",
              "      <td>25.77</td>\n",
              "      <td>2382059.0</td>\n",
              "      <td>15.78</td>\n",
              "      <td>1507365.0</td>\n",
              "      <td>9.99</td>\n",
              "      <td>4150.0</td>\n",
              "    </tr>\n",
              "    <tr>\n",
              "      <th>40203</th>\n",
              "      <td>Zimbabwe</td>\n",
              "      <td>2021-08-25</td>\n",
              "      <td>126093.0</td>\n",
              "      <td>67597.0</td>\n",
              "      <td>4015517.0</td>\n",
              "      <td>26.61</td>\n",
              "      <td>2453229.0</td>\n",
              "      <td>16.25</td>\n",
              "      <td>1562288.0</td>\n",
              "      <td>10.35</td>\n",
              "      <td>4479.0</td>\n",
              "    </tr>\n",
              "  </tbody>\n",
              "</table>\n",
              "<p>40204 rows × 11 columns</p>\n",
              "</div>"
            ],
            "text/plain": [
              "              Pais  ... Vacunaciones diarias por millon\n",
              "0      Afghanistan  ...                             0.0\n",
              "1      Afghanistan  ...                            34.0\n",
              "2      Afghanistan  ...                            34.0\n",
              "3      Afghanistan  ...                            34.0\n",
              "4      Afghanistan  ...                            34.0\n",
              "...            ...  ...                             ...\n",
              "40199     Zimbabwe  ...                          4906.0\n",
              "40200     Zimbabwe  ...                          4581.0\n",
              "40201     Zimbabwe  ...                          4572.0\n",
              "40202     Zimbabwe  ...                          4150.0\n",
              "40203     Zimbabwe  ...                          4479.0\n",
              "\n",
              "[40204 rows x 11 columns]"
            ]
          },
          "metadata": {},
          "execution_count": 82
        }
      ]
    },
    {
      "cell_type": "markdown",
      "metadata": {
        "id": "jSBtNXwyve-q"
      },
      "source": [
        "# Preguntas de interes\n",
        "# Cuál es el país que ha vacunado a mayor parte de su población?\n",
        "\n",
        "\n",
        "Utilizaremos la función gruopby para agrupar los datos por países y calcularemos el máximo de los índices de vacunación con la funcion agg"
      ]
    },
    {
      "cell_type": "code",
      "metadata": {
        "colab": {
          "base_uri": "https://localhost:8080/",
          "height": 440
        },
        "id": "_-IPJkiBnV91",
        "outputId": "ac7a7d02-11be-4c85-99a1-413e867c4e13"
      },
      "source": [
        "grup=covid2.groupby(\"Pais\").agg({\n",
        "    \"Numero total de personas vacunadas por cada cien\": \"max\",\n",
        "    \"Numero total de personas totalmente vacunadas por cada cien\": \"max\"\n",
        "\n",
        "})\n",
        "grup"
      ],
      "execution_count": null,
      "outputs": [
        {
          "output_type": "execute_result",
          "data": {
            "text/html": [
              "<div>\n",
              "<style scoped>\n",
              "    .dataframe tbody tr th:only-of-type {\n",
              "        vertical-align: middle;\n",
              "    }\n",
              "\n",
              "    .dataframe tbody tr th {\n",
              "        vertical-align: top;\n",
              "    }\n",
              "\n",
              "    .dataframe thead th {\n",
              "        text-align: right;\n",
              "    }\n",
              "</style>\n",
              "<table border=\"1\" class=\"dataframe\">\n",
              "  <thead>\n",
              "    <tr style=\"text-align: right;\">\n",
              "      <th></th>\n",
              "      <th>Numero total de personas vacunadas por cada cien</th>\n",
              "      <th>Numero total de personas totalmente vacunadas por cada cien</th>\n",
              "    </tr>\n",
              "    <tr>\n",
              "      <th>Pais</th>\n",
              "      <th></th>\n",
              "      <th></th>\n",
              "    </tr>\n",
              "  </thead>\n",
              "  <tbody>\n",
              "    <tr>\n",
              "      <th>Afghanistan</th>\n",
              "      <td>1.93</td>\n",
              "      <td>0.55</td>\n",
              "    </tr>\n",
              "    <tr>\n",
              "      <th>Albania</th>\n",
              "      <td>28.10</td>\n",
              "      <td>21.18</td>\n",
              "    </tr>\n",
              "    <tr>\n",
              "      <th>Algeria</th>\n",
              "      <td>7.67</td>\n",
              "      <td>1.62</td>\n",
              "    </tr>\n",
              "    <tr>\n",
              "      <th>Andorra</th>\n",
              "      <td>65.99</td>\n",
              "      <td>52.51</td>\n",
              "    </tr>\n",
              "    <tr>\n",
              "      <th>Angola</th>\n",
              "      <td>3.27</td>\n",
              "      <td>2.15</td>\n",
              "    </tr>\n",
              "    <tr>\n",
              "      <th>...</th>\n",
              "      <td>...</td>\n",
              "      <td>...</td>\n",
              "    </tr>\n",
              "    <tr>\n",
              "      <th>Wales</th>\n",
              "      <td>74.04</td>\n",
              "      <td>68.50</td>\n",
              "    </tr>\n",
              "    <tr>\n",
              "      <th>Wallis and Futuna</th>\n",
              "      <td>44.16</td>\n",
              "      <td>43.06</td>\n",
              "    </tr>\n",
              "    <tr>\n",
              "      <th>Yemen</th>\n",
              "      <td>0.98</td>\n",
              "      <td>0.04</td>\n",
              "    </tr>\n",
              "    <tr>\n",
              "      <th>Zambia</th>\n",
              "      <td>1.64</td>\n",
              "      <td>1.34</td>\n",
              "    </tr>\n",
              "    <tr>\n",
              "      <th>Zimbabwe</th>\n",
              "      <td>16.25</td>\n",
              "      <td>10.35</td>\n",
              "    </tr>\n",
              "  </tbody>\n",
              "</table>\n",
              "<p>222 rows × 2 columns</p>\n",
              "</div>"
            ],
            "text/plain": [
              "                   Numero total de personas vacunadas por cada cien  Numero total de personas totalmente vacunadas por cada cien\n",
              "Pais                                                                                                                            \n",
              "Afghanistan                                                    1.93                                               0.55          \n",
              "Albania                                                       28.10                                              21.18          \n",
              "Algeria                                                        7.67                                               1.62          \n",
              "Andorra                                                       65.99                                              52.51          \n",
              "Angola                                                         3.27                                               2.15          \n",
              "...                                                             ...                                                ...          \n",
              "Wales                                                         74.04                                              68.50          \n",
              "Wallis and Futuna                                             44.16                                              43.06          \n",
              "Yemen                                                          0.98                                               0.04          \n",
              "Zambia                                                         1.64                                               1.34          \n",
              "Zimbabwe                                                      16.25                                              10.35          \n",
              "\n",
              "[222 rows x 2 columns]"
            ]
          },
          "metadata": {},
          "execution_count": 85
        }
      ]
    },
    {
      "cell_type": "markdown",
      "metadata": {
        "id": "14GhFQ4jv7Ex"
      },
      "source": [
        "Despues de obtener la tabla filtrada por países , calculáremos el índice que contenga los valores máximos con la función idxmax() y max()"
      ]
    },
    {
      "cell_type": "code",
      "metadata": {
        "colab": {
          "base_uri": "https://localhost:8080/"
        },
        "id": "Oc-e5NIttqG1",
        "outputId": "2256c9c8-dbe6-4c99-ba36-d2d4ec85cb24"
      },
      "source": [
        "v1=grup[\"Numero total de personas vacunadas por cada cien\"].idxmax()\n",
        "v2=grup[\"Numero total de personas vacunadas por cada cien\"].max()\n",
        "print(\"El pais con mayor % de personas con al menos una dosis es\", v1, \"con un un\", v2,\"%\" )\n"
      ],
      "execution_count": null,
      "outputs": [
        {
          "output_type": "stream",
          "text": [
            "El pais con mayor % de personas con al menos una dosis es Gibraltar con un un 117.31 %\n"
          ],
          "name": "stdout"
        }
      ]
    },
    {
      "cell_type": "code",
      "metadata": {
        "colab": {
          "base_uri": "https://localhost:8080/"
        },
        "id": "av3mKPoMvYdo",
        "outputId": "9485ef88-d9ea-43c0-f33a-eb7e08598d8f"
      },
      "source": [
        "v3=grup[\"Numero total de personas totalmente vacunadas por cada cien\"].idxmax()\n",
        "v4=grup[\"Numero total de personas totalmente vacunadas por cada cien\"].max()\n",
        "\n",
        "print(\"El pais con mayor % de personas totalmente vacunadas es\", v3, \"con un un\", v4,\"%\" )\n",
        "\n"
      ],
      "execution_count": null,
      "outputs": [
        {
          "output_type": "stream",
          "text": [
            "El pais con mayor % de personas totalmente vacunadas es Gibraltar con un un 116.34 %\n"
          ],
          "name": "stdout"
        }
      ]
    },
    {
      "cell_type": "markdown",
      "metadata": {
        "id": "ibmjEDIQxvAG"
      },
      "source": [
        "El resultado a esta pregunta es interesante, puesto que el país con mayor parte de su población vacunada es gibraltar, con mas de un 100%\n",
        "\n",
        "¿pero como es esto posible?\n",
        "\n",
        "Gibraltar es un país pequeño con alta afluencia de extranjeros\n",
        "y los datos solo miden las vacunas aplicadas sin considerar si los pacientes eran locales o no , entonces podemos asumir que Gibraltar ha aplicado más vacunas que toda su población por el flujo de extranjeros\n",
        "\n"
      ]
    },
    {
      "cell_type": "markdown",
      "metadata": {
        "id": "gQFDsvPWy9_c"
      },
      "source": [
        "# ¿Qué país es el que ha tenido menor número de vacunaciones por día?\n"
      ]
    },
    {
      "cell_type": "code",
      "metadata": {
        "colab": {
          "base_uri": "https://localhost:8080/",
          "height": 440
        },
        "id": "Q8tT-Z0gzAWm",
        "outputId": "5de5503e-2f8d-42ed-9ad0-6d9f3ea3d9de"
      },
      "source": [
        "grup1=covid2.groupby(\"Pais\").agg({\n",
        "    \"Vacunaciones diarias por millon\": \"mean\"\n",
        "    \n",
        "})\n",
        "grup1"
      ],
      "execution_count": null,
      "outputs": [
        {
          "output_type": "execute_result",
          "data": {
            "text/html": [
              "<div>\n",
              "<style scoped>\n",
              "    .dataframe tbody tr th:only-of-type {\n",
              "        vertical-align: middle;\n",
              "    }\n",
              "\n",
              "    .dataframe tbody tr th {\n",
              "        vertical-align: top;\n",
              "    }\n",
              "\n",
              "    .dataframe thead th {\n",
              "        text-align: right;\n",
              "    }\n",
              "</style>\n",
              "<table border=\"1\" class=\"dataframe\">\n",
              "  <thead>\n",
              "    <tr style=\"text-align: right;\">\n",
              "      <th></th>\n",
              "      <th>Vacunaciones diarias por millon</th>\n",
              "    </tr>\n",
              "    <tr>\n",
              "      <th>Pais</th>\n",
              "      <th></th>\n",
              "    </tr>\n",
              "  </thead>\n",
              "  <tbody>\n",
              "    <tr>\n",
              "      <th>Afghanistan</th>\n",
              "      <td>252.795322</td>\n",
              "    </tr>\n",
              "    <tr>\n",
              "      <th>Albania</th>\n",
              "      <td>2110.986900</td>\n",
              "    </tr>\n",
              "    <tr>\n",
              "      <th>Algeria</th>\n",
              "      <td>448.431373</td>\n",
              "    </tr>\n",
              "    <tr>\n",
              "      <th>Andorra</th>\n",
              "      <td>5740.019704</td>\n",
              "    </tr>\n",
              "    <tr>\n",
              "      <th>Angola</th>\n",
              "      <td>296.859551</td>\n",
              "    </tr>\n",
              "    <tr>\n",
              "      <th>...</th>\n",
              "      <td>...</td>\n",
              "    </tr>\n",
              "    <tr>\n",
              "      <th>Wales</th>\n",
              "      <td>5544.855469</td>\n",
              "    </tr>\n",
              "    <tr>\n",
              "      <th>Wallis and Futuna</th>\n",
              "      <td>5349.811688</td>\n",
              "    </tr>\n",
              "    <tr>\n",
              "      <th>Yemen</th>\n",
              "      <td>124.200000</td>\n",
              "    </tr>\n",
              "    <tr>\n",
              "      <th>Zambia</th>\n",
              "      <td>216.792593</td>\n",
              "    </tr>\n",
              "    <tr>\n",
              "      <th>Zimbabwe</th>\n",
              "      <td>1331.751323</td>\n",
              "    </tr>\n",
              "  </tbody>\n",
              "</table>\n",
              "<p>222 rows × 1 columns</p>\n",
              "</div>"
            ],
            "text/plain": [
              "                   Vacunaciones diarias por millon\n",
              "Pais                                              \n",
              "Afghanistan                             252.795322\n",
              "Albania                                2110.986900\n",
              "Algeria                                 448.431373\n",
              "Andorra                                5740.019704\n",
              "Angola                                  296.859551\n",
              "...                                            ...\n",
              "Wales                                  5544.855469\n",
              "Wallis and Futuna                      5349.811688\n",
              "Yemen                                   124.200000\n",
              "Zambia                                  216.792593\n",
              "Zimbabwe                               1331.751323\n",
              "\n",
              "[222 rows x 1 columns]"
            ]
          },
          "metadata": {},
          "execution_count": 102
        }
      ]
    },
    {
      "cell_type": "code",
      "metadata": {
        "colab": {
          "base_uri": "https://localhost:8080/"
        },
        "id": "-7jNHoLgzjyp",
        "outputId": "c1a20269-881b-4425-e078-056b98dfe2dd"
      },
      "source": [
        "v5=grup1[\"Vacunaciones diarias por millon\"].idxmin()\n",
        "v6=grup1[\"Vacunaciones diarias por millon\"].min()\n",
        "\n",
        "print(\"el pais con menor numero de vacunaciones diarias es \",v5,\" con un promedio de \",v6,\" por cada millon de habitantes\")"
      ],
      "execution_count": null,
      "outputs": [
        {
          "output_type": "stream",
          "text": [
            "el pais con menor numero de vacunaciones diarias es  Bonaire Sint Eustatius and Saba  con un promedio de  0.0  por cada millon de habitantes\n"
          ],
          "name": "stdout"
        }
      ]
    },
    {
      "cell_type": "markdown",
      "metadata": {
        "id": "5AfkMUNA2414"
      },
      "source": [
        "Podemos observar que el país Bonaire Sint Eustatius and Saba es el que menos vacunas diarias aplica ya que no ha empezado su proceso de vacunaciones."
      ]
    },
    {
      "cell_type": "markdown",
      "metadata": {
        "id": "ALT7R4VP3SHi"
      },
      "source": [
        "Ahora buscaremos la respuesta a la misma pregunta excluyendo a los países que no han empezado a vacunar a su poblacion"
      ]
    },
    {
      "cell_type": "code",
      "metadata": {
        "colab": {
          "base_uri": "https://localhost:8080/",
          "height": 440
        },
        "id": "Pp5cgVC50wb9",
        "outputId": "f4e1c9be-c105-46b7-d4df-ffe32bae4544"
      },
      "source": [
        "grup2=grup1[grup1[\"Vacunaciones diarias por millon\"] > 0]\n",
        "grup2"
      ],
      "execution_count": null,
      "outputs": [
        {
          "output_type": "execute_result",
          "data": {
            "text/html": [
              "<div>\n",
              "<style scoped>\n",
              "    .dataframe tbody tr th:only-of-type {\n",
              "        vertical-align: middle;\n",
              "    }\n",
              "\n",
              "    .dataframe tbody tr th {\n",
              "        vertical-align: top;\n",
              "    }\n",
              "\n",
              "    .dataframe thead th {\n",
              "        text-align: right;\n",
              "    }\n",
              "</style>\n",
              "<table border=\"1\" class=\"dataframe\">\n",
              "  <thead>\n",
              "    <tr style=\"text-align: right;\">\n",
              "      <th></th>\n",
              "      <th>Vacunaciones diarias por millon</th>\n",
              "    </tr>\n",
              "    <tr>\n",
              "      <th>Pais</th>\n",
              "      <th></th>\n",
              "    </tr>\n",
              "  </thead>\n",
              "  <tbody>\n",
              "    <tr>\n",
              "      <th>Afghanistan</th>\n",
              "      <td>252.795322</td>\n",
              "    </tr>\n",
              "    <tr>\n",
              "      <th>Albania</th>\n",
              "      <td>2110.986900</td>\n",
              "    </tr>\n",
              "    <tr>\n",
              "      <th>Algeria</th>\n",
              "      <td>448.431373</td>\n",
              "    </tr>\n",
              "    <tr>\n",
              "      <th>Andorra</th>\n",
              "      <td>5740.019704</td>\n",
              "    </tr>\n",
              "    <tr>\n",
              "      <th>Angola</th>\n",
              "      <td>296.859551</td>\n",
              "    </tr>\n",
              "    <tr>\n",
              "      <th>...</th>\n",
              "      <td>...</td>\n",
              "    </tr>\n",
              "    <tr>\n",
              "      <th>Wales</th>\n",
              "      <td>5544.855469</td>\n",
              "    </tr>\n",
              "    <tr>\n",
              "      <th>Wallis and Futuna</th>\n",
              "      <td>5349.811688</td>\n",
              "    </tr>\n",
              "    <tr>\n",
              "      <th>Yemen</th>\n",
              "      <td>124.200000</td>\n",
              "    </tr>\n",
              "    <tr>\n",
              "      <th>Zambia</th>\n",
              "      <td>216.792593</td>\n",
              "    </tr>\n",
              "    <tr>\n",
              "      <th>Zimbabwe</th>\n",
              "      <td>1331.751323</td>\n",
              "    </tr>\n",
              "  </tbody>\n",
              "</table>\n",
              "<p>220 rows × 1 columns</p>\n",
              "</div>"
            ],
            "text/plain": [
              "                   Vacunaciones diarias por millon\n",
              "Pais                                              \n",
              "Afghanistan                             252.795322\n",
              "Albania                                2110.986900\n",
              "Algeria                                 448.431373\n",
              "Andorra                                5740.019704\n",
              "Angola                                  296.859551\n",
              "...                                            ...\n",
              "Wales                                  5544.855469\n",
              "Wallis and Futuna                      5349.811688\n",
              "Yemen                                   124.200000\n",
              "Zambia                                  216.792593\n",
              "Zimbabwe                               1331.751323\n",
              "\n",
              "[220 rows x 1 columns]"
            ]
          },
          "metadata": {},
          "execution_count": 112
        }
      ]
    },
    {
      "cell_type": "code",
      "metadata": {
        "colab": {
          "base_uri": "https://localhost:8080/"
        },
        "id": "PlOJn4-w1VGd",
        "outputId": "a779fd31-767a-47d4-dcea-7251b853ed27"
      },
      "source": [
        "v7=grup2[\"Vacunaciones diarias por millon\"].idxmin()\n",
        "v8=grup2[\"Vacunaciones diarias por millon\"].min()\n",
        "print(\"El pais con menor numero de vacunaciones diarias es \",v7,\" con un promedio de \",v8,\" por cada millon de habitantes\")"
      ],
      "execution_count": null,
      "outputs": [
        {
          "output_type": "stream",
          "text": [
            "El pais con menor numero de vacunaciones diarias es  Democratic Republic of Congo  con un promedio de  7.4140625  por cada millon de habitantes\n"
          ],
          "name": "stdout"
        }
      ]
    },
    {
      "cell_type": "markdown",
      "metadata": {
        "id": "PdROF8FU3M8s"
      },
      "source": [
        "El país con menor promedio de vacunaciones diarias es Democratic Republic of Congo, con apenas ~7.5 vacunaciones diarias por cada millon de habitantes"
      ]
    },
    {
      "cell_type": "markdown",
      "metadata": {
        "id": "0CWTV2RYNANp"
      },
      "source": [
        "# **Base de datos secundaria: Graduate Admission 2**\n",
        "\n",
        "link:https://www.kaggle.com/mohansacharya/graduate-admissions"
      ]
    },
    {
      "cell_type": "markdown",
      "metadata": {
        "id": "KKtHZGE1PEw5"
      },
      "source": [
        "**Introducción**"
      ]
    },
    {
      "cell_type": "markdown",
      "metadata": {
        "id": "DcSNGTVudhIB"
      },
      "source": [
        "Definir la universidad en la que estudiarás tu carrera universitaria es una decisión muy importante en tu vida, ya que necesitas estar bien preparado para obtener un buen lugar en el mercado laboral. Es por ello, que al elegir una universidad, ya sea pública o privada, debe cumplir con tus expectativas profesionales a corto, mediano y largo plazo.\n",
        "\n",
        "Para que elijas una buena institución, debes comenzar por hacer una investigación exhaustiva que te permita comparar opciones y reflexionar sobre qué universidad es la mejor para ti."
      ]
    },
    {
      "cell_type": "markdown",
      "metadata": {
        "id": "uhSZdJ1aQCO2"
      },
      "source": [
        "**Objetivos**"
      ]
    },
    {
      "cell_type": "markdown",
      "metadata": {
        "id": "oVgwyhUjdgET"
      },
      "source": [
        "Este conjunto de datos se creó con el fin de ayudar a los estudiantes a preseleccionar universidades con sus perfiles. El resultado previsto les da una idea justa sobre sus posibilidades en una universidad concreta."
      ]
    },
    {
      "cell_type": "markdown",
      "metadata": {
        "id": "gg1aY3vJQXns"
      },
      "source": [
        "**Limpieza de datos**"
      ]
    },
    {
      "cell_type": "markdown",
      "metadata": {
        "id": "LXeYCrVCTCFL"
      },
      "source": [
        "Importamos las librerías las cuales podremos utilizar para la lectura y limpieza de datos. Despues se mandará llamar el archivo el cual esta en formato CVS-Excel\n"
      ]
    },
    {
      "cell_type": "code",
      "metadata": {
        "id": "p35xgN5cQcMs"
      },
      "source": [
        "import pandas as pd\n",
        "import numpy as np\n",
        "import json"
      ],
      "execution_count": null,
      "outputs": []
    },
    {
      "cell_type": "code",
      "metadata": {
        "id": "Ah1IF6z8ToMT"
      },
      "source": [
        "df_ap = pd.read_csv(\"/content/Admission_Predict.csv\")"
      ],
      "execution_count": null,
      "outputs": []
    },
    {
      "cell_type": "markdown",
      "metadata": {
        "id": "Ju77fecVUz1e"
      },
      "source": [
        "**Visualizando la base de datos**"
      ]
    },
    {
      "cell_type": "markdown",
      "metadata": {
        "id": "XAIpcIe7fbHH"
      },
      "source": [
        "Con la función head podemos visualizar los primeros 10 datos de la base"
      ]
    },
    {
      "cell_type": "code",
      "metadata": {
        "colab": {
          "base_uri": "https://localhost:8080/",
          "height": 359
        },
        "id": "36rztW5cU4hx",
        "outputId": "d5211dc9-ea13-41b0-f2ab-232047bbeda3"
      },
      "source": [
        "df_ap.head(10)"
      ],
      "execution_count": null,
      "outputs": [
        {
          "output_type": "execute_result",
          "data": {
            "text/html": [
              "<div>\n",
              "<style scoped>\n",
              "    .dataframe tbody tr th:only-of-type {\n",
              "        vertical-align: middle;\n",
              "    }\n",
              "\n",
              "    .dataframe tbody tr th {\n",
              "        vertical-align: top;\n",
              "    }\n",
              "\n",
              "    .dataframe thead th {\n",
              "        text-align: right;\n",
              "    }\n",
              "</style>\n",
              "<table border=\"1\" class=\"dataframe\">\n",
              "  <thead>\n",
              "    <tr style=\"text-align: right;\">\n",
              "      <th></th>\n",
              "      <th>Serial No.</th>\n",
              "      <th>GRE Score</th>\n",
              "      <th>TOEFL Score</th>\n",
              "      <th>University Rating</th>\n",
              "      <th>SOP</th>\n",
              "      <th>LOR</th>\n",
              "      <th>CGPA</th>\n",
              "      <th>Research</th>\n",
              "      <th>Chance of Admit</th>\n",
              "    </tr>\n",
              "  </thead>\n",
              "  <tbody>\n",
              "    <tr>\n",
              "      <th>0</th>\n",
              "      <td>1</td>\n",
              "      <td>337</td>\n",
              "      <td>118</td>\n",
              "      <td>4</td>\n",
              "      <td>4.5</td>\n",
              "      <td>4.5</td>\n",
              "      <td>9.65</td>\n",
              "      <td>1</td>\n",
              "      <td>0.92</td>\n",
              "    </tr>\n",
              "    <tr>\n",
              "      <th>1</th>\n",
              "      <td>2</td>\n",
              "      <td>324</td>\n",
              "      <td>107</td>\n",
              "      <td>4</td>\n",
              "      <td>4.0</td>\n",
              "      <td>4.5</td>\n",
              "      <td>8.87</td>\n",
              "      <td>1</td>\n",
              "      <td>0.76</td>\n",
              "    </tr>\n",
              "    <tr>\n",
              "      <th>2</th>\n",
              "      <td>3</td>\n",
              "      <td>316</td>\n",
              "      <td>104</td>\n",
              "      <td>3</td>\n",
              "      <td>3.0</td>\n",
              "      <td>3.5</td>\n",
              "      <td>8.00</td>\n",
              "      <td>1</td>\n",
              "      <td>0.72</td>\n",
              "    </tr>\n",
              "    <tr>\n",
              "      <th>3</th>\n",
              "      <td>4</td>\n",
              "      <td>322</td>\n",
              "      <td>110</td>\n",
              "      <td>3</td>\n",
              "      <td>3.5</td>\n",
              "      <td>2.5</td>\n",
              "      <td>8.67</td>\n",
              "      <td>1</td>\n",
              "      <td>0.80</td>\n",
              "    </tr>\n",
              "    <tr>\n",
              "      <th>4</th>\n",
              "      <td>5</td>\n",
              "      <td>314</td>\n",
              "      <td>103</td>\n",
              "      <td>2</td>\n",
              "      <td>2.0</td>\n",
              "      <td>3.0</td>\n",
              "      <td>8.21</td>\n",
              "      <td>0</td>\n",
              "      <td>0.65</td>\n",
              "    </tr>\n",
              "    <tr>\n",
              "      <th>5</th>\n",
              "      <td>6</td>\n",
              "      <td>330</td>\n",
              "      <td>115</td>\n",
              "      <td>5</td>\n",
              "      <td>4.5</td>\n",
              "      <td>3.0</td>\n",
              "      <td>9.34</td>\n",
              "      <td>1</td>\n",
              "      <td>0.90</td>\n",
              "    </tr>\n",
              "    <tr>\n",
              "      <th>6</th>\n",
              "      <td>7</td>\n",
              "      <td>321</td>\n",
              "      <td>109</td>\n",
              "      <td>3</td>\n",
              "      <td>3.0</td>\n",
              "      <td>4.0</td>\n",
              "      <td>8.20</td>\n",
              "      <td>1</td>\n",
              "      <td>0.75</td>\n",
              "    </tr>\n",
              "    <tr>\n",
              "      <th>7</th>\n",
              "      <td>8</td>\n",
              "      <td>308</td>\n",
              "      <td>101</td>\n",
              "      <td>2</td>\n",
              "      <td>3.0</td>\n",
              "      <td>4.0</td>\n",
              "      <td>7.90</td>\n",
              "      <td>0</td>\n",
              "      <td>0.68</td>\n",
              "    </tr>\n",
              "    <tr>\n",
              "      <th>8</th>\n",
              "      <td>9</td>\n",
              "      <td>302</td>\n",
              "      <td>102</td>\n",
              "      <td>1</td>\n",
              "      <td>2.0</td>\n",
              "      <td>1.5</td>\n",
              "      <td>8.00</td>\n",
              "      <td>0</td>\n",
              "      <td>0.50</td>\n",
              "    </tr>\n",
              "    <tr>\n",
              "      <th>9</th>\n",
              "      <td>10</td>\n",
              "      <td>323</td>\n",
              "      <td>108</td>\n",
              "      <td>3</td>\n",
              "      <td>3.5</td>\n",
              "      <td>3.0</td>\n",
              "      <td>8.60</td>\n",
              "      <td>0</td>\n",
              "      <td>0.45</td>\n",
              "    </tr>\n",
              "  </tbody>\n",
              "</table>\n",
              "</div>"
            ],
            "text/plain": [
              "   Serial No.  GRE Score  TOEFL Score  ...  CGPA  Research  Chance of Admit \n",
              "0           1        337          118  ...  9.65         1              0.92\n",
              "1           2        324          107  ...  8.87         1              0.76\n",
              "2           3        316          104  ...  8.00         1              0.72\n",
              "3           4        322          110  ...  8.67         1              0.80\n",
              "4           5        314          103  ...  8.21         0              0.65\n",
              "5           6        330          115  ...  9.34         1              0.90\n",
              "6           7        321          109  ...  8.20         1              0.75\n",
              "7           8        308          101  ...  7.90         0              0.68\n",
              "8           9        302          102  ...  8.00         0              0.50\n",
              "9          10        323          108  ...  8.60         0              0.45\n",
              "\n",
              "[10 rows x 9 columns]"
            ]
          },
          "metadata": {},
          "execution_count": 5
        }
      ]
    },
    {
      "cell_type": "markdown",
      "metadata": {
        "id": "IsDq70UMVSYt"
      },
      "source": [
        "Podemos observar los primeros 10 datos "
      ]
    },
    {
      "cell_type": "markdown",
      "metadata": {
        "id": "uHkDH0TmfR8l"
      },
      "source": [
        "Con la función tail podemos observar los ultimos 10 datos de la base "
      ]
    },
    {
      "cell_type": "code",
      "metadata": {
        "colab": {
          "base_uri": "https://localhost:8080/",
          "height": 359
        },
        "id": "-YAeS5sAVZw8",
        "outputId": "528a3a45-c072-4a40-a78e-7a6f18803efd"
      },
      "source": [
        "df_ap.tail(10)"
      ],
      "execution_count": null,
      "outputs": [
        {
          "output_type": "execute_result",
          "data": {
            "text/html": [
              "<div>\n",
              "<style scoped>\n",
              "    .dataframe tbody tr th:only-of-type {\n",
              "        vertical-align: middle;\n",
              "    }\n",
              "\n",
              "    .dataframe tbody tr th {\n",
              "        vertical-align: top;\n",
              "    }\n",
              "\n",
              "    .dataframe thead th {\n",
              "        text-align: right;\n",
              "    }\n",
              "</style>\n",
              "<table border=\"1\" class=\"dataframe\">\n",
              "  <thead>\n",
              "    <tr style=\"text-align: right;\">\n",
              "      <th></th>\n",
              "      <th>Serial No.</th>\n",
              "      <th>GRE Score</th>\n",
              "      <th>TOEFL Score</th>\n",
              "      <th>University Rating</th>\n",
              "      <th>SOP</th>\n",
              "      <th>LOR</th>\n",
              "      <th>CGPA</th>\n",
              "      <th>Research</th>\n",
              "      <th>Chance of Admit</th>\n",
              "    </tr>\n",
              "  </thead>\n",
              "  <tbody>\n",
              "    <tr>\n",
              "      <th>390</th>\n",
              "      <td>391</td>\n",
              "      <td>314</td>\n",
              "      <td>102</td>\n",
              "      <td>2</td>\n",
              "      <td>2.0</td>\n",
              "      <td>2.5</td>\n",
              "      <td>8.24</td>\n",
              "      <td>0</td>\n",
              "      <td>0.64</td>\n",
              "    </tr>\n",
              "    <tr>\n",
              "      <th>391</th>\n",
              "      <td>392</td>\n",
              "      <td>318</td>\n",
              "      <td>106</td>\n",
              "      <td>3</td>\n",
              "      <td>2.0</td>\n",
              "      <td>3.0</td>\n",
              "      <td>8.65</td>\n",
              "      <td>0</td>\n",
              "      <td>0.71</td>\n",
              "    </tr>\n",
              "    <tr>\n",
              "      <th>392</th>\n",
              "      <td>393</td>\n",
              "      <td>326</td>\n",
              "      <td>112</td>\n",
              "      <td>4</td>\n",
              "      <td>4.0</td>\n",
              "      <td>3.5</td>\n",
              "      <td>9.12</td>\n",
              "      <td>1</td>\n",
              "      <td>0.84</td>\n",
              "    </tr>\n",
              "    <tr>\n",
              "      <th>393</th>\n",
              "      <td>394</td>\n",
              "      <td>317</td>\n",
              "      <td>104</td>\n",
              "      <td>2</td>\n",
              "      <td>3.0</td>\n",
              "      <td>3.0</td>\n",
              "      <td>8.76</td>\n",
              "      <td>0</td>\n",
              "      <td>0.77</td>\n",
              "    </tr>\n",
              "    <tr>\n",
              "      <th>394</th>\n",
              "      <td>395</td>\n",
              "      <td>329</td>\n",
              "      <td>111</td>\n",
              "      <td>4</td>\n",
              "      <td>4.5</td>\n",
              "      <td>4.0</td>\n",
              "      <td>9.23</td>\n",
              "      <td>1</td>\n",
              "      <td>0.89</td>\n",
              "    </tr>\n",
              "    <tr>\n",
              "      <th>395</th>\n",
              "      <td>396</td>\n",
              "      <td>324</td>\n",
              "      <td>110</td>\n",
              "      <td>3</td>\n",
              "      <td>3.5</td>\n",
              "      <td>3.5</td>\n",
              "      <td>9.04</td>\n",
              "      <td>1</td>\n",
              "      <td>0.82</td>\n",
              "    </tr>\n",
              "    <tr>\n",
              "      <th>396</th>\n",
              "      <td>397</td>\n",
              "      <td>325</td>\n",
              "      <td>107</td>\n",
              "      <td>3</td>\n",
              "      <td>3.0</td>\n",
              "      <td>3.5</td>\n",
              "      <td>9.11</td>\n",
              "      <td>1</td>\n",
              "      <td>0.84</td>\n",
              "    </tr>\n",
              "    <tr>\n",
              "      <th>397</th>\n",
              "      <td>398</td>\n",
              "      <td>330</td>\n",
              "      <td>116</td>\n",
              "      <td>4</td>\n",
              "      <td>5.0</td>\n",
              "      <td>4.5</td>\n",
              "      <td>9.45</td>\n",
              "      <td>1</td>\n",
              "      <td>0.91</td>\n",
              "    </tr>\n",
              "    <tr>\n",
              "      <th>398</th>\n",
              "      <td>399</td>\n",
              "      <td>312</td>\n",
              "      <td>103</td>\n",
              "      <td>3</td>\n",
              "      <td>3.5</td>\n",
              "      <td>4.0</td>\n",
              "      <td>8.78</td>\n",
              "      <td>0</td>\n",
              "      <td>0.67</td>\n",
              "    </tr>\n",
              "    <tr>\n",
              "      <th>399</th>\n",
              "      <td>400</td>\n",
              "      <td>333</td>\n",
              "      <td>117</td>\n",
              "      <td>4</td>\n",
              "      <td>5.0</td>\n",
              "      <td>4.0</td>\n",
              "      <td>9.66</td>\n",
              "      <td>1</td>\n",
              "      <td>0.95</td>\n",
              "    </tr>\n",
              "  </tbody>\n",
              "</table>\n",
              "</div>"
            ],
            "text/plain": [
              "     Serial No.  GRE Score  TOEFL Score  ...  CGPA  Research  Chance of Admit \n",
              "390         391        314          102  ...  8.24         0              0.64\n",
              "391         392        318          106  ...  8.65         0              0.71\n",
              "392         393        326          112  ...  9.12         1              0.84\n",
              "393         394        317          104  ...  8.76         0              0.77\n",
              "394         395        329          111  ...  9.23         1              0.89\n",
              "395         396        324          110  ...  9.04         1              0.82\n",
              "396         397        325          107  ...  9.11         1              0.84\n",
              "397         398        330          116  ...  9.45         1              0.91\n",
              "398         399        312          103  ...  8.78         0              0.67\n",
              "399         400        333          117  ...  9.66         1              0.95\n",
              "\n",
              "[10 rows x 9 columns]"
            ]
          },
          "metadata": {},
          "execution_count": 6
        }
      ]
    },
    {
      "cell_type": "markdown",
      "metadata": {
        "id": "-OTuRnqIVyGp"
      },
      "source": [
        "Podemos observar los ultimos 10 datos"
      ]
    },
    {
      "cell_type": "markdown",
      "metadata": {
        "id": "-yt0GyZlfL67"
      },
      "source": [
        "Con la función shape podemos observar cuantas columnas y filas hay "
      ]
    },
    {
      "cell_type": "code",
      "metadata": {
        "colab": {
          "base_uri": "https://localhost:8080/"
        },
        "id": "0DYH0KQSV1cH",
        "outputId": "70c6029b-f0d3-41c6-b0c3-28c303ad2e42"
      },
      "source": [
        "df_ap.shape"
      ],
      "execution_count": null,
      "outputs": [
        {
          "output_type": "execute_result",
          "data": {
            "text/plain": [
              "(400, 9)"
            ]
          },
          "metadata": {},
          "execution_count": 7
        }
      ]
    },
    {
      "cell_type": "markdown",
      "metadata": {
        "id": "DyWRRtJYWIDi"
      },
      "source": [
        "La base de datos esta conformada por 400 filas y 9 columnas "
      ]
    },
    {
      "cell_type": "markdown",
      "metadata": {
        "id": "5PlsT6nwfFzQ"
      },
      "source": [
        "Revisando los nombres de las columnas con la función columns"
      ]
    },
    {
      "cell_type": "code",
      "metadata": {
        "colab": {
          "base_uri": "https://localhost:8080/"
        },
        "id": "b_bTDB8IeJOo",
        "outputId": "bbc0808b-b8d7-464b-d3fc-7f673f7c5531"
      },
      "source": [
        "df_ap.columns"
      ],
      "execution_count": null,
      "outputs": [
        {
          "output_type": "execute_result",
          "data": {
            "text/plain": [
              "Index(['Serial No.', 'GRE Score', 'TOEFL Score', 'University Rating', 'SOP',\n",
              "       'LOR ', 'CGPA', 'Research', 'Chance of Admit '],\n",
              "      dtype='object')"
            ]
          },
          "metadata": {},
          "execution_count": 12
        }
      ]
    },
    {
      "cell_type": "markdown",
      "metadata": {
        "id": "yqVe7_LIeMb0"
      },
      "source": [
        "Los nombres de las 9 columnas de nuestra base de datos son:\n",
        "\n",
        "\n",
        "*   Serial No.\n",
        "*   GRE Score\n",
        "*   TOEFL Score \n",
        "*   University Rating \n",
        "*   SOP\n",
        "*   LOR\n",
        "*   CGPA \n",
        "*   Research \n",
        "*   Chance of Admit \n"
      ]
    },
    {
      "cell_type": "markdown",
      "metadata": {
        "id": "dp0jeFHUfj8Z"
      },
      "source": [
        "Con la función dtypes podemos observar el tipo de datos de las columnas"
      ]
    },
    {
      "cell_type": "code",
      "metadata": {
        "colab": {
          "base_uri": "https://localhost:8080/"
        },
        "id": "MsG6BS-pWLmu",
        "outputId": "dd8bd81a-410a-4d13-e56b-25673526d5b7"
      },
      "source": [
        "df_ap.dtypes"
      ],
      "execution_count": null,
      "outputs": [
        {
          "output_type": "execute_result",
          "data": {
            "text/plain": [
              "Serial No.             int64\n",
              "GRE Score              int64\n",
              "TOEFL Score            int64\n",
              "University Rating      int64\n",
              "SOP                  float64\n",
              "LOR                  float64\n",
              "CGPA                 float64\n",
              "Research               int64\n",
              "Chance of Admit      float64\n",
              "dtype: object"
            ]
          },
          "metadata": {},
          "execution_count": 8
        }
      ]
    },
    {
      "cell_type": "markdown",
      "metadata": {
        "id": "y_U6h0XTWkar"
      },
      "source": [
        "Todas las columnas son del tipo entero a excepción de las columnas SOP, LOR,CGPA y Chance of admit que son del tipo flotantes."
      ]
    },
    {
      "cell_type": "markdown",
      "metadata": {
        "id": "WyB6Q4mkftKj"
      },
      "source": [
        "Con la función isnull.sum podemos observar el recuento de las celdas vacías por columnas"
      ]
    },
    {
      "cell_type": "code",
      "metadata": {
        "colab": {
          "base_uri": "https://localhost:8080/"
        },
        "id": "LEyYrkjLXnRz",
        "outputId": "25f5d9d8-f0ea-4af7-afa9-ed0cd0ecda36"
      },
      "source": [
        "df_ap.isnull().sum()"
      ],
      "execution_count": null,
      "outputs": [
        {
          "output_type": "execute_result",
          "data": {
            "text/plain": [
              "Serial No.           0\n",
              "GRE Score            0\n",
              "TOEFL Score          0\n",
              "University Rating    0\n",
              "SOP                  0\n",
              "LOR                  0\n",
              "CGPA                 0\n",
              "Research             0\n",
              "Chance of Admit      0\n",
              "dtype: int64"
            ]
          },
          "metadata": {},
          "execution_count": 11
        }
      ]
    },
    {
      "cell_type": "markdown",
      "metadata": {
        "id": "eDlVJo_fX25T"
      },
      "source": [
        "No hay celdas vacías "
      ]
    }
  ]
}