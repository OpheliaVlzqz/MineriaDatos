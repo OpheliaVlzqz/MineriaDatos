{
  "nbformat": 4,
  "nbformat_minor": 0,
  "metadata": {
    "colab": {
      "name": "Notebook final.ipynb",
      "provenance": [],
      "collapsed_sections": [],
      "include_colab_link": true
    },
    "kernelspec": {
      "name": "python3",
      "display_name": "Python 3"
    },
    "language_info": {
      "name": "python"
    }
  },
  "cells": [
    {
      "cell_type": "markdown",
      "metadata": {
        "id": "view-in-github",
        "colab_type": "text"
      },
      "source": [
        "<a href=\"https://colab.research.google.com/github/OpheliaVlzqz/MineriaDatos/blob/main/Notebook_final_10.ipynb\" target=\"_parent\"><img src=\"https://colab.research.google.com/assets/colab-badge.svg\" alt=\"Open In Colab\"/></a>"
      ]
    },
    {
      "cell_type": "markdown",
      "metadata": {
        "id": "FWUZ_A5NPrEj"
      },
      "source": [
        "# **Equipo: 10**\n",
        "Integrantes\n",
        "\n",
        "\n",
        "\n",
        "*   \n",
        "1856652 Velázquez Montemayor Ofelia\n",
        "*\n",
        "1862149 Cruz Martínez Diego Adrian\n",
        "*\n",
        "1867216 Martínez Reyes Jose Miguel\n",
        "*\n",
        "1941488 García Ortega Jose Andrés\n"
      ]
    },
    {
      "cell_type": "markdown",
      "metadata": {
        "id": "d606BPuroM1H"
      },
      "source": [
        "**GRUPO 001.- Lunes de 7:00-10:00 PM**\n",
        "\n",
        "\n",
        "Objetivo: Estimar una fecha en la cuál se pueda llegar a una nueva normalidad mas segura para todos, a partir de la cifras de las personas vacunadas. \n"
      ]
    },
    {
      "cell_type": "markdown",
      "metadata": {
        "id": "rHbmpHZ6ctha"
      },
      "source": [
        "# **Base de datos principal: COVID-19 World Vaccination Progress**"
      ]
    },
    {
      "cell_type": "markdown",
      "metadata": {
        "id": "YiZwpxfOcpke"
      },
      "source": [
        "\n",
        "URL de la pagina:  https://www.kaggle.com/gpreda/covid-world-vaccination-progress"
      ]
    },
    {
      "cell_type": "markdown",
      "metadata": {
        "id": "tTIKVYamZYV9"
      },
      "source": [
        "# **Introducción General**"
      ]
    },
    {
      "cell_type": "markdown",
      "metadata": {
        "id": "lFyVJFQDZk6l"
      },
      "source": [
        "Nuestra base de datos muestra el progreso de vacunación mundial contra el COVID-19. Los coronavirus son una familia de virus que causan enfermedades (desde el resfriado común hasta enfermedades respiratorias más graves) y circulan entre humanos y animales. \n",
        "El COVID-19 es la enfermedad causada por el nuevo coronavirus conocido como SARS-CoV-2. La OMS tuvo noticia por primera vez de la existencia de este nuevo virus el 31 de diciembre de 2019, al ser informada de un grupo de casos de «neumonía vírica» que se habían declarado en Wuhan (República Popular China).\n",
        "\n",
        "Algunos de los síntomas que puede presentar una persona con COVID-19 son, fiebre, tos seca, cansancio, pérdida del gusto y/o del olfato, dolor de garganta, dolor de cabeza, náuseas, vómito, diarrea, etc. El sector de la población con más riesgo son las personas de más de 60 años y las que padecen afecciones médicas subyacentes, como hipertensión arterial, problemas cardíacos o pulmonares, \n",
        "diabetes, obesidad o cáncer, corren un mayor riesgo de presentar cuadros graves. \n",
        "Sin embargo, cualquier persona, a cualquier edad, puede enfermar de COVID-19 y presentar un cuadro grave o morir.    \n",
        "El tiempo entre la exposición a la COVID-19 y el momento en que comienzan los síntomas es, de media, de 5 o 6 días, pero puede variar entre 1 y 14 días. Por ello se recomienda que las personas que hayan estado expuestas al virus se queden en casa, alejadas de otras personas, durante 14 días, con el fin de prevenir la propagación del virus.\n",
        "\n",
        "El COVID-19 ha afectado mucho a la humanidad, han muerto 4.49 M de personas en el mundo y se han enfermado 216 M de personas. De los casi 7,000 profesionales de la salud en el mundo que han perdido la vida por el Covid-19, al menos 1,320 se registraron en México, según un reporte de Amnistía Internacional. La pandemia ha afectado a la economía de todos los países del mundo, los precios de las materias primas cayeron, mientras subió el gasto público para la lucha contra la pandemia que  a consecuencia de esta muchos negocios cerraron, subió el índice de desempleo y aumentó la inseguridad. La deuda fiscal de muchos países se incrementó enormemente. \n",
        "\n",
        "Una herramienta que nos ayude a explorar los datos del COVID-19 ayudaría bastante en distintas áreas principalmente en el área médica, como por ejemplo llevar un control de las muertes, los infectados y los recuperados de las personas no vacunadas y las vacunadas, para poder ver el grado de efectividad que tienen las distintas vacunas y si tienen el mismo grado de efectividad en una persona joven o en una persona de edad avanzada. También estos datos nos ayudarían en la economía, porque con esas cifras los gobiernos sabrían cuánto riesgo tienen las personas al acudir a ciertos establecimientos y así tomar la decisión de abrirlos, cerrarlos o poner un límite de personas, ya una vez que la mayoría o una gran parte de la población se encuentra vacunada. \n"
      ]
    },
    {
      "cell_type": "markdown",
      "metadata": {
        "id": "VTOMhN9nZtrO"
      },
      "source": [
        "# **Descripción de los datos**"
      ]
    },
    {
      "cell_type": "markdown",
      "metadata": {
        "id": "6qmJeKaGZzs3"
      },
      "source": [
        "\n",
        "**Tipo de datos**: Tablas \n",
        "\n",
        "**Descripción de las columnas**: la base de datos cuenta con 16 columnas y otras 4 columnas en otro archivo. \n"
      ]
    },
    {
      "cell_type": "markdown",
      "metadata": {
        "id": "gZiUmfaHaGqZ"
      },
      "source": [
        "\n",
        "\n",
        "*   País - string \n",
        "*   Código ISO del país - string\n",
        "*   Fecha - object (fecha de entrada de los datos) \n",
        "Número total de vacunas - float (número absoluto total de inmunizaciones)\n",
        "*   Número total de personas vacunadas - float\n",
        "*   Número total de personas totalmente vacunadas - float\n",
        "*   Vacunaciones diarias (en bruto) - float\n",
        "*   Vacunaciones totales por cien - float (relación entre el número de vacunaciones y la población total hasta la fecha en el país)\n",
        "*   Número total de personas vacunadas por cada cien - float (Relación entre la población inmunizada y la población total hasta la fecha en el país)\n",
        "*   Número total de personas totalmente vacunadas por cada cien -float (Relación  entre la población totalmente inmunizada y la población total hasta la fecha en el país )\n",
        "*   Número de vacunaciones por día -float\n",
        "*   Vacunaciones diarias por millón - float (relación entre el número de vacunaciones y la población total para la fecha actual en el país)\n",
        "*   Vacunas utilizadas en el país - string\n"
      ]
    },
    {
      "cell_type": "markdown",
      "metadata": {
        "id": "cQHhDZ9Dbi6I"
      },
      "source": [
        "# **Justificación del uso de datos**"
      ]
    },
    {
      "cell_type": "markdown",
      "metadata": {
        "id": "0GQuORqvbl-0"
      },
      "source": [
        "Los datos se recolectaron desde el database de kaggle \"COVID-19 World Vaccination Progress\", el cual incluye dos archivos CSV \"country_vaccinations_by_manufacturer\" & \"country_vaccinations\". \n",
        "\n",
        "\n",
        "De las 2 bases anteriormente mencionadas solamente haremos uso de \"country vaccinations\", esto debido a que la información que nos proporciona es mucho más útil para nuestro objetivo principal. Esta base de datos nos brinda datos sobre las personas totalmente vacunadas, el tipo de vacuna aplicada, las vacunaciones que se realizan diariamente todo con sus respectivas fechas y de todos los países, sin embargo, nuestro enfoque será solamente con México.\n",
        "\n",
        "Teniendo en cuenta los datos que nos proporciona esta base y el uso que le daremos la información que tomaremos en cuenta las personas totalmente vacunadas con su respectiva fecha para hacer el analisis y cumplimiento del objetivo principal. \n",
        "\n",
        "\n",
        "\n",
        "\n",
        "\n",
        "\n",
        "\n",
        "\n",
        "\n",
        "\n",
        "\n",
        "\n",
        "\n",
        "\n",
        "\n",
        "\n",
        "\n",
        "\n",
        "\n",
        "\n",
        "\n",
        "\n",
        " "
      ]
    },
    {
      "cell_type": "markdown",
      "metadata": {
        "id": "BVJtr3HbbpG5"
      },
      "source": [
        "# **Objetivo final**"
      ]
    },
    {
      "cell_type": "markdown",
      "metadata": {
        "id": "avwfz75hb37I"
      },
      "source": [
        "\n",
        "Principal: Prediccion de la fecha en la que volveremos a la \"normalidad\" en México. \n",
        "\n",
        "Secundario: Comparación de México con EUA país con respecto a la vacunación para revisar como se relacionan.\n"
      ]
    },
    {
      "cell_type": "markdown",
      "metadata": {
        "id": "h5DJWMpFb6Wb"
      },
      "source": [
        "# **Preguntas de interés**"
      ]
    },
    {
      "cell_type": "markdown",
      "metadata": {
        "id": "BtkDca4Ebv_a"
      },
      "source": [
        "\n",
        "\n",
        "*   ¿Cuál es el país que ha vacunado a mayor parte de su población?\n",
        "*   ¿Qué país es el que ha tenido menor número de vacunaciones por día?\n",
        "*   ¿Cuál es el país que tiene la menor de su población vacunada?\n",
        "\n",
        "\n"
      ]
    },
    {
      "cell_type": "markdown",
      "metadata": {
        "id": "W7QzpnU6nEDH"
      },
      "source": [
        "# **Limpieza de datos**\n",
        "\n",
        "**Leer el archivo**\n",
        "\n",
        "El primer paso sera importar las librerias las cuales podremos utilizar para la lectura y limpieza de datos. Despues se mandará llamar el archivo el cual esta en formato excel. Para eliminar los posibles simbolos que no se puedan leer utilizaremos encoding."
      ]
    },
    {
      "cell_type": "code",
      "metadata": {
        "id": "I6xaLQlzO7Y1"
      },
      "source": [
        "\n",
        "from google.colab import  files\n",
        "import pandas as pd\n",
        "import numpy as np\n",
        "import seaborn as sns\n",
        "import matplotlib.pyplot as plt\n",
        "fig, ax = plt.subplots()\n",
        "%matplotlib inline\n",
        "import matplotlib as mpl\n",
        "import itertools as it\n",
        "\n",
        "\n"
      ],
      "execution_count": null,
      "outputs": []
    },
    {
      "cell_type": "code",
      "metadata": {
        "id": "0wWJEBE0SNs-"
      },
      "source": [
        "covid = pd.read_csv(\"country_vaccinations.csv\")"
      ],
      "execution_count": null,
      "outputs": []
    },
    {
      "cell_type": "code",
      "metadata": {
        "colab": {
          "base_uri": "https://localhost:8080/"
        },
        "id": "huissKX9b-Hy",
        "outputId": "84779ff0-413d-439d-80fe-a330df3d448d"
      },
      "source": [
        "covid.tipo=pd.read_csv(\"country_vaccinations_by_manufacturer.csv\")"
      ],
      "execution_count": null,
      "outputs": [
        {
          "output_type": "stream",
          "name": "stderr",
          "text": [
            "/usr/local/lib/python3.7/dist-packages/ipykernel_launcher.py:1: UserWarning: Pandas doesn't allow columns to be created via a new attribute name - see https://pandas.pydata.org/pandas-docs/stable/indexing.html#attribute-access\n",
            "  \"\"\"Entry point for launching an IPython kernel.\n"
          ]
        }
      ]
    },
    {
      "cell_type": "markdown",
      "metadata": {
        "id": "cy6W0hBQu5W_"
      },
      "source": [
        "**Tamaño de la base de datos**\n",
        "\n",
        "Se utiliza la función shape para revisar el tamaño de la base de datos. "
      ]
    },
    {
      "cell_type": "code",
      "metadata": {
        "id": "FjFnY6fQVzU2",
        "colab": {
          "base_uri": "https://localhost:8080/"
        },
        "outputId": "350949b7-74ad-49e0-b68e-2886edc89d4e"
      },
      "source": [
        "covid.shape\n",
        "\n"
      ],
      "execution_count": null,
      "outputs": [
        {
          "output_type": "execute_result",
          "data": {
            "text/plain": [
              "(49843, 15)"
            ]
          },
          "metadata": {},
          "execution_count": 4
        }
      ]
    },
    {
      "cell_type": "markdown",
      "metadata": {
        "id": "EVML0KipxPkW"
      },
      "source": [
        "La base de datos cuenta con 40204 filas y 15 columnas. \n",
        "\n",
        "Con la función head, revisaremos nuestros primeros 10 datos de la base de datos y para revisar los ultimos se utilizara la función tail "
      ]
    },
    {
      "cell_type": "code",
      "metadata": {
        "colab": {
          "base_uri": "https://localhost:8080/",
          "height": 719
        },
        "id": "LzsbGnnhcmcY",
        "outputId": "6ad1f3c4-3f5e-4d19-ac85-e6df15d4c714"
      },
      "source": [
        "covid.head(10)"
      ],
      "execution_count": null,
      "outputs": [
        {
          "output_type": "execute_result",
          "data": {
            "text/html": [
              "<div>\n",
              "<style scoped>\n",
              "    .dataframe tbody tr th:only-of-type {\n",
              "        vertical-align: middle;\n",
              "    }\n",
              "\n",
              "    .dataframe tbody tr th {\n",
              "        vertical-align: top;\n",
              "    }\n",
              "\n",
              "    .dataframe thead th {\n",
              "        text-align: right;\n",
              "    }\n",
              "</style>\n",
              "<table border=\"1\" class=\"dataframe\">\n",
              "  <thead>\n",
              "    <tr style=\"text-align: right;\">\n",
              "      <th></th>\n",
              "      <th>country</th>\n",
              "      <th>iso_code</th>\n",
              "      <th>date</th>\n",
              "      <th>total_vaccinations</th>\n",
              "      <th>people_vaccinated</th>\n",
              "      <th>people_fully_vaccinated</th>\n",
              "      <th>daily_vaccinations_raw</th>\n",
              "      <th>daily_vaccinations</th>\n",
              "      <th>total_vaccinations_per_hundred</th>\n",
              "      <th>people_vaccinated_per_hundred</th>\n",
              "      <th>people_fully_vaccinated_per_hundred</th>\n",
              "      <th>daily_vaccinations_per_million</th>\n",
              "      <th>vaccines</th>\n",
              "      <th>source_name</th>\n",
              "      <th>source_website</th>\n",
              "    </tr>\n",
              "  </thead>\n",
              "  <tbody>\n",
              "    <tr>\n",
              "      <th>0</th>\n",
              "      <td>Afghanistan</td>\n",
              "      <td>AFG</td>\n",
              "      <td>2021-02-22</td>\n",
              "      <td>0.0</td>\n",
              "      <td>0.0</td>\n",
              "      <td>NaN</td>\n",
              "      <td>NaN</td>\n",
              "      <td>NaN</td>\n",
              "      <td>0.00</td>\n",
              "      <td>0.00</td>\n",
              "      <td>NaN</td>\n",
              "      <td>NaN</td>\n",
              "      <td>Johnson&amp;Johnson, Oxford/AstraZeneca, Pfizer/Bi...</td>\n",
              "      <td>World Health Organization</td>\n",
              "      <td>https://covid19.who.int/</td>\n",
              "    </tr>\n",
              "    <tr>\n",
              "      <th>1</th>\n",
              "      <td>Afghanistan</td>\n",
              "      <td>AFG</td>\n",
              "      <td>2021-02-23</td>\n",
              "      <td>NaN</td>\n",
              "      <td>NaN</td>\n",
              "      <td>NaN</td>\n",
              "      <td>NaN</td>\n",
              "      <td>1367.0</td>\n",
              "      <td>NaN</td>\n",
              "      <td>NaN</td>\n",
              "      <td>NaN</td>\n",
              "      <td>34.0</td>\n",
              "      <td>Johnson&amp;Johnson, Oxford/AstraZeneca, Pfizer/Bi...</td>\n",
              "      <td>World Health Organization</td>\n",
              "      <td>https://covid19.who.int/</td>\n",
              "    </tr>\n",
              "    <tr>\n",
              "      <th>2</th>\n",
              "      <td>Afghanistan</td>\n",
              "      <td>AFG</td>\n",
              "      <td>2021-02-24</td>\n",
              "      <td>NaN</td>\n",
              "      <td>NaN</td>\n",
              "      <td>NaN</td>\n",
              "      <td>NaN</td>\n",
              "      <td>1367.0</td>\n",
              "      <td>NaN</td>\n",
              "      <td>NaN</td>\n",
              "      <td>NaN</td>\n",
              "      <td>34.0</td>\n",
              "      <td>Johnson&amp;Johnson, Oxford/AstraZeneca, Pfizer/Bi...</td>\n",
              "      <td>World Health Organization</td>\n",
              "      <td>https://covid19.who.int/</td>\n",
              "    </tr>\n",
              "    <tr>\n",
              "      <th>3</th>\n",
              "      <td>Afghanistan</td>\n",
              "      <td>AFG</td>\n",
              "      <td>2021-02-25</td>\n",
              "      <td>NaN</td>\n",
              "      <td>NaN</td>\n",
              "      <td>NaN</td>\n",
              "      <td>NaN</td>\n",
              "      <td>1367.0</td>\n",
              "      <td>NaN</td>\n",
              "      <td>NaN</td>\n",
              "      <td>NaN</td>\n",
              "      <td>34.0</td>\n",
              "      <td>Johnson&amp;Johnson, Oxford/AstraZeneca, Pfizer/Bi...</td>\n",
              "      <td>World Health Organization</td>\n",
              "      <td>https://covid19.who.int/</td>\n",
              "    </tr>\n",
              "    <tr>\n",
              "      <th>4</th>\n",
              "      <td>Afghanistan</td>\n",
              "      <td>AFG</td>\n",
              "      <td>2021-02-26</td>\n",
              "      <td>NaN</td>\n",
              "      <td>NaN</td>\n",
              "      <td>NaN</td>\n",
              "      <td>NaN</td>\n",
              "      <td>1367.0</td>\n",
              "      <td>NaN</td>\n",
              "      <td>NaN</td>\n",
              "      <td>NaN</td>\n",
              "      <td>34.0</td>\n",
              "      <td>Johnson&amp;Johnson, Oxford/AstraZeneca, Pfizer/Bi...</td>\n",
              "      <td>World Health Organization</td>\n",
              "      <td>https://covid19.who.int/</td>\n",
              "    </tr>\n",
              "    <tr>\n",
              "      <th>5</th>\n",
              "      <td>Afghanistan</td>\n",
              "      <td>AFG</td>\n",
              "      <td>2021-02-27</td>\n",
              "      <td>NaN</td>\n",
              "      <td>NaN</td>\n",
              "      <td>NaN</td>\n",
              "      <td>NaN</td>\n",
              "      <td>1367.0</td>\n",
              "      <td>NaN</td>\n",
              "      <td>NaN</td>\n",
              "      <td>NaN</td>\n",
              "      <td>34.0</td>\n",
              "      <td>Johnson&amp;Johnson, Oxford/AstraZeneca, Pfizer/Bi...</td>\n",
              "      <td>World Health Organization</td>\n",
              "      <td>https://covid19.who.int/</td>\n",
              "    </tr>\n",
              "    <tr>\n",
              "      <th>6</th>\n",
              "      <td>Afghanistan</td>\n",
              "      <td>AFG</td>\n",
              "      <td>2021-02-28</td>\n",
              "      <td>8200.0</td>\n",
              "      <td>8200.0</td>\n",
              "      <td>NaN</td>\n",
              "      <td>NaN</td>\n",
              "      <td>1367.0</td>\n",
              "      <td>0.02</td>\n",
              "      <td>0.02</td>\n",
              "      <td>NaN</td>\n",
              "      <td>34.0</td>\n",
              "      <td>Johnson&amp;Johnson, Oxford/AstraZeneca, Pfizer/Bi...</td>\n",
              "      <td>World Health Organization</td>\n",
              "      <td>https://covid19.who.int/</td>\n",
              "    </tr>\n",
              "    <tr>\n",
              "      <th>7</th>\n",
              "      <td>Afghanistan</td>\n",
              "      <td>AFG</td>\n",
              "      <td>2021-03-01</td>\n",
              "      <td>NaN</td>\n",
              "      <td>NaN</td>\n",
              "      <td>NaN</td>\n",
              "      <td>NaN</td>\n",
              "      <td>1580.0</td>\n",
              "      <td>NaN</td>\n",
              "      <td>NaN</td>\n",
              "      <td>NaN</td>\n",
              "      <td>40.0</td>\n",
              "      <td>Johnson&amp;Johnson, Oxford/AstraZeneca, Pfizer/Bi...</td>\n",
              "      <td>World Health Organization</td>\n",
              "      <td>https://covid19.who.int/</td>\n",
              "    </tr>\n",
              "    <tr>\n",
              "      <th>8</th>\n",
              "      <td>Afghanistan</td>\n",
              "      <td>AFG</td>\n",
              "      <td>2021-03-02</td>\n",
              "      <td>NaN</td>\n",
              "      <td>NaN</td>\n",
              "      <td>NaN</td>\n",
              "      <td>NaN</td>\n",
              "      <td>1794.0</td>\n",
              "      <td>NaN</td>\n",
              "      <td>NaN</td>\n",
              "      <td>NaN</td>\n",
              "      <td>45.0</td>\n",
              "      <td>Johnson&amp;Johnson, Oxford/AstraZeneca, Pfizer/Bi...</td>\n",
              "      <td>World Health Organization</td>\n",
              "      <td>https://covid19.who.int/</td>\n",
              "    </tr>\n",
              "    <tr>\n",
              "      <th>9</th>\n",
              "      <td>Afghanistan</td>\n",
              "      <td>AFG</td>\n",
              "      <td>2021-03-03</td>\n",
              "      <td>NaN</td>\n",
              "      <td>NaN</td>\n",
              "      <td>NaN</td>\n",
              "      <td>NaN</td>\n",
              "      <td>2008.0</td>\n",
              "      <td>NaN</td>\n",
              "      <td>NaN</td>\n",
              "      <td>NaN</td>\n",
              "      <td>50.0</td>\n",
              "      <td>Johnson&amp;Johnson, Oxford/AstraZeneca, Pfizer/Bi...</td>\n",
              "      <td>World Health Organization</td>\n",
              "      <td>https://covid19.who.int/</td>\n",
              "    </tr>\n",
              "  </tbody>\n",
              "</table>\n",
              "</div>"
            ],
            "text/plain": [
              "       country iso_code  ...                source_name            source_website\n",
              "0  Afghanistan      AFG  ...  World Health Organization  https://covid19.who.int/\n",
              "1  Afghanistan      AFG  ...  World Health Organization  https://covid19.who.int/\n",
              "2  Afghanistan      AFG  ...  World Health Organization  https://covid19.who.int/\n",
              "3  Afghanistan      AFG  ...  World Health Organization  https://covid19.who.int/\n",
              "4  Afghanistan      AFG  ...  World Health Organization  https://covid19.who.int/\n",
              "5  Afghanistan      AFG  ...  World Health Organization  https://covid19.who.int/\n",
              "6  Afghanistan      AFG  ...  World Health Organization  https://covid19.who.int/\n",
              "7  Afghanistan      AFG  ...  World Health Organization  https://covid19.who.int/\n",
              "8  Afghanistan      AFG  ...  World Health Organization  https://covid19.who.int/\n",
              "9  Afghanistan      AFG  ...  World Health Organization  https://covid19.who.int/\n",
              "\n",
              "[10 rows x 15 columns]"
            ]
          },
          "metadata": {},
          "execution_count": 5
        }
      ]
    },
    {
      "cell_type": "code",
      "metadata": {
        "id": "yLvSU5NocnfD",
        "colab": {
          "base_uri": "https://localhost:8080/",
          "height": 719
        },
        "outputId": "54b30e85-2369-4404-be15-21fcdd903a10"
      },
      "source": [
        "covid.tail(10)"
      ],
      "execution_count": null,
      "outputs": [
        {
          "output_type": "execute_result",
          "data": {
            "text/html": [
              "<div>\n",
              "<style scoped>\n",
              "    .dataframe tbody tr th:only-of-type {\n",
              "        vertical-align: middle;\n",
              "    }\n",
              "\n",
              "    .dataframe tbody tr th {\n",
              "        vertical-align: top;\n",
              "    }\n",
              "\n",
              "    .dataframe thead th {\n",
              "        text-align: right;\n",
              "    }\n",
              "</style>\n",
              "<table border=\"1\" class=\"dataframe\">\n",
              "  <thead>\n",
              "    <tr style=\"text-align: right;\">\n",
              "      <th></th>\n",
              "      <th>country</th>\n",
              "      <th>iso_code</th>\n",
              "      <th>date</th>\n",
              "      <th>total_vaccinations</th>\n",
              "      <th>people_vaccinated</th>\n",
              "      <th>people_fully_vaccinated</th>\n",
              "      <th>daily_vaccinations_raw</th>\n",
              "      <th>daily_vaccinations</th>\n",
              "      <th>total_vaccinations_per_hundred</th>\n",
              "      <th>people_vaccinated_per_hundred</th>\n",
              "      <th>people_fully_vaccinated_per_hundred</th>\n",
              "      <th>daily_vaccinations_per_million</th>\n",
              "      <th>vaccines</th>\n",
              "      <th>source_name</th>\n",
              "      <th>source_website</th>\n",
              "    </tr>\n",
              "  </thead>\n",
              "  <tbody>\n",
              "    <tr>\n",
              "      <th>49833</th>\n",
              "      <td>Zimbabwe</td>\n",
              "      <td>ZWE</td>\n",
              "      <td>2021-09-30</td>\n",
              "      <td>5355820.0</td>\n",
              "      <td>3083764.0</td>\n",
              "      <td>2272056.0</td>\n",
              "      <td>35255.0</td>\n",
              "      <td>27045.0</td>\n",
              "      <td>35.49</td>\n",
              "      <td>20.43</td>\n",
              "      <td>15.05</td>\n",
              "      <td>1792.0</td>\n",
              "      <td>Oxford/AstraZeneca, Sinopharm/Beijing, Sinovac...</td>\n",
              "      <td>Ministry of Health</td>\n",
              "      <td>https://www.arcgis.com/home/webmap/viewer.html...</td>\n",
              "    </tr>\n",
              "    <tr>\n",
              "      <th>49834</th>\n",
              "      <td>Zimbabwe</td>\n",
              "      <td>ZWE</td>\n",
              "      <td>2021-10-01</td>\n",
              "      <td>5387135.0</td>\n",
              "      <td>3097001.0</td>\n",
              "      <td>2290134.0</td>\n",
              "      <td>31315.0</td>\n",
              "      <td>27110.0</td>\n",
              "      <td>35.69</td>\n",
              "      <td>20.52</td>\n",
              "      <td>15.17</td>\n",
              "      <td>1796.0</td>\n",
              "      <td>Oxford/AstraZeneca, Sinopharm/Beijing, Sinovac...</td>\n",
              "      <td>Ministry of Health</td>\n",
              "      <td>https://www.arcgis.com/home/webmap/viewer.html...</td>\n",
              "    </tr>\n",
              "    <tr>\n",
              "      <th>49835</th>\n",
              "      <td>Zimbabwe</td>\n",
              "      <td>ZWE</td>\n",
              "      <td>2021-10-02</td>\n",
              "      <td>5409000.0</td>\n",
              "      <td>3105712.0</td>\n",
              "      <td>2303288.0</td>\n",
              "      <td>21865.0</td>\n",
              "      <td>27190.0</td>\n",
              "      <td>35.84</td>\n",
              "      <td>20.58</td>\n",
              "      <td>15.26</td>\n",
              "      <td>1802.0</td>\n",
              "      <td>Oxford/AstraZeneca, Sinopharm/Beijing, Sinovac...</td>\n",
              "      <td>Ministry of Health</td>\n",
              "      <td>https://www.arcgis.com/home/webmap/viewer.html...</td>\n",
              "    </tr>\n",
              "    <tr>\n",
              "      <th>49836</th>\n",
              "      <td>Zimbabwe</td>\n",
              "      <td>ZWE</td>\n",
              "      <td>2021-10-03</td>\n",
              "      <td>5424753.0</td>\n",
              "      <td>3111495.0</td>\n",
              "      <td>2313258.0</td>\n",
              "      <td>15753.0</td>\n",
              "      <td>27125.0</td>\n",
              "      <td>35.94</td>\n",
              "      <td>20.62</td>\n",
              "      <td>15.33</td>\n",
              "      <td>1797.0</td>\n",
              "      <td>Oxford/AstraZeneca, Sinopharm/Beijing, Sinovac...</td>\n",
              "      <td>Ministry of Health</td>\n",
              "      <td>https://www.arcgis.com/home/webmap/viewer.html...</td>\n",
              "    </tr>\n",
              "    <tr>\n",
              "      <th>49837</th>\n",
              "      <td>Zimbabwe</td>\n",
              "      <td>ZWE</td>\n",
              "      <td>2021-10-04</td>\n",
              "      <td>5441379.0</td>\n",
              "      <td>3117596.0</td>\n",
              "      <td>2323783.0</td>\n",
              "      <td>16626.0</td>\n",
              "      <td>25371.0</td>\n",
              "      <td>36.05</td>\n",
              "      <td>20.66</td>\n",
              "      <td>15.40</td>\n",
              "      <td>1681.0</td>\n",
              "      <td>Oxford/AstraZeneca, Sinopharm/Beijing, Sinovac...</td>\n",
              "      <td>Ministry of Health</td>\n",
              "      <td>https://www.arcgis.com/home/webmap/viewer.html...</td>\n",
              "    </tr>\n",
              "    <tr>\n",
              "      <th>49838</th>\n",
              "      <td>Zimbabwe</td>\n",
              "      <td>ZWE</td>\n",
              "      <td>2021-10-05</td>\n",
              "      <td>5472485.0</td>\n",
              "      <td>3128598.0</td>\n",
              "      <td>2343887.0</td>\n",
              "      <td>31106.0</td>\n",
              "      <td>26024.0</td>\n",
              "      <td>36.26</td>\n",
              "      <td>20.73</td>\n",
              "      <td>15.53</td>\n",
              "      <td>1724.0</td>\n",
              "      <td>Oxford/AstraZeneca, Sinopharm/Beijing, Sinovac...</td>\n",
              "      <td>Ministry of Health</td>\n",
              "      <td>https://www.arcgis.com/home/webmap/viewer.html...</td>\n",
              "    </tr>\n",
              "    <tr>\n",
              "      <th>49839</th>\n",
              "      <td>Zimbabwe</td>\n",
              "      <td>ZWE</td>\n",
              "      <td>2021-10-06</td>\n",
              "      <td>5499530.0</td>\n",
              "      <td>3140386.0</td>\n",
              "      <td>2359144.0</td>\n",
              "      <td>27045.0</td>\n",
              "      <td>25566.0</td>\n",
              "      <td>36.44</td>\n",
              "      <td>20.81</td>\n",
              "      <td>15.63</td>\n",
              "      <td>1694.0</td>\n",
              "      <td>Oxford/AstraZeneca, Sinopharm/Beijing, Sinovac...</td>\n",
              "      <td>Ministry of Health</td>\n",
              "      <td>https://www.arcgis.com/home/webmap/viewer.html...</td>\n",
              "    </tr>\n",
              "    <tr>\n",
              "      <th>49840</th>\n",
              "      <td>Zimbabwe</td>\n",
              "      <td>ZWE</td>\n",
              "      <td>2021-10-07</td>\n",
              "      <td>5527583.0</td>\n",
              "      <td>3152617.0</td>\n",
              "      <td>2374966.0</td>\n",
              "      <td>28053.0</td>\n",
              "      <td>24538.0</td>\n",
              "      <td>36.63</td>\n",
              "      <td>20.89</td>\n",
              "      <td>15.74</td>\n",
              "      <td>1626.0</td>\n",
              "      <td>Oxford/AstraZeneca, Sinopharm/Beijing, Sinovac...</td>\n",
              "      <td>Ministry of Health</td>\n",
              "      <td>https://www.arcgis.com/home/webmap/viewer.html...</td>\n",
              "    </tr>\n",
              "    <tr>\n",
              "      <th>49841</th>\n",
              "      <td>Zimbabwe</td>\n",
              "      <td>ZWE</td>\n",
              "      <td>2021-10-08</td>\n",
              "      <td>NaN</td>\n",
              "      <td>NaN</td>\n",
              "      <td>NaN</td>\n",
              "      <td>NaN</td>\n",
              "      <td>22130.0</td>\n",
              "      <td>NaN</td>\n",
              "      <td>NaN</td>\n",
              "      <td>NaN</td>\n",
              "      <td>1466.0</td>\n",
              "      <td>Oxford/AstraZeneca, Sinopharm/Beijing, Sinovac...</td>\n",
              "      <td>Ministry of Health</td>\n",
              "      <td>https://www.arcgis.com/home/webmap/viewer.html...</td>\n",
              "    </tr>\n",
              "    <tr>\n",
              "      <th>49842</th>\n",
              "      <td>Zimbabwe</td>\n",
              "      <td>ZWE</td>\n",
              "      <td>2021-10-09</td>\n",
              "      <td>5556506.0</td>\n",
              "      <td>3161809.0</td>\n",
              "      <td>2394697.0</td>\n",
              "      <td>NaN</td>\n",
              "      <td>21072.0</td>\n",
              "      <td>36.82</td>\n",
              "      <td>20.95</td>\n",
              "      <td>15.87</td>\n",
              "      <td>1396.0</td>\n",
              "      <td>Oxford/AstraZeneca, Sinopharm/Beijing, Sinovac...</td>\n",
              "      <td>Ministry of Health</td>\n",
              "      <td>https://www.arcgis.com/home/webmap/viewer.html...</td>\n",
              "    </tr>\n",
              "  </tbody>\n",
              "</table>\n",
              "</div>"
            ],
            "text/plain": [
              "        country  ...                                     source_website\n",
              "49833  Zimbabwe  ...  https://www.arcgis.com/home/webmap/viewer.html...\n",
              "49834  Zimbabwe  ...  https://www.arcgis.com/home/webmap/viewer.html...\n",
              "49835  Zimbabwe  ...  https://www.arcgis.com/home/webmap/viewer.html...\n",
              "49836  Zimbabwe  ...  https://www.arcgis.com/home/webmap/viewer.html...\n",
              "49837  Zimbabwe  ...  https://www.arcgis.com/home/webmap/viewer.html...\n",
              "49838  Zimbabwe  ...  https://www.arcgis.com/home/webmap/viewer.html...\n",
              "49839  Zimbabwe  ...  https://www.arcgis.com/home/webmap/viewer.html...\n",
              "49840  Zimbabwe  ...  https://www.arcgis.com/home/webmap/viewer.html...\n",
              "49841  Zimbabwe  ...  https://www.arcgis.com/home/webmap/viewer.html...\n",
              "49842  Zimbabwe  ...  https://www.arcgis.com/home/webmap/viewer.html...\n",
              "\n",
              "[10 rows x 15 columns]"
            ]
          },
          "metadata": {},
          "execution_count": 6
        }
      ]
    },
    {
      "cell_type": "markdown",
      "metadata": {
        "id": "WtN6S8N0yON5"
      },
      "source": [
        "**Manejo de columnas**\n",
        "\n",
        "Para mejor visualización de las columnas, se decidió eliminar las columnas con información no relevante para nuestro objetivo. Para tomar esta decisión primero se mostrara el nombre de las  columnas existentes y después el tipo de dato que contienen respectivamente \n"
      ]
    },
    {
      "cell_type": "code",
      "metadata": {
        "colab": {
          "base_uri": "https://localhost:8080/"
        },
        "id": "NJFSe-AiceKL",
        "outputId": "0e2f300e-efee-4fae-dac5-77da54faa818"
      },
      "source": [
        "covid.columns\n",
        "\n"
      ],
      "execution_count": null,
      "outputs": [
        {
          "output_type": "execute_result",
          "data": {
            "text/plain": [
              "Index(['country', 'iso_code', 'date', 'total_vaccinations',\n",
              "       'people_vaccinated', 'people_fully_vaccinated',\n",
              "       'daily_vaccinations_raw', 'daily_vaccinations',\n",
              "       'total_vaccinations_per_hundred', 'people_vaccinated_per_hundred',\n",
              "       'people_fully_vaccinated_per_hundred', 'daily_vaccinations_per_million',\n",
              "       'vaccines', 'source_name', 'source_website'],\n",
              "      dtype='object')"
            ]
          },
          "metadata": {},
          "execution_count": 7
        }
      ]
    },
    {
      "cell_type": "code",
      "metadata": {
        "colab": {
          "base_uri": "https://localhost:8080/"
        },
        "id": "sk1iVgUIyrFK",
        "outputId": "f44eddbd-812f-4ec4-c431-82c255f4c306"
      },
      "source": [
        "covid.dtypes"
      ],
      "execution_count": null,
      "outputs": [
        {
          "output_type": "execute_result",
          "data": {
            "text/plain": [
              "country                                 object\n",
              "iso_code                                object\n",
              "date                                    object\n",
              "total_vaccinations                     float64\n",
              "people_vaccinated                      float64\n",
              "people_fully_vaccinated                float64\n",
              "daily_vaccinations_raw                 float64\n",
              "daily_vaccinations                     float64\n",
              "total_vaccinations_per_hundred         float64\n",
              "people_vaccinated_per_hundred          float64\n",
              "people_fully_vaccinated_per_hundred    float64\n",
              "daily_vaccinations_per_million         float64\n",
              "vaccines                                object\n",
              "source_name                             object\n",
              "source_website                          object\n",
              "dtype: object"
            ]
          },
          "metadata": {},
          "execution_count": 8
        }
      ]
    },
    {
      "cell_type": "markdown",
      "metadata": {
        "id": "kYkNZ7Qx2uw2"
      },
      "source": [
        "En este apartado podemos ver las columnas que no nos serán útiles para nuestro objetivo, por lo tanto serán eliminadas \n",
        "\n",
        "\n",
        "Estas son las columnas que consideramos innecesarias para nuestro objetivo:\n",
        "\n",
        "\n",
        "*   iso_code Es la abreviación del país, teniendo el nombre del país este dato \n",
        "es redundante\n",
        "*total_vaccinations este es el número absoluto de inmunizaciones totales en el país.\n",
        "*people_vaccinated son para una determinada entrada de datos, el número de vacunaciones para esa fecha/país\n",
        "*daily_vaccinations_raw son para una determinada entrada de datos, el número de vacunaciones para esa fecha/país\n",
        "*total_vaccinations_per_hundred son relación (en porcentaje) entre el número de vacunaciones y la población total hasta la fecha en el país.\n",
        "*people_vaccinated_per_hundred son la relación (en porcentaje) entre la población inmunizada y la población total hasta la fecha en el país.\n",
        "*people_fully_vaccinated_per_hundred  son la relación (en porcentaje) entre la población totalmente inmunizada y la población total hasta la fecha en el país.   \n",
        "*daily_vaccinations_per_million son la relación (en ppm) entre el número de vacunaciones y la población total para la fecha actual en el país.\n",
        "*source_name y source_website Es el nombre y la pagina de la fuente de los datos, esta información útil para saber que los datos son confiables pero no para la minería de datos.\n",
        "\n",
        "Teniendo en cuenta nuestro objetivo estas columnas son innecesarias ya que no tienen relevancia para ayudarnos a saber cuando México va a regresar a la normalidad, en su mayoria presentan datos redundantes para el analisis.  \n",
        "\n",
        "\n"
      ]
    },
    {
      "cell_type": "code",
      "metadata": {
        "id": "V0zNLL-amYeq",
        "colab": {
          "base_uri": "https://localhost:8080/",
          "height": 419
        },
        "outputId": "52073cfe-dbc1-4286-9cfe-e8041753c757"
      },
      "source": [
        "covid1=covid.drop(['iso_code','total_vaccinations','people_vaccinated','daily_vaccinations_raw', 'total_vaccinations_per_hundred', 'people_vaccinated_per_hundred', 'daily_vaccinations_per_million', 'source_name', 'source_website'],axis=1)\n",
        "covid1"
      ],
      "execution_count": null,
      "outputs": [
        {
          "output_type": "execute_result",
          "data": {
            "text/html": [
              "<div>\n",
              "<style scoped>\n",
              "    .dataframe tbody tr th:only-of-type {\n",
              "        vertical-align: middle;\n",
              "    }\n",
              "\n",
              "    .dataframe tbody tr th {\n",
              "        vertical-align: top;\n",
              "    }\n",
              "\n",
              "    .dataframe thead th {\n",
              "        text-align: right;\n",
              "    }\n",
              "</style>\n",
              "<table border=\"1\" class=\"dataframe\">\n",
              "  <thead>\n",
              "    <tr style=\"text-align: right;\">\n",
              "      <th></th>\n",
              "      <th>country</th>\n",
              "      <th>date</th>\n",
              "      <th>people_fully_vaccinated</th>\n",
              "      <th>daily_vaccinations</th>\n",
              "      <th>people_fully_vaccinated_per_hundred</th>\n",
              "      <th>vaccines</th>\n",
              "    </tr>\n",
              "  </thead>\n",
              "  <tbody>\n",
              "    <tr>\n",
              "      <th>0</th>\n",
              "      <td>Afghanistan</td>\n",
              "      <td>2021-02-22</td>\n",
              "      <td>NaN</td>\n",
              "      <td>NaN</td>\n",
              "      <td>NaN</td>\n",
              "      <td>Johnson&amp;Johnson, Oxford/AstraZeneca, Pfizer/Bi...</td>\n",
              "    </tr>\n",
              "    <tr>\n",
              "      <th>1</th>\n",
              "      <td>Afghanistan</td>\n",
              "      <td>2021-02-23</td>\n",
              "      <td>NaN</td>\n",
              "      <td>1367.0</td>\n",
              "      <td>NaN</td>\n",
              "      <td>Johnson&amp;Johnson, Oxford/AstraZeneca, Pfizer/Bi...</td>\n",
              "    </tr>\n",
              "    <tr>\n",
              "      <th>2</th>\n",
              "      <td>Afghanistan</td>\n",
              "      <td>2021-02-24</td>\n",
              "      <td>NaN</td>\n",
              "      <td>1367.0</td>\n",
              "      <td>NaN</td>\n",
              "      <td>Johnson&amp;Johnson, Oxford/AstraZeneca, Pfizer/Bi...</td>\n",
              "    </tr>\n",
              "    <tr>\n",
              "      <th>3</th>\n",
              "      <td>Afghanistan</td>\n",
              "      <td>2021-02-25</td>\n",
              "      <td>NaN</td>\n",
              "      <td>1367.0</td>\n",
              "      <td>NaN</td>\n",
              "      <td>Johnson&amp;Johnson, Oxford/AstraZeneca, Pfizer/Bi...</td>\n",
              "    </tr>\n",
              "    <tr>\n",
              "      <th>4</th>\n",
              "      <td>Afghanistan</td>\n",
              "      <td>2021-02-26</td>\n",
              "      <td>NaN</td>\n",
              "      <td>1367.0</td>\n",
              "      <td>NaN</td>\n",
              "      <td>Johnson&amp;Johnson, Oxford/AstraZeneca, Pfizer/Bi...</td>\n",
              "    </tr>\n",
              "    <tr>\n",
              "      <th>...</th>\n",
              "      <td>...</td>\n",
              "      <td>...</td>\n",
              "      <td>...</td>\n",
              "      <td>...</td>\n",
              "      <td>...</td>\n",
              "      <td>...</td>\n",
              "    </tr>\n",
              "    <tr>\n",
              "      <th>49838</th>\n",
              "      <td>Zimbabwe</td>\n",
              "      <td>2021-10-05</td>\n",
              "      <td>2343887.0</td>\n",
              "      <td>26024.0</td>\n",
              "      <td>15.53</td>\n",
              "      <td>Oxford/AstraZeneca, Sinopharm/Beijing, Sinovac...</td>\n",
              "    </tr>\n",
              "    <tr>\n",
              "      <th>49839</th>\n",
              "      <td>Zimbabwe</td>\n",
              "      <td>2021-10-06</td>\n",
              "      <td>2359144.0</td>\n",
              "      <td>25566.0</td>\n",
              "      <td>15.63</td>\n",
              "      <td>Oxford/AstraZeneca, Sinopharm/Beijing, Sinovac...</td>\n",
              "    </tr>\n",
              "    <tr>\n",
              "      <th>49840</th>\n",
              "      <td>Zimbabwe</td>\n",
              "      <td>2021-10-07</td>\n",
              "      <td>2374966.0</td>\n",
              "      <td>24538.0</td>\n",
              "      <td>15.74</td>\n",
              "      <td>Oxford/AstraZeneca, Sinopharm/Beijing, Sinovac...</td>\n",
              "    </tr>\n",
              "    <tr>\n",
              "      <th>49841</th>\n",
              "      <td>Zimbabwe</td>\n",
              "      <td>2021-10-08</td>\n",
              "      <td>NaN</td>\n",
              "      <td>22130.0</td>\n",
              "      <td>NaN</td>\n",
              "      <td>Oxford/AstraZeneca, Sinopharm/Beijing, Sinovac...</td>\n",
              "    </tr>\n",
              "    <tr>\n",
              "      <th>49842</th>\n",
              "      <td>Zimbabwe</td>\n",
              "      <td>2021-10-09</td>\n",
              "      <td>2394697.0</td>\n",
              "      <td>21072.0</td>\n",
              "      <td>15.87</td>\n",
              "      <td>Oxford/AstraZeneca, Sinopharm/Beijing, Sinovac...</td>\n",
              "    </tr>\n",
              "  </tbody>\n",
              "</table>\n",
              "<p>49843 rows × 6 columns</p>\n",
              "</div>"
            ],
            "text/plain": [
              "           country  ...                                           vaccines\n",
              "0      Afghanistan  ...  Johnson&Johnson, Oxford/AstraZeneca, Pfizer/Bi...\n",
              "1      Afghanistan  ...  Johnson&Johnson, Oxford/AstraZeneca, Pfizer/Bi...\n",
              "2      Afghanistan  ...  Johnson&Johnson, Oxford/AstraZeneca, Pfizer/Bi...\n",
              "3      Afghanistan  ...  Johnson&Johnson, Oxford/AstraZeneca, Pfizer/Bi...\n",
              "4      Afghanistan  ...  Johnson&Johnson, Oxford/AstraZeneca, Pfizer/Bi...\n",
              "...            ...  ...                                                ...\n",
              "49838     Zimbabwe  ...  Oxford/AstraZeneca, Sinopharm/Beijing, Sinovac...\n",
              "49839     Zimbabwe  ...  Oxford/AstraZeneca, Sinopharm/Beijing, Sinovac...\n",
              "49840     Zimbabwe  ...  Oxford/AstraZeneca, Sinopharm/Beijing, Sinovac...\n",
              "49841     Zimbabwe  ...  Oxford/AstraZeneca, Sinopharm/Beijing, Sinovac...\n",
              "49842     Zimbabwe  ...  Oxford/AstraZeneca, Sinopharm/Beijing, Sinovac...\n",
              "\n",
              "[49843 rows x 6 columns]"
            ]
          },
          "metadata": {},
          "execution_count": 96
        }
      ]
    },
    {
      "cell_type": "markdown",
      "metadata": {
        "id": "35iSEscE1Ejy"
      },
      "source": [
        "Como nuestro enfoque solamente es en México eliminaremos las filas que no sean México."
      ]
    },
    {
      "cell_type": "code",
      "metadata": {
        "id": "8aOuYA-i1J6b"
      },
      "source": [
        "vect=covid1[covid1['country']!=\"Mexico\"].index\n",
        "covid2=covid1.drop(vect)"
      ],
      "execution_count": null,
      "outputs": []
    },
    {
      "cell_type": "code",
      "metadata": {
        "colab": {
          "base_uri": "https://localhost:8080/",
          "height": 419
        },
        "id": "NScoUayZlqc0",
        "outputId": "dfd4d031-14da-442f-c237-be1addb82002"
      },
      "source": [
        "covid2"
      ],
      "execution_count": null,
      "outputs": [
        {
          "output_type": "execute_result",
          "data": {
            "text/html": [
              "<div>\n",
              "<style scoped>\n",
              "    .dataframe tbody tr th:only-of-type {\n",
              "        vertical-align: middle;\n",
              "    }\n",
              "\n",
              "    .dataframe tbody tr th {\n",
              "        vertical-align: top;\n",
              "    }\n",
              "\n",
              "    .dataframe thead th {\n",
              "        text-align: right;\n",
              "    }\n",
              "</style>\n",
              "<table border=\"1\" class=\"dataframe\">\n",
              "  <thead>\n",
              "    <tr style=\"text-align: right;\">\n",
              "      <th></th>\n",
              "      <th>country</th>\n",
              "      <th>date</th>\n",
              "      <th>people_fully_vaccinated</th>\n",
              "      <th>daily_vaccinations</th>\n",
              "      <th>people_fully_vaccinated_per_hundred</th>\n",
              "      <th>vaccines</th>\n",
              "    </tr>\n",
              "  </thead>\n",
              "  <tbody>\n",
              "    <tr>\n",
              "      <th>28655</th>\n",
              "      <td>Mexico</td>\n",
              "      <td>2020-12-24</td>\n",
              "      <td>NaN</td>\n",
              "      <td>NaN</td>\n",
              "      <td>NaN</td>\n",
              "      <td>CanSino, Johnson&amp;Johnson, Moderna, Oxford/Astr...</td>\n",
              "    </tr>\n",
              "    <tr>\n",
              "      <th>28656</th>\n",
              "      <td>Mexico</td>\n",
              "      <td>2020-12-25</td>\n",
              "      <td>NaN</td>\n",
              "      <td>1300.0</td>\n",
              "      <td>NaN</td>\n",
              "      <td>CanSino, Johnson&amp;Johnson, Moderna, Oxford/Astr...</td>\n",
              "    </tr>\n",
              "    <tr>\n",
              "      <th>28657</th>\n",
              "      <td>Mexico</td>\n",
              "      <td>2020-12-26</td>\n",
              "      <td>NaN</td>\n",
              "      <td>1300.0</td>\n",
              "      <td>NaN</td>\n",
              "      <td>CanSino, Johnson&amp;Johnson, Moderna, Oxford/Astr...</td>\n",
              "    </tr>\n",
              "    <tr>\n",
              "      <th>28658</th>\n",
              "      <td>Mexico</td>\n",
              "      <td>2020-12-27</td>\n",
              "      <td>NaN</td>\n",
              "      <td>1300.0</td>\n",
              "      <td>NaN</td>\n",
              "      <td>CanSino, Johnson&amp;Johnson, Moderna, Oxford/Astr...</td>\n",
              "    </tr>\n",
              "    <tr>\n",
              "      <th>28659</th>\n",
              "      <td>Mexico</td>\n",
              "      <td>2020-12-28</td>\n",
              "      <td>NaN</td>\n",
              "      <td>1664.0</td>\n",
              "      <td>NaN</td>\n",
              "      <td>CanSino, Johnson&amp;Johnson, Moderna, Oxford/Astr...</td>\n",
              "    </tr>\n",
              "    <tr>\n",
              "      <th>...</th>\n",
              "      <td>...</td>\n",
              "      <td>...</td>\n",
              "      <td>...</td>\n",
              "      <td>...</td>\n",
              "      <td>...</td>\n",
              "      <td>...</td>\n",
              "    </tr>\n",
              "    <tr>\n",
              "      <th>28939</th>\n",
              "      <td>Mexico</td>\n",
              "      <td>2021-10-04</td>\n",
              "      <td>46309831.0</td>\n",
              "      <td>669396.0</td>\n",
              "      <td>35.55</td>\n",
              "      <td>CanSino, Johnson&amp;Johnson, Moderna, Oxford/Astr...</td>\n",
              "    </tr>\n",
              "    <tr>\n",
              "      <th>28940</th>\n",
              "      <td>Mexico</td>\n",
              "      <td>2021-10-05</td>\n",
              "      <td>NaN</td>\n",
              "      <td>631482.0</td>\n",
              "      <td>NaN</td>\n",
              "      <td>CanSino, Johnson&amp;Johnson, Moderna, Oxford/Astr...</td>\n",
              "    </tr>\n",
              "    <tr>\n",
              "      <th>28941</th>\n",
              "      <td>Mexico</td>\n",
              "      <td>2021-10-06</td>\n",
              "      <td>46986802.0</td>\n",
              "      <td>589964.0</td>\n",
              "      <td>36.07</td>\n",
              "      <td>CanSino, Johnson&amp;Johnson, Moderna, Oxford/Astr...</td>\n",
              "    </tr>\n",
              "    <tr>\n",
              "      <th>28942</th>\n",
              "      <td>Mexico</td>\n",
              "      <td>2021-10-07</td>\n",
              "      <td>47692378.0</td>\n",
              "      <td>619924.0</td>\n",
              "      <td>36.61</td>\n",
              "      <td>CanSino, Johnson&amp;Johnson, Moderna, Oxford/Astr...</td>\n",
              "    </tr>\n",
              "    <tr>\n",
              "      <th>28943</th>\n",
              "      <td>Mexico</td>\n",
              "      <td>2021-10-08</td>\n",
              "      <td>48166370.0</td>\n",
              "      <td>645398.0</td>\n",
              "      <td>36.98</td>\n",
              "      <td>CanSino, Johnson&amp;Johnson, Moderna, Oxford/Astr...</td>\n",
              "    </tr>\n",
              "  </tbody>\n",
              "</table>\n",
              "<p>289 rows × 6 columns</p>\n",
              "</div>"
            ],
            "text/plain": [
              "      country  ...                                           vaccines\n",
              "28655  Mexico  ...  CanSino, Johnson&Johnson, Moderna, Oxford/Astr...\n",
              "28656  Mexico  ...  CanSino, Johnson&Johnson, Moderna, Oxford/Astr...\n",
              "28657  Mexico  ...  CanSino, Johnson&Johnson, Moderna, Oxford/Astr...\n",
              "28658  Mexico  ...  CanSino, Johnson&Johnson, Moderna, Oxford/Astr...\n",
              "28659  Mexico  ...  CanSino, Johnson&Johnson, Moderna, Oxford/Astr...\n",
              "...       ...  ...                                                ...\n",
              "28939  Mexico  ...  CanSino, Johnson&Johnson, Moderna, Oxford/Astr...\n",
              "28940  Mexico  ...  CanSino, Johnson&Johnson, Moderna, Oxford/Astr...\n",
              "28941  Mexico  ...  CanSino, Johnson&Johnson, Moderna, Oxford/Astr...\n",
              "28942  Mexico  ...  CanSino, Johnson&Johnson, Moderna, Oxford/Astr...\n",
              "28943  Mexico  ...  CanSino, Johnson&Johnson, Moderna, Oxford/Astr...\n",
              "\n",
              "[289 rows x 6 columns]"
            ]
          },
          "metadata": {},
          "execution_count": 98
        }
      ]
    },
    {
      "cell_type": "markdown",
      "metadata": {
        "id": "cFEZZWeK7-bq"
      },
      "source": [
        "En el siguiente apartado se identificarán los espacios nulos y se interpolarán"
      ]
    },
    {
      "cell_type": "code",
      "metadata": {
        "colab": {
          "base_uri": "https://localhost:8080/"
        },
        "id": "p1NQUdN-zZXi",
        "outputId": "6d0fbb2c-ba38-4632-860e-62a287bcd547"
      },
      "source": [
        "covid2.isnull().any()"
      ],
      "execution_count": null,
      "outputs": [
        {
          "output_type": "execute_result",
          "data": {
            "text/plain": [
              "country                                False\n",
              "date                                   False\n",
              "people_fully_vaccinated                 True\n",
              "daily_vaccinations                      True\n",
              "people_fully_vaccinated_per_hundred     True\n",
              "vaccines                               False\n",
              "dtype: bool"
            ]
          },
          "metadata": {},
          "execution_count": 99
        }
      ]
    },
    {
      "cell_type": "code",
      "metadata": {
        "id": "dOVWO_nK07C4"
      },
      "source": [
        "covid2_pfv=covid2['people_fully_vaccinated'].values.tolist()\n",
        "covid2_pfv_int = pd.Series(covid2_pfv)\n",
        "covid2_pfv_int=covid2_pfv_int.interpolate()\n",
        "covid2_pfv_int = np.nan_to_num(covid2_pfv_int)"
      ],
      "execution_count": null,
      "outputs": []
    },
    {
      "cell_type": "markdown",
      "metadata": {
        "id": "28JdkgOKe2zd"
      },
      "source": [
        "Interpolamos los datos de las personas totalmente vacunadas y eliminamos los datos nulos"
      ]
    },
    {
      "cell_type": "code",
      "metadata": {
        "id": "h802CaYGenL5"
      },
      "source": [
        "covid2_pfvh=covid2['people_fully_vaccinated_per_hundred'].values.tolist()\n",
        "covid2_pfvh_int = pd.Series(covid2_pfvh)\n",
        "covid2_pfvh_int=covid2_pfvh_int.interpolate()\n",
        "covid2_pfvh_int = np.nan_to_num(covid2_pfvh_int)"
      ],
      "execution_count": null,
      "outputs": []
    },
    {
      "cell_type": "markdown",
      "metadata": {
        "id": "l-yPAmcMfo0e"
      },
      "source": [
        "Realizamos el mismo procedimiento de arriba pero para la columna de personas totalmente vacunadas por cien"
      ]
    },
    {
      "cell_type": "code",
      "metadata": {
        "id": "JBjD3_edgDoX"
      },
      "source": [
        "covid2['people_fully_vaccinated_interplated'] = covid2_pfv_int.tolist()\n",
        "covid2['people_fully_vaccinated_per_hundred_interplated'] = covid2_pfvh_int.tolist()"
      ],
      "execution_count": null,
      "outputs": []
    },
    {
      "cell_type": "markdown",
      "metadata": {
        "id": "q2JjH2jagL2l"
      },
      "source": [
        "Agregamos las columnas al data frame"
      ]
    },
    {
      "cell_type": "code",
      "metadata": {
        "colab": {
          "base_uri": "https://localhost:8080/",
          "height": 949
        },
        "id": "HN9UUBUdzwbd",
        "outputId": "4f2104b9-5f86-42bb-8550-6c7e6147d2fd"
      },
      "source": [
        "covid2"
      ],
      "execution_count": null,
      "outputs": [
        {
          "output_type": "execute_result",
          "data": {
            "text/html": [
              "<div>\n",
              "<style scoped>\n",
              "    .dataframe tbody tr th:only-of-type {\n",
              "        vertical-align: middle;\n",
              "    }\n",
              "\n",
              "    .dataframe tbody tr th {\n",
              "        vertical-align: top;\n",
              "    }\n",
              "\n",
              "    .dataframe thead th {\n",
              "        text-align: right;\n",
              "    }\n",
              "</style>\n",
              "<table border=\"1\" class=\"dataframe\">\n",
              "  <thead>\n",
              "    <tr style=\"text-align: right;\">\n",
              "      <th></th>\n",
              "      <th>country</th>\n",
              "      <th>date</th>\n",
              "      <th>people_fully_vaccinated</th>\n",
              "      <th>daily_vaccinations</th>\n",
              "      <th>people_fully_vaccinated_per_hundred</th>\n",
              "      <th>vaccines</th>\n",
              "      <th>people_fully_vaccinated_interplated</th>\n",
              "      <th>people_fully_vaccinated_per_hundred_interplated</th>\n",
              "    </tr>\n",
              "  </thead>\n",
              "  <tbody>\n",
              "    <tr>\n",
              "      <th>28655</th>\n",
              "      <td>Mexico</td>\n",
              "      <td>2020-12-24</td>\n",
              "      <td>NaN</td>\n",
              "      <td>NaN</td>\n",
              "      <td>NaN</td>\n",
              "      <td>CanSino, Johnson&amp;Johnson, Moderna, Oxford/Astr...</td>\n",
              "      <td>0.0</td>\n",
              "      <td>0.00</td>\n",
              "    </tr>\n",
              "    <tr>\n",
              "      <th>28656</th>\n",
              "      <td>Mexico</td>\n",
              "      <td>2020-12-25</td>\n",
              "      <td>NaN</td>\n",
              "      <td>1300.0</td>\n",
              "      <td>NaN</td>\n",
              "      <td>CanSino, Johnson&amp;Johnson, Moderna, Oxford/Astr...</td>\n",
              "      <td>0.0</td>\n",
              "      <td>0.00</td>\n",
              "    </tr>\n",
              "    <tr>\n",
              "      <th>28657</th>\n",
              "      <td>Mexico</td>\n",
              "      <td>2020-12-26</td>\n",
              "      <td>NaN</td>\n",
              "      <td>1300.0</td>\n",
              "      <td>NaN</td>\n",
              "      <td>CanSino, Johnson&amp;Johnson, Moderna, Oxford/Astr...</td>\n",
              "      <td>0.0</td>\n",
              "      <td>0.00</td>\n",
              "    </tr>\n",
              "    <tr>\n",
              "      <th>28658</th>\n",
              "      <td>Mexico</td>\n",
              "      <td>2020-12-27</td>\n",
              "      <td>NaN</td>\n",
              "      <td>1300.0</td>\n",
              "      <td>NaN</td>\n",
              "      <td>CanSino, Johnson&amp;Johnson, Moderna, Oxford/Astr...</td>\n",
              "      <td>0.0</td>\n",
              "      <td>0.00</td>\n",
              "    </tr>\n",
              "    <tr>\n",
              "      <th>28659</th>\n",
              "      <td>Mexico</td>\n",
              "      <td>2020-12-28</td>\n",
              "      <td>NaN</td>\n",
              "      <td>1664.0</td>\n",
              "      <td>NaN</td>\n",
              "      <td>CanSino, Johnson&amp;Johnson, Moderna, Oxford/Astr...</td>\n",
              "      <td>0.0</td>\n",
              "      <td>0.00</td>\n",
              "    </tr>\n",
              "    <tr>\n",
              "      <th>...</th>\n",
              "      <td>...</td>\n",
              "      <td>...</td>\n",
              "      <td>...</td>\n",
              "      <td>...</td>\n",
              "      <td>...</td>\n",
              "      <td>...</td>\n",
              "      <td>...</td>\n",
              "      <td>...</td>\n",
              "    </tr>\n",
              "    <tr>\n",
              "      <th>28939</th>\n",
              "      <td>Mexico</td>\n",
              "      <td>2021-10-04</td>\n",
              "      <td>46309831.0</td>\n",
              "      <td>669396.0</td>\n",
              "      <td>35.55</td>\n",
              "      <td>CanSino, Johnson&amp;Johnson, Moderna, Oxford/Astr...</td>\n",
              "      <td>46309831.0</td>\n",
              "      <td>35.55</td>\n",
              "    </tr>\n",
              "    <tr>\n",
              "      <th>28940</th>\n",
              "      <td>Mexico</td>\n",
              "      <td>2021-10-05</td>\n",
              "      <td>NaN</td>\n",
              "      <td>631482.0</td>\n",
              "      <td>NaN</td>\n",
              "      <td>CanSino, Johnson&amp;Johnson, Moderna, Oxford/Astr...</td>\n",
              "      <td>46648316.5</td>\n",
              "      <td>35.81</td>\n",
              "    </tr>\n",
              "    <tr>\n",
              "      <th>28941</th>\n",
              "      <td>Mexico</td>\n",
              "      <td>2021-10-06</td>\n",
              "      <td>46986802.0</td>\n",
              "      <td>589964.0</td>\n",
              "      <td>36.07</td>\n",
              "      <td>CanSino, Johnson&amp;Johnson, Moderna, Oxford/Astr...</td>\n",
              "      <td>46986802.0</td>\n",
              "      <td>36.07</td>\n",
              "    </tr>\n",
              "    <tr>\n",
              "      <th>28942</th>\n",
              "      <td>Mexico</td>\n",
              "      <td>2021-10-07</td>\n",
              "      <td>47692378.0</td>\n",
              "      <td>619924.0</td>\n",
              "      <td>36.61</td>\n",
              "      <td>CanSino, Johnson&amp;Johnson, Moderna, Oxford/Astr...</td>\n",
              "      <td>47692378.0</td>\n",
              "      <td>36.61</td>\n",
              "    </tr>\n",
              "    <tr>\n",
              "      <th>28943</th>\n",
              "      <td>Mexico</td>\n",
              "      <td>2021-10-08</td>\n",
              "      <td>48166370.0</td>\n",
              "      <td>645398.0</td>\n",
              "      <td>36.98</td>\n",
              "      <td>CanSino, Johnson&amp;Johnson, Moderna, Oxford/Astr...</td>\n",
              "      <td>48166370.0</td>\n",
              "      <td>36.98</td>\n",
              "    </tr>\n",
              "  </tbody>\n",
              "</table>\n",
              "<p>289 rows × 8 columns</p>\n",
              "</div>"
            ],
            "text/plain": [
              "      country  ... people_fully_vaccinated_per_hundred_interplated\n",
              "28655  Mexico  ...                                            0.00\n",
              "28656  Mexico  ...                                            0.00\n",
              "28657  Mexico  ...                                            0.00\n",
              "28658  Mexico  ...                                            0.00\n",
              "28659  Mexico  ...                                            0.00\n",
              "...       ...  ...                                             ...\n",
              "28939  Mexico  ...                                           35.55\n",
              "28940  Mexico  ...                                           35.81\n",
              "28941  Mexico  ...                                           36.07\n",
              "28942  Mexico  ...                                           36.61\n",
              "28943  Mexico  ...                                           36.98\n",
              "\n",
              "[289 rows x 8 columns]"
            ]
          },
          "metadata": {},
          "execution_count": 103
        }
      ]
    },
    {
      "cell_type": "markdown",
      "metadata": {
        "id": "Rlfp_Rm1gl0z"
      },
      "source": [
        "Ahora que tenemos las columnas de nuestro intéres sin errores, eliminaremos las originales"
      ]
    },
    {
      "cell_type": "code",
      "metadata": {
        "id": "a8LkYBtGg1tm"
      },
      "source": [
        "covid3=covid2.drop(['people_fully_vaccinated', 'people_fully_vaccinated_per_hundred'],axis=1)"
      ],
      "execution_count": null,
      "outputs": []
    },
    {
      "cell_type": "code",
      "metadata": {
        "colab": {
          "base_uri": "https://localhost:8080/",
          "height": 589
        },
        "id": "EqXGmYq8heaL",
        "outputId": "f8b79a40-b5f5-4746-f9aa-4dd64b74ccf0"
      },
      "source": [
        "covid3"
      ],
      "execution_count": null,
      "outputs": [
        {
          "output_type": "execute_result",
          "data": {
            "text/html": [
              "<div>\n",
              "<style scoped>\n",
              "    .dataframe tbody tr th:only-of-type {\n",
              "        vertical-align: middle;\n",
              "    }\n",
              "\n",
              "    .dataframe tbody tr th {\n",
              "        vertical-align: top;\n",
              "    }\n",
              "\n",
              "    .dataframe thead th {\n",
              "        text-align: right;\n",
              "    }\n",
              "</style>\n",
              "<table border=\"1\" class=\"dataframe\">\n",
              "  <thead>\n",
              "    <tr style=\"text-align: right;\">\n",
              "      <th></th>\n",
              "      <th>country</th>\n",
              "      <th>date</th>\n",
              "      <th>daily_vaccinations</th>\n",
              "      <th>vaccines</th>\n",
              "      <th>people_fully_vaccinated_interplated</th>\n",
              "      <th>people_fully_vaccinated_per_hundred_interplated</th>\n",
              "    </tr>\n",
              "  </thead>\n",
              "  <tbody>\n",
              "    <tr>\n",
              "      <th>28655</th>\n",
              "      <td>Mexico</td>\n",
              "      <td>2020-12-24</td>\n",
              "      <td>NaN</td>\n",
              "      <td>CanSino, Johnson&amp;Johnson, Moderna, Oxford/Astr...</td>\n",
              "      <td>0.0</td>\n",
              "      <td>0.00</td>\n",
              "    </tr>\n",
              "    <tr>\n",
              "      <th>28656</th>\n",
              "      <td>Mexico</td>\n",
              "      <td>2020-12-25</td>\n",
              "      <td>1300.0</td>\n",
              "      <td>CanSino, Johnson&amp;Johnson, Moderna, Oxford/Astr...</td>\n",
              "      <td>0.0</td>\n",
              "      <td>0.00</td>\n",
              "    </tr>\n",
              "    <tr>\n",
              "      <th>28657</th>\n",
              "      <td>Mexico</td>\n",
              "      <td>2020-12-26</td>\n",
              "      <td>1300.0</td>\n",
              "      <td>CanSino, Johnson&amp;Johnson, Moderna, Oxford/Astr...</td>\n",
              "      <td>0.0</td>\n",
              "      <td>0.00</td>\n",
              "    </tr>\n",
              "    <tr>\n",
              "      <th>28658</th>\n",
              "      <td>Mexico</td>\n",
              "      <td>2020-12-27</td>\n",
              "      <td>1300.0</td>\n",
              "      <td>CanSino, Johnson&amp;Johnson, Moderna, Oxford/Astr...</td>\n",
              "      <td>0.0</td>\n",
              "      <td>0.00</td>\n",
              "    </tr>\n",
              "    <tr>\n",
              "      <th>28659</th>\n",
              "      <td>Mexico</td>\n",
              "      <td>2020-12-28</td>\n",
              "      <td>1664.0</td>\n",
              "      <td>CanSino, Johnson&amp;Johnson, Moderna, Oxford/Astr...</td>\n",
              "      <td>0.0</td>\n",
              "      <td>0.00</td>\n",
              "    </tr>\n",
              "    <tr>\n",
              "      <th>...</th>\n",
              "      <td>...</td>\n",
              "      <td>...</td>\n",
              "      <td>...</td>\n",
              "      <td>...</td>\n",
              "      <td>...</td>\n",
              "      <td>...</td>\n",
              "    </tr>\n",
              "    <tr>\n",
              "      <th>28939</th>\n",
              "      <td>Mexico</td>\n",
              "      <td>2021-10-04</td>\n",
              "      <td>669396.0</td>\n",
              "      <td>CanSino, Johnson&amp;Johnson, Moderna, Oxford/Astr...</td>\n",
              "      <td>46309831.0</td>\n",
              "      <td>35.55</td>\n",
              "    </tr>\n",
              "    <tr>\n",
              "      <th>28940</th>\n",
              "      <td>Mexico</td>\n",
              "      <td>2021-10-05</td>\n",
              "      <td>631482.0</td>\n",
              "      <td>CanSino, Johnson&amp;Johnson, Moderna, Oxford/Astr...</td>\n",
              "      <td>46648316.5</td>\n",
              "      <td>35.81</td>\n",
              "    </tr>\n",
              "    <tr>\n",
              "      <th>28941</th>\n",
              "      <td>Mexico</td>\n",
              "      <td>2021-10-06</td>\n",
              "      <td>589964.0</td>\n",
              "      <td>CanSino, Johnson&amp;Johnson, Moderna, Oxford/Astr...</td>\n",
              "      <td>46986802.0</td>\n",
              "      <td>36.07</td>\n",
              "    </tr>\n",
              "    <tr>\n",
              "      <th>28942</th>\n",
              "      <td>Mexico</td>\n",
              "      <td>2021-10-07</td>\n",
              "      <td>619924.0</td>\n",
              "      <td>CanSino, Johnson&amp;Johnson, Moderna, Oxford/Astr...</td>\n",
              "      <td>47692378.0</td>\n",
              "      <td>36.61</td>\n",
              "    </tr>\n",
              "    <tr>\n",
              "      <th>28943</th>\n",
              "      <td>Mexico</td>\n",
              "      <td>2021-10-08</td>\n",
              "      <td>645398.0</td>\n",
              "      <td>CanSino, Johnson&amp;Johnson, Moderna, Oxford/Astr...</td>\n",
              "      <td>48166370.0</td>\n",
              "      <td>36.98</td>\n",
              "    </tr>\n",
              "  </tbody>\n",
              "</table>\n",
              "<p>289 rows × 6 columns</p>\n",
              "</div>"
            ],
            "text/plain": [
              "      country  ... people_fully_vaccinated_per_hundred_interplated\n",
              "28655  Mexico  ...                                            0.00\n",
              "28656  Mexico  ...                                            0.00\n",
              "28657  Mexico  ...                                            0.00\n",
              "28658  Mexico  ...                                            0.00\n",
              "28659  Mexico  ...                                            0.00\n",
              "...       ...  ...                                             ...\n",
              "28939  Mexico  ...                                           35.55\n",
              "28940  Mexico  ...                                           35.81\n",
              "28941  Mexico  ...                                           36.07\n",
              "28942  Mexico  ...                                           36.61\n",
              "28943  Mexico  ...                                           36.98\n",
              "\n",
              "[289 rows x 6 columns]"
            ]
          },
          "metadata": {},
          "execution_count": 105
        }
      ]
    },
    {
      "cell_type": "code",
      "metadata": {
        "id": "BIMgPClP0eZA",
        "colab": {
          "base_uri": "https://localhost:8080/"
        },
        "outputId": "44e6ce87-ea3a-4fc3-a15b-a18ce7fdeed0"
      },
      "source": [
        "covid3.isnull().any()"
      ],
      "execution_count": null,
      "outputs": [
        {
          "output_type": "execute_result",
          "data": {
            "text/plain": [
              "country                                            False\n",
              "date                                               False\n",
              "daily_vaccinations                                  True\n",
              "vaccines                                           False\n",
              "people_fully_vaccinated_interplated                False\n",
              "people_fully_vaccinated_per_hundred_interplated    False\n",
              "dtype: bool"
            ]
          },
          "metadata": {},
          "execution_count": 106
        }
      ]
    },
    {
      "cell_type": "markdown",
      "metadata": {
        "id": "1hMD1phD7zHG"
      },
      "source": [
        "A continuación se cambiará el nombre de las columnas, para que sea más fácil identificarlas "
      ]
    },
    {
      "cell_type": "code",
      "metadata": {
        "id": "kGTsBcKH2cVo",
        "colab": {
          "base_uri": "https://localhost:8080/",
          "height": 759
        },
        "outputId": "3749a507-1e07-43e4-b64a-03bbb9845e66"
      },
      "source": [
        "covid3.rename(columns={'country':'Pais'}, inplace = True)\n",
        "covid3.rename(columns={'date':'Fecha'}, inplace = True)\n",
        "covid3.rename(columns={'daily_vaccinations':'Vacunaciones_diarias'},inplace = True)\n",
        "covid3.rename(columns={'vaccines':'Vacunas'},inplace = True)\n",
        "covid3.rename(columns={'people_fully_vaccinated_interplated':'Personas_completamente_vacunadas_inter'}, inplace = True)\n",
        "covid3.rename(columns={'people_fully_vaccinated_per_hundred_interplated':'Personas_completamente_vacunadas_por_cien_inter'}, inplace = True)\n",
        "\n",
        "covid3\n"
      ],
      "execution_count": null,
      "outputs": [
        {
          "output_type": "execute_result",
          "data": {
            "text/html": [
              "<div>\n",
              "<style scoped>\n",
              "    .dataframe tbody tr th:only-of-type {\n",
              "        vertical-align: middle;\n",
              "    }\n",
              "\n",
              "    .dataframe tbody tr th {\n",
              "        vertical-align: top;\n",
              "    }\n",
              "\n",
              "    .dataframe thead th {\n",
              "        text-align: right;\n",
              "    }\n",
              "</style>\n",
              "<table border=\"1\" class=\"dataframe\">\n",
              "  <thead>\n",
              "    <tr style=\"text-align: right;\">\n",
              "      <th></th>\n",
              "      <th>Pais</th>\n",
              "      <th>Fecha</th>\n",
              "      <th>Vacunaciones_diarias</th>\n",
              "      <th>Vacunas</th>\n",
              "      <th>Personas_completamente_vacunadas_inter</th>\n",
              "      <th>Personas_completamente_vacunadas_por_cien_inter</th>\n",
              "    </tr>\n",
              "  </thead>\n",
              "  <tbody>\n",
              "    <tr>\n",
              "      <th>28655</th>\n",
              "      <td>Mexico</td>\n",
              "      <td>2020-12-24</td>\n",
              "      <td>NaN</td>\n",
              "      <td>CanSino, Johnson&amp;Johnson, Moderna, Oxford/Astr...</td>\n",
              "      <td>0.0</td>\n",
              "      <td>0.00</td>\n",
              "    </tr>\n",
              "    <tr>\n",
              "      <th>28656</th>\n",
              "      <td>Mexico</td>\n",
              "      <td>2020-12-25</td>\n",
              "      <td>1300.0</td>\n",
              "      <td>CanSino, Johnson&amp;Johnson, Moderna, Oxford/Astr...</td>\n",
              "      <td>0.0</td>\n",
              "      <td>0.00</td>\n",
              "    </tr>\n",
              "    <tr>\n",
              "      <th>28657</th>\n",
              "      <td>Mexico</td>\n",
              "      <td>2020-12-26</td>\n",
              "      <td>1300.0</td>\n",
              "      <td>CanSino, Johnson&amp;Johnson, Moderna, Oxford/Astr...</td>\n",
              "      <td>0.0</td>\n",
              "      <td>0.00</td>\n",
              "    </tr>\n",
              "    <tr>\n",
              "      <th>28658</th>\n",
              "      <td>Mexico</td>\n",
              "      <td>2020-12-27</td>\n",
              "      <td>1300.0</td>\n",
              "      <td>CanSino, Johnson&amp;Johnson, Moderna, Oxford/Astr...</td>\n",
              "      <td>0.0</td>\n",
              "      <td>0.00</td>\n",
              "    </tr>\n",
              "    <tr>\n",
              "      <th>28659</th>\n",
              "      <td>Mexico</td>\n",
              "      <td>2020-12-28</td>\n",
              "      <td>1664.0</td>\n",
              "      <td>CanSino, Johnson&amp;Johnson, Moderna, Oxford/Astr...</td>\n",
              "      <td>0.0</td>\n",
              "      <td>0.00</td>\n",
              "    </tr>\n",
              "    <tr>\n",
              "      <th>...</th>\n",
              "      <td>...</td>\n",
              "      <td>...</td>\n",
              "      <td>...</td>\n",
              "      <td>...</td>\n",
              "      <td>...</td>\n",
              "      <td>...</td>\n",
              "    </tr>\n",
              "    <tr>\n",
              "      <th>28939</th>\n",
              "      <td>Mexico</td>\n",
              "      <td>2021-10-04</td>\n",
              "      <td>669396.0</td>\n",
              "      <td>CanSino, Johnson&amp;Johnson, Moderna, Oxford/Astr...</td>\n",
              "      <td>46309831.0</td>\n",
              "      <td>35.55</td>\n",
              "    </tr>\n",
              "    <tr>\n",
              "      <th>28940</th>\n",
              "      <td>Mexico</td>\n",
              "      <td>2021-10-05</td>\n",
              "      <td>631482.0</td>\n",
              "      <td>CanSino, Johnson&amp;Johnson, Moderna, Oxford/Astr...</td>\n",
              "      <td>46648316.5</td>\n",
              "      <td>35.81</td>\n",
              "    </tr>\n",
              "    <tr>\n",
              "      <th>28941</th>\n",
              "      <td>Mexico</td>\n",
              "      <td>2021-10-06</td>\n",
              "      <td>589964.0</td>\n",
              "      <td>CanSino, Johnson&amp;Johnson, Moderna, Oxford/Astr...</td>\n",
              "      <td>46986802.0</td>\n",
              "      <td>36.07</td>\n",
              "    </tr>\n",
              "    <tr>\n",
              "      <th>28942</th>\n",
              "      <td>Mexico</td>\n",
              "      <td>2021-10-07</td>\n",
              "      <td>619924.0</td>\n",
              "      <td>CanSino, Johnson&amp;Johnson, Moderna, Oxford/Astr...</td>\n",
              "      <td>47692378.0</td>\n",
              "      <td>36.61</td>\n",
              "    </tr>\n",
              "    <tr>\n",
              "      <th>28943</th>\n",
              "      <td>Mexico</td>\n",
              "      <td>2021-10-08</td>\n",
              "      <td>645398.0</td>\n",
              "      <td>CanSino, Johnson&amp;Johnson, Moderna, Oxford/Astr...</td>\n",
              "      <td>48166370.0</td>\n",
              "      <td>36.98</td>\n",
              "    </tr>\n",
              "  </tbody>\n",
              "</table>\n",
              "<p>289 rows × 6 columns</p>\n",
              "</div>"
            ],
            "text/plain": [
              "         Pais  ... Personas_completamente_vacunadas_por_cien_inter\n",
              "28655  Mexico  ...                                            0.00\n",
              "28656  Mexico  ...                                            0.00\n",
              "28657  Mexico  ...                                            0.00\n",
              "28658  Mexico  ...                                            0.00\n",
              "28659  Mexico  ...                                            0.00\n",
              "...       ...  ...                                             ...\n",
              "28939  Mexico  ...                                           35.55\n",
              "28940  Mexico  ...                                           35.81\n",
              "28941  Mexico  ...                                           36.07\n",
              "28942  Mexico  ...                                           36.61\n",
              "28943  Mexico  ...                                           36.98\n",
              "\n",
              "[289 rows x 6 columns]"
            ]
          },
          "metadata": {},
          "execution_count": 107
        }
      ]
    },
    {
      "cell_type": "markdown",
      "metadata": {
        "id": "G4Sxzvbvlh9M"
      },
      "source": [
        "\n",
        "Reordenamos las columnas de orden según consideramos mas útil, este paso es unicamente para una mejor visualización\n"
      ]
    },
    {
      "cell_type": "code",
      "metadata": {
        "id": "fCjTaC95kOTP"
      },
      "source": [
        "covid3=covid3[['Pais', 'Fecha', 'Vacunaciones_diarias', 'Personas_completamente_vacunadas_inter', 'Personas_completamente_vacunadas_por_cien_inter', 'Vacunas']]"
      ],
      "execution_count": null,
      "outputs": []
    },
    {
      "cell_type": "code",
      "metadata": {
        "colab": {
          "base_uri": "https://localhost:8080/",
          "height": 759
        },
        "id": "bRZiH6D_lBH_",
        "outputId": "0bf7e44e-32c2-43ef-b4ad-1b06e368d9e5"
      },
      "source": [
        "covid3"
      ],
      "execution_count": null,
      "outputs": [
        {
          "output_type": "execute_result",
          "data": {
            "text/html": [
              "<div>\n",
              "<style scoped>\n",
              "    .dataframe tbody tr th:only-of-type {\n",
              "        vertical-align: middle;\n",
              "    }\n",
              "\n",
              "    .dataframe tbody tr th {\n",
              "        vertical-align: top;\n",
              "    }\n",
              "\n",
              "    .dataframe thead th {\n",
              "        text-align: right;\n",
              "    }\n",
              "</style>\n",
              "<table border=\"1\" class=\"dataframe\">\n",
              "  <thead>\n",
              "    <tr style=\"text-align: right;\">\n",
              "      <th></th>\n",
              "      <th>Pais</th>\n",
              "      <th>Fecha</th>\n",
              "      <th>Vacunaciones_diarias</th>\n",
              "      <th>Personas_completamente_vacunadas_inter</th>\n",
              "      <th>Personas_completamente_vacunadas_por_cien_inter</th>\n",
              "      <th>Vacunas</th>\n",
              "    </tr>\n",
              "  </thead>\n",
              "  <tbody>\n",
              "    <tr>\n",
              "      <th>28655</th>\n",
              "      <td>Mexico</td>\n",
              "      <td>2020-12-24</td>\n",
              "      <td>NaN</td>\n",
              "      <td>0.0</td>\n",
              "      <td>0.00</td>\n",
              "      <td>CanSino, Johnson&amp;Johnson, Moderna, Oxford/Astr...</td>\n",
              "    </tr>\n",
              "    <tr>\n",
              "      <th>28656</th>\n",
              "      <td>Mexico</td>\n",
              "      <td>2020-12-25</td>\n",
              "      <td>1300.0</td>\n",
              "      <td>0.0</td>\n",
              "      <td>0.00</td>\n",
              "      <td>CanSino, Johnson&amp;Johnson, Moderna, Oxford/Astr...</td>\n",
              "    </tr>\n",
              "    <tr>\n",
              "      <th>28657</th>\n",
              "      <td>Mexico</td>\n",
              "      <td>2020-12-26</td>\n",
              "      <td>1300.0</td>\n",
              "      <td>0.0</td>\n",
              "      <td>0.00</td>\n",
              "      <td>CanSino, Johnson&amp;Johnson, Moderna, Oxford/Astr...</td>\n",
              "    </tr>\n",
              "    <tr>\n",
              "      <th>28658</th>\n",
              "      <td>Mexico</td>\n",
              "      <td>2020-12-27</td>\n",
              "      <td>1300.0</td>\n",
              "      <td>0.0</td>\n",
              "      <td>0.00</td>\n",
              "      <td>CanSino, Johnson&amp;Johnson, Moderna, Oxford/Astr...</td>\n",
              "    </tr>\n",
              "    <tr>\n",
              "      <th>28659</th>\n",
              "      <td>Mexico</td>\n",
              "      <td>2020-12-28</td>\n",
              "      <td>1664.0</td>\n",
              "      <td>0.0</td>\n",
              "      <td>0.00</td>\n",
              "      <td>CanSino, Johnson&amp;Johnson, Moderna, Oxford/Astr...</td>\n",
              "    </tr>\n",
              "    <tr>\n",
              "      <th>...</th>\n",
              "      <td>...</td>\n",
              "      <td>...</td>\n",
              "      <td>...</td>\n",
              "      <td>...</td>\n",
              "      <td>...</td>\n",
              "      <td>...</td>\n",
              "    </tr>\n",
              "    <tr>\n",
              "      <th>28939</th>\n",
              "      <td>Mexico</td>\n",
              "      <td>2021-10-04</td>\n",
              "      <td>669396.0</td>\n",
              "      <td>46309831.0</td>\n",
              "      <td>35.55</td>\n",
              "      <td>CanSino, Johnson&amp;Johnson, Moderna, Oxford/Astr...</td>\n",
              "    </tr>\n",
              "    <tr>\n",
              "      <th>28940</th>\n",
              "      <td>Mexico</td>\n",
              "      <td>2021-10-05</td>\n",
              "      <td>631482.0</td>\n",
              "      <td>46648316.5</td>\n",
              "      <td>35.81</td>\n",
              "      <td>CanSino, Johnson&amp;Johnson, Moderna, Oxford/Astr...</td>\n",
              "    </tr>\n",
              "    <tr>\n",
              "      <th>28941</th>\n",
              "      <td>Mexico</td>\n",
              "      <td>2021-10-06</td>\n",
              "      <td>589964.0</td>\n",
              "      <td>46986802.0</td>\n",
              "      <td>36.07</td>\n",
              "      <td>CanSino, Johnson&amp;Johnson, Moderna, Oxford/Astr...</td>\n",
              "    </tr>\n",
              "    <tr>\n",
              "      <th>28942</th>\n",
              "      <td>Mexico</td>\n",
              "      <td>2021-10-07</td>\n",
              "      <td>619924.0</td>\n",
              "      <td>47692378.0</td>\n",
              "      <td>36.61</td>\n",
              "      <td>CanSino, Johnson&amp;Johnson, Moderna, Oxford/Astr...</td>\n",
              "    </tr>\n",
              "    <tr>\n",
              "      <th>28943</th>\n",
              "      <td>Mexico</td>\n",
              "      <td>2021-10-08</td>\n",
              "      <td>645398.0</td>\n",
              "      <td>48166370.0</td>\n",
              "      <td>36.98</td>\n",
              "      <td>CanSino, Johnson&amp;Johnson, Moderna, Oxford/Astr...</td>\n",
              "    </tr>\n",
              "  </tbody>\n",
              "</table>\n",
              "<p>289 rows × 6 columns</p>\n",
              "</div>"
            ],
            "text/plain": [
              "         Pais  ...                                            Vacunas\n",
              "28655  Mexico  ...  CanSino, Johnson&Johnson, Moderna, Oxford/Astr...\n",
              "28656  Mexico  ...  CanSino, Johnson&Johnson, Moderna, Oxford/Astr...\n",
              "28657  Mexico  ...  CanSino, Johnson&Johnson, Moderna, Oxford/Astr...\n",
              "28658  Mexico  ...  CanSino, Johnson&Johnson, Moderna, Oxford/Astr...\n",
              "28659  Mexico  ...  CanSino, Johnson&Johnson, Moderna, Oxford/Astr...\n",
              "...       ...  ...                                                ...\n",
              "28939  Mexico  ...  CanSino, Johnson&Johnson, Moderna, Oxford/Astr...\n",
              "28940  Mexico  ...  CanSino, Johnson&Johnson, Moderna, Oxford/Astr...\n",
              "28941  Mexico  ...  CanSino, Johnson&Johnson, Moderna, Oxford/Astr...\n",
              "28942  Mexico  ...  CanSino, Johnson&Johnson, Moderna, Oxford/Astr...\n",
              "28943  Mexico  ...  CanSino, Johnson&Johnson, Moderna, Oxford/Astr...\n",
              "\n",
              "[289 rows x 6 columns]"
            ]
          },
          "metadata": {},
          "execution_count": 109
        }
      ]
    },
    {
      "cell_type": "code",
      "metadata": {
        "id": "snK3XAFGnjvm"
      },
      "source": [
        "covid3=covid2.drop(['people_fully_vaccinated', 'people_fully_vaccinated_per_hundred'],axis=1)"
      ],
      "execution_count": null,
      "outputs": []
    },
    {
      "cell_type": "code",
      "metadata": {
        "id": "rP2qPDBrmVFb"
      },
      "source": [
        "covid3.to_csv(r'covid3.csv',index=False,header=True)"
      ],
      "execution_count": null,
      "outputs": []
    },
    {
      "cell_type": "markdown",
      "metadata": {
        "id": "pxkrBCdOqBft"
      },
      "source": [
        "# Visualización de la segunda base de datos"
      ]
    },
    {
      "cell_type": "code",
      "metadata": {
        "id": "h3WyRnCuqAo8",
        "colab": {
          "base_uri": "https://localhost:8080/",
          "height": 419
        },
        "outputId": "dfd1beb6-be80-4ca5-f7f1-b42739fe8752"
      },
      "source": [
        "covid.tipo"
      ],
      "execution_count": null,
      "outputs": [
        {
          "output_type": "execute_result",
          "data": {
            "text/html": [
              "<div>\n",
              "<style scoped>\n",
              "    .dataframe tbody tr th:only-of-type {\n",
              "        vertical-align: middle;\n",
              "    }\n",
              "\n",
              "    .dataframe tbody tr th {\n",
              "        vertical-align: top;\n",
              "    }\n",
              "\n",
              "    .dataframe thead th {\n",
              "        text-align: right;\n",
              "    }\n",
              "</style>\n",
              "<table border=\"1\" class=\"dataframe\">\n",
              "  <thead>\n",
              "    <tr style=\"text-align: right;\">\n",
              "      <th></th>\n",
              "      <th>location</th>\n",
              "      <th>date</th>\n",
              "      <th>vaccine</th>\n",
              "      <th>total_vaccinations</th>\n",
              "    </tr>\n",
              "  </thead>\n",
              "  <tbody>\n",
              "    <tr>\n",
              "      <th>0</th>\n",
              "      <td>Austria</td>\n",
              "      <td>2021-01-08</td>\n",
              "      <td>Johnson&amp;Johnson</td>\n",
              "      <td>0</td>\n",
              "    </tr>\n",
              "    <tr>\n",
              "      <th>1</th>\n",
              "      <td>Austria</td>\n",
              "      <td>2021-01-08</td>\n",
              "      <td>Moderna</td>\n",
              "      <td>0</td>\n",
              "    </tr>\n",
              "    <tr>\n",
              "      <th>2</th>\n",
              "      <td>Austria</td>\n",
              "      <td>2021-01-08</td>\n",
              "      <td>Oxford/AstraZeneca</td>\n",
              "      <td>0</td>\n",
              "    </tr>\n",
              "    <tr>\n",
              "      <th>3</th>\n",
              "      <td>Austria</td>\n",
              "      <td>2021-01-08</td>\n",
              "      <td>Pfizer/BioNTech</td>\n",
              "      <td>31131</td>\n",
              "    </tr>\n",
              "    <tr>\n",
              "      <th>4</th>\n",
              "      <td>Austria</td>\n",
              "      <td>2021-01-15</td>\n",
              "      <td>Johnson&amp;Johnson</td>\n",
              "      <td>0</td>\n",
              "    </tr>\n",
              "    <tr>\n",
              "      <th>...</th>\n",
              "      <td>...</td>\n",
              "      <td>...</td>\n",
              "      <td>...</td>\n",
              "      <td>...</td>\n",
              "    </tr>\n",
              "    <tr>\n",
              "      <th>17654</th>\n",
              "      <td>European Union</td>\n",
              "      <td>2021-10-09</td>\n",
              "      <td>Moderna</td>\n",
              "      <td>57676732</td>\n",
              "    </tr>\n",
              "    <tr>\n",
              "      <th>17655</th>\n",
              "      <td>European Union</td>\n",
              "      <td>2021-10-09</td>\n",
              "      <td>Oxford/AstraZeneca</td>\n",
              "      <td>67150901</td>\n",
              "    </tr>\n",
              "    <tr>\n",
              "      <th>17656</th>\n",
              "      <td>European Union</td>\n",
              "      <td>2021-10-09</td>\n",
              "      <td>Pfizer/BioNTech</td>\n",
              "      <td>403612939</td>\n",
              "    </tr>\n",
              "    <tr>\n",
              "      <th>17657</th>\n",
              "      <td>European Union</td>\n",
              "      <td>2021-10-09</td>\n",
              "      <td>Sinopharm/Beijing</td>\n",
              "      <td>2108368</td>\n",
              "    </tr>\n",
              "    <tr>\n",
              "      <th>17658</th>\n",
              "      <td>European Union</td>\n",
              "      <td>2021-10-09</td>\n",
              "      <td>Sputnik V</td>\n",
              "      <td>1843001</td>\n",
              "    </tr>\n",
              "  </tbody>\n",
              "</table>\n",
              "<p>17659 rows × 4 columns</p>\n",
              "</div>"
            ],
            "text/plain": [
              "             location        date             vaccine  total_vaccinations\n",
              "0             Austria  2021-01-08     Johnson&Johnson                   0\n",
              "1             Austria  2021-01-08             Moderna                   0\n",
              "2             Austria  2021-01-08  Oxford/AstraZeneca                   0\n",
              "3             Austria  2021-01-08     Pfizer/BioNTech               31131\n",
              "4             Austria  2021-01-15     Johnson&Johnson                   0\n",
              "...               ...         ...                 ...                 ...\n",
              "17654  European Union  2021-10-09             Moderna            57676732\n",
              "17655  European Union  2021-10-09  Oxford/AstraZeneca            67150901\n",
              "17656  European Union  2021-10-09     Pfizer/BioNTech           403612939\n",
              "17657  European Union  2021-10-09   Sinopharm/Beijing             2108368\n",
              "17658  European Union  2021-10-09           Sputnik V             1843001\n",
              "\n",
              "[17659 rows x 4 columns]"
            ]
          },
          "metadata": {},
          "execution_count": 54
        }
      ]
    },
    {
      "cell_type": "markdown",
      "metadata": {
        "id": "rZ5-LOhQqgBT"
      },
      "source": [
        "En esta base de datos no consideramos necesario el limpiar los datos, ya que la información ya viene de una manera útil para nuestro objetivo"
      ]
    },
    {
      "cell_type": "markdown",
      "metadata": {
        "id": "jSBtNXwyve-q"
      },
      "source": [
        "# Preguntas de interes\n",
        "# Cuál es el país que ha vacunado a mayor parte de su población?\n",
        "\n",
        "\n",
        "Utilizaremos la función gruopby para agrupar los datos por países y calcularemos el máximo de los índices de vacunación con la funcion agg"
      ]
    },
    {
      "cell_type": "code",
      "metadata": {
        "colab": {
          "base_uri": "https://localhost:8080/"
        },
        "id": "_-IPJkiBnV91",
        "outputId": "64cf32a6-03fa-4102-dcb9-f51b201331ab"
      },
      "source": [
        "grup=covid.groupby(\"country\")['people_fully_vaccinated_per_hundred'].max().nlargest(10)\n",
        "grup"
      ],
      "execution_count": null,
      "outputs": [
        {
          "output_type": "execute_result",
          "data": {
            "text/plain": [
              "country\n",
              "Gibraltar               117.79\n",
              "Pitcairn                100.00\n",
              "Portugal                 85.85\n",
              "United Arab Emirates     84.34\n",
              "Cayman Islands           83.51\n",
              "Malta                    81.71\n",
              "Iceland                  80.73\n",
              "Spain                    78.73\n",
              "Singapore                78.02\n",
              "Qatar                    75.70\n",
              "Name: people_fully_vaccinated_per_hundred, dtype: float64"
            ]
          },
          "metadata": {},
          "execution_count": 121
        }
      ]
    },
    {
      "cell_type": "markdown",
      "metadata": {
        "id": "ibmjEDIQxvAG"
      },
      "source": [
        "El resultado a esta pregunta es interesante, puesto que el país con mayor parte de su población vacunada es gibraltar, con mas de un 100%\n",
        "\n",
        "¿pero como es esto posible?\n",
        "\n",
        "Gibraltar es un país pequeño con alta afluencia de extranjeros\n",
        "y los datos solo miden las vacunas aplicadas sin considerar si los pacientes eran locales o no , entonces podemos asumir que Gibraltar ha aplicado más vacunas que toda su población por el flujo de extranjeros\n",
        "\n"
      ]
    },
    {
      "cell_type": "markdown",
      "metadata": {
        "id": "gQFDsvPWy9_c"
      },
      "source": [
        "# ¿Qué país es el que ha tenido menor número de vacunaciones por día?\n"
      ]
    },
    {
      "cell_type": "code",
      "metadata": {
        "colab": {
          "base_uri": "https://localhost:8080/",
          "height": 450
        },
        "id": "Q8tT-Z0gzAWm",
        "outputId": "d934768d-bb72-4e21-f71d-be91dd6e97fe"
      },
      "source": [
        "grup1=covid.groupby(\"country\").agg({\n",
        "    \"daily_vaccinations_per_million\": \"mean\"\n",
        "    \n",
        "})\n",
        "grup1"
      ],
      "execution_count": null,
      "outputs": [
        {
          "output_type": "execute_result",
          "data": {
            "text/html": [
              "<div>\n",
              "<style scoped>\n",
              "    .dataframe tbody tr th:only-of-type {\n",
              "        vertical-align: middle;\n",
              "    }\n",
              "\n",
              "    .dataframe tbody tr th {\n",
              "        vertical-align: top;\n",
              "    }\n",
              "\n",
              "    .dataframe thead th {\n",
              "        text-align: right;\n",
              "    }\n",
              "</style>\n",
              "<table border=\"1\" class=\"dataframe\">\n",
              "  <thead>\n",
              "    <tr style=\"text-align: right;\">\n",
              "      <th></th>\n",
              "      <th>daily_vaccinations_per_million</th>\n",
              "    </tr>\n",
              "    <tr>\n",
              "      <th>country</th>\n",
              "      <th></th>\n",
              "    </tr>\n",
              "  </thead>\n",
              "  <tbody>\n",
              "    <tr>\n",
              "      <th>Afghanistan</th>\n",
              "      <td>266.313636</td>\n",
              "    </tr>\n",
              "    <tr>\n",
              "      <th>Albania</th>\n",
              "      <td>2276.254613</td>\n",
              "    </tr>\n",
              "    <tr>\n",
              "      <th>Algeria</th>\n",
              "      <td>1232.343096</td>\n",
              "    </tr>\n",
              "    <tr>\n",
              "      <th>Andorra</th>\n",
              "      <td>5350.397541</td>\n",
              "    </tr>\n",
              "    <tr>\n",
              "      <th>Angola</th>\n",
              "      <td>423.296651</td>\n",
              "    </tr>\n",
              "    <tr>\n",
              "      <th>...</th>\n",
              "      <td>...</td>\n",
              "    </tr>\n",
              "    <tr>\n",
              "      <th>Wales</th>\n",
              "      <td>4878.842282</td>\n",
              "    </tr>\n",
              "    <tr>\n",
              "      <th>Wallis and Futuna</th>\n",
              "      <td>4689.525510</td>\n",
              "    </tr>\n",
              "    <tr>\n",
              "      <th>Yemen</th>\n",
              "      <td>79.985816</td>\n",
              "    </tr>\n",
              "    <tr>\n",
              "      <th>Zambia</th>\n",
              "      <td>229.556180</td>\n",
              "    </tr>\n",
              "    <tr>\n",
              "      <th>Zimbabwe</th>\n",
              "      <td>1563.021459</td>\n",
              "    </tr>\n",
              "  </tbody>\n",
              "</table>\n",
              "<p>222 rows × 1 columns</p>\n",
              "</div>"
            ],
            "text/plain": [
              "                   daily_vaccinations_per_million\n",
              "country                                          \n",
              "Afghanistan                            266.313636\n",
              "Albania                               2276.254613\n",
              "Algeria                               1232.343096\n",
              "Andorra                               5350.397541\n",
              "Angola                                 423.296651\n",
              "...                                           ...\n",
              "Wales                                 4878.842282\n",
              "Wallis and Futuna                     4689.525510\n",
              "Yemen                                   79.985816\n",
              "Zambia                                 229.556180\n",
              "Zimbabwe                              1563.021459\n",
              "\n",
              "[222 rows x 1 columns]"
            ]
          },
          "metadata": {},
          "execution_count": 123
        }
      ]
    },
    {
      "cell_type": "code",
      "metadata": {
        "colab": {
          "base_uri": "https://localhost:8080/"
        },
        "id": "-7jNHoLgzjyp",
        "outputId": "1436e3fc-7ba7-4bcf-ffd1-e0d4bc9592ef"
      },
      "source": [
        "v5=grup1[\"daily_vaccinations_per_million\"].idxmin()\n",
        "v6=grup1[\"daily_vaccinations_per_million\"].min()\n",
        "\n",
        "print(\"el pais con menor numero de vacunaciones diarias es \",v5,\" con un promedio de \",v6,\" por cada millon de habitantes\")"
      ],
      "execution_count": null,
      "outputs": [
        {
          "output_type": "stream",
          "name": "stdout",
          "text": [
            "el pais con menor numero de vacunaciones diarias es  Democratic Republic of Congo  con un promedio de  8.951515151515151  por cada millon de habitantes\n"
          ]
        }
      ]
    },
    {
      "cell_type": "markdown",
      "metadata": {
        "id": "5AfkMUNA2414"
      },
      "source": [
        "Podemos observar que el país Bonaire Sint Eustatius and Saba es el que menos vacunas diarias aplica ya que no ha empezado su proceso de vacunaciones."
      ]
    },
    {
      "cell_type": "markdown",
      "metadata": {
        "id": "ALT7R4VP3SHi"
      },
      "source": [
        "Ahora buscaremos la respuesta a la misma pregunta excluyendo a los países que no han empezado a vacunar a su poblacion"
      ]
    },
    {
      "cell_type": "code",
      "metadata": {
        "colab": {
          "base_uri": "https://localhost:8080/",
          "height": 450
        },
        "id": "Pp5cgVC50wb9",
        "outputId": "e66e5d2d-c4fb-4fc5-8547-74965746f609"
      },
      "source": [
        "grup2=grup1[grup1[\"daily_vaccinations_per_million\"] > 0]\n",
        "grup2"
      ],
      "execution_count": null,
      "outputs": [
        {
          "output_type": "execute_result",
          "data": {
            "text/html": [
              "<div>\n",
              "<style scoped>\n",
              "    .dataframe tbody tr th:only-of-type {\n",
              "        vertical-align: middle;\n",
              "    }\n",
              "\n",
              "    .dataframe tbody tr th {\n",
              "        vertical-align: top;\n",
              "    }\n",
              "\n",
              "    .dataframe thead th {\n",
              "        text-align: right;\n",
              "    }\n",
              "</style>\n",
              "<table border=\"1\" class=\"dataframe\">\n",
              "  <thead>\n",
              "    <tr style=\"text-align: right;\">\n",
              "      <th></th>\n",
              "      <th>daily_vaccinations_per_million</th>\n",
              "    </tr>\n",
              "    <tr>\n",
              "      <th>country</th>\n",
              "      <th></th>\n",
              "    </tr>\n",
              "  </thead>\n",
              "  <tbody>\n",
              "    <tr>\n",
              "      <th>Afghanistan</th>\n",
              "      <td>266.313636</td>\n",
              "    </tr>\n",
              "    <tr>\n",
              "      <th>Albania</th>\n",
              "      <td>2276.254613</td>\n",
              "    </tr>\n",
              "    <tr>\n",
              "      <th>Algeria</th>\n",
              "      <td>1232.343096</td>\n",
              "    </tr>\n",
              "    <tr>\n",
              "      <th>Andorra</th>\n",
              "      <td>5350.397541</td>\n",
              "    </tr>\n",
              "    <tr>\n",
              "      <th>Angola</th>\n",
              "      <td>423.296651</td>\n",
              "    </tr>\n",
              "    <tr>\n",
              "      <th>...</th>\n",
              "      <td>...</td>\n",
              "    </tr>\n",
              "    <tr>\n",
              "      <th>Wales</th>\n",
              "      <td>4878.842282</td>\n",
              "    </tr>\n",
              "    <tr>\n",
              "      <th>Wallis and Futuna</th>\n",
              "      <td>4689.525510</td>\n",
              "    </tr>\n",
              "    <tr>\n",
              "      <th>Yemen</th>\n",
              "      <td>79.985816</td>\n",
              "    </tr>\n",
              "    <tr>\n",
              "      <th>Zambia</th>\n",
              "      <td>229.556180</td>\n",
              "    </tr>\n",
              "    <tr>\n",
              "      <th>Zimbabwe</th>\n",
              "      <td>1563.021459</td>\n",
              "    </tr>\n",
              "  </tbody>\n",
              "</table>\n",
              "<p>221 rows × 1 columns</p>\n",
              "</div>"
            ],
            "text/plain": [
              "                   daily_vaccinations_per_million\n",
              "country                                          \n",
              "Afghanistan                            266.313636\n",
              "Albania                               2276.254613\n",
              "Algeria                               1232.343096\n",
              "Andorra                               5350.397541\n",
              "Angola                                 423.296651\n",
              "...                                           ...\n",
              "Wales                                 4878.842282\n",
              "Wallis and Futuna                     4689.525510\n",
              "Yemen                                   79.985816\n",
              "Zambia                                 229.556180\n",
              "Zimbabwe                              1563.021459\n",
              "\n",
              "[221 rows x 1 columns]"
            ]
          },
          "metadata": {},
          "execution_count": 61
        }
      ]
    },
    {
      "cell_type": "code",
      "metadata": {
        "colab": {
          "base_uri": "https://localhost:8080/"
        },
        "id": "PlOJn4-w1VGd",
        "outputId": "766b839b-df10-4398-929d-47b243b93efc"
      },
      "source": [
        "v7=grup2[\"daily_vaccinations_per_million\"].idxmin()\n",
        "v8=grup2[\"daily_vaccinations_per_million\"].min()\n",
        "print(\"El pais con menor numero de vacunaciones diarias es \",v7,\" con un promedio de \",v8,\" por cada millon de habitantes\")"
      ],
      "execution_count": null,
      "outputs": [
        {
          "output_type": "stream",
          "name": "stdout",
          "text": [
            "El pais con menor numero de vacunaciones diarias es  Democratic Republic of Congo  con un promedio de  8.951515151515151  por cada millon de habitantes\n"
          ]
        }
      ]
    },
    {
      "cell_type": "markdown",
      "metadata": {
        "id": "PdROF8FU3M8s"
      },
      "source": [
        "El país con menor promedio de vacunaciones diarias es Democratic Republic of Congo, con apenas ~7.5 vacunaciones diarias por cada millon de habitantes"
      ]
    },
    {
      "cell_type": "markdown",
      "metadata": {
        "id": "YgzyxWbOn-oY"
      },
      "source": [
        "# ¿Cuál es el país que tiene a la menor parte de su población vacunada?"
      ]
    },
    {
      "cell_type": "code",
      "metadata": {
        "colab": {
          "base_uri": "https://localhost:8080/"
        },
        "id": "VkpKf90qoN58",
        "outputId": "990c0ba8-7447-4859-cf8e-dab14850ab0a"
      },
      "source": [
        "grup2=covid.groupby(\"country\")['people_fully_vaccinated_per_hundred'].min().nlargest(10)\n",
        "grup2"
      ],
      "execution_count": null,
      "outputs": [
        {
          "output_type": "execute_result",
          "data": {
            "text/plain": [
              "country\n",
              "Pitcairn                     63.83\n",
              "China                        53.80\n",
              "Falkland Islands             48.67\n",
              "Turks and Caicos Islands     25.49\n",
              "Sint Maarten (Dutch part)    22.93\n",
              "Tuvalu                       19.30\n",
              "Qatar                        18.94\n",
              "Monaco                       18.12\n",
              "Nauru                        16.68\n",
              "Wallis and Futuna            13.41\n",
              "Name: people_fully_vaccinated_per_hundred, dtype: float64"
            ]
          },
          "metadata": {},
          "execution_count": 124
        }
      ]
    },
    {
      "cell_type": "markdown",
      "metadata": {
        "id": "BVmi2-xgo2AN"
      },
      "source": [
        "El país que tiene el menor porcentaje de personas vacunadas en su país es Wallis and Futuna"
      ]
    },
    {
      "cell_type": "markdown",
      "metadata": {
        "id": "WL7BtG9as62B"
      },
      "source": [
        "# **Estadística Descriptiva**"
      ]
    },
    {
      "cell_type": "markdown",
      "metadata": {
        "id": "ANdDGzGWq6Uj"
      },
      "source": [
        "Para visualizar de mejor manera las bases de datos y como apoyo pra nuestros objetivos realizaremos algunas funciones sencillas de estadística descriptiva pero que nos arrojan información de suma relevancia"
      ]
    },
    {
      "cell_type": "code",
      "metadata": {
        "colab": {
          "base_uri": "https://localhost:8080/"
        },
        "id": "OK2O0Q70q5HM",
        "outputId": "3aeb6229-8240-4183-ecbd-44545216ca1b"
      },
      "source": [
        "covid3['Vacunaciones_diarias'].min()"
      ],
      "execution_count": null,
      "outputs": [
        {
          "output_type": "execute_result",
          "data": {
            "text/plain": [
              "2302.0"
            ]
          },
          "metadata": {},
          "execution_count": 125
        }
      ]
    },
    {
      "cell_type": "markdown",
      "metadata": {
        "id": "XVDo3mrnrfv5"
      },
      "source": [
        "La columna vacunaciones diarias de la base de datos covid3 la cual es la previamnete depurada con la información de México nos indica precisamente eso cuantas vacunas se aplicaron diariamente y al aplicarle la función min nos da un resultado de 2302 que es un número considerable. Pero comparemos con el mejor país en vacunar a mayor parte de su población el cual es Gibraltar"
      ]
    },
    {
      "cell_type": "code",
      "metadata": {
        "id": "wVFzf1tBr5vi"
      },
      "source": [
        "vect1=covid[covid['country']!=\"Gibraltar\"].index\n",
        "gi=covid.drop(vect)"
      ],
      "execution_count": null,
      "outputs": []
    },
    {
      "cell_type": "code",
      "metadata": {
        "colab": {
          "base_uri": "https://localhost:8080/"
        },
        "id": "qMYXPyV3s7Mn",
        "outputId": "bcb6d8a7-0f21-4886-a3e3-4bdece85c89c"
      },
      "source": [
        "gi['daily_vaccinations'].min()"
      ],
      "execution_count": null,
      "outputs": [
        {
          "output_type": "execute_result",
          "data": {
            "text/plain": [
              "1300.0"
            ]
          },
          "metadata": {},
          "execution_count": 127
        }
      ]
    },
    {
      "cell_type": "markdown",
      "metadata": {
        "id": "AMkXFkjRtGxx"
      },
      "source": [
        "El mínimo de vacunaciones diarias en gibraltar es menor al de México y esto hace total sentido si miramos la diferencia entre la población total de México y Gibraltar"
      ]
    },
    {
      "cell_type": "code",
      "metadata": {
        "colab": {
          "base_uri": "https://localhost:8080/"
        },
        "id": "kqnPBwCXtWY8",
        "outputId": "e87e9e6b-fa70-4435-a6a0-e36bb9a55283"
      },
      "source": [
        "covid3['Personas_completamente_vacunadas_por_cien_inter'].max()"
      ],
      "execution_count": null,
      "outputs": [
        {
          "output_type": "execute_result",
          "data": {
            "text/plain": [
              "36.98"
            ]
          },
          "metadata": {},
          "execution_count": 128
        }
      ]
    },
    {
      "cell_type": "code",
      "metadata": {
        "colab": {
          "base_uri": "https://localhost:8080/"
        },
        "id": "L2f7F6h1t806",
        "outputId": "008bb6f2-b92a-4a17-8887-b12ef9e8c675"
      },
      "source": [
        "covid['people_fully_vaccinated_per_hundred'].mean()"
      ],
      "execution_count": null,
      "outputs": [
        {
          "output_type": "execute_result",
          "data": {
            "text/plain": [
              "21.721746449237298"
            ]
          },
          "metadata": {},
          "execution_count": 129
        }
      ]
    },
    {
      "cell_type": "markdown",
      "metadata": {
        "id": "OY79sN2PttRR"
      },
      "source": [
        "El número de personas completamente vacunadas por cien es de 36.98 el cual esta por encima del promedio"
      ]
    },
    {
      "cell_type": "code",
      "metadata": {
        "colab": {
          "base_uri": "https://localhost:8080/"
        },
        "id": "SWaqAjTpuQSX",
        "outputId": "8de4758e-0e90-4560-c271-fa231156a917"
      },
      "source": [
        "covid3['Vacunaciones_diarias'].std()"
      ],
      "execution_count": null,
      "outputs": [
        {
          "output_type": "execute_result",
          "data": {
            "text/plain": [
              "242257.06198371368"
            ]
          },
          "metadata": {},
          "execution_count": 130
        }
      ]
    },
    {
      "cell_type": "markdown",
      "metadata": {
        "id": "NI_9uEDbueat"
      },
      "source": [
        "La desviación estandar de las Vacunaciones diarias en México es de 242,257 lo cual en esta ocasión podría ser un buen indicador, puesto que, entre mas vacunaciones hagamos diariamente mejor."
      ]
    },
    {
      "cell_type": "code",
      "metadata": {
        "colab": {
          "base_uri": "https://localhost:8080/",
          "height": 162
        },
        "id": "nYQj-RNIuzr-",
        "outputId": "2e5b59b7-0823-413a-a0f4-8d204a6a9e02"
      },
      "source": [
        "covid3.corr()"
      ],
      "execution_count": null,
      "outputs": [
        {
          "output_type": "execute_result",
          "data": {
            "text/html": [
              "<div>\n",
              "<style scoped>\n",
              "    .dataframe tbody tr th:only-of-type {\n",
              "        vertical-align: middle;\n",
              "    }\n",
              "\n",
              "    .dataframe tbody tr th {\n",
              "        vertical-align: top;\n",
              "    }\n",
              "\n",
              "    .dataframe thead th {\n",
              "        text-align: right;\n",
              "    }\n",
              "</style>\n",
              "<table border=\"1\" class=\"dataframe\">\n",
              "  <thead>\n",
              "    <tr style=\"text-align: right;\">\n",
              "      <th></th>\n",
              "      <th>Vacunaciones_diarias</th>\n",
              "      <th>Personas_completamente_vacunadas_inter</th>\n",
              "      <th>Personas_completamente_vacunadas_por_cien_inter</th>\n",
              "    </tr>\n",
              "  </thead>\n",
              "  <tbody>\n",
              "    <tr>\n",
              "      <th>Vacunaciones_diarias</th>\n",
              "      <td>1.000000</td>\n",
              "      <td>0.734677</td>\n",
              "      <td>0.734666</td>\n",
              "    </tr>\n",
              "    <tr>\n",
              "      <th>Personas_completamente_vacunadas_inter</th>\n",
              "      <td>0.734677</td>\n",
              "      <td>1.000000</td>\n",
              "      <td>1.000000</td>\n",
              "    </tr>\n",
              "    <tr>\n",
              "      <th>Personas_completamente_vacunadas_por_cien_inter</th>\n",
              "      <td>0.734666</td>\n",
              "      <td>1.000000</td>\n",
              "      <td>1.000000</td>\n",
              "    </tr>\n",
              "  </tbody>\n",
              "</table>\n",
              "</div>"
            ],
            "text/plain": [
              "                                                 Vacunaciones_diarias  ...  Personas_completamente_vacunadas_por_cien_inter\n",
              "Vacunaciones_diarias                                         1.000000  ...                                         0.734666\n",
              "Personas_completamente_vacunadas_inter                       0.734677  ...                                         1.000000\n",
              "Personas_completamente_vacunadas_por_cien_inter              0.734666  ...                                         1.000000\n",
              "\n",
              "[3 rows x 3 columns]"
            ]
          },
          "metadata": {},
          "execution_count": 131
        }
      ]
    },
    {
      "cell_type": "markdown",
      "metadata": {
        "id": "7aV8c3CSvHMV"
      },
      "source": [
        "Al aplicar la función correlación podemos observar como es que se presenta una correlación positiva entre las vacunaciones diarias y las personas completamente vacunadas, esto se debe a que van en la misma dirección si una sube, la otra también, que en este caso se busca que suba lo mayor posible."
      ]
    },
    {
      "cell_type": "code",
      "metadata": {
        "colab": {
          "base_uri": "https://localhost:8080/",
          "height": 297
        },
        "id": "PYFgH-_L3Km5",
        "outputId": "f40e009d-8f41-404b-de2f-824ff6ff3d83"
      },
      "source": [
        "covid3.describe()"
      ],
      "execution_count": null,
      "outputs": [
        {
          "output_type": "execute_result",
          "data": {
            "text/html": [
              "<div>\n",
              "<style scoped>\n",
              "    .dataframe tbody tr th:only-of-type {\n",
              "        vertical-align: middle;\n",
              "    }\n",
              "\n",
              "    .dataframe tbody tr th {\n",
              "        vertical-align: top;\n",
              "    }\n",
              "\n",
              "    .dataframe thead th {\n",
              "        text-align: right;\n",
              "    }\n",
              "</style>\n",
              "<table border=\"1\" class=\"dataframe\">\n",
              "  <thead>\n",
              "    <tr style=\"text-align: right;\">\n",
              "      <th></th>\n",
              "      <th>Vacunaciones_diarias</th>\n",
              "      <th>Personas_completamente_vacunadas_inter</th>\n",
              "      <th>Personas_completamente_vacunadas_por_cien_inter</th>\n",
              "    </tr>\n",
              "  </thead>\n",
              "  <tbody>\n",
              "    <tr>\n",
              "      <th>count</th>\n",
              "      <td>2.880000e+02</td>\n",
              "      <td>2.890000e+02</td>\n",
              "      <td>289.000000</td>\n",
              "    </tr>\n",
              "    <tr>\n",
              "      <th>mean</th>\n",
              "      <td>3.640481e+05</td>\n",
              "      <td>1.431734e+07</td>\n",
              "      <td>10.991176</td>\n",
              "    </tr>\n",
              "    <tr>\n",
              "      <th>std</th>\n",
              "      <td>2.539585e+05</td>\n",
              "      <td>1.473957e+07</td>\n",
              "      <td>11.315557</td>\n",
              "    </tr>\n",
              "    <tr>\n",
              "      <th>min</th>\n",
              "      <td>1.300000e+03</td>\n",
              "      <td>0.000000e+00</td>\n",
              "      <td>0.000000</td>\n",
              "    </tr>\n",
              "    <tr>\n",
              "      <th>25%</th>\n",
              "      <td>1.254192e+05</td>\n",
              "      <td>6.034470e+05</td>\n",
              "      <td>0.460000</td>\n",
              "    </tr>\n",
              "    <tr>\n",
              "      <th>50%</th>\n",
              "      <td>3.906055e+05</td>\n",
              "      <td>1.065250e+07</td>\n",
              "      <td>8.180000</td>\n",
              "    </tr>\n",
              "    <tr>\n",
              "      <th>75%</th>\n",
              "      <td>5.281770e+05</td>\n",
              "      <td>2.520509e+07</td>\n",
              "      <td>19.350000</td>\n",
              "    </tr>\n",
              "    <tr>\n",
              "      <th>max</th>\n",
              "      <td>1.088095e+06</td>\n",
              "      <td>4.816637e+07</td>\n",
              "      <td>36.980000</td>\n",
              "    </tr>\n",
              "  </tbody>\n",
              "</table>\n",
              "</div>"
            ],
            "text/plain": [
              "       Vacunaciones_diarias  ...  Personas_completamente_vacunadas_por_cien_inter\n",
              "count          2.880000e+02  ...                                       289.000000\n",
              "mean           3.640481e+05  ...                                        10.991176\n",
              "std            2.539585e+05  ...                                        11.315557\n",
              "min            1.300000e+03  ...                                         0.000000\n",
              "25%            1.254192e+05  ...                                         0.460000\n",
              "50%            3.906055e+05  ...                                         8.180000\n",
              "75%            5.281770e+05  ...                                        19.350000\n",
              "max            1.088095e+06  ...                                        36.980000\n",
              "\n",
              "[8 rows x 3 columns]"
            ]
          },
          "metadata": {},
          "execution_count": 111
        }
      ]
    },
    {
      "cell_type": "markdown",
      "metadata": {
        "id": "hHyawO6vwjUq"
      },
      "source": [
        "Investigamos como sacar los estadísticos que íbamos a necesitar para analizar correctamente los datos. La función describe nos arroja la cuenta de los datos, la media, la desviación estándar, el mínimo, el máximo y los cuartiles del total de los pia. La cuenta de los datos nos ayuda a visualizar mejor la tabla, para saber con cuantos datos estamos trabajando y señar mejor las distribuciones de los datos. La media nos da una descripción de la característica que nos interesa de una población dada por la base de datos. La desviación estándar nos indica que tan dispersos están los datos respecto a la media. El máximo y el mínimo nos ayudan a ver el rango en el cual están los datos. Los cuartiles nos muestran una mejor distribución de los datos."
      ]
    },
    {
      "cell_type": "code",
      "metadata": {
        "colab": {
          "base_uri": "https://localhost:8080/",
          "height": 419
        },
        "id": "4UcFye350eAe",
        "outputId": "17af1f92-7678-4864-d306-2db9020f2f20"
      },
      "source": [
        "info2=covid.tipo.groupby([\"location\",\"vaccine\"], as_index=False).agg({\n",
        "          \"total_vaccinations\": \"sum\"\n",
        "\n",
        "    \n",
        "})\n",
        "info2"
      ],
      "execution_count": null,
      "outputs": [
        {
          "output_type": "execute_result",
          "data": {
            "text/html": [
              "<div>\n",
              "<style scoped>\n",
              "    .dataframe tbody tr th:only-of-type {\n",
              "        vertical-align: middle;\n",
              "    }\n",
              "\n",
              "    .dataframe tbody tr th {\n",
              "        vertical-align: top;\n",
              "    }\n",
              "\n",
              "    .dataframe thead th {\n",
              "        text-align: right;\n",
              "    }\n",
              "</style>\n",
              "<table border=\"1\" class=\"dataframe\">\n",
              "  <thead>\n",
              "    <tr style=\"text-align: right;\">\n",
              "      <th></th>\n",
              "      <th>location</th>\n",
              "      <th>vaccine</th>\n",
              "      <th>total_vaccinations</th>\n",
              "    </tr>\n",
              "  </thead>\n",
              "  <tbody>\n",
              "    <tr>\n",
              "      <th>0</th>\n",
              "      <td>Austria</td>\n",
              "      <td>Johnson&amp;Johnson</td>\n",
              "      <td>3966651</td>\n",
              "    </tr>\n",
              "    <tr>\n",
              "      <th>1</th>\n",
              "      <td>Austria</td>\n",
              "      <td>Moderna</td>\n",
              "      <td>20373234</td>\n",
              "    </tr>\n",
              "    <tr>\n",
              "      <th>2</th>\n",
              "      <td>Austria</td>\n",
              "      <td>Oxford/AstraZeneca</td>\n",
              "      <td>35656470</td>\n",
              "    </tr>\n",
              "    <tr>\n",
              "      <th>3</th>\n",
              "      <td>Austria</td>\n",
              "      <td>Pfizer/BioNTech</td>\n",
              "      <td>151139544</td>\n",
              "    </tr>\n",
              "    <tr>\n",
              "      <th>4</th>\n",
              "      <td>Belgium</td>\n",
              "      <td>Johnson&amp;Johnson</td>\n",
              "      <td>5932789</td>\n",
              "    </tr>\n",
              "    <tr>\n",
              "      <th>...</th>\n",
              "      <td>...</td>\n",
              "      <td>...</td>\n",
              "      <td>...</td>\n",
              "    </tr>\n",
              "    <tr>\n",
              "      <th>142</th>\n",
              "      <td>United States</td>\n",
              "      <td>Moderna</td>\n",
              "      <td>26544971049</td>\n",
              "    </tr>\n",
              "    <tr>\n",
              "      <th>143</th>\n",
              "      <td>United States</td>\n",
              "      <td>Pfizer/BioNTech</td>\n",
              "      <td>35308079060</td>\n",
              "    </tr>\n",
              "    <tr>\n",
              "      <th>144</th>\n",
              "      <td>Uruguay</td>\n",
              "      <td>Oxford/AstraZeneca</td>\n",
              "      <td>11270453</td>\n",
              "    </tr>\n",
              "    <tr>\n",
              "      <th>145</th>\n",
              "      <td>Uruguay</td>\n",
              "      <td>Pfizer/BioNTech</td>\n",
              "      <td>217625836</td>\n",
              "    </tr>\n",
              "    <tr>\n",
              "      <th>146</th>\n",
              "      <td>Uruguay</td>\n",
              "      <td>Sinovac</td>\n",
              "      <td>491975278</td>\n",
              "    </tr>\n",
              "  </tbody>\n",
              "</table>\n",
              "<p>147 rows × 3 columns</p>\n",
              "</div>"
            ],
            "text/plain": [
              "          location             vaccine  total_vaccinations\n",
              "0          Austria     Johnson&Johnson             3966651\n",
              "1          Austria             Moderna            20373234\n",
              "2          Austria  Oxford/AstraZeneca            35656470\n",
              "3          Austria     Pfizer/BioNTech           151139544\n",
              "4          Belgium     Johnson&Johnson             5932789\n",
              "..             ...                 ...                 ...\n",
              "142  United States             Moderna         26544971049\n",
              "143  United States     Pfizer/BioNTech         35308079060\n",
              "144        Uruguay  Oxford/AstraZeneca            11270453\n",
              "145        Uruguay     Pfizer/BioNTech           217625836\n",
              "146        Uruguay             Sinovac           491975278\n",
              "\n",
              "[147 rows x 3 columns]"
            ]
          },
          "metadata": {},
          "execution_count": 69
        }
      ]
    },
    {
      "cell_type": "markdown",
      "metadata": {
        "id": "F0SjS7KD4p4o"
      },
      "source": [
        "Nos muestra los países agrupados por el tipo de vacuna que se ha aplicado y el total de dosis aplicadas, nos sirve para visualizar cuantas vacunas de un tipo especifico aplicaron por país, tomando en cuenta la efectividad que se muestra que tienen con respecto al virus. "
      ]
    },
    {
      "cell_type": "markdown",
      "metadata": {
        "id": "7biYaUTDQydQ"
      },
      "source": [
        "# **Graficas**"
      ]
    },
    {
      "cell_type": "code",
      "metadata": {
        "id": "be2lvAWyQ20O",
        "colab": {
          "base_uri": "https://localhost:8080/",
          "height": 696
        },
        "outputId": "0a46aa69-4510-451e-a2df-767280f77972"
      },
      "source": [
        "covid4=covid1.groupby(\"country\")[\"daily_vaccinations\"].sum().nlargest(5)\n",
        "plt.figure(figsize=(10,10))\n",
        "covid4.plot(x = \"Pais\", kind = 'bar', alpha = 0.75)\n",
        "plt.xlabel(\"Paises\")\n",
        "plt.ylabel(\"Total de vacunas aplicadas\")\n",
        "plt.title(\"Paises con mayor cantidad de vacunas aplicadas\")\n"
      ],
      "execution_count": null,
      "outputs": [
        {
          "output_type": "execute_result",
          "data": {
            "text/plain": [
              "Text(0.5, 1.0, 'Paises con mayor cantidad de vacunas aplicadas')"
            ]
          },
          "metadata": {},
          "execution_count": 70
        },
        {
          "output_type": "display_data",
          "data": {
            "image/png": "[encoded data removed]",
            "text/plain": [
              "<Figure size 720x720 with 1 Axes>"
            ]
          },
          "metadata": {
            "needs_background": "light"
          }
        }
      ]
    },
    {
      "cell_type": "markdown",
      "metadata": {
        "id": "fvcyGKv_Xaak"
      },
      "source": [
        "Para empezar a realizar todas las gráficas puestas a continuación. Se hizo una investigación de cómo hacer diferentes tipos de graficas, se analizo cuales serían las más adecuadas para trabajar con nuestros datos. \n",
        "\n",
        "Dentro de la grafica podemos notar la cantidad de vacunas que se han aplicado dentro de los 10 paises con mayor cantidad de vacunas aplicadas.\n",
        "\n",
        "Podemos observar que EUA es uno de los paises mas fuertes en el mundo en cuanto a vacunaciones por día que se aplican. Esto nos indica que como vecino es muy bueno compararnos con ellos debido a que podemos tomar como ejemplo para poder ver que tan bien se estan haciendo las cosas dentro de Mexico. "
      ]
    },
    {
      "cell_type": "code",
      "metadata": {
        "colab": {
          "base_uri": "https://localhost:8080/"
        },
        "id": "wOPO1i46zjGT",
        "outputId": "091202a6-7aa2-479d-c659-2f9216a5a836"
      },
      "source": [
        "vacusa=covid1[covid1['country']==\"United States\"]\n",
        "vacusa['date'] = pd.to_datetime(vacusa['date'],)\n",
        "vacusa = vacusa.set_index('date')\n",
        "vacusa=vacusa.dropna()"
      ],
      "execution_count": null,
      "outputs": [
        {
          "output_type": "stream",
          "name": "stderr",
          "text": [
            "/usr/local/lib/python3.7/dist-packages/ipykernel_launcher.py:2: SettingWithCopyWarning: \n",
            "A value is trying to be set on a copy of a slice from a DataFrame.\n",
            "Try using .loc[row_indexer,col_indexer] = value instead\n",
            "\n",
            "See the caveats in the documentation: https://pandas.pydata.org/pandas-docs/stable/user_guide/indexing.html#returning-a-view-versus-a-copy\n",
            "  \n"
          ]
        }
      ]
    },
    {
      "cell_type": "code",
      "metadata": {
        "colab": {
          "base_uri": "https://localhost:8080/"
        },
        "id": "QMC9JFYd2LFO",
        "outputId": "fbd67c47-8d11-43d2-ebc4-b85b41a97cb5"
      },
      "source": [
        "vacmx=covid1[covid1['country']==\"Mexico\"]\n",
        "vacmx['date'] = pd.to_datetime(vacmx['date'],)\n",
        "vacmx = vacmx.set_index('date')\n"
      ],
      "execution_count": null,
      "outputs": [
        {
          "output_type": "stream",
          "name": "stderr",
          "text": [
            "/usr/local/lib/python3.7/dist-packages/ipykernel_launcher.py:2: SettingWithCopyWarning: \n",
            "A value is trying to be set on a copy of a slice from a DataFrame.\n",
            "Try using .loc[row_indexer,col_indexer] = value instead\n",
            "\n",
            "See the caveats in the documentation: https://pandas.pydata.org/pandas-docs/stable/user_guide/indexing.html#returning-a-view-versus-a-copy\n",
            "  \n"
          ]
        }
      ]
    },
    {
      "cell_type": "code",
      "metadata": {
        "id": "tg8TJo9gXPAW",
        "colab": {
          "base_uri": "https://localhost:8080/",
          "height": 624
        },
        "outputId": "bf47105b-2bba-4ab4-8977-38c852d5dab2"
      },
      "source": [
        "plt.figure(figsize=(10,10))\n",
        "plt.plot(vacmx[\"daily_vaccinations\"])\n",
        "plt.plot(vacusa[\"daily_vaccinations\"])\n",
        "plt.title(\"Mexico vs USA  vacunaciones diarias\")"
      ],
      "execution_count": null,
      "outputs": [
        {
          "output_type": "execute_result",
          "data": {
            "text/plain": [
              "Text(0.5, 1.0, 'Mexico vs USA  vacunaciones diarias')"
            ]
          },
          "metadata": {},
          "execution_count": 156
        },
        {
          "output_type": "display_data",
          "data": {
            "image/png": "[encoded data removed]",
            "text/plain": [
              "<Figure size 720x720 with 1 Axes>"
            ]
          },
          "metadata": {
            "needs_background": "light"
          }
        }
      ]
    },
    {
      "cell_type": "markdown",
      "metadata": {
        "id": "-LtTJ2aJrXCn"
      },
      "source": [
        "Siendo México nuestro país principal en el cual nos vamos a enfocar en el análisis de nuestros datos, mostramos esta gráfica, en la cual se exhiben el numero total de vacunas diarias por día. En el eje de las “y” son millones de habitantes. \n",
        "\n",
        "Para poder realizar esta gráfica filtramos a México, se hizo una pequeña modificación a los datos iguales a 0 para mejor visualización de la grafica.\n",
        "\n",
        "Lo mismo hacemos con EUA ya que es el pais que vamos a comparar debido a que comparten mucha relacion economica y politica estos dos paises.\n",
        "\n",
        "Esta grafica es fundamental para nuestro análisis porque nos ayuda a estar mas cerca de cumplir nuestro objetivo (Predicción de la fecha en la que volveremos a la \"normalidad\" en México) puesto que nos da una idea de como se ha estado vacunando diario en mexico y si se estan aplicando muchas o pocas.  \n"
      ]
    },
    {
      "cell_type": "code",
      "metadata": {
        "colab": {
          "base_uri": "https://localhost:8080/",
          "height": 638
        },
        "id": "BniZm7FBidqG",
        "outputId": "6ac6970b-8728-45f9-b7b1-9fddb61a91b7"
      },
      "source": [
        "top5=covid1[covid1['country'].isin([\"Mexico\",\"Canada\",\"United States\"])]\n",
        "top5=top5.dropna()\n",
        "plt.figure(figsize=(10,10))\n",
        "sns.violinplot(\n",
        "    x=\"country\",\n",
        "    y=\"people_fully_vaccinated\",\n",
        "    data= top5\n",
        ")\n",
        "plt.ylabel(\"Personas completamente vacunadas\")\n",
        "plt.xlabel(\"Paises\")\n",
        "plt.title(\"Comparacion paises T-MEC\")"
      ],
      "execution_count": null,
      "outputs": [
        {
          "output_type": "execute_result",
          "data": {
            "text/plain": [
              "Text(0.5, 1.0, 'Comparacion paises T-MEC')"
            ]
          },
          "metadata": {},
          "execution_count": 136
        },
        {
          "output_type": "display_data",
          "data": {
            "image/png": "[encoded data removed]",
            "text/plain": [
              "<Figure size 720x720 with 1 Axes>"
            ]
          },
          "metadata": {
            "needs_background": "light"
          }
        }
      ]
    },
    {
      "cell_type": "markdown",
      "metadata": {
        "id": "K7dzR7Tfti39"
      },
      "source": [
        "La grafica anterior nos muestra una comparación del numero total de personas totalmente vacunadas entre los países de Norteamérica que son Canadá, Estados Unidos y México. Como es de esperarse, Estados unidos tiene la mayor cantidad de habitantes totalmente vacunados, puesto que es el país con más habitantes de los tres y el que tiene mejor acceso a las vacunas y por lo tanto tiene un mayor rango y parece que tiene una distribución simétrica. \n",
        "\n",
        "En cambio, México y Canadá cuentan con asimetría positiva ya que los datos se concentran en la parte inferior de la distribución, como se observa cuentan con datos menos dispersos. \n",
        "\n"
      ]
    },
    {
      "cell_type": "code",
      "metadata": {
        "colab": {
          "base_uri": "https://localhost:8080/",
          "height": 638
        },
        "id": "KKeI254Um9iJ",
        "outputId": "5d320186-efdf-41d8-8162-6911c1662416"
      },
      "source": [
        "Bottom5=covid1[covid1['country'].isin([\"Mexico\",\"United States\",\"Argentina\",\"Chile\",\"Colombia\",\"Peru\"])]\n",
        "plt.figure(figsize=(10,10))\n",
        "sns.boxplot(\n",
        "    x=\"country\",\n",
        "    y=\"people_fully_vaccinated\",\n",
        "    data= Bottom5\n",
        ")\n",
        "plt.ylabel(\"Personas completamente vacunadas\")\n",
        "plt.xlabel(\"Paises\")\n",
        "plt.title(\"Comparacion paises LATAM y EUA\")"
      ],
      "execution_count": null,
      "outputs": [
        {
          "output_type": "execute_result",
          "data": {
            "text/plain": [
              "Text(0.5, 1.0, 'Comparacion paises LATAM y EUA')"
            ]
          },
          "metadata": {},
          "execution_count": 74
        },
        {
          "output_type": "display_data",
          "data": {
            "image/png": "[encoded data removed]",
            "text/plain": [
              "<Figure size 720x720 with 1 Axes>"
            ]
          },
          "metadata": {
            "needs_background": "light"
          }
        }
      ]
    },
    {
      "cell_type": "markdown",
      "metadata": {
        "id": "lhQI-v_ouWVg"
      },
      "source": [
        "En esta grafica quisimos observar y comparar a México con algunos de los países más importantes de Latinoamérica puesto que las costumbres, nivel y calidad de vida en estos países, no difiere mucho que los de México. Estos países son Argentina, Chile, Colombia y peru. Al observar como se distribuyen el numero total de personas totalmente vacunadas, la mediana de los 5 países se encuentra en un rango de entre 0-1, parece que entre Argentina y Perú son los que tienen la mediana más baja y el que la tiene más elevada es Chile. \n",
        "\n",
        "\n",
        "\n",
        "Por ultimo podemos ver como claramente EUA es superior a todos los paises por diferencia y Mexico al ser vecino debria aspirar a parecerse mas a este ultimo."
      ]
    },
    {
      "cell_type": "code",
      "metadata": {
        "colab": {
          "base_uri": "https://localhost:8080/",
          "height": 861
        },
        "id": "ZmJmTDsmnQfJ",
        "outputId": "ed4a98ec-2834-4dad-f175-c750e03f4d9e"
      },
      "source": [
        "f,ax=plt.subplots(figsize = (10,10))\n",
        "sns.heatmap(covid3.corr(),annot= True,linewidths=0.5,fmt = \".1f\",ax=ax)\n",
        "plt.xticks(rotation=90)\n",
        "plt.yticks(rotation=0)\n",
        "plt.title('Mapa de correlación')\n",
        "plt.savefig('graph.png')\n",
        "plt.show()"
      ],
      "execution_count": null,
      "outputs": [
        {
          "output_type": "display_data",
          "data": {
            "image/png": "[encoded data removed]",
            "text/plain": [
              "<Figure size 720x720 with 2 Axes>"
            ]
          },
          "metadata": {
            "needs_background": "light"
          }
        }
      ]
    },
    {
      "cell_type": "markdown",
      "metadata": {
        "id": "Ho2pYiVOujmN"
      },
      "source": [
        "Este grafico nos permitió demostrar la relación existente entre las clases de datos y cuantificar la intensidad de dicha relación. Se utiliza para conocer si efectivamente existe una correlación entre las magnitudes o parámetros de un problema y, en caso positivo, de qué tipo es la correlación."
      ]
    },
    {
      "cell_type": "markdown",
      "metadata": {
        "id": "VQnAsYs4v8GO"
      },
      "source": [
        "# **Conclusión**"
      ]
    },
    {
      "cell_type": "markdown",
      "metadata": {
        "id": "ETvs_RfEv_9q"
      },
      "source": [
        "Se analizó la información actual México y se logró cumplir el objetivo secundario que era la comparación de nuestro país para ver que tan bien o mal vamos y la conclusión fue que estamos por encima del promedio a nivel mundial, a nivel de Lationamerica llevamos la delantera y comparado con nuestros vecinos de la frontera vamos relativamente bien. Respecto al objetivo princial a mayor porcentaje de la población completamente vacunada, más pronto llegaremos a la inmunidad de rebaño que refiere a la protección o resistencia que posee una comunidad a la infección debido a la presencia de individuos inmunes a ella. En el caso del coronavirus, según varios informes científicos, la inmunidad colectiva se lograría si alrededor del 60% de la población desarrollara anticuerpos, y con todo esto estimar la fecha en la que México podría implementar el seguro regreso a las actividades, cabe aclarar que esta estimación solamente tomará la información y factores de la base de datos trabajada en este proyecto. De esta manera, será posible cumplir con el objetivo principal haciendo uso de la técnica previamente seleccionada de minería de datos, series de tiempo."
      ]
    },
    {
      "cell_type": "markdown",
      "metadata": {
        "id": "Qc_nSLzy4lBL"
      },
      "source": [
        "# **Técnica de minería**"
      ]
    },
    {
      "cell_type": "markdown",
      "metadata": {
        "id": "ktWJbV3X4pc7"
      },
      "source": [
        "La técnica de minería a emplear para el objetivo principal será *Series de tiempo* el cual es una forma específica de analizar una secuencia de puntos de datos recogidos durante un intervalo de tiempo. El tiempo es una variable crucial porque muestra cómo se ajustan los datos a lo largo de los puntos de datos, así como los resultados finales. Además, los datos de las series de tiempo pueden utilizarse para hacer previsiones, es decir, para predecir los datos futuros a partir de los datos históricos, lo que nos lleva a nuestro principal objetivo predecir la fecha en la cual volveremos a la \"normalidad\" analizando los datos obtenidos atraves del tiempo y de esta manera poder generar un modelo y predecir."
      ]
    },
    {
      "cell_type": "markdown",
      "metadata": {
        "id": "6Cl7HKqi8yJo"
      },
      "source": [
        "Emplearemos el lenguaje de R para la ejecución de la técnica"
      ]
    },
    {
      "cell_type": "code",
      "metadata": {
        "id": "To4R8Co88lt2"
      },
      "source": [
        " %load_ext rpy2.ipython"
      ],
      "execution_count": null,
      "outputs": []
    },
    {
      "cell_type": "markdown",
      "metadata": {
        "id": "aVwne8AP8-wc"
      },
      "source": [
        "Instalaremos las librerías necesarias y leemos la base de datos depurada"
      ]
    },
    {
      "cell_type": "code",
      "metadata": {
        "colab": {
          "base_uri": "https://localhost:8080/"
        },
        "id": "uBT-_Q9H87RA",
        "outputId": "0f188a26-7b5b-47ea-d35a-8317434917ac"
      },
      "source": [
        "%%R\n",
        "install.packages(\"tseries\")\n",
        "library(tseries)\n",
        "base<-read.csv(\"covid3.csv\")"
      ],
      "execution_count": null,
      "outputs": [
        {
          "output_type": "stream",
          "name": "stderr",
          "text": [
            "R[write to console]: Installing package into ‘/usr/local/lib/R/site-library’\n",
            "(as ‘lib’ is unspecified)\n",
            "\n",
            "R[write to console]: also installing the dependencies ‘xts’, ‘TTR’, ‘quadprog’, ‘zoo’, ‘quantmod’\n",
            "\n",
            "\n",
            "R[write to console]: trying URL 'https://cran.rstudio.com/src/contrib/xts_0.12.1.tar.gz'\n",
            "\n",
            "R[write to console]: Content type 'application/x-gzip'\n",
            "R[write to console]:  length 517875 bytes (505 KB)\n",
            "\n",
            "R[write to console]: =\n",
            "R[write to console]: =\n",
            "R[write to console]: =\n",
            "R[write to console]: =\n",
            "R[write to console]: =\n",
            "R[write to console]: =\n",
            "R[write to console]: =\n",
            "R[write to console]: =\n",
            "R[write to console]: =\n",
            "R[write to console]: =\n",
            "R[write to console]: =\n",
            "R[write to console]: =\n",
            "R[write to console]: =\n",
            "R[write to console]: =\n",
            "R[write to console]: =\n",
            "R[write to console]: =\n",
            "R[write to console]: =\n",
            "R[write to console]: =\n",
            "R[write to console]: =\n",
            "R[write to console]: =\n",
            "R[write to console]: =\n",
            "R[write to console]: =\n",
            "R[write to console]: =\n",
            "R[write to console]: =\n",
            "R[write to console]: =\n",
            "R[write to console]: =\n",
            "R[write to console]: =\n",
            "R[write to console]: =\n",
            "R[write to console]: =\n",
            "R[write to console]: =\n",
            "R[write to console]: =\n",
            "R[write to console]: =\n",
            "R[write to console]: =\n",
            "R[write to console]: =\n",
            "R[write to console]: =\n",
            "R[write to console]: =\n",
            "R[write to console]: =\n",
            "R[write to console]: =\n",
            "R[write to console]: =\n",
            "R[write to console]: =\n",
            "R[write to console]: =\n",
            "R[write to console]: =\n",
            "R[write to console]: =\n",
            "R[write to console]: =\n",
            "R[write to console]: =\n",
            "R[write to console]: =\n",
            "R[write to console]: =\n",
            "R[write to console]: =\n",
            "R[write to console]: =\n",
            "R[write to console]: =\n",
            "R[write to console]: \n",
            "\n",
            "R[write to console]: downloaded 505 KB\n",
            "\n",
            "\n",
            "R[write to console]: trying URL 'https://cran.rstudio.com/src/contrib/TTR_0.24.2.tar.gz'\n",
            "\n",
            "R[write to console]: Content type 'application/x-gzip'\n",
            "R[write to console]:  length 314035 bytes (306 KB)\n",
            "\n",
            "R[write to console]: =\n",
            "R[write to console]: =\n",
            "R[write to console]: =\n",
            "R[write to console]: =\n",
            "R[write to console]: =\n",
            "R[write to console]: =\n",
            "R[write to console]: =\n",
            "R[write to console]: =\n",
            "R[write to console]: =\n",
            "R[write to console]: =\n",
            "R[write to console]: =\n",
            "R[write to console]: =\n",
            "R[write to console]: =\n",
            "R[write to console]: =\n",
            "R[write to console]: =\n",
            "R[write to console]: =\n",
            "R[write to console]: =\n",
            "R[write to console]: =\n",
            "R[write to console]: =\n",
            "R[write to console]: =\n",
            "R[write to console]: =\n",
            "R[write to console]: =\n",
            "R[write to console]: =\n",
            "R[write to console]: =\n",
            "R[write to console]: =\n",
            "R[write to console]: =\n",
            "R[write to console]: =\n",
            "R[write to console]: =\n",
            "R[write to console]: =\n",
            "R[write to console]: =\n",
            "R[write to console]: =\n",
            "R[write to console]: =\n",
            "R[write to console]: =\n",
            "R[write to console]: =\n",
            "R[write to console]: =\n",
            "R[write to console]: =\n",
            "R[write to console]: =\n",
            "R[write to console]: =\n",
            "R[write to console]: =\n",
            "R[write to console]: =\n",
            "R[write to console]: =\n",
            "R[write to console]: =\n",
            "R[write to console]: =\n",
            "R[write to console]: =\n",
            "R[write to console]: =\n",
            "R[write to console]: =\n",
            "R[write to console]: =\n",
            "R[write to console]: =\n",
            "R[write to console]: =\n",
            "R[write to console]: =\n",
            "R[write to console]: \n",
            "\n",
            "R[write to console]: downloaded 306 KB\n",
            "\n",
            "\n",
            "R[write to console]: trying URL 'https://cran.rstudio.com/src/contrib/quadprog_1.5-8.tar.gz'\n",
            "\n",
            "R[write to console]: Content type 'application/x-gzip'\n",
            "R[write to console]:  length 36141 bytes (35 KB)\n",
            "\n",
            "R[write to console]: =\n",
            "R[write to console]: =\n",
            "R[write to console]: =\n",
            "R[write to console]: =\n",
            "R[write to console]: =\n",
            "R[write to console]: =\n",
            "R[write to console]: =\n",
            "R[write to console]: =\n",
            "R[write to console]: =\n",
            "R[write to console]: =\n",
            "R[write to console]: =\n",
            "R[write to console]: =\n",
            "R[write to console]: =\n",
            "R[write to console]: =\n",
            "R[write to console]: =\n",
            "R[write to console]: =\n",
            "R[write to console]: =\n",
            "R[write to console]: =\n",
            "R[write to console]: =\n",
            "R[write to console]: =\n",
            "R[write to console]: =\n",
            "R[write to console]: =\n",
            "R[write to console]: =\n",
            "R[write to console]: =\n",
            "R[write to console]: =\n",
            "R[write to console]: =\n",
            "R[write to console]: =\n",
            "R[write to console]: =\n",
            "R[write to console]: =\n",
            "R[write to console]: =\n",
            "R[write to console]: =\n",
            "R[write to console]: =\n",
            "R[write to console]: =\n",
            "R[write to console]: =\n",
            "R[write to console]: =\n",
            "R[write to console]: =\n",
            "R[write to console]: =\n",
            "R[write to console]: =\n",
            "R[write to console]: =\n",
            "R[write to console]: =\n",
            "R[write to console]: =\n",
            "R[write to console]: =\n",
            "R[write to console]: =\n",
            "R[write to console]: =\n",
            "R[write to console]: =\n",
            "R[write to console]: =\n",
            "R[write to console]: =\n",
            "R[write to console]: =\n",
            "R[write to console]: =\n",
            "R[write to console]: =\n",
            "R[write to console]: \n",
            "\n",
            "R[write to console]: downloaded 35 KB\n",
            "\n",
            "\n",
            "R[write to console]: trying URL 'https://cran.rstudio.com/src/contrib/zoo_1.8-9.tar.gz'\n",
            "\n",
            "R[write to console]: Content type 'application/x-gzip'\n",
            "R[write to console]:  length 793891 bytes (775 KB)\n",
            "\n",
            "R[write to console]: =\n",
            "R[write to console]: =\n",
            "R[write to console]: =\n",
            "R[write to console]: =\n",
            "R[write to console]: =\n",
            "R[write to console]: =\n",
            "R[write to console]: =\n",
            "R[write to console]: =\n",
            "R[write to console]: =\n",
            "R[write to console]: =\n",
            "R[write to console]: =\n",
            "R[write to console]: =\n",
            "R[write to console]: =\n",
            "R[write to console]: =\n",
            "R[write to console]: =\n",
            "R[write to console]: =\n",
            "R[write to console]: =\n",
            "R[write to console]: =\n",
            "R[write to console]: =\n",
            "R[write to console]: =\n",
            "R[write to console]: =\n",
            "R[write to console]: =\n",
            "R[write to console]: =\n",
            "R[write to console]: =\n",
            "R[write to console]: =\n",
            "R[write to console]: =\n",
            "R[write to console]: =\n",
            "R[write to console]: =\n",
            "R[write to console]: =\n",
            "R[write to console]: =\n",
            "R[write to console]: =\n",
            "R[write to console]: =\n",
            "R[write to console]: =\n",
            "R[write to console]: =\n",
            "R[write to console]: =\n",
            "R[write to console]: =\n",
            "R[write to console]: =\n",
            "R[write to console]: =\n",
            "R[write to console]: =\n",
            "R[write to console]: =\n",
            "R[write to console]: =\n",
            "R[write to console]: =\n",
            "R[write to console]: =\n",
            "R[write to console]: =\n",
            "R[write to console]: =\n",
            "R[write to console]: =\n",
            "R[write to console]: =\n",
            "R[write to console]: =\n",
            "R[write to console]: =\n",
            "R[write to console]: =\n",
            "R[write to console]: \n",
            "\n",
            "R[write to console]: downloaded 775 KB\n",
            "\n",
            "\n",
            "R[write to console]: trying URL 'https://cran.rstudio.com/src/contrib/quantmod_0.4.18.tar.gz'\n",
            "\n",
            "R[write to console]: Content type 'application/x-gzip'\n",
            "R[write to console]:  length 154512 bytes (150 KB)\n",
            "\n",
            "R[write to console]: =\n",
            "R[write to console]: =\n",
            "R[write to console]: =\n",
            "R[write to console]: =\n",
            "R[write to console]: =\n",
            "R[write to console]: =\n",
            "R[write to console]: =\n",
            "R[write to console]: =\n",
            "R[write to console]: =\n",
            "R[write to console]: =\n",
            "R[write to console]: =\n",
            "R[write to console]: =\n",
            "R[write to console]: =\n",
            "R[write to console]: =\n",
            "R[write to console]: =\n",
            "R[write to console]: =\n",
            "R[write to console]: =\n",
            "R[write to console]: =\n",
            "R[write to console]: =\n",
            "R[write to console]: =\n",
            "R[write to console]: =\n",
            "R[write to console]: =\n",
            "R[write to console]: =\n",
            "R[write to console]: =\n",
            "R[write to console]: =\n",
            "R[write to console]: =\n",
            "R[write to console]: =\n",
            "R[write to console]: =\n",
            "R[write to console]: =\n",
            "R[write to console]: =\n",
            "R[write to console]: =\n",
            "R[write to console]: =\n",
            "R[write to console]: =\n",
            "R[write to console]: =\n",
            "R[write to console]: =\n",
            "R[write to console]: =\n",
            "R[write to console]: =\n",
            "R[write to console]: =\n",
            "R[write to console]: =\n",
            "R[write to console]: =\n",
            "R[write to console]: =\n",
            "R[write to console]: =\n",
            "R[write to console]: =\n",
            "R[write to console]: =\n",
            "R[write to console]: =\n",
            "R[write to console]: =\n",
            "R[write to console]: =\n",
            "R[write to console]: =\n",
            "R[write to console]: =\n",
            "R[write to console]: =\n",
            "R[write to console]: \n",
            "\n",
            "R[write to console]: downloaded 150 KB\n",
            "\n",
            "\n",
            "R[write to console]: trying URL 'https://cran.rstudio.com/src/contrib/tseries_0.10-48.tar.gz'\n",
            "\n",
            "R[write to console]: Content type 'application/x-gzip'\n",
            "R[write to console]:  length 170342 bytes (166 KB)\n",
            "\n",
            "R[write to console]: =\n",
            "R[write to console]: =\n",
            "R[write to console]: =\n",
            "R[write to console]: =\n",
            "R[write to console]: =\n",
            "R[write to console]: =\n",
            "R[write to console]: =\n",
            "R[write to console]: =\n",
            "R[write to console]: =\n",
            "R[write to console]: =\n",
            "R[write to console]: =\n",
            "R[write to console]: =\n",
            "R[write to console]: =\n",
            "R[write to console]: =\n",
            "R[write to console]: =\n",
            "R[write to console]: =\n",
            "R[write to console]: =\n",
            "R[write to console]: =\n",
            "R[write to console]: =\n",
            "R[write to console]: =\n",
            "R[write to console]: =\n",
            "R[write to console]: =\n",
            "R[write to console]: =\n",
            "R[write to console]: =\n",
            "R[write to console]: =\n",
            "R[write to console]: =\n",
            "R[write to console]: =\n",
            "R[write to console]: =\n",
            "R[write to console]: =\n",
            "R[write to console]: =\n",
            "R[write to console]: =\n",
            "R[write to console]: =\n",
            "R[write to console]: =\n",
            "R[write to console]: =\n",
            "R[write to console]: =\n",
            "R[write to console]: =\n",
            "R[write to console]: =\n",
            "R[write to console]: =\n",
            "R[write to console]: =\n",
            "R[write to console]: =\n",
            "R[write to console]: =\n",
            "R[write to console]: =\n",
            "R[write to console]: =\n",
            "R[write to console]: =\n",
            "R[write to console]: =\n",
            "R[write to console]: =\n",
            "R[write to console]: =\n",
            "R[write to console]: =\n",
            "R[write to console]: =\n",
            "R[write to console]: =\n",
            "R[write to console]: \n",
            "\n",
            "R[write to console]: downloaded 166 KB\n",
            "\n",
            "\n",
            "R[write to console]: \n",
            "\n",
            "R[write to console]: \n",
            "R[write to console]: The downloaded source packages are in\n",
            "\t‘/tmp/Rtmpbu874q/downloaded_packages’\n",
            "R[write to console]: \n",
            "R[write to console]: \n",
            "\n",
            "R[write to console]: Registered S3 method overwritten by 'quantmod':\n",
            "  method            from\n",
            "  as.zoo.data.frame zoo \n",
            "\n",
            "R[write to console]: \n",
            "    ‘tseries’ version: 0.10-48\n",
            "\n",
            "    ‘tseries’ is a package for time series analysis and computational\n",
            "    finance.\n",
            "\n",
            "    See ‘library(help=\"tseries\")’ for details.\n",
            "\n",
            "\n"
          ]
        }
      ]
    },
    {
      "cell_type": "markdown",
      "metadata": {
        "id": "ftVQ40-R9iTk"
      },
      "source": [
        "Creamos de la base de datos el objeto serie de tiempo"
      ]
    },
    {
      "cell_type": "code",
      "metadata": {
        "id": "E6_A_XTu9m_p"
      },
      "source": [
        "%%R\n",
        "serie<-ts(base$Personas_completamente_vacunadas_inter,start=c(2021,15),frequency=365,end=c(2021,280))"
      ],
      "execution_count": null,
      "outputs": []
    },
    {
      "cell_type": "markdown",
      "metadata": {
        "id": "bbNfovyA9pUT"
      },
      "source": [
        "La serie de tiempo su frecuencia es diaria, es decir, los registros que obtuvimos de la base de datos fueron diarios, por lo que, frequency=365. Sin embargo loso registros que tenemos no son de los 365 días del año, van desde el 15 de Enero hasta el 8 de Octubre del 2021\n",
        "\n",
        "Es por ello que se inicio en 2021,15 y se terminó en 2021, 280 que son el año y los días transcurridos hasta las fechas anteriormente mencionadas"
      ]
    },
    {
      "cell_type": "markdown",
      "metadata": {
        "id": "fKumS7he-_G7"
      },
      "source": [
        "Ahora para una mejor visualización de esta serie de tiempo, la graficaremos "
      ]
    },
    {
      "cell_type": "code",
      "metadata": {
        "colab": {
          "base_uri": "https://localhost:8080/",
          "height": 497
        },
        "id": "0JKm9nai-9Rd",
        "outputId": "d41860ac-9812-40d8-b6b0-77469007cc0d"
      },
      "source": [
        "%%R\n",
        "plot(serie,xlab=\"Tiempo\",ylab=\"Personas completamente vacunadas\", main=\"Personas completamente vacunadas en México\")"
      ],
      "execution_count": null,
      "outputs": [
        {
          "output_type": "display_data",
          "data": {
            "image/png": "[encoded data removed]"
          },
          "metadata": {}
        }
      ]
    },
    {
      "cell_type": "markdown",
      "metadata": {
        "id": "foXC9kOLBnNx"
      },
      "source": [
        "# **Primer paso: Clasificar**"
      ]
    },
    {
      "cell_type": "markdown",
      "metadata": {
        "id": "-HEytTKJBuET"
      },
      "source": [
        "Para poder modelar necesitamos que la seria sea estacionaria y para ello debe de cumplir con dos requisitos \n",
        "\n",
        "\n",
        "*   Estacionariedad en media\n",
        "*   Estacionariedad en varianza\n",
        "\n"
      ]
    },
    {
      "cell_type": "markdown",
      "metadata": {
        "id": "mBuT2E-FCEl5"
      },
      "source": [
        "**Estacionariedad en media**, es decir, que no muestre tendencia. Sin embargo se puede observar claramente desde el gráfico anterior que nuestra serie tiene tendencia, para corroborar aplicaremos un modelo lineal y realizaremos la prueba de hipótesis correspondiente"
      ]
    },
    {
      "cell_type": "markdown",
      "metadata": {
        "id": "96_OX8EcGG75"
      },
      "source": [
        "Cabe aclarar que las pruebas de hipótesis que se realizarán a continuación serán con una confianza del 90%, es decir, con un alfa de 10%"
      ]
    },
    {
      "cell_type": "code",
      "metadata": {
        "colab": {
          "base_uri": "https://localhost:8080/"
        },
        "id": "kT3BMotTBsyG",
        "outputId": "8f900735-465b-45ab-f656-371b889523c4"
      },
      "source": [
        "%%R\n",
        "t<-as.numeric(time(serie))\n",
        "regl<-lm(serie~t)\n",
        "summary(regl) #p valor muy chico"
      ],
      "execution_count": null,
      "outputs": [
        {
          "output_type": "stream",
          "name": "stdout",
          "text": [
            "\n",
            "Call:\n",
            "lm(formula = serie ~ t)\n",
            "\n",
            "Residuals:\n",
            "     Min       1Q   Median       3Q      Max \n",
            "-4809409 -2919181 -1624452  2746006  8917375 \n",
            "\n",
            "Coefficients:\n",
            "              Estimate Std. Error t value Pr(>|t|)    \n",
            "(Intercept) -1.352e+11  2.267e+09  -59.65   <2e-16 ***\n",
            "t            6.691e+07  1.122e+06   59.66   <2e-16 ***\n",
            "---\n",
            "Signif. codes:  0 ‘***’ 0.001 ‘**’ 0.01 ‘*’ 0.05 ‘.’ 0.1 ‘ ’ 1\n",
            "\n",
            "Residual standard error: 3848000 on 264 degrees of freedom\n",
            "Multiple R-squared:  0.9309,\tAdjusted R-squared:  0.9307 \n",
            "F-statistic:  3559 on 1 and 264 DF,  p-value: < 2.2e-16\n",
            "\n"
          ]
        }
      ]
    },
    {
      "cell_type": "markdown",
      "metadata": {
        "id": "1wxj7FoYCdJj"
      },
      "source": [
        "**Prueba de Hipótesis**\n",
        "\n",
        "**H0**: muestra tendencia lineal\n",
        "\n",
        "\n",
        "**H1**: no muestra tendencia lineal\n",
        "\n",
        "\n",
        "Rechazamos H0 si p valor mayor a alfa, pero como p valor es muy chico, no rechazamos\n",
        "\n",
        "\n",
        "Muestra evidencia de tendencia lineal"
      ]
    },
    {
      "cell_type": "markdown",
      "metadata": {
        "id": "EiKZTXSuCXVU"
      },
      "source": [
        "**Estacionariedad en varianza**, es decir, la varianza NO son constantes en el tiempo, para verificar esto realizaremos a continuación una prueba de hipótesis"
      ]
    },
    {
      "cell_type": "code",
      "metadata": {
        "colab": {
          "base_uri": "https://localhost:8080/"
        },
        "id": "o5XWNetRC_q7",
        "outputId": "525f1a27-0a9d-48c9-97b2-3c779dcd80a9"
      },
      "source": [
        "%%R\n",
        "adf.test(serie,alternative=\"stationary\")"
      ],
      "execution_count": null,
      "outputs": [
        {
          "output_type": "stream",
          "name": "stdout",
          "text": [
            "\n",
            "\tAugmented Dickey-Fuller Test\n",
            "\n",
            "data:  serie\n",
            "Dickey-Fuller = -1.0738, Lag order = 6, p-value = 0.9253\n",
            "alternative hypothesis: stationary\n",
            "\n"
          ]
        }
      ]
    },
    {
      "cell_type": "markdown",
      "metadata": {
        "id": "b4qoDk05DD3E"
      },
      "source": [
        "**Prueba de Hipótesis**\n",
        "\n",
        "**H0**: La serie no es estacionaria en varianza\n",
        "\n",
        "\n",
        "**H1**: La serie es estacionaria en varianza\n",
        "\n",
        "Rechazo H0 si p valor es menor que alfa, como p valor es mayor a alfa, no rechazo H0\n",
        "\n",
        "**La serie no es estacionaria en media ni en varianza**"
      ]
    },
    {
      "cell_type": "markdown",
      "metadata": {
        "id": "Qa5dycV0DfRh"
      },
      "source": [
        "Como la serie de tiempo no cumple con los requisitos para poder modelarla, la corregiremos para hacerla estacionaria"
      ]
    },
    {
      "cell_type": "markdown",
      "metadata": {
        "id": "fCzOsjK1Dq1E"
      },
      "source": [
        "# **Segundo Paso: Corregir**"
      ]
    },
    {
      "cell_type": "markdown",
      "metadata": {
        "id": "k9QNRniJEz6I"
      },
      "source": [
        "# Primera corrección"
      ]
    },
    {
      "cell_type": "markdown",
      "metadata": {
        "id": "ob1nPP1RD0Pz"
      },
      "source": [
        "Aplicaremos diff y log a la serie para corregirla"
      ]
    },
    {
      "cell_type": "code",
      "metadata": {
        "id": "fCjj-pLzDoYl"
      },
      "source": [
        "%%R\n",
        "i1<-diff(log(serie))"
      ],
      "execution_count": null,
      "outputs": []
    },
    {
      "cell_type": "markdown",
      "metadata": {
        "id": "omHMnK2WD94B"
      },
      "source": [
        "Visualizando la primera corrección"
      ]
    },
    {
      "cell_type": "code",
      "metadata": {
        "colab": {
          "base_uri": "https://localhost:8080/",
          "height": 497
        },
        "id": "iWdlw4VMD7dQ",
        "outputId": "0a608e65-4717-4230-e756-c567046f2c99"
      },
      "source": [
        "%%R\n",
        "plot(i1,ylim=c(0,2), main=\"Primera corrección\")"
      ],
      "execution_count": null,
      "outputs": [
        {
          "output_type": "display_data",
          "data": {
            "image/png": "[encoded data removed]"
          },
          "metadata": {}
        }
      ]
    },
    {
      "cell_type": "markdown",
      "metadata": {
        "id": "8q_quBdCEIox"
      },
      "source": [
        "Corroborando que esta corrección cumpla con los requisitos previamente mencionados"
      ]
    },
    {
      "cell_type": "markdown",
      "metadata": {
        "id": "_feRjxIcEQLf"
      },
      "source": [
        "**Estacionariedad en media**"
      ]
    },
    {
      "cell_type": "code",
      "metadata": {
        "colab": {
          "base_uri": "https://localhost:8080/"
        },
        "id": "_xVkx6HCENiT",
        "outputId": "f457051d-c202-4b18-e2b4-13b13cdc6e2e"
      },
      "source": [
        "%%R\n",
        "hi<-lm(i1~time(i1))\n",
        "summary(hi)"
      ],
      "execution_count": null,
      "outputs": [
        {
          "output_type": "stream",
          "name": "stdout",
          "text": [
            "\n",
            "Call:\n",
            "lm(formula = i1 ~ time(i1))\n",
            "\n",
            "Residuals:\n",
            "     Min       1Q   Median       3Q      Max \n",
            "-0.09318 -0.03157 -0.00900  0.01565  0.87299 \n",
            "\n",
            "Coefficients:\n",
            "             Estimate Std. Error t value Pr(>|t|)    \n",
            "(Intercept) 335.81271   50.41509   6.661 1.58e-10 ***\n",
            "time(i1)     -0.16611    0.02494  -6.660 1.59e-10 ***\n",
            "---\n",
            "Signif. codes:  0 ‘***’ 0.001 ‘**’ 0.01 ‘*’ 0.05 ‘.’ 0.1 ‘ ’ 1\n",
            "\n",
            "Residual standard error: 0.08509 on 263 degrees of freedom\n",
            "Multiple R-squared:  0.1443,\tAdjusted R-squared:  0.1411 \n",
            "F-statistic: 44.36 on 1 and 263 DF,  p-value: 1.59e-10\n",
            "\n"
          ]
        }
      ]
    },
    {
      "cell_type": "markdown",
      "metadata": {
        "id": "Lw7gC38NEUqA"
      },
      "source": [
        "**Prueba de Hipótesis**\n",
        "\n",
        "**H0**: muestra tendencia lineal\n",
        "\n",
        "\n",
        "**H1**: no muestra tendencia lineal\n",
        "\n",
        "\n",
        "Rechazamos H0 si p valor mayor a alfa, pero como p valor es muy chico, no rechazamos\n",
        "\n",
        "\n",
        "Muestra evidencia de tendencia lineal"
      ]
    },
    {
      "cell_type": "markdown",
      "metadata": {
        "id": "jfQ_EujpEfi9"
      },
      "source": [
        "Como la primera corrección no fue suficiente para hacer la serie estacionaria, aplicaremos una segunda"
      ]
    },
    {
      "cell_type": "markdown",
      "metadata": {
        "id": "VjPh2_e3EsQL"
      },
      "source": [
        "# Segunda corrección"
      ]
    },
    {
      "cell_type": "markdown",
      "metadata": {
        "id": "oJe-qquoE_Nb"
      },
      "source": [
        "Ahora solamente aplicaremos diff a la primera corrección"
      ]
    },
    {
      "cell_type": "code",
      "metadata": {
        "colab": {
          "base_uri": "https://localhost:8080/",
          "height": 497
        },
        "id": "r7FJGN1yFGtn",
        "outputId": "318c591f-f285-424a-91db-e59ffc04a34f"
      },
      "source": [
        "%%R\n",
        "i2<-diff(i1)\n",
        "plot(i2, ylim=c(-1,1), main=\"Segunda corrección\")"
      ],
      "execution_count": null,
      "outputs": [
        {
          "output_type": "display_data",
          "data": {
            "image/png": "[encoded data removed]"
          },
          "metadata": {}
        }
      ]
    },
    {
      "cell_type": "markdown",
      "metadata": {
        "id": "jwpNGpILFRKd"
      },
      "source": [
        "Verificando la corrección en **media**"
      ]
    },
    {
      "cell_type": "code",
      "metadata": {
        "colab": {
          "base_uri": "https://localhost:8080/"
        },
        "id": "axXDnNgqFWnF",
        "outputId": "706f0b1f-b976-45d6-f4ab-935b513fe5bf"
      },
      "source": [
        "%%R\n",
        "summary(lm(i2~time(i2))) "
      ],
      "execution_count": null,
      "outputs": [
        {
          "output_type": "stream",
          "name": "stdout",
          "text": [
            "\n",
            "Call:\n",
            "lm(formula = i2 ~ time(i2))\n",
            "\n",
            "Residuals:\n",
            "     Min       1Q   Median       3Q      Max \n",
            "-0.47546 -0.00470 -0.00036  0.00483  0.81196 \n",
            "\n",
            "Coefficients:\n",
            "             Estimate Std. Error t value Pr(>|t|)\n",
            "(Intercept) -4.126093  48.110174  -0.086    0.932\n",
            "time(i2)     0.002041   0.023800   0.086    0.932\n",
            "\n",
            "Residual standard error: 0.08074 on 262 degrees of freedom\n",
            "Multiple R-squared:  2.807e-05,\tAdjusted R-squared:  -0.003789 \n",
            "F-statistic: 0.007354 on 1 and 262 DF,  p-value: 0.9317\n",
            "\n"
          ]
        }
      ]
    },
    {
      "cell_type": "markdown",
      "metadata": {
        "id": "2jtYQ-ZjFfBz"
      },
      "source": [
        "**Prueba de Hipótesis**\n",
        "\n",
        "**H0**: muestra tendencia lineal\n",
        "\n",
        "\n",
        "**H1**: no muestra tendencia lineal\n",
        "\n",
        "\n",
        "Rechazamos H0 si p valor mayor a alfa, pero como p valor alto, rechazamos\n",
        "\n",
        "\n",
        "No muestra evidencia de tendencia lineal"
      ]
    },
    {
      "cell_type": "markdown",
      "metadata": {
        "id": "5bgLuKjpFqbb"
      },
      "source": [
        "Verificando la corrección en **varianza**"
      ]
    },
    {
      "cell_type": "code",
      "metadata": {
        "colab": {
          "base_uri": "https://localhost:8080/"
        },
        "id": "15QrWnEAFo3-",
        "outputId": "01fab5bb-3547-4eab-c918-ac52e718f585"
      },
      "source": [
        "%%R\n",
        "adf.test(i2,alternative=\"stationary\")"
      ],
      "execution_count": null,
      "outputs": [
        {
          "output_type": "stream",
          "name": "stdout",
          "text": [
            "\n",
            "\tAugmented Dickey-Fuller Test\n",
            "\n",
            "data:  i2\n",
            "Dickey-Fuller = -8.8939, Lag order = 6, p-value = 0.01\n",
            "alternative hypothesis: stationary\n",
            "\n"
          ]
        }
      ]
    },
    {
      "cell_type": "markdown",
      "metadata": {
        "id": "J379gHRPGaFs"
      },
      "source": [
        "**Prueba de Hipótesis**\n",
        "\n",
        "**H0**: La serie no es estacionaria en varianza\n",
        "\n",
        "\n",
        "**H1**: La serie es estacionaria en varianza\n",
        "\n",
        "Rechazo H0 si p valor es menor que alfa, como p valor es menor a alfa, rechazo H0\n",
        "\n",
        "**Con una confianza del 90% hay evidencia estadística suficiente para decir que la serie es estacionaria en media y en varianza**"
      ]
    },
    {
      "cell_type": "markdown",
      "metadata": {
        "id": "N1cnPlrjH4_v"
      },
      "source": [
        "# **Tercer Paso: Modelar**"
      ]
    },
    {
      "cell_type": "markdown",
      "metadata": {
        "id": "yBoV7kVXH77Q"
      },
      "source": [
        "A continuación utilizaremos un ciclo que conntiene la función ARIMA y el cual nos evalua el mejor modelo de AR, MA ó el ARMA\n",
        "\n",
        "Una explicación breve de los modelos anteriormente mencionados es la siguiente:\n",
        "\n",
        "\n",
        "\n",
        "*   **AR(p):** Modelo autoregresivo\n",
        "*   **MA(q)**: Un modelo de media móvil es una autorregresión donde los regresores son los términos de error de cada período t. \n",
        "*  **ARMA(p,q):** El modelo general de series temporales autorregresivo con media móvil de p términos autorregresivos y q términos de media móvil\n",
        "\n",
        "\n",
        "\n",
        "\n"
      ]
    },
    {
      "cell_type": "markdown",
      "metadata": {
        "id": "-L3qis_QJmIW"
      },
      "source": [
        "El criterio de evaluación para ver el mejor modelo es el AIC, el cual entre mas bajo es mejor, es por ello, que dentro del ciclo evaluamos los modelos y su AIC, el que tenga el más bajo es el que nos arrojará"
      ]
    },
    {
      "cell_type": "code",
      "metadata": {
        "colab": {
          "base_uri": "https://localhost:8080/"
        },
        "id": "xgYiLgohIQRl",
        "outputId": "eca9a97e-374c-45f3-900a-5a2f7f62609d"
      },
      "source": [
        "%%R\n",
        "aic.arma1<-Inf\n",
        "orden.arma1<-c(0,0,0)\n",
        "for(j in 0:10){\n",
        "  for(i in 0:10){\n",
        "    try(aic.xx1<-AIC(arima(i2,order=c(j,0,i),method =\"ML\" )))\n",
        "    if(aic.arma1>aic.xx1){\n",
        "      aic.arma1<-aic.xx1\n",
        "      orden.arma1<-c(j,0,i)\n",
        "    }\n",
        "  }\n",
        "}\n",
        "aic.arma1\n",
        "orden.arma1"
      ],
      "execution_count": null,
      "outputs": [
        {
          "output_type": "stream",
          "name": "stdout",
          "text": [
            "[1] 3 0 4\n"
          ]
        }
      ]
    },
    {
      "cell_type": "markdown",
      "metadata": {
        "id": "mfaGRAczJd7B"
      },
      "source": [
        "Obtenemos el mejor modelo el cuál es un modelo ARMA(3,4)"
      ]
    },
    {
      "cell_type": "code",
      "metadata": {
        "id": "iL3oJEwXJ640"
      },
      "source": [
        "%%R\n",
        "elegido.i2<-arima(i2,order=c(4,0,8), method=\"ML\")\n",
        "res48<-residuals(elegido.i2)"
      ],
      "execution_count": null,
      "outputs": []
    },
    {
      "cell_type": "markdown",
      "metadata": {
        "id": "B695v8msKB9V"
      },
      "source": [
        "# **Cuarto Paso: Ruido Blanco**"
      ]
    },
    {
      "cell_type": "markdown",
      "metadata": {
        "id": "6FOijJH7KtjB"
      },
      "source": [
        "El ruido blanco o sonido blanco es una señal aleatoria (proceso estocástico) que se caracteriza por el hecho de que sus valores de señal en dos tiempos diferentes no guardan correlación estadística y para ello debe de cumplir 3 requisitos\n",
        "\n",
        "\n",
        "\n",
        "*   Media\n",
        "*   Varianza Constante\n",
        "*   Incorrelación\n"
      ]
    },
    {
      "cell_type": "markdown",
      "metadata": {
        "id": "wuKPdGZ0LRNv"
      },
      "source": [
        "# Media"
      ]
    },
    {
      "cell_type": "code",
      "metadata": {
        "colab": {
          "base_uri": "https://localhost:8080/"
        },
        "id": "kBEwvth3LTVx",
        "outputId": "b4e2461d-2323-498f-fbdb-269df93d5942"
      },
      "source": [
        "%%R\n",
        "mean(res48)"
      ],
      "execution_count": null,
      "outputs": [
        {
          "output_type": "stream",
          "name": "stdout",
          "text": [
            "[1] -0.002704128\n"
          ]
        }
      ]
    },
    {
      "cell_type": "markdown",
      "metadata": {
        "id": "IPCA7g-mLdeC"
      },
      "source": [
        "El valor debe ser cercano al 0 por lo que, el resultado obtenido esta bien"
      ]
    },
    {
      "cell_type": "markdown",
      "metadata": {
        "id": "kc7cKLK9LiV4"
      },
      "source": [
        "# Varianza Constante"
      ]
    },
    {
      "cell_type": "code",
      "metadata": {
        "colab": {
          "base_uri": "https://localhost:8080/",
          "height": 497
        },
        "id": "R_o1gz20Lncf",
        "outputId": "8ebd0d9c-0f9b-4702-ff67-9c09097c4d70"
      },
      "source": [
        "%%R\n",
        "plot(res48,type=\"p\", ylab=\"Residuales\", main=\"Varianza\")"
      ],
      "execution_count": null,
      "outputs": [
        {
          "output_type": "display_data",
          "data": {
            "image/png": "[encoded data removed]"
          },
          "metadata": {}
        }
      ]
    },
    {
      "cell_type": "markdown",
      "metadata": {
        "id": "i4HtV8FwWimi"
      },
      "source": [
        "Varianza cercana al cero y sin patrón aparente, cumple con el supuesto"
      ]
    },
    {
      "cell_type": "markdown",
      "metadata": {
        "id": "YSKqt0NLMj8J"
      },
      "source": [
        "# Incorrelación"
      ]
    },
    {
      "cell_type": "markdown",
      "metadata": {
        "id": "lS0cWeedMmrc"
      },
      "source": [
        "Gráficamente"
      ]
    },
    {
      "cell_type": "code",
      "metadata": {
        "colab": {
          "base_uri": "https://localhost:8080/",
          "height": 497
        },
        "id": "419fpTb3MogT",
        "outputId": "ad9f52a5-a18e-4d57-fef8-c4ed22b447c1"
      },
      "source": [
        "%%R\n",
        "acf(res48)"
      ],
      "execution_count": null,
      "outputs": [
        {
          "output_type": "display_data",
          "data": {
            "image/png": "[encoded data removed]"
          },
          "metadata": {}
        }
      ]
    },
    {
      "cell_type": "code",
      "metadata": {
        "colab": {
          "base_uri": "https://localhost:8080/",
          "height": 497
        },
        "id": "ms6HTXQRMuE_",
        "outputId": "3f7b1cfa-39c9-48eb-c5c8-e52b46cc4f06"
      },
      "source": [
        "%%R\n",
        "pacf(res48)"
      ],
      "execution_count": null,
      "outputs": [
        {
          "output_type": "display_data",
          "data": {
            "image/png": "[encoded data removed]"
          },
          "metadata": {}
        }
      ]
    },
    {
      "cell_type": "markdown",
      "metadata": {
        "id": "PTSQnfWDM2Gj"
      },
      "source": [
        "No sobrepasa las líneas de confianza, por lo que cumple el supuesto de manera gráfica"
      ]
    },
    {
      "cell_type": "markdown",
      "metadata": {
        "id": "_ss0OQJVM6uL"
      },
      "source": [
        "Ahora de manera analítica con la prueba de Pierce"
      ]
    },
    {
      "cell_type": "code",
      "metadata": {
        "colab": {
          "base_uri": "https://localhost:8080/"
        },
        "id": "PbgD7apnM_8c",
        "outputId": "e41d5630-4b74-4659-c38b-1dc69433b115"
      },
      "source": [
        "%%R\n",
        "Box.test(res48)"
      ],
      "execution_count": null,
      "outputs": [
        {
          "output_type": "stream",
          "name": "stdout",
          "text": [
            "\n",
            "\tBox-Pierce test\n",
            "\n",
            "data:  res48\n",
            "X-squared = 0.00028717, df = 1, p-value = 0.9865\n",
            "\n"
          ]
        }
      ]
    },
    {
      "cell_type": "markdown",
      "metadata": {
        "id": "uS8xDpUcNEE0"
      },
      "source": [
        "**Prueba de Hipótesis**\n",
        "\n",
        "**H0**: residuales independientes\n",
        "\n",
        "**H1**: residuales dependientes\n",
        "\n",
        "Rechazo H0 si p valor<alfa\n",
        "\n",
        "0.98 > 0.05\n",
        "\n",
        "**Residuales independientes**"
      ]
    },
    {
      "cell_type": "markdown",
      "metadata": {
        "id": "bzlNOuboNaN9"
      },
      "source": [
        "**Los residuales con ruido Blanco**"
      ]
    },
    {
      "cell_type": "markdown",
      "metadata": {
        "id": "z_zlP01uNeZB"
      },
      "source": [
        "Ahora analizaremos un supuesto más, el de normalidad, que si no lo cumple no hay ningun problema pero en caso de que si sería Ruido Blanco Gaussiano y podríamos estandárizar para así detectar los datos atípicos  "
      ]
    },
    {
      "cell_type": "markdown",
      "metadata": {
        "id": "1xPGHF_CNyFA"
      },
      "source": [
        "# Normalidad"
      ]
    },
    {
      "cell_type": "markdown",
      "metadata": {
        "id": "vDycBxC5N1kQ"
      },
      "source": [
        "Realizaremos la prueba de Shapiro "
      ]
    },
    {
      "cell_type": "code",
      "metadata": {
        "colab": {
          "base_uri": "https://localhost:8080/"
        },
        "id": "XA3uoIjdN5K8",
        "outputId": "7965eb90-196e-4d02-b080-9e057f6d6d2c"
      },
      "source": [
        "%%R\n",
        "shapiro.test(res48)"
      ],
      "execution_count": null,
      "outputs": [
        {
          "output_type": "stream",
          "name": "stdout",
          "text": [
            "\n",
            "\tShapiro-Wilk normality test\n",
            "\n",
            "data:  res48\n",
            "W = 0.52092, p-value < 2.2e-16\n",
            "\n"
          ]
        }
      ]
    },
    {
      "cell_type": "markdown",
      "metadata": {
        "id": "QKQZdPGhOElA"
      },
      "source": [
        "**Prueba de Hipótesis**\n",
        "\n",
        "**H0**: residuales normales\n",
        "\n",
        "\n",
        "**H1**: residuales sin distribución normal\n",
        "\n",
        "Rechazo H0 si p valor < alfa, p valor muy chico\n",
        "\n",
        "Rechazo H0, residuales SIN normalidad\n",
        "\n",
        "**Residuales con ruido blanco sin ser gaussianos**"
      ]
    },
    {
      "cell_type": "markdown",
      "metadata": {
        "id": "EgDyHGFfOkqb"
      },
      "source": [
        "# **Quinto paso: Predicciones**"
      ]
    },
    {
      "cell_type": "markdown",
      "metadata": {
        "id": "mXt_zqkyOpYh"
      },
      "source": [
        "Ya que tenemos nuestro modelo, podemos pasar a predecir"
      ]
    },
    {
      "cell_type": "code",
      "metadata": {
        "colab": {
          "base_uri": "https://localhost:8080/",
          "height": 497
        },
        "id": "qTh1RtCdOv_K",
        "outputId": "e176feb6-10b8-412e-be85-aeeed6becb1b"
      },
      "source": [
        "%%R\n",
        "plot(serie, xlim=c(2021+15/265,2022), ylim=c(0,90000000))\n",
        "pred<-predict(arima(serie,order=c(4,2,8),method=\"ML\"),n.ahead=150)$pred\n",
        "lines(pred,col=\"red\")"
      ],
      "execution_count": null,
      "outputs": [
        {
          "output_type": "display_data",
          "data": {
            "image/png": "[encoded data removed]"
          },
          "metadata": {}
        }
      ]
    },
    {
      "cell_type": "code",
      "metadata": {
        "id": "XpoKvYtoO5ym"
      },
      "source": [
        "%%R\n",
        "poblacion<-131399538\n",
        "vtr<-c(.4,.5,.6,.7)\n",
        "p2<-vtr*poblacion"
      ],
      "execution_count": null,
      "outputs": []
    },
    {
      "cell_type": "code",
      "metadata": {
        "colab": {
          "base_uri": "https://localhost:8080/"
        },
        "id": "ENRPFroVO_kB",
        "outputId": "a6e0fa26-9831-4a7c-98c4-78334165d528"
      },
      "source": [
        "%%R\n",
        "tail(serie,1)/poblacion *100"
      ],
      "execution_count": null,
      "outputs": [
        {
          "output_type": "stream",
          "name": "stdout",
          "text": [
            "[1] 36.2957\n"
          ]
        }
      ]
    },
    {
      "cell_type": "markdown",
      "metadata": {
        "id": "OiPYG5ieO9JL"
      },
      "source": [
        "Para el dia 08 de octubre del 2021 se encuentra vacunada el 36.29% de la poblacion"
      ]
    },
    {
      "cell_type": "code",
      "metadata": {
        "id": "HqNJ7HKHPJiQ"
      },
      "source": [
        "%%R\n",
        "dias<-c(0,0,0,0)\n",
        "j=1\n",
        "for (i in 1:150){\n",
        "    if (pred[i]>=p2[j] & j<5 ){\n",
        "        dias[j]<-i\n",
        "        j=j+1\n",
        "    }\n",
        "}"
      ],
      "execution_count": null,
      "outputs": []
    },
    {
      "cell_type": "code",
      "metadata": {
        "colab": {
          "base_uri": "https://localhost:8080/"
        },
        "id": "9lQ4BKcKPOOx",
        "outputId": "554491b1-aa58-42e6-f0c3-720b7e9fdbf0"
      },
      "source": [
        "%%R\n",
        "f<-as.Date(\"2021-10-08\")\n",
        "f\n",
        "message(\"\\nSegun el modelo el 40% de la poblacion estara vacunada el \", f+dias[1])\n",
        "message(\"\\nSegun el modelo el 50% de la poblacion estara vacunada el \", f+dias[2])\n",
        "message(\"\\nSegun el modelo el 60% de la poblacion estara vacunada el \", f+dias[3])\n",
        "message(\"\\nSegun el modelo el 70% de la poblacion estara vacunada el \", f+dias[4])"
      ],
      "execution_count": null,
      "outputs": [
        {
          "output_type": "stream",
          "name": "stderr",
          "text": [
            "R[write to console]: \n",
            "Segun el modelo el 40% de la poblacion estara vacunada el 2021-10-22\n",
            "\n",
            "R[write to console]: \n",
            "Segun el modelo el 50% de la poblacion estara vacunada el 2021-11-29\n",
            "\n",
            "R[write to console]: \n",
            "Segun el modelo el 60% de la poblacion estara vacunada el 2022-01-06\n",
            "\n",
            "R[write to console]: \n",
            "Segun el modelo el 70% de la poblacion estara vacunada el 2022-02-12\n",
            "\n"
          ]
        }
      ]
    },
    {
      "cell_type": "markdown",
      "metadata": {
        "id": "Yag6fxpkPSnE"
      },
      "source": [
        "# **Metricas de Valuación**"
      ]
    },
    {
      "cell_type": "markdown",
      "metadata": {
        "id": "WcUsN0l2Pzom"
      },
      "source": [
        "Para revisar nuestras metricas utilizaremos los ultimos 20 dias registrados y los compararemos usando nuestro modelo con las predicciones que nos da para estos dias y con ello ver que tan bueno es el modelo."
      ]
    },
    {
      "cell_type": "code",
      "metadata": {
        "colab": {
          "base_uri": "https://localhost:8080/"
        },
        "id": "8vlFYamvPwHS",
        "outputId": "3b26b6a9-656f-4b94-a958-b6261ca5206f"
      },
      "source": [
        "%%R\n",
        "serie_corta=serie[1:246]\n",
        "pred_anteriores<-predict(arima(serie_corta,order=c(4,2,8),method=\"ML\"),n.ahead=266-246)$pred\n",
        "pred_anteriores"
      ],
      "execution_count": null,
      "outputs": [
        {
          "output_type": "stream",
          "name": "stdout",
          "text": [
            "Time Series:\n",
            "Start = 247 \n",
            "End = 266 \n",
            "Frequency = 1 \n",
            " [1] 41724856 41978082 42360847 42848634 43252766 43612104 43968400 44296170\n",
            " [9] 44668930 45073082 45494067 45907090 46285881 46638166 46984576 47350129\n",
            "[17] 47745283 48158167 48566250 48951322\n"
          ]
        }
      ]
    },
    {
      "cell_type": "code",
      "metadata": {
        "colab": {
          "base_uri": "https://localhost:8080/"
        },
        "id": "_FaobhYGQR4n",
        "outputId": "bd53304d-1485-4d98-9c73-6fcb24a6c689"
      },
      "source": [
        "%%R\n",
        "valores_reales = serie[247:266]\n",
        "valores_reales"
      ],
      "execution_count": null,
      "outputs": [
        {
          "output_type": "stream",
          "name": "stdout",
          "text": [
            " [1] 41698947 41918336 42200082 42715579 43248659 43820430 44278675 44511000\n",
            " [9] 44626347 44902572 45284037 45572525 45794439 45924491 46054543 46182187\n",
            "[17] 46309831 46648316 46986802 47692378\n"
          ]
        }
      ]
    },
    {
      "cell_type": "markdown",
      "metadata": {
        "id": "shwxEY9CQah_"
      },
      "source": [
        "###Error absoluto medio"
      ]
    },
    {
      "cell_type": "code",
      "metadata": {
        "colab": {
          "base_uri": "https://localhost:8080/"
        },
        "id": "Asb1nH40QbkH",
        "outputId": "c5323860-e3e0-445d-b485-f223abda0b61"
      },
      "source": [
        "%%R\n",
        "n=length(valores_reales)\n",
        "suma=0\n",
        "for (i in 1:n){\n",
        "    suma= abs(pred_anteriores[i]-valores_reales[i])+suma\n",
        "}\n",
        "suma\n",
        "\n",
        "MAE = 1/n *suma\n",
        "MAE"
      ],
      "execution_count": null,
      "outputs": [
        {
          "output_type": "stream",
          "name": "stdout",
          "text": [
            "[1] 548074.4\n"
          ]
        }
      ]
    },
    {
      "cell_type": "markdown",
      "metadata": {
        "id": "k1Atxf1ZQjmP"
      },
      "source": [
        "Este dato nos muestra en promedio cuanto puede llegar a differir los datos reales con respecto a nuestras preedicciones."
      ]
    },
    {
      "cell_type": "code",
      "metadata": {
        "colab": {
          "base_uri": "https://localhost:8080/"
        },
        "id": "dJay04yTQkTi",
        "outputId": "c0f0bf75-2f4b-47e1-c649-983d1a26c875"
      },
      "source": [
        "%%R\n",
        "n=length(valores_reales)\n",
        "suma=0\n",
        "for (i in 1:n){\n",
        "    suma= ((pred_anteriores[i]-valores_reales[i])**2)+suma\n",
        "}\n",
        "suma\n",
        "\n",
        "MSE = 1/n *suma\n",
        "MSE"
      ],
      "execution_count": null,
      "outputs": [
        {
          "output_type": "stream",
          "name": "stdout",
          "text": [
            "[1] 591011383012\n"
          ]
        }
      ]
    },
    {
      "cell_type": "markdown",
      "metadata": {
        "id": "qFVwxW6tQs3K"
      },
      "source": [
        "# Raíz del error cuadrático medio"
      ]
    },
    {
      "cell_type": "code",
      "metadata": {
        "colab": {
          "base_uri": "https://localhost:8080/"
        },
        "id": "oKD06XlQQxqV",
        "outputId": "bf7ae4a8-645e-4d47-f2d3-8cd2fa49b6c2"
      },
      "source": [
        "%%R\n",
        "RMSE=sqrt(MSE)\n",
        "RMSE"
      ],
      "execution_count": null,
      "outputs": [
        {
          "output_type": "stream",
          "name": "stdout",
          "text": [
            "[1] 768772.6\n"
          ]
        }
      ]
    },
    {
      "cell_type": "markdown",
      "metadata": {
        "id": "a4fCAOooQ1nK"
      },
      "source": [
        "Este dato nos muestra la dispersion de nuestros datos en el transcurso del tiempo, penalizando fuertemente los errores grandes. Por lo que la dispersion de nuestros datos es de 768,772"
      ]
    },
    {
      "cell_type": "markdown",
      "metadata": {
        "id": "aRdC-2eIQ7ec"
      },
      "source": [
        "### Error porcentual absoluto"
      ]
    },
    {
      "cell_type": "code",
      "metadata": {
        "colab": {
          "base_uri": "https://localhost:8080/"
        },
        "id": "J_FSv1gzQ-Fn",
        "outputId": "bd579024-7ef9-4b43-8869-b1e0b1bfac7e"
      },
      "source": [
        "%%R\n",
        "n=length(valores_reales)\n",
        "suma=0\n",
        "for (i in 1:n){\n",
        "    suma= 100*abs((pred_anteriores[i]-valores_reales[i])/pred_anteriores[i])+suma\n",
        "}\n",
        "suma\n",
        "\n",
        "MAPE = 1/n *suma\n",
        "MAPE"
      ],
      "execution_count": null,
      "outputs": [
        {
          "output_type": "stream",
          "name": "stdout",
          "text": [
            "[1] 1.162003\n"
          ]
        }
      ]
    },
    {
      "cell_type": "markdown",
      "metadata": {
        "id": "7tVw1PGbRDjs"
      },
      "source": [
        "Para la evaluación del desempeño predictivo se emplean diferentes indicadores que cuantifican que tan cerca esta la variable pronosticada de su serie de datos correspondiente. Una de las medidas mas utilizadas es el Promedio\n",
        "del Error Porcentual Absoluto. \n",
        "El MAPE mide el valor medio del error absoluto en terminos porcentuales al valor real de la variable\n",
        "\n",
        "Podemos apreciar que en nuestro modelo tenemos un error promedio de 1.16% lo cual lo hace un modelo muy aceptable"
      ]
    },
    {
      "cell_type": "markdown",
      "metadata": {
        "id": "3zfg2Oy1RI4p"
      },
      "source": [
        "###Métricas o coeficientes de precisión U de Theil\n",
        "\n",
        "U1\n"
      ]
    },
    {
      "cell_type": "code",
      "metadata": {
        "colab": {
          "base_uri": "https://localhost:8080/"
        },
        "id": "wqPZuNOYRKeT",
        "outputId": "43308ba8-6f93-4d0e-8a84-c4397d540b34"
      },
      "source": [
        "%%R\n",
        "n=length(valores_reales)\n",
        "suma1=0\n",
        "suma2=0\n",
        "suma3=0\n",
        "for (i in 1:n){\n",
        "    suma1= (pred_anteriores[i]-valores_reales[i])**2+suma\n",
        "    suma2 = (pred_anteriores[i]**2)+suma2\n",
        "    suma3= (valores_reales[i]**2)+suma2\n",
        "}\n",
        "\n",
        "\n",
        "U1 = ((sqrt(1/n * suma1))/((sqrt(1/n * suma2))+ (sqrt(1/n*suma3))))\n",
        "U1"
      ],
      "execution_count": null,
      "outputs": [
        {
          "output_type": "stream",
          "name": "stdout",
          "text": [
            "[1] 0.003062181\n"
          ]
        }
      ]
    },
    {
      "cell_type": "markdown",
      "metadata": {
        "id": "NnP9AZ15RR7_"
      },
      "source": [
        "Este coeficiente nos indica que cuanto mayor sea la precisión de la predicción, menor será el valor del coeficiente el cual esta dentro de un rango de (0,1).\n",
        "\n",
        "Como vemos tenemos un coeficiente muy bajo lo cual nos indica que las predicciones que encuentra nuestro modelo parecen ser muy precisas"
      ]
    },
    {
      "cell_type": "markdown",
      "metadata": {
        "id": "X42DLmTii3rl"
      },
      "source": [
        "# **Conclusión de los resultados**"
      ]
    },
    {
      "cell_type": "markdown",
      "metadata": {
        "id": "l-NElBHGjIuY"
      },
      "source": [
        "Podemos observar que el modelo elegido, a simple viste parece no ser muy preciso ya que los valores crecen muy rápidamente en las predicciones, pero esto tiene mucho sentido si consideramos el contexto de nuestros datos, en el que se está haciendo el máximo esfuerzo para vacunar a la mayor población posible en el menor tiempo, porque es lógico que a principios del año cuando las vacunas eran escasas la curva de vacunación creciera de manera lenta. Pero ahora y a futuro que en el mundo sobran vacunas el numero de vacunados presente un crecimiento casi exponencial. \n",
        "Así mismo podemos medir nuestras predicciones con distintas métricas de medición, en este caso desviación porcentual absoluta media, MAPE y coeficientes de precisión U de Theil, donde en ambos indicadores  tenemos unos valores sobresalientes, ya que contamos con un MAPE ~1.2%  y un U de Theil de .003 esto nos  indica que las predicciones que encuentra nuestro modelo parecen ser muy precisas.\n",
        "\n",
        "Por lo que podemos concluir que nuestro modelo logro cumplir con unas bunas predicciones para el regreso a la normalidad; considerando que esto sucederá el cuando el 70% de población se encuentre vacunada, lo que según nuestras predicciones será el próximo 12 de febrero del 2022."
      ]
    },
    {
      "cell_type": "markdown",
      "metadata": {
        "id": "UIkshRQmjmHh"
      },
      "source": [
        "# **Trabajo a futuro**"
      ]
    },
    {
      "cell_type": "markdown",
      "metadata": {
        "id": "wz3-iQBfjo2C"
      },
      "source": [
        "El trabajo a futuro para esta base de datos puede ser muy extenso pero tal vez no tan útil, ya que posiblemente en un año la mayoría de los países hayan terminado la etapa de vacunación por lo que será redúndate el predecir la fecha de vuelta la normalidad. Aun así, lo que se podría mejorar en el modelo de predicción, seria el considerar el nivel de inmunidad de población basándonos en el tipo de vacuna y su proporción aplicada a la población. Y no solo extender este análisis para México sino para todos los países del mundo.\n",
        "\n",
        "Un proyecto que podría ser de utilidad en el futuro seria ya no el predecir una fecha, sino la extracción de estadísticas descriptivas de múltiples países para poder estudiar que tan bien hicieron frente a la pandemia, y poder catalogarlos según se eficacia al enfrentar pandemias a nivel de vacunaciones"
      ]
    }
  ]
}