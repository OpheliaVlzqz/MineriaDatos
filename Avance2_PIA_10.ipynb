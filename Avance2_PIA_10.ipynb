{
  "nbformat": 4,
  "nbformat_minor": 0,
  "metadata": {
    "colab": {
      "name": "Avance2_PIA_10.ipynb",
      "provenance": [],
      "collapsed_sections": []
    },
    "kernelspec": {
      "name": "python3",
      "display_name": "Python 3"
    },
    "language_info": {
      "name": "python"
    }
  },
  "cells": [
    {
      "cell_type": "markdown",
      "metadata": {
        "id": "FWUZ_A5NPrEj"
      },
      "source": [
        "# **Equipo: 10**\n",
        "Integrantes\n",
        "\n",
        "\n",
        "*   \n",
        "1856652 Velázquez Montemayor Ofelia\n",
        "*   \n",
        "1856652 Velázquez Montemayor Ofelia\n",
        "*\n",
        "1862149 Cruz Martínez Diego Adrian\n",
        "*\n",
        "1867216 Martínez Reyes Jose Miguel\n",
        "*\n",
        "1941488 García Ortega Jose Andrés\n",
        "*\n",
        "1941564 Ramirez Moreno Diana Gabriela"
      ]
    },
    {
      "cell_type": "markdown",
      "metadata": {
        "id": "d606BPuroM1H"
      },
      "source": [
        "**GRUPO 001.- Lunes de 7:00-10:00 PM**\n",
        "\n",
        "\n",
        "Objetivo: Estimar una fecha en la cuál se pueda llegar a una nueva normalidad mas segura para todos, a partir de la cifras de las personas vacunadas. \n"
      ]
    },
    {
      "cell_type": "markdown",
      "metadata": {
        "id": "rHbmpHZ6ctha"
      },
      "source": [
        "# **Base de datos principal: COVID-19 World Vaccination Progress**"
      ]
    },
    {
      "cell_type": "markdown",
      "metadata": {
        "id": "YiZwpxfOcpke"
      },
      "source": [
        "\n",
        "URL de la pagina:  https://www.kaggle.com/datasets"
      ]
    },
    {
      "cell_type": "markdown",
      "metadata": {
        "id": "tTIKVYamZYV9"
      },
      "source": [
        "# **Introducción General**"
      ]
    },
    {
      "cell_type": "markdown",
      "metadata": {
        "id": "lFyVJFQDZk6l"
      },
      "source": [
        "Nuestra base de datos muestra el progreso de vacunación mundial contra el COVID-19. Los coronavirus son una familia de virus que causan enfermedades (desde el resfriado común hasta enfermedades respiratorias más graves) y circulan entre humanos y animales. \n",
        "El COVID-19 es la enfermedad causada por el nuevo coronavirus conocido como SARS-CoV-2. La OMS tuvo noticia por primera vez de la existencia de este nuevo virus el 31 de diciembre de 2019, al ser informada de un grupo de casos de «neumonía vírica» que se habían declarado en Wuhan (República Popular China).\n",
        "\n",
        "Algunos de los síntomas que puede presentar una persona con COVID-19 son, fiebre, tos seca, cansancio, pérdida del gusto y/o del olfato, dolor de garganta, dolor de cabeza, náuseas, vómito, diarrea, etc. El sector de la población con más riesgo son las personas de más de 60 años y las que padecen afecciones médicas subyacentes, como hipertensión arterial, problemas cardíacos o pulmonares, \n",
        "diabetes, obesidad o cáncer, corren un mayor riesgo de presentar cuadros graves. \n",
        "Sin embargo, cualquier persona, a cualquier edad, puede enfermar de COVID-19 y presentar un cuadro grave o morir.    \n",
        "El tiempo entre la exposición a la COVID-19 y el momento en que comienzan los síntomas es, de media, de 5 o 6 días, pero puede variar entre 1 y 14 días. Por ello se recomienda que las personas que hayan estado expuestas al virus se queden en casa, alejadas de otras personas, durante 14 días, con el fin de prevenir la propagación del virus.\n",
        "\n",
        "El COVID-19 ha afectado mucho a la humanidad, han muerto 4.49 M de personas en el mundo y se han enfermado 216 M de personas. De los casi 7,000 profesionales de la salud en el mundo que han perdido la vida por el Covid-19, al menos 1,320 se registraron en México, según un reporte de Amnistía Internacional. La pandemia ha afectado a la economía de todos los países del mundo, los precios de las materias primas cayeron, mientras subió el gasto público para la lucha contra la pandemia que  a consecuencia de esta muchos negocios cerraron, subió el índice de desempleo y aumentó la inseguridad. La deuda fiscal de muchos países se incrementó enormemente. \n",
        "\n",
        "Una herramienta que nos ayude a explorar los datos del COVID-19 ayudaría bastante en distintas áreas principalmente en el área médica, como por ejemplo llevar un control de las muertes, los infectados y los recuperados de las personas no vacunadas y las vacunadas, para poder ver el grado de efectividad que tienen las distintas vacunas y si tienen el mismo grado de efectividad en una persona joven o en una persona de edad avanzada. También estos datos nos ayudarían en la economía, porque con esas cifras los gobiernos sabrían cuánto riesgo tienen las personas al acudir a ciertos establecimientos y así tomar la decisión de abrirlos, cerrarlos o poner un límite de personas, ya una vez que la mayoría o una gran parte de la población se encuentra vacunada. \n"
      ]
    },
    {
      "cell_type": "markdown",
      "metadata": {
        "id": "VTOMhN9nZtrO"
      },
      "source": [
        "# **Descripción de los datos**"
      ]
    },
    {
      "cell_type": "markdown",
      "metadata": {
        "id": "6qmJeKaGZzs3"
      },
      "source": [
        "\n",
        "**Tipo de datos**: Tablas \n",
        "\n",
        "**Descripción de las columnas**: la base de datos cuenta con 16 columnas y otras 4 columnas en otro archivo. \n"
      ]
    },
    {
      "cell_type": "markdown",
      "metadata": {
        "id": "gZiUmfaHaGqZ"
      },
      "source": [
        "\n",
        "\n",
        "*   País - string \n",
        "*   Código ISO del país - string\n",
        "*   Fecha - object (fecha de entrada de los datos) \n",
        "Número total de vacunas - float (número absoluto total de inmunizaciones)\n",
        "*   Número total de personas vacunadas - float\n",
        "*   Número total de personas totalmente vacunadas - float\n",
        "*   Vacunaciones diarias (en bruto) - float\n",
        "*   Vacunaciones totales por cien - float (relación entre el número de vacunaciones y la población total hasta la fecha en el país)\n",
        "*   Número total de personas vacunadas por cada cien - float (Relación entre la población inmunizada y la población total hasta la fecha en el país)\n",
        "*   Número total de personas totalmente vacunadas por cada cien -float (Relación  entre la población totalmente inmunizada y la población total hasta la fecha en el país )\n",
        "*   Número de vacunaciones por día -float\n",
        "*   Vacunaciones diarias por millón - float (relación entre el número de vacunaciones y la población total para la fecha actual en el país)\n",
        "*   Vacunas utilizadas en el país - string\n"
      ]
    },
    {
      "cell_type": "markdown",
      "metadata": {
        "id": "cQHhDZ9Dbi6I"
      },
      "source": [
        "# **Justificación del uso de datos**"
      ]
    },
    {
      "cell_type": "markdown",
      "metadata": {
        "id": "0GQuORqvbl-0"
      },
      "source": [
        "Los datos se recolectaron desde el database de kaggle \"COVID-19 World Vaccination Progress\", el cual incluye dos archivos CSV \"country_vaccinations_by_manufacturer\" & \"country_vaccinations\" \n",
        "\n",
        "\n",
        "Algunas de las características que más nos llamaron la atención para trabajar con esta base de datos es que, está organizada de manera lógica y eficiente, logrando así una fácil comprensión, puesto que contiene los países por orden alfabético y los datos están ordenados de manera cronológica. sin contar que desglosa la información del proceso de vacunación de una manera detallada, como son el número de vacunas aplicadas diariamente y cuantas personas tienen por lo menos una dosis y cuales ya están completamente vacunadas además de que cada dato tiene su índice respecto al nivel de población, lo que facilita la comparación entre países, ya que el número de vacunas aplicadas es relativo a la población.\n",
        "\n",
        "\n",
        "\n",
        "La información que tomaremos en cuenta para poder cumplir nuestros objetivos principalmente son los índices de vacunación y sus fluctuaciones respecto al tiempo, incluyendo los tipos de vacunas aplicadas para de esa manera poder ponderar el porcentaje de inmunización de la población.\n",
        "\n",
        "\n",
        "\n",
        "\n",
        "\n",
        "\n",
        "\n",
        "\n",
        "\n",
        "\n",
        "\n",
        "\n",
        "\n",
        "\n",
        "\n",
        "\n",
        "\n",
        "\n",
        "\n",
        "\n",
        "\n",
        "\n",
        " "
      ]
    },
    {
      "cell_type": "markdown",
      "metadata": {
        "id": "BVJtr3HbbpG5"
      },
      "source": [
        "# **Objetivo final**"
      ]
    },
    {
      "cell_type": "markdown",
      "metadata": {
        "id": "avwfz75hb37I"
      },
      "source": [
        "\n",
        "Buscaremos estimar las fechas en la que cierto porcentaje \"x\" de población de un pais este vacunado para poder predecir cuándo se volverá a la normalidad en cada uno de estos considerado que a mayor porcentaje de población vacunada las restricciones impuestas para frenar propagación de la COVID-19 irán disminuyendo hasta desaparecer.\n",
        "\n",
        "\n",
        "Además de un objetivo secundario, el cual es poder analizar la información actual de los países para así poder medir cuales han los más eficientes en el manejo de la pandemia a nivel de vacunaciones, y de esta manera poder clasificarlos según su efectividad.\n"
      ]
    },
    {
      "cell_type": "markdown",
      "metadata": {
        "id": "h5DJWMpFb6Wb"
      },
      "source": [
        "# **Preguntas de interés**"
      ]
    },
    {
      "cell_type": "markdown",
      "metadata": {
        "id": "BtkDca4Ebv_a"
      },
      "source": [
        "\n",
        "\n",
        "*   ¿Cuál es el país que ha vacunado a mayor parte de su población?\n",
        "*   ¿Qué país es el que ha tenido menor número de vacunaciones por día?\n",
        "\n",
        "\n"
      ]
    },
    {
      "cell_type": "markdown",
      "metadata": {
        "id": "W7QzpnU6nEDH"
      },
      "source": [
        "# **Limpieza de datos**\n",
        "\n",
        "**Leer el archivo**\n",
        "\n",
        "El primer paso sera importar las librerias las cuales podremos utilizar para la lectura y limpieza de datos. Despues se mandará llamar el archivo el cual esta en formato excel. Para eliminar los posibles simbolos que no se puedan leer utilizaremos encoding."
      ]
    },
    {
      "cell_type": "code",
      "metadata": {
        "id": "I6xaLQlzO7Y1"
      },
      "source": [
        "\n",
        "from google.colab import  files\n",
        "import pandas as pd\n",
        "import numpy as np\n",
        "import seaborn as sns\n",
        "import matplotlib.pyplot as plt\n",
        "fig, ax = plt.subplots()\n",
        "%matplotlib inline\n",
        "import matplotlib as mpl\n",
        "\n",
        "\n"
      ],
      "execution_count": null,
      "outputs": []
    },
    {
      "cell_type": "code",
      "metadata": {
        "colab": {
          "resources": {
            "http://localhost:8080/nbextensions/google.colab/files.js": {
              "data": "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",
              "ok": true,
              "headers": [
                [
                  "content-type",
                  "application/javascript"
                ]
              ],
              "status": 200,
              "status_text": ""
            }
          },
          "base_uri": "https://localhost:8080/",
          "height": 72
        },
        "id": "0wWJEBE0SNs-",
        "outputId": "24e2422a-fb03-4459-d179-b521a312c9d3"
      },
      "source": [
        "files.upload()\n",
        "covid = pd.read_csv(\"country_vaccinations.csv\")"
      ],
      "execution_count": null,
      "outputs": [
        {
          "output_type": "display_data",
          "data": {
            "text/html": [
              "\n",
              "     <input type=\"file\" id=\"files-58132d0a-bad5-4029-9de2-299a95e1b629\" name=\"files[]\" multiple disabled\n",
              "        style=\"border:none\" />\n",
              "     <output id=\"result-58132d0a-bad5-4029-9de2-299a95e1b629\">\n",
              "      Upload widget is only available when the cell has been executed in the\n",
              "      current browser session. Please rerun this cell to enable.\n",
              "      </output>\n",
              "      <script src=\"/nbextensions/google.colab/files.js\"></script> "
            ],
            "text/plain": [
              "<IPython.core.display.HTML object>"
            ]
          },
          "metadata": {}
        },
        {
          "output_type": "stream",
          "name": "stdout",
          "text": [
            "Saving country_vaccinations.csv to country_vaccinations (2).csv\n"
          ]
        }
      ]
    },
    {
      "cell_type": "code",
      "metadata": {
        "colab": {
          "resources": {
            "http://localhost:8080/nbextensions/google.colab/files.js": {
              "data": "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",
              "ok": true,
              "headers": [
                [
                  "content-type",
                  "application/javascript"
                ]
              ],
              "status": 200,
              "status_text": ""
            }
          },
          "base_uri": "https://localhost:8080/",
          "height": 126
        },
        "id": "5UUdJTL0ovAy",
        "outputId": "61182bb2-3bd9-41f5-cb85-ebcbebd54735"
      },
      "source": [
        "files.upload()\n",
        "covid.tipo=pd.read_csv(\"country_vaccinations_by_manufacturer.csv\")\n"
      ],
      "execution_count": null,
      "outputs": [
        {
          "output_type": "display_data",
          "data": {
            "text/html": [
              "\n",
              "     <input type=\"file\" id=\"files-ea29691a-3000-4134-aa1d-1ad924e1b450\" name=\"files[]\" multiple disabled\n",
              "        style=\"border:none\" />\n",
              "     <output id=\"result-ea29691a-3000-4134-aa1d-1ad924e1b450\">\n",
              "      Upload widget is only available when the cell has been executed in the\n",
              "      current browser session. Please rerun this cell to enable.\n",
              "      </output>\n",
              "      <script src=\"/nbextensions/google.colab/files.js\"></script> "
            ],
            "text/plain": [
              "<IPython.core.display.HTML object>"
            ]
          },
          "metadata": {}
        },
        {
          "output_type": "stream",
          "name": "stdout",
          "text": [
            "Saving country_vaccinations_by_manufacturer.csv to country_vaccinations_by_manufacturer.csv\n"
          ]
        },
        {
          "output_type": "stream",
          "name": "stderr",
          "text": [
            "/usr/local/lib/python3.7/dist-packages/ipykernel_launcher.py:2: UserWarning: Pandas doesn't allow columns to be created via a new attribute name - see https://pandas.pydata.org/pandas-docs/stable/indexing.html#attribute-access\n",
            "  \n"
          ]
        }
      ]
    },
    {
      "cell_type": "markdown",
      "metadata": {
        "id": "cy6W0hBQu5W_"
      },
      "source": [
        "**Tamaño de la base de datos**\n",
        "\n",
        "Se utiliza la función shape para revisar el tamaño de la base de datos. "
      ]
    },
    {
      "cell_type": "code",
      "metadata": {
        "id": "FjFnY6fQVzU2",
        "colab": {
          "base_uri": "https://localhost:8080/"
        },
        "outputId": "2ef0e996-137a-4be4-daa7-973a56e11190"
      },
      "source": [
        "covid.shape\n",
        "\n"
      ],
      "execution_count": null,
      "outputs": [
        {
          "output_type": "execute_result",
          "data": {
            "text/plain": [
              "(40204, 15)"
            ]
          },
          "metadata": {},
          "execution_count": 3
        }
      ]
    },
    {
      "cell_type": "markdown",
      "metadata": {
        "id": "EVML0KipxPkW"
      },
      "source": [
        "La base de datos cuenta con 40204 filas y 15 columnas. \n",
        "\n",
        "Con la función head, revisaremos nuestros primeros 10 datos de la base de datos y para revisar los ultimos se utilizara la función tail "
      ]
    },
    {
      "cell_type": "code",
      "metadata": {
        "colab": {
          "base_uri": "https://localhost:8080/",
          "height": 696
        },
        "id": "LzsbGnnhcmcY",
        "outputId": "bbb8cefa-6433-4011-ae4a-a60a40e3fae7"
      },
      "source": [
        "covid.head(10)"
      ],
      "execution_count": null,
      "outputs": [
        {
          "output_type": "execute_result",
          "data": {
            "text/html": [
              "<div>\n",
              "<style scoped>\n",
              "    .dataframe tbody tr th:only-of-type {\n",
              "        vertical-align: middle;\n",
              "    }\n",
              "\n",
              "    .dataframe tbody tr th {\n",
              "        vertical-align: top;\n",
              "    }\n",
              "\n",
              "    .dataframe thead th {\n",
              "        text-align: right;\n",
              "    }\n",
              "</style>\n",
              "<table border=\"1\" class=\"dataframe\">\n",
              "  <thead>\n",
              "    <tr style=\"text-align: right;\">\n",
              "      <th></th>\n",
              "      <th>country</th>\n",
              "      <th>iso_code</th>\n",
              "      <th>date</th>\n",
              "      <th>total_vaccinations</th>\n",
              "      <th>people_vaccinated</th>\n",
              "      <th>people_fully_vaccinated</th>\n",
              "      <th>daily_vaccinations_raw</th>\n",
              "      <th>daily_vaccinations</th>\n",
              "      <th>total_vaccinations_per_hundred</th>\n",
              "      <th>people_vaccinated_per_hundred</th>\n",
              "      <th>people_fully_vaccinated_per_hundred</th>\n",
              "      <th>daily_vaccinations_per_million</th>\n",
              "      <th>vaccines</th>\n",
              "      <th>source_name</th>\n",
              "      <th>source_website</th>\n",
              "    </tr>\n",
              "  </thead>\n",
              "  <tbody>\n",
              "    <tr>\n",
              "      <th>0</th>\n",
              "      <td>Afghanistan</td>\n",
              "      <td>AFG</td>\n",
              "      <td>2021-02-22</td>\n",
              "      <td>0.0</td>\n",
              "      <td>0.0</td>\n",
              "      <td>NaN</td>\n",
              "      <td>NaN</td>\n",
              "      <td>NaN</td>\n",
              "      <td>0.00</td>\n",
              "      <td>0.00</td>\n",
              "      <td>NaN</td>\n",
              "      <td>NaN</td>\n",
              "      <td>Johnson&amp;Johnson, Oxford/AstraZeneca, Pfizer/Bi...</td>\n",
              "      <td>World Health Organization</td>\n",
              "      <td>https://covid19.who.int/</td>\n",
              "    </tr>\n",
              "    <tr>\n",
              "      <th>1</th>\n",
              "      <td>Afghanistan</td>\n",
              "      <td>AFG</td>\n",
              "      <td>2021-02-23</td>\n",
              "      <td>NaN</td>\n",
              "      <td>NaN</td>\n",
              "      <td>NaN</td>\n",
              "      <td>NaN</td>\n",
              "      <td>1367.0</td>\n",
              "      <td>NaN</td>\n",
              "      <td>NaN</td>\n",
              "      <td>NaN</td>\n",
              "      <td>34.0</td>\n",
              "      <td>Johnson&amp;Johnson, Oxford/AstraZeneca, Pfizer/Bi...</td>\n",
              "      <td>World Health Organization</td>\n",
              "      <td>https://covid19.who.int/</td>\n",
              "    </tr>\n",
              "    <tr>\n",
              "      <th>2</th>\n",
              "      <td>Afghanistan</td>\n",
              "      <td>AFG</td>\n",
              "      <td>2021-02-24</td>\n",
              "      <td>NaN</td>\n",
              "      <td>NaN</td>\n",
              "      <td>NaN</td>\n",
              "      <td>NaN</td>\n",
              "      <td>1367.0</td>\n",
              "      <td>NaN</td>\n",
              "      <td>NaN</td>\n",
              "      <td>NaN</td>\n",
              "      <td>34.0</td>\n",
              "      <td>Johnson&amp;Johnson, Oxford/AstraZeneca, Pfizer/Bi...</td>\n",
              "      <td>World Health Organization</td>\n",
              "      <td>https://covid19.who.int/</td>\n",
              "    </tr>\n",
              "    <tr>\n",
              "      <th>3</th>\n",
              "      <td>Afghanistan</td>\n",
              "      <td>AFG</td>\n",
              "      <td>2021-02-25</td>\n",
              "      <td>NaN</td>\n",
              "      <td>NaN</td>\n",
              "      <td>NaN</td>\n",
              "      <td>NaN</td>\n",
              "      <td>1367.0</td>\n",
              "      <td>NaN</td>\n",
              "      <td>NaN</td>\n",
              "      <td>NaN</td>\n",
              "      <td>34.0</td>\n",
              "      <td>Johnson&amp;Johnson, Oxford/AstraZeneca, Pfizer/Bi...</td>\n",
              "      <td>World Health Organization</td>\n",
              "      <td>https://covid19.who.int/</td>\n",
              "    </tr>\n",
              "    <tr>\n",
              "      <th>4</th>\n",
              "      <td>Afghanistan</td>\n",
              "      <td>AFG</td>\n",
              "      <td>2021-02-26</td>\n",
              "      <td>NaN</td>\n",
              "      <td>NaN</td>\n",
              "      <td>NaN</td>\n",
              "      <td>NaN</td>\n",
              "      <td>1367.0</td>\n",
              "      <td>NaN</td>\n",
              "      <td>NaN</td>\n",
              "      <td>NaN</td>\n",
              "      <td>34.0</td>\n",
              "      <td>Johnson&amp;Johnson, Oxford/AstraZeneca, Pfizer/Bi...</td>\n",
              "      <td>World Health Organization</td>\n",
              "      <td>https://covid19.who.int/</td>\n",
              "    </tr>\n",
              "    <tr>\n",
              "      <th>5</th>\n",
              "      <td>Afghanistan</td>\n",
              "      <td>AFG</td>\n",
              "      <td>2021-02-27</td>\n",
              "      <td>NaN</td>\n",
              "      <td>NaN</td>\n",
              "      <td>NaN</td>\n",
              "      <td>NaN</td>\n",
              "      <td>1367.0</td>\n",
              "      <td>NaN</td>\n",
              "      <td>NaN</td>\n",
              "      <td>NaN</td>\n",
              "      <td>34.0</td>\n",
              "      <td>Johnson&amp;Johnson, Oxford/AstraZeneca, Pfizer/Bi...</td>\n",
              "      <td>World Health Organization</td>\n",
              "      <td>https://covid19.who.int/</td>\n",
              "    </tr>\n",
              "    <tr>\n",
              "      <th>6</th>\n",
              "      <td>Afghanistan</td>\n",
              "      <td>AFG</td>\n",
              "      <td>2021-02-28</td>\n",
              "      <td>8200.0</td>\n",
              "      <td>8200.0</td>\n",
              "      <td>NaN</td>\n",
              "      <td>NaN</td>\n",
              "      <td>1367.0</td>\n",
              "      <td>0.02</td>\n",
              "      <td>0.02</td>\n",
              "      <td>NaN</td>\n",
              "      <td>34.0</td>\n",
              "      <td>Johnson&amp;Johnson, Oxford/AstraZeneca, Pfizer/Bi...</td>\n",
              "      <td>World Health Organization</td>\n",
              "      <td>https://covid19.who.int/</td>\n",
              "    </tr>\n",
              "    <tr>\n",
              "      <th>7</th>\n",
              "      <td>Afghanistan</td>\n",
              "      <td>AFG</td>\n",
              "      <td>2021-03-01</td>\n",
              "      <td>NaN</td>\n",
              "      <td>NaN</td>\n",
              "      <td>NaN</td>\n",
              "      <td>NaN</td>\n",
              "      <td>1580.0</td>\n",
              "      <td>NaN</td>\n",
              "      <td>NaN</td>\n",
              "      <td>NaN</td>\n",
              "      <td>40.0</td>\n",
              "      <td>Johnson&amp;Johnson, Oxford/AstraZeneca, Pfizer/Bi...</td>\n",
              "      <td>World Health Organization</td>\n",
              "      <td>https://covid19.who.int/</td>\n",
              "    </tr>\n",
              "    <tr>\n",
              "      <th>8</th>\n",
              "      <td>Afghanistan</td>\n",
              "      <td>AFG</td>\n",
              "      <td>2021-03-02</td>\n",
              "      <td>NaN</td>\n",
              "      <td>NaN</td>\n",
              "      <td>NaN</td>\n",
              "      <td>NaN</td>\n",
              "      <td>1794.0</td>\n",
              "      <td>NaN</td>\n",
              "      <td>NaN</td>\n",
              "      <td>NaN</td>\n",
              "      <td>45.0</td>\n",
              "      <td>Johnson&amp;Johnson, Oxford/AstraZeneca, Pfizer/Bi...</td>\n",
              "      <td>World Health Organization</td>\n",
              "      <td>https://covid19.who.int/</td>\n",
              "    </tr>\n",
              "    <tr>\n",
              "      <th>9</th>\n",
              "      <td>Afghanistan</td>\n",
              "      <td>AFG</td>\n",
              "      <td>2021-03-03</td>\n",
              "      <td>NaN</td>\n",
              "      <td>NaN</td>\n",
              "      <td>NaN</td>\n",
              "      <td>NaN</td>\n",
              "      <td>2008.0</td>\n",
              "      <td>NaN</td>\n",
              "      <td>NaN</td>\n",
              "      <td>NaN</td>\n",
              "      <td>50.0</td>\n",
              "      <td>Johnson&amp;Johnson, Oxford/AstraZeneca, Pfizer/Bi...</td>\n",
              "      <td>World Health Organization</td>\n",
              "      <td>https://covid19.who.int/</td>\n",
              "    </tr>\n",
              "  </tbody>\n",
              "</table>\n",
              "</div>"
            ],
            "text/plain": [
              "       country iso_code  ...                source_name            source_website\n",
              "0  Afghanistan      AFG  ...  World Health Organization  https://covid19.who.int/\n",
              "1  Afghanistan      AFG  ...  World Health Organization  https://covid19.who.int/\n",
              "2  Afghanistan      AFG  ...  World Health Organization  https://covid19.who.int/\n",
              "3  Afghanistan      AFG  ...  World Health Organization  https://covid19.who.int/\n",
              "4  Afghanistan      AFG  ...  World Health Organization  https://covid19.who.int/\n",
              "5  Afghanistan      AFG  ...  World Health Organization  https://covid19.who.int/\n",
              "6  Afghanistan      AFG  ...  World Health Organization  https://covid19.who.int/\n",
              "7  Afghanistan      AFG  ...  World Health Organization  https://covid19.who.int/\n",
              "8  Afghanistan      AFG  ...  World Health Organization  https://covid19.who.int/\n",
              "9  Afghanistan      AFG  ...  World Health Organization  https://covid19.who.int/\n",
              "\n",
              "[10 rows x 15 columns]"
            ]
          },
          "metadata": {},
          "execution_count": 4
        }
      ]
    },
    {
      "cell_type": "code",
      "metadata": {
        "id": "yLvSU5NocnfD"
      },
      "source": [
        "covid.tail(10)"
      ],
      "execution_count": null,
      "outputs": []
    },
    {
      "cell_type": "markdown",
      "metadata": {
        "id": "WtN6S8N0yON5"
      },
      "source": [
        "**Manejo de columnas**\n",
        "\n",
        "Para mejor visualización de las columnas, se decidió eliminar las columnas con información no relevante para nuestro objetivo. Para tomar esta decisión primero se mostrara el nombre de las  columnas existentes y después el tipo de dato que contienen respectivamente \n"
      ]
    },
    {
      "cell_type": "code",
      "metadata": {
        "colab": {
          "base_uri": "https://localhost:8080/"
        },
        "id": "NJFSe-AiceKL",
        "outputId": "ebd780b9-917a-434c-ccbf-c043295741bd"
      },
      "source": [
        "covid.columns\n",
        "\n"
      ],
      "execution_count": null,
      "outputs": [
        {
          "output_type": "execute_result",
          "data": {
            "text/plain": [
              "Index(['country', 'iso_code', 'date', 'total_vaccinations',\n",
              "       'people_vaccinated', 'people_fully_vaccinated',\n",
              "       'daily_vaccinations_raw', 'daily_vaccinations',\n",
              "       'total_vaccinations_per_hundred', 'people_vaccinated_per_hundred',\n",
              "       'people_fully_vaccinated_per_hundred', 'daily_vaccinations_per_million',\n",
              "       'vaccines', 'source_name', 'source_website'],\n",
              "      dtype='object')"
            ]
          },
          "metadata": {},
          "execution_count": 46
        }
      ]
    },
    {
      "cell_type": "code",
      "metadata": {
        "colab": {
          "base_uri": "https://localhost:8080/"
        },
        "id": "sk1iVgUIyrFK",
        "outputId": "9b4af896-02cc-4057-a376-1ee2d3e84ce3"
      },
      "source": [
        "covid.dtypes"
      ],
      "execution_count": null,
      "outputs": [
        {
          "output_type": "execute_result",
          "data": {
            "text/plain": [
              "country                                 object\n",
              "iso_code                                object\n",
              "date                                    object\n",
              "total_vaccinations                     float64\n",
              "people_vaccinated                      float64\n",
              "people_fully_vaccinated                float64\n",
              "daily_vaccinations_raw                 float64\n",
              "daily_vaccinations                     float64\n",
              "total_vaccinations_per_hundred         float64\n",
              "people_vaccinated_per_hundred          float64\n",
              "people_fully_vaccinated_per_hundred    float64\n",
              "daily_vaccinations_per_million         float64\n",
              "vaccines                                object\n",
              "source_name                             object\n",
              "source_website                          object\n",
              "dtype: object"
            ]
          },
          "metadata": {},
          "execution_count": 45
        }
      ]
    },
    {
      "cell_type": "markdown",
      "metadata": {
        "id": "kYkNZ7Qx2uw2"
      },
      "source": [
        "En este apartado podemos ver las columnas que no nos serán útiles para nuestro objetivo, por lo tanto serán eliminadas \n",
        "\n",
        "\n",
        "Las 4 columnas las consideramos innecesarias para nuestro objetivo ya que:\n",
        "\n",
        "\n",
        "*   iso_code Es la abreviación del país, teniendo el nombre del país este dato \n",
        "es redundante\n",
        "*\n",
        "vaccines Es el tipo de vacuna utilizada , como solo nos interesa la cantidad de personas vacunadas sin importar el tipo este dato es innecesario\n",
        "*source_name y source_website Es el nombre y la pagina de la fuente de los datos, esta información útil para saber que los datos son confiables pero no para la minería de datos\n",
        "\n",
        "\n"
      ]
    },
    {
      "cell_type": "code",
      "metadata": {
        "id": "V0zNLL-amYeq",
        "colab": {
          "base_uri": "https://localhost:8080/",
          "height": 617
        },
        "outputId": "3d7d33ff-ffd2-4873-ea43-f591c73a9090"
      },
      "source": [
        "covid1=covid.drop(['iso_code','source_name','source_website','vaccines'],axis=1)\n",
        "covid1"
      ],
      "execution_count": null,
      "outputs": [
        {
          "output_type": "execute_result",
          "data": {
            "text/html": [
              "<div>\n",
              "<style scoped>\n",
              "    .dataframe tbody tr th:only-of-type {\n",
              "        vertical-align: middle;\n",
              "    }\n",
              "\n",
              "    .dataframe tbody tr th {\n",
              "        vertical-align: top;\n",
              "    }\n",
              "\n",
              "    .dataframe thead th {\n",
              "        text-align: right;\n",
              "    }\n",
              "</style>\n",
              "<table border=\"1\" class=\"dataframe\">\n",
              "  <thead>\n",
              "    <tr style=\"text-align: right;\">\n",
              "      <th></th>\n",
              "      <th>country</th>\n",
              "      <th>date</th>\n",
              "      <th>total_vaccinations</th>\n",
              "      <th>people_vaccinated</th>\n",
              "      <th>people_fully_vaccinated</th>\n",
              "      <th>daily_vaccinations_raw</th>\n",
              "      <th>daily_vaccinations</th>\n",
              "      <th>total_vaccinations_per_hundred</th>\n",
              "      <th>people_vaccinated_per_hundred</th>\n",
              "      <th>people_fully_vaccinated_per_hundred</th>\n",
              "      <th>daily_vaccinations_per_million</th>\n",
              "    </tr>\n",
              "  </thead>\n",
              "  <tbody>\n",
              "    <tr>\n",
              "      <th>0</th>\n",
              "      <td>Afghanistan</td>\n",
              "      <td>2021-02-22</td>\n",
              "      <td>0.0</td>\n",
              "      <td>0.0</td>\n",
              "      <td>NaN</td>\n",
              "      <td>NaN</td>\n",
              "      <td>NaN</td>\n",
              "      <td>0.00</td>\n",
              "      <td>0.00</td>\n",
              "      <td>NaN</td>\n",
              "      <td>NaN</td>\n",
              "    </tr>\n",
              "    <tr>\n",
              "      <th>1</th>\n",
              "      <td>Afghanistan</td>\n",
              "      <td>2021-02-23</td>\n",
              "      <td>NaN</td>\n",
              "      <td>NaN</td>\n",
              "      <td>NaN</td>\n",
              "      <td>NaN</td>\n",
              "      <td>1367.0</td>\n",
              "      <td>NaN</td>\n",
              "      <td>NaN</td>\n",
              "      <td>NaN</td>\n",
              "      <td>34.0</td>\n",
              "    </tr>\n",
              "    <tr>\n",
              "      <th>2</th>\n",
              "      <td>Afghanistan</td>\n",
              "      <td>2021-02-24</td>\n",
              "      <td>NaN</td>\n",
              "      <td>NaN</td>\n",
              "      <td>NaN</td>\n",
              "      <td>NaN</td>\n",
              "      <td>1367.0</td>\n",
              "      <td>NaN</td>\n",
              "      <td>NaN</td>\n",
              "      <td>NaN</td>\n",
              "      <td>34.0</td>\n",
              "    </tr>\n",
              "    <tr>\n",
              "      <th>3</th>\n",
              "      <td>Afghanistan</td>\n",
              "      <td>2021-02-25</td>\n",
              "      <td>NaN</td>\n",
              "      <td>NaN</td>\n",
              "      <td>NaN</td>\n",
              "      <td>NaN</td>\n",
              "      <td>1367.0</td>\n",
              "      <td>NaN</td>\n",
              "      <td>NaN</td>\n",
              "      <td>NaN</td>\n",
              "      <td>34.0</td>\n",
              "    </tr>\n",
              "    <tr>\n",
              "      <th>4</th>\n",
              "      <td>Afghanistan</td>\n",
              "      <td>2021-02-26</td>\n",
              "      <td>NaN</td>\n",
              "      <td>NaN</td>\n",
              "      <td>NaN</td>\n",
              "      <td>NaN</td>\n",
              "      <td>1367.0</td>\n",
              "      <td>NaN</td>\n",
              "      <td>NaN</td>\n",
              "      <td>NaN</td>\n",
              "      <td>34.0</td>\n",
              "    </tr>\n",
              "    <tr>\n",
              "      <th>...</th>\n",
              "      <td>...</td>\n",
              "      <td>...</td>\n",
              "      <td>...</td>\n",
              "      <td>...</td>\n",
              "      <td>...</td>\n",
              "      <td>...</td>\n",
              "      <td>...</td>\n",
              "      <td>...</td>\n",
              "      <td>...</td>\n",
              "      <td>...</td>\n",
              "      <td>...</td>\n",
              "    </tr>\n",
              "    <tr>\n",
              "      <th>40199</th>\n",
              "      <td>Zimbabwe</td>\n",
              "      <td>2021-08-21</td>\n",
              "      <td>3753242.0</td>\n",
              "      <td>2301341.0</td>\n",
              "      <td>1451901.0</td>\n",
              "      <td>53734.0</td>\n",
              "      <td>74048.0</td>\n",
              "      <td>24.87</td>\n",
              "      <td>15.25</td>\n",
              "      <td>9.62</td>\n",
              "      <td>4906.0</td>\n",
              "    </tr>\n",
              "    <tr>\n",
              "      <th>40200</th>\n",
              "      <td>Zimbabwe</td>\n",
              "      <td>2021-08-22</td>\n",
              "      <td>3773199.0</td>\n",
              "      <td>2312117.0</td>\n",
              "      <td>1461082.0</td>\n",
              "      <td>19957.0</td>\n",
              "      <td>69134.0</td>\n",
              "      <td>25.00</td>\n",
              "      <td>15.32</td>\n",
              "      <td>9.68</td>\n",
              "      <td>4581.0</td>\n",
              "    </tr>\n",
              "    <tr>\n",
              "      <th>40201</th>\n",
              "      <td>Zimbabwe</td>\n",
              "      <td>2021-08-23</td>\n",
              "      <td>3829011.0</td>\n",
              "      <td>2345043.0</td>\n",
              "      <td>1483968.0</td>\n",
              "      <td>55812.0</td>\n",
              "      <td>69004.0</td>\n",
              "      <td>25.37</td>\n",
              "      <td>15.54</td>\n",
              "      <td>9.83</td>\n",
              "      <td>4572.0</td>\n",
              "    </tr>\n",
              "    <tr>\n",
              "      <th>40202</th>\n",
              "      <td>Zimbabwe</td>\n",
              "      <td>2021-08-24</td>\n",
              "      <td>3889424.0</td>\n",
              "      <td>2382059.0</td>\n",
              "      <td>1507365.0</td>\n",
              "      <td>60413.0</td>\n",
              "      <td>62638.0</td>\n",
              "      <td>25.77</td>\n",
              "      <td>15.78</td>\n",
              "      <td>9.99</td>\n",
              "      <td>4150.0</td>\n",
              "    </tr>\n",
              "    <tr>\n",
              "      <th>40203</th>\n",
              "      <td>Zimbabwe</td>\n",
              "      <td>2021-08-25</td>\n",
              "      <td>4015517.0</td>\n",
              "      <td>2453229.0</td>\n",
              "      <td>1562288.0</td>\n",
              "      <td>126093.0</td>\n",
              "      <td>67597.0</td>\n",
              "      <td>26.61</td>\n",
              "      <td>16.25</td>\n",
              "      <td>10.35</td>\n",
              "      <td>4479.0</td>\n",
              "    </tr>\n",
              "  </tbody>\n",
              "</table>\n",
              "<p>40204 rows × 11 columns</p>\n",
              "</div>"
            ],
            "text/plain": [
              "           country  ... daily_vaccinations_per_million\n",
              "0      Afghanistan  ...                            NaN\n",
              "1      Afghanistan  ...                           34.0\n",
              "2      Afghanistan  ...                           34.0\n",
              "3      Afghanistan  ...                           34.0\n",
              "4      Afghanistan  ...                           34.0\n",
              "...            ...  ...                            ...\n",
              "40199     Zimbabwe  ...                         4906.0\n",
              "40200     Zimbabwe  ...                         4581.0\n",
              "40201     Zimbabwe  ...                         4572.0\n",
              "40202     Zimbabwe  ...                         4150.0\n",
              "40203     Zimbabwe  ...                         4479.0\n",
              "\n",
              "[40204 rows x 11 columns]"
            ]
          },
          "metadata": {},
          "execution_count": 9
        }
      ]
    },
    {
      "cell_type": "markdown",
      "metadata": {
        "id": "cFEZZWeK7-bq"
      },
      "source": [
        "En el siguiente apartado se identificarán los espacios nulos y se sustituirán por cero, para represetar que ese día no hubo datos de vacunación."
      ]
    },
    {
      "cell_type": "code",
      "metadata": {
        "colab": {
          "base_uri": "https://localhost:8080/"
        },
        "id": "p1NQUdN-zZXi",
        "outputId": "a7d2f2a4-8e92-4f4b-dca0-1964d2cbed6d"
      },
      "source": [
        "covid1.isnull().any()"
      ],
      "execution_count": null,
      "outputs": [
        {
          "output_type": "execute_result",
          "data": {
            "text/plain": [
              "country                                False\n",
              "date                                   False\n",
              "total_vaccinations                      True\n",
              "people_vaccinated                       True\n",
              "people_fully_vaccinated                 True\n",
              "daily_vaccinations_raw                  True\n",
              "daily_vaccinations                      True\n",
              "total_vaccinations_per_hundred          True\n",
              "people_vaccinated_per_hundred           True\n",
              "people_fully_vaccinated_per_hundred     True\n",
              "daily_vaccinations_per_million          True\n",
              "dtype: bool"
            ]
          },
          "metadata": {},
          "execution_count": 10
        }
      ]
    },
    {
      "cell_type": "code",
      "metadata": {
        "id": "BIMgPClP0eZA",
        "colab": {
          "base_uri": "https://localhost:8080/"
        },
        "outputId": "d85fd591-2f2c-44c7-feea-5d2ba1c140d4"
      },
      "source": [
        "covid1.fillna(0, inplace=True)\n",
        "\n",
        "covid1.isnull().any()"
      ],
      "execution_count": null,
      "outputs": [
        {
          "output_type": "execute_result",
          "data": {
            "text/plain": [
              "country                                False\n",
              "date                                   False\n",
              "total_vaccinations                     False\n",
              "people_vaccinated                      False\n",
              "people_fully_vaccinated                False\n",
              "daily_vaccinations_raw                 False\n",
              "daily_vaccinations                     False\n",
              "total_vaccinations_per_hundred         False\n",
              "people_vaccinated_per_hundred          False\n",
              "people_fully_vaccinated_per_hundred    False\n",
              "daily_vaccinations_per_million         False\n",
              "dtype: bool"
            ]
          },
          "metadata": {},
          "execution_count": 11
        }
      ]
    },
    {
      "cell_type": "markdown",
      "metadata": {
        "id": "1hMD1phD7zHG"
      },
      "source": [
        "A continuación se cambiará el nombre de las columnas, para que sea más fácil identificarlas "
      ]
    },
    {
      "cell_type": "code",
      "metadata": {
        "id": "kGTsBcKH2cVo",
        "colab": {
          "base_uri": "https://localhost:8080/",
          "height": 632
        },
        "outputId": "845466c5-861e-4061-8ec4-99a7a807f39a"
      },
      "source": [
        "covid1.rename(columns={'country':'Pais'}, inplace = True)\n",
        "covid1.rename(columns={'date':'Fecha'},inplace = True)\n",
        "covid1.rename(columns={'total_vaccinations':'Numero total de vacunas'},inplace = True)\n",
        "covid1.rename(columns={'people_vaccinated':'Numero total de personas vacunadas'},inplace = True)\n",
        "covid1.rename(columns={'people_fully_vaccinated':'Numero total de personas totalmente vacunadas'},inplace = True)\n",
        "covid1.rename(columns={'daily_vaccinations_raw':'Vacunaciones diarias (en bruto)'},inplace = True)\n",
        "covid1.rename(columns={'daily_vaccinations':'Vacunaciones diarias'},inplace = True)\n",
        "covid1.rename(columns={'total_vaccinations_per_hundred':'Vacunaciones totales por cien'},inplace = True)\n",
        "covid1.rename(columns={'people_vaccinated_per_hundred':'Numero total de personas vacunadas por cada cien'},inplace = True)\n",
        "covid1.rename(columns={'people_fully_vaccinated_per_hundred':'Numero total de personas totalmente vacunadas por cada cien'},inplace = True)\n",
        "covid1.rename(columns={'daily_vaccinations_per_million':'Vacunaciones diarias por millon'},inplace = True)\n",
        "covid1\n"
      ],
      "execution_count": null,
      "outputs": [
        {
          "output_type": "execute_result",
          "data": {
            "text/html": [
              "<div>\n",
              "<style scoped>\n",
              "    .dataframe tbody tr th:only-of-type {\n",
              "        vertical-align: middle;\n",
              "    }\n",
              "\n",
              "    .dataframe tbody tr th {\n",
              "        vertical-align: top;\n",
              "    }\n",
              "\n",
              "    .dataframe thead th {\n",
              "        text-align: right;\n",
              "    }\n",
              "</style>\n",
              "<table border=\"1\" class=\"dataframe\">\n",
              "  <thead>\n",
              "    <tr style=\"text-align: right;\">\n",
              "      <th></th>\n",
              "      <th>Pais</th>\n",
              "      <th>Fecha</th>\n",
              "      <th>Numero total de vacunas</th>\n",
              "      <th>Numero total de personas vacunadas</th>\n",
              "      <th>Numero total de personas totalmente vacunadas</th>\n",
              "      <th>Vacunaciones diarias (en bruto)</th>\n",
              "      <th>Vacunaciones diarias</th>\n",
              "      <th>Vacunaciones totales por cien</th>\n",
              "      <th>Numero total de personas vacunadas por cada cien</th>\n",
              "      <th>Numero total de personas totalmente vacunadas por cada cien</th>\n",
              "      <th>Vacunaciones diarias por millon</th>\n",
              "    </tr>\n",
              "  </thead>\n",
              "  <tbody>\n",
              "    <tr>\n",
              "      <th>0</th>\n",
              "      <td>Afghanistan</td>\n",
              "      <td>2021-02-22</td>\n",
              "      <td>0.0</td>\n",
              "      <td>0.0</td>\n",
              "      <td>0.0</td>\n",
              "      <td>0.0</td>\n",
              "      <td>0.0</td>\n",
              "      <td>0.00</td>\n",
              "      <td>0.00</td>\n",
              "      <td>0.00</td>\n",
              "      <td>0.0</td>\n",
              "    </tr>\n",
              "    <tr>\n",
              "      <th>1</th>\n",
              "      <td>Afghanistan</td>\n",
              "      <td>2021-02-23</td>\n",
              "      <td>0.0</td>\n",
              "      <td>0.0</td>\n",
              "      <td>0.0</td>\n",
              "      <td>0.0</td>\n",
              "      <td>1367.0</td>\n",
              "      <td>0.00</td>\n",
              "      <td>0.00</td>\n",
              "      <td>0.00</td>\n",
              "      <td>34.0</td>\n",
              "    </tr>\n",
              "    <tr>\n",
              "      <th>2</th>\n",
              "      <td>Afghanistan</td>\n",
              "      <td>2021-02-24</td>\n",
              "      <td>0.0</td>\n",
              "      <td>0.0</td>\n",
              "      <td>0.0</td>\n",
              "      <td>0.0</td>\n",
              "      <td>1367.0</td>\n",
              "      <td>0.00</td>\n",
              "      <td>0.00</td>\n",
              "      <td>0.00</td>\n",
              "      <td>34.0</td>\n",
              "    </tr>\n",
              "    <tr>\n",
              "      <th>3</th>\n",
              "      <td>Afghanistan</td>\n",
              "      <td>2021-02-25</td>\n",
              "      <td>0.0</td>\n",
              "      <td>0.0</td>\n",
              "      <td>0.0</td>\n",
              "      <td>0.0</td>\n",
              "      <td>1367.0</td>\n",
              "      <td>0.00</td>\n",
              "      <td>0.00</td>\n",
              "      <td>0.00</td>\n",
              "      <td>34.0</td>\n",
              "    </tr>\n",
              "    <tr>\n",
              "      <th>4</th>\n",
              "      <td>Afghanistan</td>\n",
              "      <td>2021-02-26</td>\n",
              "      <td>0.0</td>\n",
              "      <td>0.0</td>\n",
              "      <td>0.0</td>\n",
              "      <td>0.0</td>\n",
              "      <td>1367.0</td>\n",
              "      <td>0.00</td>\n",
              "      <td>0.00</td>\n",
              "      <td>0.00</td>\n",
              "      <td>34.0</td>\n",
              "    </tr>\n",
              "    <tr>\n",
              "      <th>...</th>\n",
              "      <td>...</td>\n",
              "      <td>...</td>\n",
              "      <td>...</td>\n",
              "      <td>...</td>\n",
              "      <td>...</td>\n",
              "      <td>...</td>\n",
              "      <td>...</td>\n",
              "      <td>...</td>\n",
              "      <td>...</td>\n",
              "      <td>...</td>\n",
              "      <td>...</td>\n",
              "    </tr>\n",
              "    <tr>\n",
              "      <th>40199</th>\n",
              "      <td>Zimbabwe</td>\n",
              "      <td>2021-08-21</td>\n",
              "      <td>3753242.0</td>\n",
              "      <td>2301341.0</td>\n",
              "      <td>1451901.0</td>\n",
              "      <td>53734.0</td>\n",
              "      <td>74048.0</td>\n",
              "      <td>24.87</td>\n",
              "      <td>15.25</td>\n",
              "      <td>9.62</td>\n",
              "      <td>4906.0</td>\n",
              "    </tr>\n",
              "    <tr>\n",
              "      <th>40200</th>\n",
              "      <td>Zimbabwe</td>\n",
              "      <td>2021-08-22</td>\n",
              "      <td>3773199.0</td>\n",
              "      <td>2312117.0</td>\n",
              "      <td>1461082.0</td>\n",
              "      <td>19957.0</td>\n",
              "      <td>69134.0</td>\n",
              "      <td>25.00</td>\n",
              "      <td>15.32</td>\n",
              "      <td>9.68</td>\n",
              "      <td>4581.0</td>\n",
              "    </tr>\n",
              "    <tr>\n",
              "      <th>40201</th>\n",
              "      <td>Zimbabwe</td>\n",
              "      <td>2021-08-23</td>\n",
              "      <td>3829011.0</td>\n",
              "      <td>2345043.0</td>\n",
              "      <td>1483968.0</td>\n",
              "      <td>55812.0</td>\n",
              "      <td>69004.0</td>\n",
              "      <td>25.37</td>\n",
              "      <td>15.54</td>\n",
              "      <td>9.83</td>\n",
              "      <td>4572.0</td>\n",
              "    </tr>\n",
              "    <tr>\n",
              "      <th>40202</th>\n",
              "      <td>Zimbabwe</td>\n",
              "      <td>2021-08-24</td>\n",
              "      <td>3889424.0</td>\n",
              "      <td>2382059.0</td>\n",
              "      <td>1507365.0</td>\n",
              "      <td>60413.0</td>\n",
              "      <td>62638.0</td>\n",
              "      <td>25.77</td>\n",
              "      <td>15.78</td>\n",
              "      <td>9.99</td>\n",
              "      <td>4150.0</td>\n",
              "    </tr>\n",
              "    <tr>\n",
              "      <th>40203</th>\n",
              "      <td>Zimbabwe</td>\n",
              "      <td>2021-08-25</td>\n",
              "      <td>4015517.0</td>\n",
              "      <td>2453229.0</td>\n",
              "      <td>1562288.0</td>\n",
              "      <td>126093.0</td>\n",
              "      <td>67597.0</td>\n",
              "      <td>26.61</td>\n",
              "      <td>16.25</td>\n",
              "      <td>10.35</td>\n",
              "      <td>4479.0</td>\n",
              "    </tr>\n",
              "  </tbody>\n",
              "</table>\n",
              "<p>40204 rows × 11 columns</p>\n",
              "</div>"
            ],
            "text/plain": [
              "              Pais  ... Vacunaciones diarias por millon\n",
              "0      Afghanistan  ...                             0.0\n",
              "1      Afghanistan  ...                            34.0\n",
              "2      Afghanistan  ...                            34.0\n",
              "3      Afghanistan  ...                            34.0\n",
              "4      Afghanistan  ...                            34.0\n",
              "...            ...  ...                             ...\n",
              "40199     Zimbabwe  ...                          4906.0\n",
              "40200     Zimbabwe  ...                          4581.0\n",
              "40201     Zimbabwe  ...                          4572.0\n",
              "40202     Zimbabwe  ...                          4150.0\n",
              "40203     Zimbabwe  ...                          4479.0\n",
              "\n",
              "[40204 rows x 11 columns]"
            ]
          },
          "metadata": {},
          "execution_count": 12
        }
      ]
    },
    {
      "cell_type": "markdown",
      "metadata": {
        "id": "G4Sxzvbvlh9M"
      },
      "source": [
        "\n",
        "Reordenamos las columnas de orden según consideramos mas útil, este paso es unicamente para una mejor visualización\n"
      ]
    },
    {
      "cell_type": "code",
      "metadata": {
        "id": "RPzHiRex9SrP",
        "colab": {
          "base_uri": "https://localhost:8080/",
          "height": 632
        },
        "outputId": "42078744-224e-4962-e9ad-527dc655987d"
      },
      "source": [
        "covid2=covid1.reindex(columns=['Pais','Fecha','Vacunaciones diarias (en bruto)','Vacunaciones diarias','Numero total de vacunas','Vacunaciones totales por cien','Numero total de personas vacunadas','Numero total de personas vacunadas por cada cien','Numero total de personas totalmente vacunadas','Numero total de personas totalmente vacunadas por cada cien','Vacunaciones diarias por millon'])\n",
        "covid2"
      ],
      "execution_count": null,
      "outputs": [
        {
          "output_type": "execute_result",
          "data": {
            "text/html": [
              "<div>\n",
              "<style scoped>\n",
              "    .dataframe tbody tr th:only-of-type {\n",
              "        vertical-align: middle;\n",
              "    }\n",
              "\n",
              "    .dataframe tbody tr th {\n",
              "        vertical-align: top;\n",
              "    }\n",
              "\n",
              "    .dataframe thead th {\n",
              "        text-align: right;\n",
              "    }\n",
              "</style>\n",
              "<table border=\"1\" class=\"dataframe\">\n",
              "  <thead>\n",
              "    <tr style=\"text-align: right;\">\n",
              "      <th></th>\n",
              "      <th>Pais</th>\n",
              "      <th>Fecha</th>\n",
              "      <th>Vacunaciones diarias (en bruto)</th>\n",
              "      <th>Vacunaciones diarias</th>\n",
              "      <th>Numero total de vacunas</th>\n",
              "      <th>Vacunaciones totales por cien</th>\n",
              "      <th>Numero total de personas vacunadas</th>\n",
              "      <th>Numero total de personas vacunadas por cada cien</th>\n",
              "      <th>Numero total de personas totalmente vacunadas</th>\n",
              "      <th>Numero total de personas totalmente vacunadas por cada cien</th>\n",
              "      <th>Vacunaciones diarias por millon</th>\n",
              "    </tr>\n",
              "  </thead>\n",
              "  <tbody>\n",
              "    <tr>\n",
              "      <th>0</th>\n",
              "      <td>Afghanistan</td>\n",
              "      <td>2021-02-22</td>\n",
              "      <td>0.0</td>\n",
              "      <td>0.0</td>\n",
              "      <td>0.0</td>\n",
              "      <td>0.00</td>\n",
              "      <td>0.0</td>\n",
              "      <td>0.00</td>\n",
              "      <td>0.0</td>\n",
              "      <td>0.00</td>\n",
              "      <td>0.0</td>\n",
              "    </tr>\n",
              "    <tr>\n",
              "      <th>1</th>\n",
              "      <td>Afghanistan</td>\n",
              "      <td>2021-02-23</td>\n",
              "      <td>0.0</td>\n",
              "      <td>1367.0</td>\n",
              "      <td>0.0</td>\n",
              "      <td>0.00</td>\n",
              "      <td>0.0</td>\n",
              "      <td>0.00</td>\n",
              "      <td>0.0</td>\n",
              "      <td>0.00</td>\n",
              "      <td>34.0</td>\n",
              "    </tr>\n",
              "    <tr>\n",
              "      <th>2</th>\n",
              "      <td>Afghanistan</td>\n",
              "      <td>2021-02-24</td>\n",
              "      <td>0.0</td>\n",
              "      <td>1367.0</td>\n",
              "      <td>0.0</td>\n",
              "      <td>0.00</td>\n",
              "      <td>0.0</td>\n",
              "      <td>0.00</td>\n",
              "      <td>0.0</td>\n",
              "      <td>0.00</td>\n",
              "      <td>34.0</td>\n",
              "    </tr>\n",
              "    <tr>\n",
              "      <th>3</th>\n",
              "      <td>Afghanistan</td>\n",
              "      <td>2021-02-25</td>\n",
              "      <td>0.0</td>\n",
              "      <td>1367.0</td>\n",
              "      <td>0.0</td>\n",
              "      <td>0.00</td>\n",
              "      <td>0.0</td>\n",
              "      <td>0.00</td>\n",
              "      <td>0.0</td>\n",
              "      <td>0.00</td>\n",
              "      <td>34.0</td>\n",
              "    </tr>\n",
              "    <tr>\n",
              "      <th>4</th>\n",
              "      <td>Afghanistan</td>\n",
              "      <td>2021-02-26</td>\n",
              "      <td>0.0</td>\n",
              "      <td>1367.0</td>\n",
              "      <td>0.0</td>\n",
              "      <td>0.00</td>\n",
              "      <td>0.0</td>\n",
              "      <td>0.00</td>\n",
              "      <td>0.0</td>\n",
              "      <td>0.00</td>\n",
              "      <td>34.0</td>\n",
              "    </tr>\n",
              "    <tr>\n",
              "      <th>...</th>\n",
              "      <td>...</td>\n",
              "      <td>...</td>\n",
              "      <td>...</td>\n",
              "      <td>...</td>\n",
              "      <td>...</td>\n",
              "      <td>...</td>\n",
              "      <td>...</td>\n",
              "      <td>...</td>\n",
              "      <td>...</td>\n",
              "      <td>...</td>\n",
              "      <td>...</td>\n",
              "    </tr>\n",
              "    <tr>\n",
              "      <th>40199</th>\n",
              "      <td>Zimbabwe</td>\n",
              "      <td>2021-08-21</td>\n",
              "      <td>53734.0</td>\n",
              "      <td>74048.0</td>\n",
              "      <td>3753242.0</td>\n",
              "      <td>24.87</td>\n",
              "      <td>2301341.0</td>\n",
              "      <td>15.25</td>\n",
              "      <td>1451901.0</td>\n",
              "      <td>9.62</td>\n",
              "      <td>4906.0</td>\n",
              "    </tr>\n",
              "    <tr>\n",
              "      <th>40200</th>\n",
              "      <td>Zimbabwe</td>\n",
              "      <td>2021-08-22</td>\n",
              "      <td>19957.0</td>\n",
              "      <td>69134.0</td>\n",
              "      <td>3773199.0</td>\n",
              "      <td>25.00</td>\n",
              "      <td>2312117.0</td>\n",
              "      <td>15.32</td>\n",
              "      <td>1461082.0</td>\n",
              "      <td>9.68</td>\n",
              "      <td>4581.0</td>\n",
              "    </tr>\n",
              "    <tr>\n",
              "      <th>40201</th>\n",
              "      <td>Zimbabwe</td>\n",
              "      <td>2021-08-23</td>\n",
              "      <td>55812.0</td>\n",
              "      <td>69004.0</td>\n",
              "      <td>3829011.0</td>\n",
              "      <td>25.37</td>\n",
              "      <td>2345043.0</td>\n",
              "      <td>15.54</td>\n",
              "      <td>1483968.0</td>\n",
              "      <td>9.83</td>\n",
              "      <td>4572.0</td>\n",
              "    </tr>\n",
              "    <tr>\n",
              "      <th>40202</th>\n",
              "      <td>Zimbabwe</td>\n",
              "      <td>2021-08-24</td>\n",
              "      <td>60413.0</td>\n",
              "      <td>62638.0</td>\n",
              "      <td>3889424.0</td>\n",
              "      <td>25.77</td>\n",
              "      <td>2382059.0</td>\n",
              "      <td>15.78</td>\n",
              "      <td>1507365.0</td>\n",
              "      <td>9.99</td>\n",
              "      <td>4150.0</td>\n",
              "    </tr>\n",
              "    <tr>\n",
              "      <th>40203</th>\n",
              "      <td>Zimbabwe</td>\n",
              "      <td>2021-08-25</td>\n",
              "      <td>126093.0</td>\n",
              "      <td>67597.0</td>\n",
              "      <td>4015517.0</td>\n",
              "      <td>26.61</td>\n",
              "      <td>2453229.0</td>\n",
              "      <td>16.25</td>\n",
              "      <td>1562288.0</td>\n",
              "      <td>10.35</td>\n",
              "      <td>4479.0</td>\n",
              "    </tr>\n",
              "  </tbody>\n",
              "</table>\n",
              "<p>40204 rows × 11 columns</p>\n",
              "</div>"
            ],
            "text/plain": [
              "              Pais  ... Vacunaciones diarias por millon\n",
              "0      Afghanistan  ...                             0.0\n",
              "1      Afghanistan  ...                            34.0\n",
              "2      Afghanistan  ...                            34.0\n",
              "3      Afghanistan  ...                            34.0\n",
              "4      Afghanistan  ...                            34.0\n",
              "...            ...  ...                             ...\n",
              "40199     Zimbabwe  ...                          4906.0\n",
              "40200     Zimbabwe  ...                          4581.0\n",
              "40201     Zimbabwe  ...                          4572.0\n",
              "40202     Zimbabwe  ...                          4150.0\n",
              "40203     Zimbabwe  ...                          4479.0\n",
              "\n",
              "[40204 rows x 11 columns]"
            ]
          },
          "metadata": {},
          "execution_count": 13
        }
      ]
    },
    {
      "cell_type": "markdown",
      "metadata": {
        "id": "pxkrBCdOqBft"
      },
      "source": [
        "# Visualización de la segunda base de datos"
      ]
    },
    {
      "cell_type": "code",
      "metadata": {
        "colab": {
          "base_uri": "https://localhost:8080/",
          "height": 408
        },
        "id": "h3WyRnCuqAo8",
        "outputId": "99c8919a-3d0e-4ccd-bcf4-d0d56f9ae9e7"
      },
      "source": [
        "covid.tipo"
      ],
      "execution_count": null,
      "outputs": [
        {
          "output_type": "execute_result",
          "data": {
            "text/html": [
              "<div>\n",
              "<style scoped>\n",
              "    .dataframe tbody tr th:only-of-type {\n",
              "        vertical-align: middle;\n",
              "    }\n",
              "\n",
              "    .dataframe tbody tr th {\n",
              "        vertical-align: top;\n",
              "    }\n",
              "\n",
              "    .dataframe thead th {\n",
              "        text-align: right;\n",
              "    }\n",
              "</style>\n",
              "<table border=\"1\" class=\"dataframe\">\n",
              "  <thead>\n",
              "    <tr style=\"text-align: right;\">\n",
              "      <th></th>\n",
              "      <th>location</th>\n",
              "      <th>date</th>\n",
              "      <th>vaccine</th>\n",
              "      <th>total_vaccinations</th>\n",
              "    </tr>\n",
              "  </thead>\n",
              "  <tbody>\n",
              "    <tr>\n",
              "      <th>0</th>\n",
              "      <td>Austria</td>\n",
              "      <td>2021-01-08</td>\n",
              "      <td>Johnson&amp;Johnson</td>\n",
              "      <td>0</td>\n",
              "    </tr>\n",
              "    <tr>\n",
              "      <th>1</th>\n",
              "      <td>Austria</td>\n",
              "      <td>2021-01-08</td>\n",
              "      <td>Moderna</td>\n",
              "      <td>0</td>\n",
              "    </tr>\n",
              "    <tr>\n",
              "      <th>2</th>\n",
              "      <td>Austria</td>\n",
              "      <td>2021-01-08</td>\n",
              "      <td>Oxford/AstraZeneca</td>\n",
              "      <td>0</td>\n",
              "    </tr>\n",
              "    <tr>\n",
              "      <th>3</th>\n",
              "      <td>Austria</td>\n",
              "      <td>2021-01-08</td>\n",
              "      <td>Pfizer/BioNTech</td>\n",
              "      <td>31132</td>\n",
              "    </tr>\n",
              "    <tr>\n",
              "      <th>4</th>\n",
              "      <td>Austria</td>\n",
              "      <td>2021-01-15</td>\n",
              "      <td>Johnson&amp;Johnson</td>\n",
              "      <td>0</td>\n",
              "    </tr>\n",
              "    <tr>\n",
              "      <th>...</th>\n",
              "      <td>...</td>\n",
              "      <td>...</td>\n",
              "      <td>...</td>\n",
              "      <td>...</td>\n",
              "    </tr>\n",
              "    <tr>\n",
              "      <th>12819</th>\n",
              "      <td>Uruguay</td>\n",
              "      <td>2021-08-25</td>\n",
              "      <td>Pfizer/BioNTech</td>\n",
              "      <td>1803938</td>\n",
              "    </tr>\n",
              "    <tr>\n",
              "      <th>12820</th>\n",
              "      <td>Uruguay</td>\n",
              "      <td>2021-08-25</td>\n",
              "      <td>Sinovac</td>\n",
              "      <td>3242821</td>\n",
              "    </tr>\n",
              "    <tr>\n",
              "      <th>12821</th>\n",
              "      <td>Uruguay</td>\n",
              "      <td>2021-08-26</td>\n",
              "      <td>Oxford/AstraZeneca</td>\n",
              "      <td>86572</td>\n",
              "    </tr>\n",
              "    <tr>\n",
              "      <th>12822</th>\n",
              "      <td>Uruguay</td>\n",
              "      <td>2021-08-26</td>\n",
              "      <td>Pfizer/BioNTech</td>\n",
              "      <td>1812059</td>\n",
              "    </tr>\n",
              "    <tr>\n",
              "      <th>12823</th>\n",
              "      <td>Uruguay</td>\n",
              "      <td>2021-08-26</td>\n",
              "      <td>Sinovac</td>\n",
              "      <td>3242903</td>\n",
              "    </tr>\n",
              "  </tbody>\n",
              "</table>\n",
              "<p>12824 rows × 4 columns</p>\n",
              "</div>"
            ],
            "text/plain": [
              "      location        date             vaccine  total_vaccinations\n",
              "0      Austria  2021-01-08     Johnson&Johnson                   0\n",
              "1      Austria  2021-01-08             Moderna                   0\n",
              "2      Austria  2021-01-08  Oxford/AstraZeneca                   0\n",
              "3      Austria  2021-01-08     Pfizer/BioNTech               31132\n",
              "4      Austria  2021-01-15     Johnson&Johnson                   0\n",
              "...        ...         ...                 ...                 ...\n",
              "12819  Uruguay  2021-08-25     Pfizer/BioNTech             1803938\n",
              "12820  Uruguay  2021-08-25             Sinovac             3242821\n",
              "12821  Uruguay  2021-08-26  Oxford/AstraZeneca               86572\n",
              "12822  Uruguay  2021-08-26     Pfizer/BioNTech             1812059\n",
              "12823  Uruguay  2021-08-26             Sinovac             3242903\n",
              "\n",
              "[12824 rows x 4 columns]"
            ]
          },
          "metadata": {},
          "execution_count": 15
        }
      ]
    },
    {
      "cell_type": "markdown",
      "metadata": {
        "id": "rZ5-LOhQqgBT"
      },
      "source": [
        "En esta base de datos no consideramos necesario el limpiar los datos, ya que la información ya viene de una manera útil para nuestro objetivo"
      ]
    },
    {
      "cell_type": "markdown",
      "metadata": {
        "id": "jSBtNXwyve-q"
      },
      "source": [
        "# Preguntas de interes\n",
        "# Cuál es el país que ha vacunado a mayor parte de su población?\n",
        "\n",
        "\n",
        "Utilizaremos la función gruopby para agrupar los datos por países y calcularemos el máximo de los índices de vacunación con la funcion agg"
      ]
    },
    {
      "cell_type": "code",
      "metadata": {
        "colab": {
          "base_uri": "https://localhost:8080/",
          "height": 440
        },
        "id": "_-IPJkiBnV91",
        "outputId": "ac7a7d02-11be-4c85-99a1-413e867c4e13"
      },
      "source": [
        "grup=covid2.groupby(\"Pais\").agg({\n",
        "    \"Numero total de personas vacunadas por cada cien\": \"max\",\n",
        "    \"Numero total de personas totalmente vacunadas por cada cien\": \"max\"\n",
        "\n",
        "})\n",
        "grup"
      ],
      "execution_count": null,
      "outputs": [
        {
          "output_type": "execute_result",
          "data": {
            "text/html": [
              "<div>\n",
              "<style scoped>\n",
              "    .dataframe tbody tr th:only-of-type {\n",
              "        vertical-align: middle;\n",
              "    }\n",
              "\n",
              "    .dataframe tbody tr th {\n",
              "        vertical-align: top;\n",
              "    }\n",
              "\n",
              "    .dataframe thead th {\n",
              "        text-align: right;\n",
              "    }\n",
              "</style>\n",
              "<table border=\"1\" class=\"dataframe\">\n",
              "  <thead>\n",
              "    <tr style=\"text-align: right;\">\n",
              "      <th></th>\n",
              "      <th>Numero total de personas vacunadas por cada cien</th>\n",
              "      <th>Numero total de personas totalmente vacunadas por cada cien</th>\n",
              "    </tr>\n",
              "    <tr>\n",
              "      <th>Pais</th>\n",
              "      <th></th>\n",
              "      <th></th>\n",
              "    </tr>\n",
              "  </thead>\n",
              "  <tbody>\n",
              "    <tr>\n",
              "      <th>Afghanistan</th>\n",
              "      <td>1.93</td>\n",
              "      <td>0.55</td>\n",
              "    </tr>\n",
              "    <tr>\n",
              "      <th>Albania</th>\n",
              "      <td>28.10</td>\n",
              "      <td>21.18</td>\n",
              "    </tr>\n",
              "    <tr>\n",
              "      <th>Algeria</th>\n",
              "      <td>7.67</td>\n",
              "      <td>1.62</td>\n",
              "    </tr>\n",
              "    <tr>\n",
              "      <th>Andorra</th>\n",
              "      <td>65.99</td>\n",
              "      <td>52.51</td>\n",
              "    </tr>\n",
              "    <tr>\n",
              "      <th>Angola</th>\n",
              "      <td>3.27</td>\n",
              "      <td>2.15</td>\n",
              "    </tr>\n",
              "    <tr>\n",
              "      <th>...</th>\n",
              "      <td>...</td>\n",
              "      <td>...</td>\n",
              "    </tr>\n",
              "    <tr>\n",
              "      <th>Wales</th>\n",
              "      <td>74.04</td>\n",
              "      <td>68.50</td>\n",
              "    </tr>\n",
              "    <tr>\n",
              "      <th>Wallis and Futuna</th>\n",
              "      <td>44.16</td>\n",
              "      <td>43.06</td>\n",
              "    </tr>\n",
              "    <tr>\n",
              "      <th>Yemen</th>\n",
              "      <td>0.98</td>\n",
              "      <td>0.04</td>\n",
              "    </tr>\n",
              "    <tr>\n",
              "      <th>Zambia</th>\n",
              "      <td>1.64</td>\n",
              "      <td>1.34</td>\n",
              "    </tr>\n",
              "    <tr>\n",
              "      <th>Zimbabwe</th>\n",
              "      <td>16.25</td>\n",
              "      <td>10.35</td>\n",
              "    </tr>\n",
              "  </tbody>\n",
              "</table>\n",
              "<p>222 rows × 2 columns</p>\n",
              "</div>"
            ],
            "text/plain": [
              "                   Numero total de personas vacunadas por cada cien  Numero total de personas totalmente vacunadas por cada cien\n",
              "Pais                                                                                                                            \n",
              "Afghanistan                                                    1.93                                               0.55          \n",
              "Albania                                                       28.10                                              21.18          \n",
              "Algeria                                                        7.67                                               1.62          \n",
              "Andorra                                                       65.99                                              52.51          \n",
              "Angola                                                         3.27                                               2.15          \n",
              "...                                                             ...                                                ...          \n",
              "Wales                                                         74.04                                              68.50          \n",
              "Wallis and Futuna                                             44.16                                              43.06          \n",
              "Yemen                                                          0.98                                               0.04          \n",
              "Zambia                                                         1.64                                               1.34          \n",
              "Zimbabwe                                                      16.25                                              10.35          \n",
              "\n",
              "[222 rows x 2 columns]"
            ]
          },
          "metadata": {},
          "execution_count": 85
        }
      ]
    },
    {
      "cell_type": "markdown",
      "metadata": {
        "id": "14GhFQ4jv7Ex"
      },
      "source": [
        "Despues de obtener la tabla filtrada por países , calculáremos el índice que contenga los valores máximos con la función idxmax() y max()"
      ]
    },
    {
      "cell_type": "code",
      "metadata": {
        "colab": {
          "base_uri": "https://localhost:8080/"
        },
        "id": "Oc-e5NIttqG1",
        "outputId": "2256c9c8-dbe6-4c99-ba36-d2d4ec85cb24"
      },
      "source": [
        "v1=grup[\"Numero total de personas vacunadas por cada cien\"].idxmax()\n",
        "v2=grup[\"Numero total de personas vacunadas por cada cien\"].max()\n",
        "print(\"El pais con mayor % de personas con al menos una dosis es\", v1, \"con un un\", v2,\"%\" )\n"
      ],
      "execution_count": null,
      "outputs": [
        {
          "output_type": "stream",
          "text": [
            "El pais con mayor % de personas con al menos una dosis es Gibraltar con un un 117.31 %\n"
          ],
          "name": "stdout"
        }
      ]
    },
    {
      "cell_type": "code",
      "metadata": {
        "colab": {
          "base_uri": "https://localhost:8080/"
        },
        "id": "av3mKPoMvYdo",
        "outputId": "9485ef88-d9ea-43c0-f33a-eb7e08598d8f"
      },
      "source": [
        "v3=grup[\"Numero total de personas totalmente vacunadas por cada cien\"].idxmax()\n",
        "v4=grup[\"Numero total de personas totalmente vacunadas por cada cien\"].max()\n",
        "\n",
        "print(\"El pais con mayor % de personas totalmente vacunadas es\", v3, \"con un un\", v4,\"%\" )\n",
        "\n"
      ],
      "execution_count": null,
      "outputs": [
        {
          "output_type": "stream",
          "text": [
            "El pais con mayor % de personas totalmente vacunadas es Gibraltar con un un 116.34 %\n"
          ],
          "name": "stdout"
        }
      ]
    },
    {
      "cell_type": "markdown",
      "metadata": {
        "id": "ibmjEDIQxvAG"
      },
      "source": [
        "El resultado a esta pregunta es interesante, puesto que el país con mayor parte de su población vacunada es gibraltar, con mas de un 100%\n",
        "\n",
        "¿pero como es esto posible?\n",
        "\n",
        "Gibraltar es un país pequeño con alta afluencia de extranjeros\n",
        "y los datos solo miden las vacunas aplicadas sin considerar si los pacientes eran locales o no , entonces podemos asumir que Gibraltar ha aplicado más vacunas que toda su población por el flujo de extranjeros\n",
        "\n"
      ]
    },
    {
      "cell_type": "markdown",
      "metadata": {
        "id": "gQFDsvPWy9_c"
      },
      "source": [
        "# ¿Qué país es el que ha tenido menor número de vacunaciones por día?\n"
      ]
    },
    {
      "cell_type": "code",
      "metadata": {
        "colab": {
          "base_uri": "https://localhost:8080/",
          "height": 440
        },
        "id": "Q8tT-Z0gzAWm",
        "outputId": "0e4c89a8-f10c-4671-9d3c-d24790847364"
      },
      "source": [
        "grup1=covid2.groupby(\"Pais\").agg({\n",
        "    \"Vacunaciones diarias por millon\": \"mean\"\n",
        "    \n",
        "})\n",
        "grup1"
      ],
      "execution_count": null,
      "outputs": [
        {
          "output_type": "execute_result",
          "data": {
            "text/html": [
              "<div>\n",
              "<style scoped>\n",
              "    .dataframe tbody tr th:only-of-type {\n",
              "        vertical-align: middle;\n",
              "    }\n",
              "\n",
              "    .dataframe tbody tr th {\n",
              "        vertical-align: top;\n",
              "    }\n",
              "\n",
              "    .dataframe thead th {\n",
              "        text-align: right;\n",
              "    }\n",
              "</style>\n",
              "<table border=\"1\" class=\"dataframe\">\n",
              "  <thead>\n",
              "    <tr style=\"text-align: right;\">\n",
              "      <th></th>\n",
              "      <th>Vacunaciones diarias por millon</th>\n",
              "    </tr>\n",
              "    <tr>\n",
              "      <th>Pais</th>\n",
              "      <th></th>\n",
              "    </tr>\n",
              "  </thead>\n",
              "  <tbody>\n",
              "    <tr>\n",
              "      <th>Afghanistan</th>\n",
              "      <td>252.795322</td>\n",
              "    </tr>\n",
              "    <tr>\n",
              "      <th>Albania</th>\n",
              "      <td>2110.986900</td>\n",
              "    </tr>\n",
              "    <tr>\n",
              "      <th>Algeria</th>\n",
              "      <td>448.431373</td>\n",
              "    </tr>\n",
              "    <tr>\n",
              "      <th>Andorra</th>\n",
              "      <td>5740.019704</td>\n",
              "    </tr>\n",
              "    <tr>\n",
              "      <th>Angola</th>\n",
              "      <td>296.859551</td>\n",
              "    </tr>\n",
              "    <tr>\n",
              "      <th>...</th>\n",
              "      <td>...</td>\n",
              "    </tr>\n",
              "    <tr>\n",
              "      <th>Wales</th>\n",
              "      <td>5544.855469</td>\n",
              "    </tr>\n",
              "    <tr>\n",
              "      <th>Wallis and Futuna</th>\n",
              "      <td>5349.811688</td>\n",
              "    </tr>\n",
              "    <tr>\n",
              "      <th>Yemen</th>\n",
              "      <td>124.200000</td>\n",
              "    </tr>\n",
              "    <tr>\n",
              "      <th>Zambia</th>\n",
              "      <td>216.792593</td>\n",
              "    </tr>\n",
              "    <tr>\n",
              "      <th>Zimbabwe</th>\n",
              "      <td>1331.751323</td>\n",
              "    </tr>\n",
              "  </tbody>\n",
              "</table>\n",
              "<p>222 rows × 1 columns</p>\n",
              "</div>"
            ],
            "text/plain": [
              "                   Vacunaciones diarias por millon\n",
              "Pais                                              \n",
              "Afghanistan                             252.795322\n",
              "Albania                                2110.986900\n",
              "Algeria                                 448.431373\n",
              "Andorra                                5740.019704\n",
              "Angola                                  296.859551\n",
              "...                                            ...\n",
              "Wales                                  5544.855469\n",
              "Wallis and Futuna                      5349.811688\n",
              "Yemen                                   124.200000\n",
              "Zambia                                  216.792593\n",
              "Zimbabwe                               1331.751323\n",
              "\n",
              "[222 rows x 1 columns]"
            ]
          },
          "metadata": {},
          "execution_count": 25
        }
      ]
    },
    {
      "cell_type": "code",
      "metadata": {
        "colab": {
          "base_uri": "https://localhost:8080/"
        },
        "id": "-7jNHoLgzjyp",
        "outputId": "c1a20269-881b-4425-e078-056b98dfe2dd"
      },
      "source": [
        "v5=grup1[\"Vacunaciones diarias por millon\"].idxmin()\n",
        "v6=grup1[\"Vacunaciones diarias por millon\"].min()\n",
        "\n",
        "print(\"el pais con menor numero de vacunaciones diarias es \",v5,\" con un promedio de \",v6,\" por cada millon de habitantes\")"
      ],
      "execution_count": null,
      "outputs": [
        {
          "output_type": "stream",
          "text": [
            "el pais con menor numero de vacunaciones diarias es  Bonaire Sint Eustatius and Saba  con un promedio de  0.0  por cada millon de habitantes\n"
          ],
          "name": "stdout"
        }
      ]
    },
    {
      "cell_type": "markdown",
      "metadata": {
        "id": "5AfkMUNA2414"
      },
      "source": [
        "Podemos observar que el país Bonaire Sint Eustatius and Saba es el que menos vacunas diarias aplica ya que no ha empezado su proceso de vacunaciones."
      ]
    },
    {
      "cell_type": "markdown",
      "metadata": {
        "id": "ALT7R4VP3SHi"
      },
      "source": [
        "Ahora buscaremos la respuesta a la misma pregunta excluyendo a los países que no han empezado a vacunar a su poblacion"
      ]
    },
    {
      "cell_type": "code",
      "metadata": {
        "colab": {
          "base_uri": "https://localhost:8080/",
          "height": 440
        },
        "id": "Pp5cgVC50wb9",
        "outputId": "f4e1c9be-c105-46b7-d4df-ffe32bae4544"
      },
      "source": [
        "grup2=grup1[grup1[\"Vacunaciones diarias por millon\"] > 0]\n",
        "grup2"
      ],
      "execution_count": null,
      "outputs": [
        {
          "output_type": "execute_result",
          "data": {
            "text/html": [
              "<div>\n",
              "<style scoped>\n",
              "    .dataframe tbody tr th:only-of-type {\n",
              "        vertical-align: middle;\n",
              "    }\n",
              "\n",
              "    .dataframe tbody tr th {\n",
              "        vertical-align: top;\n",
              "    }\n",
              "\n",
              "    .dataframe thead th {\n",
              "        text-align: right;\n",
              "    }\n",
              "</style>\n",
              "<table border=\"1\" class=\"dataframe\">\n",
              "  <thead>\n",
              "    <tr style=\"text-align: right;\">\n",
              "      <th></th>\n",
              "      <th>Vacunaciones diarias por millon</th>\n",
              "    </tr>\n",
              "    <tr>\n",
              "      <th>Pais</th>\n",
              "      <th></th>\n",
              "    </tr>\n",
              "  </thead>\n",
              "  <tbody>\n",
              "    <tr>\n",
              "      <th>Afghanistan</th>\n",
              "      <td>252.795322</td>\n",
              "    </tr>\n",
              "    <tr>\n",
              "      <th>Albania</th>\n",
              "      <td>2110.986900</td>\n",
              "    </tr>\n",
              "    <tr>\n",
              "      <th>Algeria</th>\n",
              "      <td>448.431373</td>\n",
              "    </tr>\n",
              "    <tr>\n",
              "      <th>Andorra</th>\n",
              "      <td>5740.019704</td>\n",
              "    </tr>\n",
              "    <tr>\n",
              "      <th>Angola</th>\n",
              "      <td>296.859551</td>\n",
              "    </tr>\n",
              "    <tr>\n",
              "      <th>...</th>\n",
              "      <td>...</td>\n",
              "    </tr>\n",
              "    <tr>\n",
              "      <th>Wales</th>\n",
              "      <td>5544.855469</td>\n",
              "    </tr>\n",
              "    <tr>\n",
              "      <th>Wallis and Futuna</th>\n",
              "      <td>5349.811688</td>\n",
              "    </tr>\n",
              "    <tr>\n",
              "      <th>Yemen</th>\n",
              "      <td>124.200000</td>\n",
              "    </tr>\n",
              "    <tr>\n",
              "      <th>Zambia</th>\n",
              "      <td>216.792593</td>\n",
              "    </tr>\n",
              "    <tr>\n",
              "      <th>Zimbabwe</th>\n",
              "      <td>1331.751323</td>\n",
              "    </tr>\n",
              "  </tbody>\n",
              "</table>\n",
              "<p>220 rows × 1 columns</p>\n",
              "</div>"
            ],
            "text/plain": [
              "                   Vacunaciones diarias por millon\n",
              "Pais                                              \n",
              "Afghanistan                             252.795322\n",
              "Albania                                2110.986900\n",
              "Algeria                                 448.431373\n",
              "Andorra                                5740.019704\n",
              "Angola                                  296.859551\n",
              "...                                            ...\n",
              "Wales                                  5544.855469\n",
              "Wallis and Futuna                      5349.811688\n",
              "Yemen                                   124.200000\n",
              "Zambia                                  216.792593\n",
              "Zimbabwe                               1331.751323\n",
              "\n",
              "[220 rows x 1 columns]"
            ]
          },
          "metadata": {},
          "execution_count": 112
        }
      ]
    },
    {
      "cell_type": "code",
      "metadata": {
        "colab": {
          "base_uri": "https://localhost:8080/"
        },
        "id": "PlOJn4-w1VGd",
        "outputId": "a779fd31-767a-47d4-dcea-7251b853ed27"
      },
      "source": [
        "v7=grup2[\"Vacunaciones diarias por millon\"].idxmin()\n",
        "v8=grup2[\"Vacunaciones diarias por millon\"].min()\n",
        "print(\"El pais con menor numero de vacunaciones diarias es \",v7,\" con un promedio de \",v8,\" por cada millon de habitantes\")"
      ],
      "execution_count": null,
      "outputs": [
        {
          "output_type": "stream",
          "text": [
            "El pais con menor numero de vacunaciones diarias es  Democratic Republic of Congo  con un promedio de  7.4140625  por cada millon de habitantes\n"
          ],
          "name": "stdout"
        }
      ]
    },
    {
      "cell_type": "markdown",
      "metadata": {
        "id": "PdROF8FU3M8s"
      },
      "source": [
        "El país con menor promedio de vacunaciones diarias es Democratic Republic of Congo, con apenas ~7.5 vacunaciones diarias por cada millon de habitantes"
      ]
    },
    {
      "cell_type": "markdown",
      "metadata": {
        "id": "_VTLNgj5nUMb"
      },
      "source": [
        "# Guardando la Base depurada"
      ]
    },
    {
      "cell_type": "code",
      "metadata": {
        "colab": {
          "base_uri": "https://localhost:8080/",
          "height": 17
        },
        "id": "FO6crSgCnRB4",
        "outputId": "79c3b13a-f182-4e59-fddf-2f2742b7cd90"
      },
      "source": [
        "covid2.to_csv('country_vaccinations2.csv')\n",
        "files.download('country_vaccinations2.csv')"
      ],
      "execution_count": null,
      "outputs": [
        {
          "output_type": "display_data",
          "data": {
            "application/javascript": [
              "\n",
              "    async function download(id, filename, size) {\n",
              "      if (!google.colab.kernel.accessAllowed) {\n",
              "        return;\n",
              "      }\n",
              "      const div = document.createElement('div');\n",
              "      const label = document.createElement('label');\n",
              "      label.textContent = `Downloading \"${filename}\": `;\n",
              "      div.appendChild(label);\n",
              "      const progress = document.createElement('progress');\n",
              "      progress.max = size;\n",
              "      div.appendChild(progress);\n",
              "      document.body.appendChild(div);\n",
              "\n",
              "      const buffers = [];\n",
              "      let downloaded = 0;\n",
              "\n",
              "      const channel = await google.colab.kernel.comms.open(id);\n",
              "      // Send a message to notify the kernel that we're ready.\n",
              "      channel.send({})\n",
              "\n",
              "      for await (const message of channel.messages) {\n",
              "        // Send a message to notify the kernel that we're ready.\n",
              "        channel.send({})\n",
              "        if (message.buffers) {\n",
              "          for (const buffer of message.buffers) {\n",
              "            buffers.push(buffer);\n",
              "            downloaded += buffer.byteLength;\n",
              "            progress.value = downloaded;\n",
              "          }\n",
              "        }\n",
              "      }\n",
              "      const blob = new Blob(buffers, {type: 'application/binary'});\n",
              "      const a = document.createElement('a');\n",
              "      a.href = window.URL.createObjectURL(blob);\n",
              "      a.download = filename;\n",
              "      div.appendChild(a);\n",
              "      a.click();\n",
              "      div.remove();\n",
              "    }\n",
              "  "
            ],
            "text/plain": [
              "<IPython.core.display.Javascript object>"
            ]
          },
          "metadata": {}
        },
        {
          "output_type": "display_data",
          "data": {
            "application/javascript": [
              "download(\"download_b9260f93-2bec-4e0a-923d-0ec34e0ea19c\", \"country_vaccinations2.csv\", 3230476)"
            ],
            "text/plain": [
              "<IPython.core.display.Javascript object>"
            ]
          },
          "metadata": {}
        }
      ]
    },
    {
      "cell_type": "code",
      "metadata": {
        "colab": {
          "resources": {
            "http://localhost:8080/nbextensions/google.colab/files.js": {
              "data": "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",
              "ok": true,
              "headers": [
                [
                  "content-type",
                  "application/javascript"
                ]
              ],
              "status": 200,
              "status_text": ""
            }
          },
          "base_uri": "https://localhost:8080/",
          "height": 72
        },
        "id": "uNKE5zKMRQAy",
        "outputId": "ad6b67eb-17cf-482e-869f-21adbf68acf1"
      },
      "source": [
        "files.upload()\n",
        "covid2 = pd.read_csv(\"country_vaccinations2.csv\")"
      ],
      "execution_count": null,
      "outputs": [
        {
          "output_type": "display_data",
          "data": {
            "text/html": [
              "\n",
              "     <input type=\"file\" id=\"files-43a4ac95-598f-4f45-a1e9-c6fc025af284\" name=\"files[]\" multiple disabled\n",
              "        style=\"border:none\" />\n",
              "     <output id=\"result-43a4ac95-598f-4f45-a1e9-c6fc025af284\">\n",
              "      Upload widget is only available when the cell has been executed in the\n",
              "      current browser session. Please rerun this cell to enable.\n",
              "      </output>\n",
              "      <script src=\"/nbextensions/google.colab/files.js\"></script> "
            ],
            "text/plain": [
              "<IPython.core.display.HTML object>"
            ]
          },
          "metadata": {}
        },
        {
          "output_type": "stream",
          "name": "stdout",
          "text": [
            "Saving country_vaccinations2.csv to country_vaccinations2 (1).csv\n"
          ]
        }
      ]
    },
    {
      "cell_type": "markdown",
      "metadata": {
        "id": "WL7BtG9as62B"
      },
      "source": [
        "# Estadística Descriptiva"
      ]
    },
    {
      "cell_type": "code",
      "metadata": {
        "id": "Z__bR2Fxvn2z",
        "colab": {
          "base_uri": "https://localhost:8080/",
          "height": 454
        },
        "outputId": "629d0a4c-c137-4895-bf41-1d26b342b918"
      },
      "source": [
        "info=covid2.groupby(\"Pais\").agg({\n",
        "    \"Vacunaciones diarias por millon\": \"mean\",\n",
        "    \"Numero total de personas vacunadas por cada cien\": \"max\",\n",
        "    \"Numero total de personas totalmente vacunadas por cada cien\": \"max\",\n",
        "    \"Numero total de vacunas\": \"max\"\n",
        "\n",
        "    \n",
        "})\n",
        "info"
      ],
      "execution_count": null,
      "outputs": [
        {
          "output_type": "execute_result",
          "data": {
            "text/html": [
              "<div>\n",
              "<style scoped>\n",
              "    .dataframe tbody tr th:only-of-type {\n",
              "        vertical-align: middle;\n",
              "    }\n",
              "\n",
              "    .dataframe tbody tr th {\n",
              "        vertical-align: top;\n",
              "    }\n",
              "\n",
              "    .dataframe thead th {\n",
              "        text-align: right;\n",
              "    }\n",
              "</style>\n",
              "<table border=\"1\" class=\"dataframe\">\n",
              "  <thead>\n",
              "    <tr style=\"text-align: right;\">\n",
              "      <th></th>\n",
              "      <th>Vacunaciones diarias por millon</th>\n",
              "      <th>Numero total de personas vacunadas por cada cien</th>\n",
              "      <th>Numero total de personas totalmente vacunadas por cada cien</th>\n",
              "      <th>Numero total de vacunas</th>\n",
              "    </tr>\n",
              "    <tr>\n",
              "      <th>Pais</th>\n",
              "      <th></th>\n",
              "      <th></th>\n",
              "      <th></th>\n",
              "      <th></th>\n",
              "    </tr>\n",
              "  </thead>\n",
              "  <tbody>\n",
              "    <tr>\n",
              "      <th>Afghanistan</th>\n",
              "      <td>252.795322</td>\n",
              "      <td>1.93</td>\n",
              "      <td>0.55</td>\n",
              "      <td>1809517.0</td>\n",
              "    </tr>\n",
              "    <tr>\n",
              "      <th>Albania</th>\n",
              "      <td>2110.986900</td>\n",
              "      <td>28.10</td>\n",
              "      <td>21.18</td>\n",
              "      <td>1415907.0</td>\n",
              "    </tr>\n",
              "    <tr>\n",
              "      <th>Algeria</th>\n",
              "      <td>448.431373</td>\n",
              "      <td>7.67</td>\n",
              "      <td>1.62</td>\n",
              "      <td>4146091.0</td>\n",
              "    </tr>\n",
              "    <tr>\n",
              "      <th>Andorra</th>\n",
              "      <td>5740.019704</td>\n",
              "      <td>65.99</td>\n",
              "      <td>52.51</td>\n",
              "      <td>91660.0</td>\n",
              "    </tr>\n",
              "    <tr>\n",
              "      <th>Angola</th>\n",
              "      <td>296.859551</td>\n",
              "      <td>3.27</td>\n",
              "      <td>2.15</td>\n",
              "      <td>1841568.0</td>\n",
              "    </tr>\n",
              "    <tr>\n",
              "      <th>...</th>\n",
              "      <td>...</td>\n",
              "      <td>...</td>\n",
              "      <td>...</td>\n",
              "      <td>...</td>\n",
              "    </tr>\n",
              "    <tr>\n",
              "      <th>Wales</th>\n",
              "      <td>5544.855469</td>\n",
              "      <td>74.04</td>\n",
              "      <td>68.50</td>\n",
              "      <td>4518499.0</td>\n",
              "    </tr>\n",
              "    <tr>\n",
              "      <th>Wallis and Futuna</th>\n",
              "      <td>5349.811688</td>\n",
              "      <td>44.16</td>\n",
              "      <td>43.06</td>\n",
              "      <td>9676.0</td>\n",
              "    </tr>\n",
              "    <tr>\n",
              "      <th>Yemen</th>\n",
              "      <td>124.200000</td>\n",
              "      <td>0.98</td>\n",
              "      <td>0.04</td>\n",
              "      <td>311483.0</td>\n",
              "    </tr>\n",
              "    <tr>\n",
              "      <th>Zambia</th>\n",
              "      <td>216.792593</td>\n",
              "      <td>1.64</td>\n",
              "      <td>1.34</td>\n",
              "      <td>562630.0</td>\n",
              "    </tr>\n",
              "    <tr>\n",
              "      <th>Zimbabwe</th>\n",
              "      <td>1331.751323</td>\n",
              "      <td>16.25</td>\n",
              "      <td>10.35</td>\n",
              "      <td>4015517.0</td>\n",
              "    </tr>\n",
              "  </tbody>\n",
              "</table>\n",
              "<p>222 rows × 4 columns</p>\n",
              "</div>"
            ],
            "text/plain": [
              "                   Vacunaciones diarias por millon  ...  Numero total de vacunas\n",
              "Pais                                                ...                         \n",
              "Afghanistan                             252.795322  ...                1809517.0\n",
              "Albania                                2110.986900  ...                1415907.0\n",
              "Algeria                                 448.431373  ...                4146091.0\n",
              "Andorra                                5740.019704  ...                  91660.0\n",
              "Angola                                  296.859551  ...                1841568.0\n",
              "...                                            ...  ...                      ...\n",
              "Wales                                  5544.855469  ...                4518499.0\n",
              "Wallis and Futuna                      5349.811688  ...                   9676.0\n",
              "Yemen                                   124.200000  ...                 311483.0\n",
              "Zambia                                  216.792593  ...                 562630.0\n",
              "Zimbabwe                               1331.751323  ...                4015517.0\n",
              "\n",
              "[222 rows x 4 columns]"
            ]
          },
          "metadata": {},
          "execution_count": 57
        }
      ]
    },
    {
      "cell_type": "markdown",
      "metadata": {
        "id": "6C_2iNJx5XRJ"
      },
      "source": [
        "En esta tabla tener la informacion descriptiva dividida por pais en el que se muestran el promedio de vacunaciones diarias por cada millon de habitantes y el total de personas vacunadas de manera total y de manera parcial, asi como el numero total de vacunas que se han aplicado. "
      ]
    },
    {
      "cell_type": "code",
      "metadata": {
        "colab": {
          "base_uri": "https://localhost:8080/",
          "height": 300
        },
        "id": "PYFgH-_L3Km5",
        "outputId": "7232a3ce-e040-4c77-b1e4-f8d3d3592758"
      },
      "source": [
        "info.describe()"
      ],
      "execution_count": null,
      "outputs": [
        {
          "output_type": "execute_result",
          "data": {
            "text/html": [
              "<div>\n",
              "<style scoped>\n",
              "    .dataframe tbody tr th:only-of-type {\n",
              "        vertical-align: middle;\n",
              "    }\n",
              "\n",
              "    .dataframe tbody tr th {\n",
              "        vertical-align: top;\n",
              "    }\n",
              "\n",
              "    .dataframe thead th {\n",
              "        text-align: right;\n",
              "    }\n",
              "</style>\n",
              "<table border=\"1\" class=\"dataframe\">\n",
              "  <thead>\n",
              "    <tr style=\"text-align: right;\">\n",
              "      <th></th>\n",
              "      <th>Vacunaciones diarias por millon</th>\n",
              "      <th>Numero total de personas vacunadas por cada cien</th>\n",
              "      <th>Numero total de personas totalmente vacunadas por cada cien</th>\n",
              "      <th>Numero total de vacunas</th>\n",
              "    </tr>\n",
              "  </thead>\n",
              "  <tbody>\n",
              "    <tr>\n",
              "      <th>count</th>\n",
              "      <td>222.000000</td>\n",
              "      <td>222.000000</td>\n",
              "      <td>222.000000</td>\n",
              "      <td>2.220000e+02</td>\n",
              "    </tr>\n",
              "    <tr>\n",
              "      <th>mean</th>\n",
              "      <td>3519.421783</td>\n",
              "      <td>37.344955</td>\n",
              "      <td>28.380405</td>\n",
              "      <td>2.351396e+07</td>\n",
              "    </tr>\n",
              "    <tr>\n",
              "      <th>std</th>\n",
              "      <td>3676.927669</td>\n",
              "      <td>27.283856</td>\n",
              "      <td>25.522911</td>\n",
              "      <td>1.432973e+08</td>\n",
              "    </tr>\n",
              "    <tr>\n",
              "      <th>min</th>\n",
              "      <td>0.000000</td>\n",
              "      <td>0.090000</td>\n",
              "      <td>0.000000</td>\n",
              "      <td>8.300000e+01</td>\n",
              "    </tr>\n",
              "    <tr>\n",
              "      <th>25%</th>\n",
              "      <td>1021.997093</td>\n",
              "      <td>10.835000</td>\n",
              "      <td>3.622500</td>\n",
              "      <td>1.472208e+05</td>\n",
              "    </tr>\n",
              "    <tr>\n",
              "      <th>50%</th>\n",
              "      <td>2964.028195</td>\n",
              "      <td>37.765000</td>\n",
              "      <td>22.240000</td>\n",
              "      <td>1.265800e+06</td>\n",
              "    </tr>\n",
              "    <tr>\n",
              "      <th>75%</th>\n",
              "      <td>5121.803177</td>\n",
              "      <td>61.755000</td>\n",
              "      <td>52.090000</td>\n",
              "      <td>8.589831e+06</td>\n",
              "    </tr>\n",
              "    <tr>\n",
              "      <th>max</th>\n",
              "      <td>31734.600000</td>\n",
              "      <td>117.310000</td>\n",
              "      <td>116.340000</td>\n",
              "      <td>2.003914e+09</td>\n",
              "    </tr>\n",
              "  </tbody>\n",
              "</table>\n",
              "</div>"
            ],
            "text/plain": [
              "       Vacunaciones diarias por millon  ...  Numero total de vacunas\n",
              "count                       222.000000  ...             2.220000e+02\n",
              "mean                       3519.421783  ...             2.351396e+07\n",
              "std                        3676.927669  ...             1.432973e+08\n",
              "min                           0.000000  ...             8.300000e+01\n",
              "25%                        1021.997093  ...             1.472208e+05\n",
              "50%                        2964.028195  ...             1.265800e+06\n",
              "75%                        5121.803177  ...             8.589831e+06\n",
              "max                       31734.600000  ...             2.003914e+09\n",
              "\n",
              "[8 rows x 4 columns]"
            ]
          },
          "metadata": {},
          "execution_count": 58
        }
      ]
    },
    {
      "cell_type": "markdown",
      "metadata": {
        "id": "hHyawO6vwjUq"
      },
      "source": [
        "Investigamos como sacar los estadísticos que íbamos a necesitar para analizar correctamente los datos. La función describe nos arroja la cuenta de los datos, la media, la desviación estándar, el mínimo, el máximo y los cuartiles del total de los pia. La cuenta de los datos nos ayuda a visualizar mejor la tabla, para saber con cuantos datos estamos trabajando y señar mejor las distribuciones de los datos. La media nos da una descripción de la característica que nos interesa de una población dada por la base de datos. La desviación estándar nos indica que tan dispersos están los datos respecto a la media. El máximo y el mínimo nos ayudan a ver el rango en el cual están los datos. Los cuartiles nos muestran una mejor distribución de los datos."
      ]
    },
    {
      "cell_type": "code",
      "metadata": {
        "colab": {
          "base_uri": "https://localhost:8080/"
        },
        "id": "mCHeivvPU_3N",
        "outputId": "25e316b7-d640-4993-afbd-603e657c6b8d"
      },
      "source": [
        "covid2.groupby('Pais')['Vacunaciones diarias por millon'].mean().nlargest(10)"
      ],
      "execution_count": null,
      "outputs": [
        {
          "output_type": "execute_result",
          "data": {
            "text/plain": [
              "Pais\n",
              "Niue                31734.600000\n",
              "Falkland Islands    20869.194030\n",
              "Cook Islands        17582.789474\n",
              "Pitcairn            16500.530612\n",
              "Saint Helena        13763.913043\n",
              "Tokelau             13401.666667\n",
              "Nauru               12417.729730\n",
              "Bhutan              11088.300000\n",
              "Gibraltar           10623.625551\n",
              "Cuba                 9950.265306\n",
              "Name: Vacunaciones diarias por millon, dtype: float64"
            ]
          },
          "metadata": {},
          "execution_count": 17
        }
      ]
    },
    {
      "cell_type": "markdown",
      "metadata": {
        "id": "xKRh7cOBVivP"
      },
      "source": [
        "son los paises que mas aplican vacunas al dia respecto a su numero de habitantes"
      ]
    },
    {
      "cell_type": "code",
      "metadata": {
        "colab": {
          "base_uri": "https://localhost:8080/"
        },
        "id": "iig3Xdw8WIuf",
        "outputId": "e35bd445-36b2-4711-db88-963f001a7dde"
      },
      "source": [
        "covid2.groupby('Pais')['Vacunaciones diarias por millon'].mean().nsmallest(10)"
      ],
      "execution_count": null,
      "outputs": [
        {
          "output_type": "execute_result",
          "data": {
            "text/plain": [
              "Pais\n",
              "Bonaire Sint Eustatius and Saba     0.000000\n",
              "Turkmenistan                        0.000000\n",
              "Democratic Republic of Congo        7.414062\n",
              "Chad                               32.450704\n",
              "Burkina Faso                       36.697368\n",
              "South Sudan                        47.103774\n",
              "Haiti                              58.923077\n",
              "Benin                              71.971698\n",
              "Somalia                            79.834646\n",
              "Mali                               84.556391\n",
              "Name: Vacunaciones diarias por millon, dtype: float64"
            ]
          },
          "metadata": {},
          "execution_count": 18
        }
      ]
    },
    {
      "cell_type": "code",
      "metadata": {
        "id": "V7m1wYmSWOMw"
      },
      "source": [
        "Tenemos ahora los datos alarmantes de los paises los cuales no han podido tener un plan de vacunacion exitoso debido a su situacion actual como nacion."
      ],
      "execution_count": null,
      "outputs": []
    },
    {
      "cell_type": "code",
      "metadata": {
        "colab": {
          "base_uri": "https://localhost:8080/",
          "height": 424
        },
        "id": "4UcFye350eAe",
        "outputId": "0fdfe7ad-4b3a-482d-8b8a-5c8444f2e911"
      },
      "source": [
        "info2=covid.tipo.groupby([\"location\",\"vaccine\"], as_index=False).agg({\n",
        "          \"total_vaccinations\": \"sum\"\n",
        "\n",
        "    \n",
        "})\n",
        "info2"
      ],
      "execution_count": null,
      "outputs": [
        {
          "output_type": "execute_result",
          "data": {
            "text/html": [
              "<div>\n",
              "<style scoped>\n",
              "    .dataframe tbody tr th:only-of-type {\n",
              "        vertical-align: middle;\n",
              "    }\n",
              "\n",
              "    .dataframe tbody tr th {\n",
              "        vertical-align: top;\n",
              "    }\n",
              "\n",
              "    .dataframe thead th {\n",
              "        text-align: right;\n",
              "    }\n",
              "</style>\n",
              "<table border=\"1\" class=\"dataframe\">\n",
              "  <thead>\n",
              "    <tr style=\"text-align: right;\">\n",
              "      <th></th>\n",
              "      <th>location</th>\n",
              "      <th>vaccine</th>\n",
              "      <th>total_vaccinations</th>\n",
              "    </tr>\n",
              "  </thead>\n",
              "  <tbody>\n",
              "    <tr>\n",
              "      <th>0</th>\n",
              "      <td>Austria</td>\n",
              "      <td>Johnson&amp;Johnson</td>\n",
              "      <td>2182262</td>\n",
              "    </tr>\n",
              "    <tr>\n",
              "      <th>1</th>\n",
              "      <td>Austria</td>\n",
              "      <td>Moderna</td>\n",
              "      <td>14229563</td>\n",
              "    </tr>\n",
              "    <tr>\n",
              "      <th>2</th>\n",
              "      <td>Austria</td>\n",
              "      <td>Oxford/AstraZeneca</td>\n",
              "      <td>26078557</td>\n",
              "    </tr>\n",
              "    <tr>\n",
              "      <th>3</th>\n",
              "      <td>Austria</td>\n",
              "      <td>Pfizer/BioNTech</td>\n",
              "      <td>106245891</td>\n",
              "    </tr>\n",
              "    <tr>\n",
              "      <th>4</th>\n",
              "      <td>Belgium</td>\n",
              "      <td>Johnson&amp;Johnson</td>\n",
              "      <td>3702780</td>\n",
              "    </tr>\n",
              "    <tr>\n",
              "      <th>...</th>\n",
              "      <td>...</td>\n",
              "      <td>...</td>\n",
              "      <td>...</td>\n",
              "    </tr>\n",
              "    <tr>\n",
              "      <th>127</th>\n",
              "      <td>United States</td>\n",
              "      <td>Moderna</td>\n",
              "      <td>20277074461</td>\n",
              "    </tr>\n",
              "    <tr>\n",
              "      <th>128</th>\n",
              "      <td>United States</td>\n",
              "      <td>Pfizer/BioNTech</td>\n",
              "      <td>26063411573</td>\n",
              "    </tr>\n",
              "    <tr>\n",
              "      <th>129</th>\n",
              "      <td>Uruguay</td>\n",
              "      <td>Oxford/AstraZeneca</td>\n",
              "      <td>7460146</td>\n",
              "    </tr>\n",
              "    <tr>\n",
              "      <th>130</th>\n",
              "      <td>Uruguay</td>\n",
              "      <td>Pfizer/BioNTech</td>\n",
              "      <td>132807414</td>\n",
              "    </tr>\n",
              "    <tr>\n",
              "      <th>131</th>\n",
              "      <td>Uruguay</td>\n",
              "      <td>Sinovac</td>\n",
              "      <td>349183264</td>\n",
              "    </tr>\n",
              "  </tbody>\n",
              "</table>\n",
              "<p>132 rows × 3 columns</p>\n",
              "</div>"
            ],
            "text/plain": [
              "          location             vaccine  total_vaccinations\n",
              "0          Austria     Johnson&Johnson             2182262\n",
              "1          Austria             Moderna            14229563\n",
              "2          Austria  Oxford/AstraZeneca            26078557\n",
              "3          Austria     Pfizer/BioNTech           106245891\n",
              "4          Belgium     Johnson&Johnson             3702780\n",
              "..             ...                 ...                 ...\n",
              "127  United States             Moderna         20277074461\n",
              "128  United States     Pfizer/BioNTech         26063411573\n",
              "129        Uruguay  Oxford/AstraZeneca             7460146\n",
              "130        Uruguay     Pfizer/BioNTech           132807414\n",
              "131        Uruguay             Sinovac           349183264\n",
              "\n",
              "[132 rows x 3 columns]"
            ]
          },
          "metadata": {},
          "execution_count": 86
        }
      ]
    },
    {
      "cell_type": "markdown",
      "metadata": {
        "id": "F0SjS7KD4p4o"
      },
      "source": [
        "Nos muestra los países agrupados por el tipo de vacuna que se ha aplicado y el total de dosis aplicadas, nos sirve para visualizar cuantas vacunas de un tipo especifico aplicaron por país, tomando en cuenta la efectividad que se muestra que tienen con respecto al virus. "
      ]
    },
    {
      "cell_type": "markdown",
      "metadata": {
        "id": "7biYaUTDQydQ"
      },
      "source": [
        "# **Graficas**"
      ]
    },
    {
      "cell_type": "code",
      "metadata": {
        "id": "be2lvAWyQ20O",
        "colab": {
          "base_uri": "https://localhost:8080/",
          "height": 730
        },
        "outputId": "ad9f6e11-3d25-408e-d497-ba1971268e8d"
      },
      "source": [
        "covid3=covid2.groupby(\"Pais\")[\"Vacunaciones diarias por millon\"].sum().nlargest(10)\n",
        "plt.figure(figsize=(10,10))\n",
        "covid3.plot(x = \"Pais\", kind = 'bar', alpha = 0.75)"
      ],
      "execution_count": null,
      "outputs": [
        {
          "output_type": "execute_result",
          "data": {
            "text/plain": [
              "<matplotlib.axes._subplots.AxesSubplot at 0x7f15ce022a50>"
            ]
          },
          "metadata": {},
          "execution_count": 73
        },
        {
          "output_type": "display_data",
          "data": {
            "image/png": "[encoded data removed]",
            "text/plain": [
              "<Figure size 720x720 with 1 Axes>"
            ]
          },
          "metadata": {
            "needs_background": "light"
          }
        }
      ]
    },
    {
      "cell_type": "markdown",
      "metadata": {
        "id": "fvcyGKv_Xaak"
      },
      "source": [
        "Dentro de la grafica podemos notar la cantidad de vacunas que se han aplicado dentro de los 10 paises con mayor cantidad de vacunas aplicadas por millón de habitantes. Por lo tanto, estos ´países serían probablemente los primeros países en poder reanudar sus actividades normales. "
      ]
    },
    {
      "cell_type": "code",
      "metadata": {
        "colab": {
          "base_uri": "https://localhost:8080/",
          "height": 776
        },
        "id": "kmWnZonEmRJS",
        "outputId": "b4fb894e-8eaf-4bbb-fa81-dba7b34b75c9"
      },
      "source": [
        "covid3=covid2.groupby(\"Pais\")[\"Vacunaciones diarias por millon\"].sum().nsmallest(10)\n",
        "plt.figure(figsize=(10,10))\n",
        "covid3.plot(x = \"Pais\", kind = 'bar', alpha = 0.75)"
      ],
      "execution_count": null,
      "outputs": [
        {
          "output_type": "execute_result",
          "data": {
            "text/plain": [
              "<matplotlib.axes._subplots.AxesSubplot at 0x7f15cdabf490>"
            ]
          },
          "metadata": {},
          "execution_count": 78
        },
        {
          "output_type": "display_data",
          "data": {
            "image/png": "[encoded data removed]",
            "text/plain": [
              "<Figure size 720x720 with 1 Axes>"
            ]
          },
          "metadata": {
            "needs_background": "light"
          }
        }
      ]
    },
    {
      "cell_type": "markdown",
      "metadata": {
        "id": "TzGTsXPhqpcX"
      },
      "source": [
        "Esta grafica nos muestra la cantidad de vacunas que se aplican dentro de los 10 países con menor cantidad de vacunas aplicadas por millón de habitantes. Estos serían probablemente los países que tarden mas en llegar a una normalidad. "
      ]
    },
    {
      "cell_type": "code",
      "metadata": {
        "id": "vV2J9iguqqZg"
      },
      "source": [
        ""
      ],
      "execution_count": null,
      "outputs": []
    },
    {
      "cell_type": "code",
      "metadata": {
        "id": "tg8TJo9gXPAW",
        "colab": {
          "base_uri": "https://localhost:8080/",
          "height": 624
        },
        "outputId": "ecfc22d9-d318-4076-ab13-12b76da31401"
      },
      "source": [
        "gibraltar=covid2[covid2['Pais']==\"Gibraltar\"]\n",
        "plt.figure(figsize=(10,10))\n",
        "plt.plot(gibraltar[\"Vacunaciones diarias por millon\"])\n",
        "\n",
        "plt.title(\"Gibraltar\")"
      ],
      "execution_count": null,
      "outputs": [
        {
          "output_type": "execute_result",
          "data": {
            "text/plain": [
              "Text(0.5, 1.0, 'Gibraltar')"
            ]
          },
          "metadata": {},
          "execution_count": 77
        },
        {
          "output_type": "display_data",
          "data": {
            "image/png": "[encoded data removed]",
            "text/plain": [
              "<Figure size 720x720 with 1 Axes>"
            ]
          },
          "metadata": {
            "needs_background": "light"
          }
        }
      ]
    },
    {
      "cell_type": "markdown",
      "metadata": {
        "id": "-LtTJ2aJrXCn"
      },
      "source": [
        "Por ser el país con mas vacunaciones diarias por millón nos interesa ver como evoluciono la aplicación de vacunas por día. "
      ]
    },
    {
      "cell_type": "code",
      "metadata": {
        "colab": {
          "base_uri": "https://localhost:8080/",
          "height": 624
        },
        "id": "BniZm7FBidqG",
        "outputId": "8e1add5e-c6f4-4ef5-bd9a-501472d5fd92"
      },
      "source": [
        "\n",
        "top5=covid2[covid2['Pais'].isin([\"Gibraltar\",\"United Arab Emirates\",\"Bhutan\"])]\n",
        "plt.figure(figsize=(10,10))\n",
        "sns.boxplot(\n",
        "    x=\"Pais\",\n",
        "    y=\"Vacunaciones diarias por millon\",\n",
        "    data= top5\n",
        ")"
      ],
      "execution_count": null,
      "outputs": [
        {
          "output_type": "execute_result",
          "data": {
            "text/plain": [
              "<matplotlib.axes._subplots.AxesSubplot at 0x7f15cd9f8b50>"
            ]
          },
          "metadata": {},
          "execution_count": 81
        },
        {
          "output_type": "display_data",
          "data": {
            "image/png": "[encoded data removed]",
            "text/plain": [
              "<Figure size 720x720 with 1 Axes>"
            ]
          },
          "metadata": {
            "needs_background": "light"
          }
        }
      ]
    },
    {
      "cell_type": "markdown",
      "metadata": {
        "id": "K7dzR7Tfti39"
      },
      "source": [
        "En la grafica anterior comparamos tres países Gibraltar, United Arab Emirates y Bhutan porque son los primeros tres paises con más vacunaciones por millón de habitantes. Esta grafica nos ayuda a visualizar mejor la distribución de los datos(vacunas diarias por millón) y comparalos. "
      ]
    },
    {
      "cell_type": "code",
      "metadata": {
        "colab": {
          "base_uri": "https://localhost:8080/",
          "height": 624
        },
        "id": "KKeI254Um9iJ",
        "outputId": "a33c6ebd-75b4-4192-87e2-63ff77fdaf08"
      },
      "source": [
        "Bottom5=covid2[covid2['Pais'].isin([\"Mexico\",\"Argentina\",\"Chile\",\"Colombia\",\"Peru\"])]\n",
        "plt.figure(figsize=(10,10))\n",
        "sns.violinplot(\n",
        "    x=\"Pais\",\n",
        "    y=\"Vacunaciones diarias por millon\",\n",
        "    data= Bottom5\n",
        ")"
      ],
      "execution_count": null,
      "outputs": [
        {
          "output_type": "execute_result",
          "data": {
            "text/plain": [
              "<matplotlib.axes._subplots.AxesSubplot at 0x7f15d1389b90>"
            ]
          },
          "metadata": {},
          "execution_count": 83
        },
        {
          "output_type": "display_data",
          "data": {
            "image/png": "[encoded data removed]",
            "text/plain": [
              "<Figure size 720x720 with 1 Axes>"
            ]
          },
          "metadata": {
            "needs_background": "light"
          }
        }
      ]
    },
    {
      "cell_type": "markdown",
      "metadata": {
        "id": "lhQI-v_ouWVg"
      },
      "source": [
        "En esta grafica quisimos observar y comparar algunos de los países más importantes de Latinoamérica y observar como se distribuyeron sus vacunaciones diarias por millón, esto nos sirve para darnos una idea de que tan pronto se espera regresar a la normalidad. "
      ]
    },
    {
      "cell_type": "code",
      "metadata": {
        "colab": {
          "base_uri": "https://localhost:8080/",
          "height": 913
        },
        "id": "ZmJmTDsmnQfJ",
        "outputId": "2d407020-e72f-40af-bee5-1c74c76d3780"
      },
      "source": [
        "f,ax=plt.subplots(figsize = (10,10))\n",
        "sns.heatmap(covid2.corr(),annot= True,linewidths=0.5,fmt = \".1f\",ax=ax)\n",
        "plt.xticks(rotation=90)\n",
        "plt.yticks(rotation=0)\n",
        "plt.title('Mapa de correlación')\n",
        "plt.savefig('graph.png')\n",
        "plt.show()"
      ],
      "execution_count": null,
      "outputs": [
        {
          "output_type": "display_data",
          "data": {
            "image/png": "[encoded data removed]",
            "text/plain": [
              "<Figure size 720x720 with 2 Axes>"
            ]
          },
          "metadata": {
            "needs_background": "light"
          }
        }
      ]
    },
    {
      "cell_type": "markdown",
      "metadata": {
        "id": "Ho2pYiVOujmN"
      },
      "source": [
        "Con este grafico podemos observar como estan correlacionadas y que tanto las variables de nuestra base de datos."
      ]
    },
    {
      "cell_type": "code",
      "metadata": {
        "colab": {
          "base_uri": "https://localhost:8080/",
          "height": 892
        },
        "id": "wJsS0Fsanunp",
        "outputId": "aa6ed03d-f9b9-419b-8771-b29946fbd723"
      },
      "source": [
        "vacuna=covid.tipo.groupby([\"vaccine\"]).agg({\n",
        "          \"total_vaccinations\": \"sum\"\n",
        "})\n",
        "tipos=[\"CanSino\",\"Johnson&Johnson\",\"Moderna\",\"Oxford/AstraZeneca\",\"Pfizer/BioNTech\",\"Sinopharm/Beijing\",\"Sinovac\",\"Sputnik V\"]\n",
        "plt.figure(figsize=(15,15))\n",
        "plt.bar(tipos,vacuna[\"total_vaccinations\"])\n"
      ],
      "execution_count": null,
      "outputs": [
        {
          "output_type": "execute_result",
          "data": {
            "text/plain": [
              "<BarContainer object of 8 artists>"
            ]
          },
          "metadata": {},
          "execution_count": 118
        },
        {
          "output_type": "display_data",
          "data": {
            "image/png": "[encoded data removed]",
            "text/plain": [
              "<Figure size 1080x1080 with 1 Axes>"
            ]
          },
          "metadata": {
            "needs_background": "light"
          }
        }
      ]
    },
    {
      "cell_type": "markdown",
      "metadata": {
        "id": "_a-wZ6UDv52p"
      },
      "source": [
        "En esta ultima grafica observamos el total de vacunas aplicadas por tipo de vacuna, esto va relacionado con la efectividad de las vacunas. "
      ]
    },
    {
      "cell_type": "markdown",
      "metadata": {
        "id": "VQnAsYs4v8GO"
      },
      "source": [
        "# **Conclusión**"
      ]
    },
    {
      "cell_type": "markdown",
      "metadata": {
        "id": "ETvs_RfEv_9q"
      },
      "source": [
        "Se analizó la información actual de los países y así pudimos medir cuales son los más eficientes en el manejo de la pandemia a nivel de vacunaciones, y de esta manera los pudimos clasificar según su efectividad. Con esta información más impactada y en modo de resumen nos da las cifras para concluir si se pueden continuar las actividades diarias en cada país, ya que cuanto mayor sea la proporción de la población que se vacuna, más restricciones impuestas para prevenir la propagación de COVID19 disminuirán hasta que desaparezcan, y con todo esto en algunos países si se podría implementar el seguro regreso a las actividades, en cambio hay otros países que aún no ofrecen las suficientes vacunas para retomar con las actividades normal en el país, es importante que se le dé una mayor enfoque aquellos países que salieron con el menor índice de vacunación ya que esto afecta a múltiples sistemas en un país. Estimamos el número de días que se vacuna un cierto porcentaje de la población de un país para predecir cuándo volverá a la normalidad cada día, ya que cuanto mayor sea el porcentaje de población vacunada, mayores serán las restricciones para detener la propagación de COVID19, que disminuirá hasta que desaparezcan."
      ]
    }
  ]
}