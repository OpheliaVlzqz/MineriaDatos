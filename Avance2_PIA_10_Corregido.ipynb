{
  "nbformat": 4,
  "nbformat_minor": 0,
  "metadata": {
    "colab": {
      "name": "Avance2_PIA_10_Corregido.ipynb",
      "provenance": [],
      "collapsed_sections": [],
      "include_colab_link": true
    },
    "kernelspec": {
      "name": "python3",
      "display_name": "Python 3"
    },
    "language_info": {
      "name": "python"
    }
  },
  "cells": [
    {
      "cell_type": "markdown",
      "metadata": {
        "id": "view-in-github",
        "colab_type": "text"
      },
      "source": [
        "<a href=\"https://colab.research.google.com/github/OpheliaVlzqz/MineriaDatos/blob/main/Avance2_PIA_10_Corregido.ipynb\" target=\"_parent\"><img src=\"https://colab.research.google.com/assets/colab-badge.svg\" alt=\"Open In Colab\"/></a>"
      ]
    },
    {
      "cell_type": "markdown",
      "metadata": {
        "id": "FWUZ_A5NPrEj"
      },
      "source": [
        "# **Equipo: 10**\n",
        "Integrantes\n",
        "\n",
        "\n",
        "\n",
        "*   \n",
        "1856652 Velázquez Montemayor Ofelia\n",
        "*\n",
        "1862149 Cruz Martínez Diego Adrian\n",
        "*\n",
        "1867216 Martínez Reyes Jose Miguel\n",
        "*\n",
        "1941488 García Ortega Jose Andrés\n"
      ]
    },
    {
      "cell_type": "markdown",
      "metadata": {
        "id": "d606BPuroM1H"
      },
      "source": [
        "**GRUPO 001.- Lunes de 7:00-10:00 PM**\n",
        "\n",
        "\n",
        "Objetivo: Estimar una fecha en la cuál se pueda llegar a una nueva normalidad mas segura para todos, a partir de la cifras de las personas vacunadas. \n"
      ]
    },
    {
      "cell_type": "markdown",
      "metadata": {
        "id": "rHbmpHZ6ctha"
      },
      "source": [
        "# **Base de datos principal: COVID-19 World Vaccination Progress**"
      ]
    },
    {
      "cell_type": "markdown",
      "metadata": {
        "id": "YiZwpxfOcpke"
      },
      "source": [
        "\n",
        "URL de la pagina:  https://www.kaggle.com/gpreda/covid-world-vaccination-progress"
      ]
    },
    {
      "cell_type": "markdown",
      "metadata": {
        "id": "tTIKVYamZYV9"
      },
      "source": [
        "# **Introducción General**"
      ]
    },
    {
      "cell_type": "markdown",
      "metadata": {
        "id": "lFyVJFQDZk6l"
      },
      "source": [
        "Nuestra base de datos muestra el progreso de vacunación mundial contra el COVID-19. Los coronavirus son una familia de virus que causan enfermedades (desde el resfriado común hasta enfermedades respiratorias más graves) y circulan entre humanos y animales. \n",
        "El COVID-19 es la enfermedad causada por el nuevo coronavirus conocido como SARS-CoV-2. La OMS tuvo noticia por primera vez de la existencia de este nuevo virus el 31 de diciembre de 2019, al ser informada de un grupo de casos de «neumonía vírica» que se habían declarado en Wuhan (República Popular China).\n",
        "\n",
        "Algunos de los síntomas que puede presentar una persona con COVID-19 son, fiebre, tos seca, cansancio, pérdida del gusto y/o del olfato, dolor de garganta, dolor de cabeza, náuseas, vómito, diarrea, etc. El sector de la población con más riesgo son las personas de más de 60 años y las que padecen afecciones médicas subyacentes, como hipertensión arterial, problemas cardíacos o pulmonares, \n",
        "diabetes, obesidad o cáncer, corren un mayor riesgo de presentar cuadros graves. \n",
        "Sin embargo, cualquier persona, a cualquier edad, puede enfermar de COVID-19 y presentar un cuadro grave o morir.    \n",
        "El tiempo entre la exposición a la COVID-19 y el momento en que comienzan los síntomas es, de media, de 5 o 6 días, pero puede variar entre 1 y 14 días. Por ello se recomienda que las personas que hayan estado expuestas al virus se queden en casa, alejadas de otras personas, durante 14 días, con el fin de prevenir la propagación del virus.\n",
        "\n",
        "El COVID-19 ha afectado mucho a la humanidad, han muerto 4.49 M de personas en el mundo y se han enfermado 216 M de personas. De los casi 7,000 profesionales de la salud en el mundo que han perdido la vida por el Covid-19, al menos 1,320 se registraron en México, según un reporte de Amnistía Internacional. La pandemia ha afectado a la economía de todos los países del mundo, los precios de las materias primas cayeron, mientras subió el gasto público para la lucha contra la pandemia que  a consecuencia de esta muchos negocios cerraron, subió el índice de desempleo y aumentó la inseguridad. La deuda fiscal de muchos países se incrementó enormemente. \n",
        "\n",
        "Una herramienta que nos ayude a explorar los datos del COVID-19 ayudaría bastante en distintas áreas principalmente en el área médica, como por ejemplo llevar un control de las muertes, los infectados y los recuperados de las personas no vacunadas y las vacunadas, para poder ver el grado de efectividad que tienen las distintas vacunas y si tienen el mismo grado de efectividad en una persona joven o en una persona de edad avanzada. También estos datos nos ayudarían en la economía, porque con esas cifras los gobiernos sabrían cuánto riesgo tienen las personas al acudir a ciertos establecimientos y así tomar la decisión de abrirlos, cerrarlos o poner un límite de personas, ya una vez que la mayoría o una gran parte de la población se encuentra vacunada. \n"
      ]
    },
    {
      "cell_type": "markdown",
      "metadata": {
        "id": "VTOMhN9nZtrO"
      },
      "source": [
        "# **Descripción de los datos**"
      ]
    },
    {
      "cell_type": "markdown",
      "metadata": {
        "id": "6qmJeKaGZzs3"
      },
      "source": [
        "\n",
        "**Tipo de datos**: Tablas \n",
        "\n",
        "**Descripción de las columnas**: la base de datos cuenta con 16 columnas y otras 4 columnas en otro archivo. \n"
      ]
    },
    {
      "cell_type": "markdown",
      "metadata": {
        "id": "gZiUmfaHaGqZ"
      },
      "source": [
        "\n",
        "\n",
        "*   País - string \n",
        "*   Código ISO del país - string\n",
        "*   Fecha - object (fecha de entrada de los datos) \n",
        "Número total de vacunas - float (número absoluto total de inmunizaciones)\n",
        "*   Número total de personas vacunadas - float\n",
        "*   Número total de personas totalmente vacunadas - float\n",
        "*   Vacunaciones diarias (en bruto) - float\n",
        "*   Vacunaciones totales por cien - float (relación entre el número de vacunaciones y la población total hasta la fecha en el país)\n",
        "*   Número total de personas vacunadas por cada cien - float (Relación entre la población inmunizada y la población total hasta la fecha en el país)\n",
        "*   Número total de personas totalmente vacunadas por cada cien -float (Relación  entre la población totalmente inmunizada y la población total hasta la fecha en el país )\n",
        "*   Número de vacunaciones por día -float\n",
        "*   Vacunaciones diarias por millón - float (relación entre el número de vacunaciones y la población total para la fecha actual en el país)\n",
        "*   Vacunas utilizadas en el país - string\n"
      ]
    },
    {
      "cell_type": "markdown",
      "metadata": {
        "id": "cQHhDZ9Dbi6I"
      },
      "source": [
        "# **Justificación del uso de datos**"
      ]
    },
    {
      "cell_type": "markdown",
      "metadata": {
        "id": "0GQuORqvbl-0"
      },
      "source": [
        "Los datos se recolectaron desde el database de kaggle \"COVID-19 World Vaccination Progress\", el cual incluye dos archivos CSV \"country_vaccinations_by_manufacturer\" & \"country_vaccinations\". \n",
        "\n",
        "\n",
        "De las 2 bases anteriormente mencionadas solamente haremos uso de \"country vaccinations\", esto debido a que la información que nos proporciona es mucho más útil para nuestro objetivo principal. Esta base de datos nos brinda datos sobre las personas totalmente vacunadas, el tipo de vacuna aplicada, las vacunaciones que se realizan diariamente todo con sus respectivas fechas y de todos los países, sin embargo, nuestro enfoque será solamente con México.\n",
        "\n",
        "Teniendo en cuenta los datos que nos proporciona esta base y el uso que le daremos la información que tomaremos en cuenta las personas totalmente vacunadas con su respectiva fecha para hacer el analisis y cumplimiento del objetivo principal. \n",
        "\n",
        "\n",
        "\n",
        "\n",
        "\n",
        "\n",
        "\n",
        "\n",
        "\n",
        "\n",
        "\n",
        "\n",
        "\n",
        "\n",
        "\n",
        "\n",
        "\n",
        "\n",
        "\n",
        "\n",
        "\n",
        "\n",
        " "
      ]
    },
    {
      "cell_type": "markdown",
      "metadata": {
        "id": "BVJtr3HbbpG5"
      },
      "source": [
        "# **Objetivo final**"
      ]
    },
    {
      "cell_type": "markdown",
      "metadata": {
        "id": "avwfz75hb37I"
      },
      "source": [
        "\n",
        "Principal: Prediccion de la fecha en la que volveremos a la \"normalidad\" en México. \n",
        "\n",
        "Secundario: Comparación de México con EUA país con respecto a la vacunación para revisar como se relacionan.\n"
      ]
    },
    {
      "cell_type": "markdown",
      "metadata": {
        "id": "h5DJWMpFb6Wb"
      },
      "source": [
        "# **Preguntas de interés**"
      ]
    },
    {
      "cell_type": "markdown",
      "metadata": {
        "id": "BtkDca4Ebv_a"
      },
      "source": [
        "\n",
        "\n",
        "*   ¿Cuál es el país que ha vacunado a mayor parte de su población?\n",
        "*   ¿Qué país es el que ha tenido menor número de vacunaciones por día?\n",
        "*   ¿Cuál es el país que tiene la menor de su población vacunada?\n",
        "\n",
        "\n"
      ]
    },
    {
      "cell_type": "markdown",
      "metadata": {
        "id": "W7QzpnU6nEDH"
      },
      "source": [
        "# **Limpieza de datos**\n",
        "\n",
        "**Leer el archivo**\n",
        "\n",
        "El primer paso sera importar las librerias las cuales podremos utilizar para la lectura y limpieza de datos. Despues se mandará llamar el archivo el cual esta en formato excel. Para eliminar los posibles simbolos que no se puedan leer utilizaremos encoding."
      ]
    },
    {
      "cell_type": "code",
      "metadata": {
        "id": "I6xaLQlzO7Y1"
      },
      "source": [
        "\n",
        "from google.colab import  files\n",
        "import pandas as pd\n",
        "import numpy as np\n",
        "import seaborn as sns\n",
        "import matplotlib.pyplot as plt\n",
        "fig, ax = plt.subplots()\n",
        "%matplotlib inline\n",
        "import matplotlib as mpl\n",
        "import itertools as it\n",
        "\n",
        "\n"
      ],
      "execution_count": null,
      "outputs": []
    },
    {
      "cell_type": "code",
      "metadata": {
        "id": "0wWJEBE0SNs-"
      },
      "source": [
        "covid = pd.read_csv(\"country_vaccinations.csv\")"
      ],
      "execution_count": 95,
      "outputs": []
    },
    {
      "cell_type": "code",
      "metadata": {
        "colab": {
          "base_uri": "https://localhost:8080/"
        },
        "id": "huissKX9b-Hy",
        "outputId": "84779ff0-413d-439d-80fe-a330df3d448d"
      },
      "source": [
        "covid.tipo=pd.read_csv(\"country_vaccinations_by_manufacturer.csv\")"
      ],
      "execution_count": null,
      "outputs": [
        {
          "output_type": "stream",
          "name": "stderr",
          "text": [
            "/usr/local/lib/python3.7/dist-packages/ipykernel_launcher.py:1: UserWarning: Pandas doesn't allow columns to be created via a new attribute name - see https://pandas.pydata.org/pandas-docs/stable/indexing.html#attribute-access\n",
            "  \"\"\"Entry point for launching an IPython kernel.\n"
          ]
        }
      ]
    },
    {
      "cell_type": "markdown",
      "metadata": {
        "id": "cy6W0hBQu5W_"
      },
      "source": [
        "**Tamaño de la base de datos**\n",
        "\n",
        "Se utiliza la función shape para revisar el tamaño de la base de datos. "
      ]
    },
    {
      "cell_type": "code",
      "metadata": {
        "id": "FjFnY6fQVzU2",
        "colab": {
          "base_uri": "https://localhost:8080/"
        },
        "outputId": "350949b7-74ad-49e0-b68e-2886edc89d4e"
      },
      "source": [
        "covid.shape\n",
        "\n"
      ],
      "execution_count": null,
      "outputs": [
        {
          "output_type": "execute_result",
          "data": {
            "text/plain": [
              "(49843, 15)"
            ]
          },
          "metadata": {},
          "execution_count": 4
        }
      ]
    },
    {
      "cell_type": "markdown",
      "metadata": {
        "id": "EVML0KipxPkW"
      },
      "source": [
        "La base de datos cuenta con 40204 filas y 15 columnas. \n",
        "\n",
        "Con la función head, revisaremos nuestros primeros 10 datos de la base de datos y para revisar los ultimos se utilizara la función tail "
      ]
    },
    {
      "cell_type": "code",
      "metadata": {
        "colab": {
          "base_uri": "https://localhost:8080/",
          "height": 719
        },
        "id": "LzsbGnnhcmcY",
        "outputId": "6ad1f3c4-3f5e-4d19-ac85-e6df15d4c714"
      },
      "source": [
        "covid.head(10)"
      ],
      "execution_count": null,
      "outputs": [
        {
          "output_type": "execute_result",
          "data": {
            "text/html": [
              "<div>\n",
              "<style scoped>\n",
              "    .dataframe tbody tr th:only-of-type {\n",
              "        vertical-align: middle;\n",
              "    }\n",
              "\n",
              "    .dataframe tbody tr th {\n",
              "        vertical-align: top;\n",
              "    }\n",
              "\n",
              "    .dataframe thead th {\n",
              "        text-align: right;\n",
              "    }\n",
              "</style>\n",
              "<table border=\"1\" class=\"dataframe\">\n",
              "  <thead>\n",
              "    <tr style=\"text-align: right;\">\n",
              "      <th></th>\n",
              "      <th>country</th>\n",
              "      <th>iso_code</th>\n",
              "      <th>date</th>\n",
              "      <th>total_vaccinations</th>\n",
              "      <th>people_vaccinated</th>\n",
              "      <th>people_fully_vaccinated</th>\n",
              "      <th>daily_vaccinations_raw</th>\n",
              "      <th>daily_vaccinations</th>\n",
              "      <th>total_vaccinations_per_hundred</th>\n",
              "      <th>people_vaccinated_per_hundred</th>\n",
              "      <th>people_fully_vaccinated_per_hundred</th>\n",
              "      <th>daily_vaccinations_per_million</th>\n",
              "      <th>vaccines</th>\n",
              "      <th>source_name</th>\n",
              "      <th>source_website</th>\n",
              "    </tr>\n",
              "  </thead>\n",
              "  <tbody>\n",
              "    <tr>\n",
              "      <th>0</th>\n",
              "      <td>Afghanistan</td>\n",
              "      <td>AFG</td>\n",
              "      <td>2021-02-22</td>\n",
              "      <td>0.0</td>\n",
              "      <td>0.0</td>\n",
              "      <td>NaN</td>\n",
              "      <td>NaN</td>\n",
              "      <td>NaN</td>\n",
              "      <td>0.00</td>\n",
              "      <td>0.00</td>\n",
              "      <td>NaN</td>\n",
              "      <td>NaN</td>\n",
              "      <td>Johnson&amp;Johnson, Oxford/AstraZeneca, Pfizer/Bi...</td>\n",
              "      <td>World Health Organization</td>\n",
              "      <td>https://covid19.who.int/</td>\n",
              "    </tr>\n",
              "    <tr>\n",
              "      <th>1</th>\n",
              "      <td>Afghanistan</td>\n",
              "      <td>AFG</td>\n",
              "      <td>2021-02-23</td>\n",
              "      <td>NaN</td>\n",
              "      <td>NaN</td>\n",
              "      <td>NaN</td>\n",
              "      <td>NaN</td>\n",
              "      <td>1367.0</td>\n",
              "      <td>NaN</td>\n",
              "      <td>NaN</td>\n",
              "      <td>NaN</td>\n",
              "      <td>34.0</td>\n",
              "      <td>Johnson&amp;Johnson, Oxford/AstraZeneca, Pfizer/Bi...</td>\n",
              "      <td>World Health Organization</td>\n",
              "      <td>https://covid19.who.int/</td>\n",
              "    </tr>\n",
              "    <tr>\n",
              "      <th>2</th>\n",
              "      <td>Afghanistan</td>\n",
              "      <td>AFG</td>\n",
              "      <td>2021-02-24</td>\n",
              "      <td>NaN</td>\n",
              "      <td>NaN</td>\n",
              "      <td>NaN</td>\n",
              "      <td>NaN</td>\n",
              "      <td>1367.0</td>\n",
              "      <td>NaN</td>\n",
              "      <td>NaN</td>\n",
              "      <td>NaN</td>\n",
              "      <td>34.0</td>\n",
              "      <td>Johnson&amp;Johnson, Oxford/AstraZeneca, Pfizer/Bi...</td>\n",
              "      <td>World Health Organization</td>\n",
              "      <td>https://covid19.who.int/</td>\n",
              "    </tr>\n",
              "    <tr>\n",
              "      <th>3</th>\n",
              "      <td>Afghanistan</td>\n",
              "      <td>AFG</td>\n",
              "      <td>2021-02-25</td>\n",
              "      <td>NaN</td>\n",
              "      <td>NaN</td>\n",
              "      <td>NaN</td>\n",
              "      <td>NaN</td>\n",
              "      <td>1367.0</td>\n",
              "      <td>NaN</td>\n",
              "      <td>NaN</td>\n",
              "      <td>NaN</td>\n",
              "      <td>34.0</td>\n",
              "      <td>Johnson&amp;Johnson, Oxford/AstraZeneca, Pfizer/Bi...</td>\n",
              "      <td>World Health Organization</td>\n",
              "      <td>https://covid19.who.int/</td>\n",
              "    </tr>\n",
              "    <tr>\n",
              "      <th>4</th>\n",
              "      <td>Afghanistan</td>\n",
              "      <td>AFG</td>\n",
              "      <td>2021-02-26</td>\n",
              "      <td>NaN</td>\n",
              "      <td>NaN</td>\n",
              "      <td>NaN</td>\n",
              "      <td>NaN</td>\n",
              "      <td>1367.0</td>\n",
              "      <td>NaN</td>\n",
              "      <td>NaN</td>\n",
              "      <td>NaN</td>\n",
              "      <td>34.0</td>\n",
              "      <td>Johnson&amp;Johnson, Oxford/AstraZeneca, Pfizer/Bi...</td>\n",
              "      <td>World Health Organization</td>\n",
              "      <td>https://covid19.who.int/</td>\n",
              "    </tr>\n",
              "    <tr>\n",
              "      <th>5</th>\n",
              "      <td>Afghanistan</td>\n",
              "      <td>AFG</td>\n",
              "      <td>2021-02-27</td>\n",
              "      <td>NaN</td>\n",
              "      <td>NaN</td>\n",
              "      <td>NaN</td>\n",
              "      <td>NaN</td>\n",
              "      <td>1367.0</td>\n",
              "      <td>NaN</td>\n",
              "      <td>NaN</td>\n",
              "      <td>NaN</td>\n",
              "      <td>34.0</td>\n",
              "      <td>Johnson&amp;Johnson, Oxford/AstraZeneca, Pfizer/Bi...</td>\n",
              "      <td>World Health Organization</td>\n",
              "      <td>https://covid19.who.int/</td>\n",
              "    </tr>\n",
              "    <tr>\n",
              "      <th>6</th>\n",
              "      <td>Afghanistan</td>\n",
              "      <td>AFG</td>\n",
              "      <td>2021-02-28</td>\n",
              "      <td>8200.0</td>\n",
              "      <td>8200.0</td>\n",
              "      <td>NaN</td>\n",
              "      <td>NaN</td>\n",
              "      <td>1367.0</td>\n",
              "      <td>0.02</td>\n",
              "      <td>0.02</td>\n",
              "      <td>NaN</td>\n",
              "      <td>34.0</td>\n",
              "      <td>Johnson&amp;Johnson, Oxford/AstraZeneca, Pfizer/Bi...</td>\n",
              "      <td>World Health Organization</td>\n",
              "      <td>https://covid19.who.int/</td>\n",
              "    </tr>\n",
              "    <tr>\n",
              "      <th>7</th>\n",
              "      <td>Afghanistan</td>\n",
              "      <td>AFG</td>\n",
              "      <td>2021-03-01</td>\n",
              "      <td>NaN</td>\n",
              "      <td>NaN</td>\n",
              "      <td>NaN</td>\n",
              "      <td>NaN</td>\n",
              "      <td>1580.0</td>\n",
              "      <td>NaN</td>\n",
              "      <td>NaN</td>\n",
              "      <td>NaN</td>\n",
              "      <td>40.0</td>\n",
              "      <td>Johnson&amp;Johnson, Oxford/AstraZeneca, Pfizer/Bi...</td>\n",
              "      <td>World Health Organization</td>\n",
              "      <td>https://covid19.who.int/</td>\n",
              "    </tr>\n",
              "    <tr>\n",
              "      <th>8</th>\n",
              "      <td>Afghanistan</td>\n",
              "      <td>AFG</td>\n",
              "      <td>2021-03-02</td>\n",
              "      <td>NaN</td>\n",
              "      <td>NaN</td>\n",
              "      <td>NaN</td>\n",
              "      <td>NaN</td>\n",
              "      <td>1794.0</td>\n",
              "      <td>NaN</td>\n",
              "      <td>NaN</td>\n",
              "      <td>NaN</td>\n",
              "      <td>45.0</td>\n",
              "      <td>Johnson&amp;Johnson, Oxford/AstraZeneca, Pfizer/Bi...</td>\n",
              "      <td>World Health Organization</td>\n",
              "      <td>https://covid19.who.int/</td>\n",
              "    </tr>\n",
              "    <tr>\n",
              "      <th>9</th>\n",
              "      <td>Afghanistan</td>\n",
              "      <td>AFG</td>\n",
              "      <td>2021-03-03</td>\n",
              "      <td>NaN</td>\n",
              "      <td>NaN</td>\n",
              "      <td>NaN</td>\n",
              "      <td>NaN</td>\n",
              "      <td>2008.0</td>\n",
              "      <td>NaN</td>\n",
              "      <td>NaN</td>\n",
              "      <td>NaN</td>\n",
              "      <td>50.0</td>\n",
              "      <td>Johnson&amp;Johnson, Oxford/AstraZeneca, Pfizer/Bi...</td>\n",
              "      <td>World Health Organization</td>\n",
              "      <td>https://covid19.who.int/</td>\n",
              "    </tr>\n",
              "  </tbody>\n",
              "</table>\n",
              "</div>"
            ],
            "text/plain": [
              "       country iso_code  ...                source_name            source_website\n",
              "0  Afghanistan      AFG  ...  World Health Organization  https://covid19.who.int/\n",
              "1  Afghanistan      AFG  ...  World Health Organization  https://covid19.who.int/\n",
              "2  Afghanistan      AFG  ...  World Health Organization  https://covid19.who.int/\n",
              "3  Afghanistan      AFG  ...  World Health Organization  https://covid19.who.int/\n",
              "4  Afghanistan      AFG  ...  World Health Organization  https://covid19.who.int/\n",
              "5  Afghanistan      AFG  ...  World Health Organization  https://covid19.who.int/\n",
              "6  Afghanistan      AFG  ...  World Health Organization  https://covid19.who.int/\n",
              "7  Afghanistan      AFG  ...  World Health Organization  https://covid19.who.int/\n",
              "8  Afghanistan      AFG  ...  World Health Organization  https://covid19.who.int/\n",
              "9  Afghanistan      AFG  ...  World Health Organization  https://covid19.who.int/\n",
              "\n",
              "[10 rows x 15 columns]"
            ]
          },
          "metadata": {},
          "execution_count": 5
        }
      ]
    },
    {
      "cell_type": "code",
      "metadata": {
        "id": "yLvSU5NocnfD",
        "colab": {
          "base_uri": "https://localhost:8080/",
          "height": 719
        },
        "outputId": "54b30e85-2369-4404-be15-21fcdd903a10"
      },
      "source": [
        "covid.tail(10)"
      ],
      "execution_count": null,
      "outputs": [
        {
          "output_type": "execute_result",
          "data": {
            "text/html": [
              "<div>\n",
              "<style scoped>\n",
              "    .dataframe tbody tr th:only-of-type {\n",
              "        vertical-align: middle;\n",
              "    }\n",
              "\n",
              "    .dataframe tbody tr th {\n",
              "        vertical-align: top;\n",
              "    }\n",
              "\n",
              "    .dataframe thead th {\n",
              "        text-align: right;\n",
              "    }\n",
              "</style>\n",
              "<table border=\"1\" class=\"dataframe\">\n",
              "  <thead>\n",
              "    <tr style=\"text-align: right;\">\n",
              "      <th></th>\n",
              "      <th>country</th>\n",
              "      <th>iso_code</th>\n",
              "      <th>date</th>\n",
              "      <th>total_vaccinations</th>\n",
              "      <th>people_vaccinated</th>\n",
              "      <th>people_fully_vaccinated</th>\n",
              "      <th>daily_vaccinations_raw</th>\n",
              "      <th>daily_vaccinations</th>\n",
              "      <th>total_vaccinations_per_hundred</th>\n",
              "      <th>people_vaccinated_per_hundred</th>\n",
              "      <th>people_fully_vaccinated_per_hundred</th>\n",
              "      <th>daily_vaccinations_per_million</th>\n",
              "      <th>vaccines</th>\n",
              "      <th>source_name</th>\n",
              "      <th>source_website</th>\n",
              "    </tr>\n",
              "  </thead>\n",
              "  <tbody>\n",
              "    <tr>\n",
              "      <th>49833</th>\n",
              "      <td>Zimbabwe</td>\n",
              "      <td>ZWE</td>\n",
              "      <td>2021-09-30</td>\n",
              "      <td>5355820.0</td>\n",
              "      <td>3083764.0</td>\n",
              "      <td>2272056.0</td>\n",
              "      <td>35255.0</td>\n",
              "      <td>27045.0</td>\n",
              "      <td>35.49</td>\n",
              "      <td>20.43</td>\n",
              "      <td>15.05</td>\n",
              "      <td>1792.0</td>\n",
              "      <td>Oxford/AstraZeneca, Sinopharm/Beijing, Sinovac...</td>\n",
              "      <td>Ministry of Health</td>\n",
              "      <td>https://www.arcgis.com/home/webmap/viewer.html...</td>\n",
              "    </tr>\n",
              "    <tr>\n",
              "      <th>49834</th>\n",
              "      <td>Zimbabwe</td>\n",
              "      <td>ZWE</td>\n",
              "      <td>2021-10-01</td>\n",
              "      <td>5387135.0</td>\n",
              "      <td>3097001.0</td>\n",
              "      <td>2290134.0</td>\n",
              "      <td>31315.0</td>\n",
              "      <td>27110.0</td>\n",
              "      <td>35.69</td>\n",
              "      <td>20.52</td>\n",
              "      <td>15.17</td>\n",
              "      <td>1796.0</td>\n",
              "      <td>Oxford/AstraZeneca, Sinopharm/Beijing, Sinovac...</td>\n",
              "      <td>Ministry of Health</td>\n",
              "      <td>https://www.arcgis.com/home/webmap/viewer.html...</td>\n",
              "    </tr>\n",
              "    <tr>\n",
              "      <th>49835</th>\n",
              "      <td>Zimbabwe</td>\n",
              "      <td>ZWE</td>\n",
              "      <td>2021-10-02</td>\n",
              "      <td>5409000.0</td>\n",
              "      <td>3105712.0</td>\n",
              "      <td>2303288.0</td>\n",
              "      <td>21865.0</td>\n",
              "      <td>27190.0</td>\n",
              "      <td>35.84</td>\n",
              "      <td>20.58</td>\n",
              "      <td>15.26</td>\n",
              "      <td>1802.0</td>\n",
              "      <td>Oxford/AstraZeneca, Sinopharm/Beijing, Sinovac...</td>\n",
              "      <td>Ministry of Health</td>\n",
              "      <td>https://www.arcgis.com/home/webmap/viewer.html...</td>\n",
              "    </tr>\n",
              "    <tr>\n",
              "      <th>49836</th>\n",
              "      <td>Zimbabwe</td>\n",
              "      <td>ZWE</td>\n",
              "      <td>2021-10-03</td>\n",
              "      <td>5424753.0</td>\n",
              "      <td>3111495.0</td>\n",
              "      <td>2313258.0</td>\n",
              "      <td>15753.0</td>\n",
              "      <td>27125.0</td>\n",
              "      <td>35.94</td>\n",
              "      <td>20.62</td>\n",
              "      <td>15.33</td>\n",
              "      <td>1797.0</td>\n",
              "      <td>Oxford/AstraZeneca, Sinopharm/Beijing, Sinovac...</td>\n",
              "      <td>Ministry of Health</td>\n",
              "      <td>https://www.arcgis.com/home/webmap/viewer.html...</td>\n",
              "    </tr>\n",
              "    <tr>\n",
              "      <th>49837</th>\n",
              "      <td>Zimbabwe</td>\n",
              "      <td>ZWE</td>\n",
              "      <td>2021-10-04</td>\n",
              "      <td>5441379.0</td>\n",
              "      <td>3117596.0</td>\n",
              "      <td>2323783.0</td>\n",
              "      <td>16626.0</td>\n",
              "      <td>25371.0</td>\n",
              "      <td>36.05</td>\n",
              "      <td>20.66</td>\n",
              "      <td>15.40</td>\n",
              "      <td>1681.0</td>\n",
              "      <td>Oxford/AstraZeneca, Sinopharm/Beijing, Sinovac...</td>\n",
              "      <td>Ministry of Health</td>\n",
              "      <td>https://www.arcgis.com/home/webmap/viewer.html...</td>\n",
              "    </tr>\n",
              "    <tr>\n",
              "      <th>49838</th>\n",
              "      <td>Zimbabwe</td>\n",
              "      <td>ZWE</td>\n",
              "      <td>2021-10-05</td>\n",
              "      <td>5472485.0</td>\n",
              "      <td>3128598.0</td>\n",
              "      <td>2343887.0</td>\n",
              "      <td>31106.0</td>\n",
              "      <td>26024.0</td>\n",
              "      <td>36.26</td>\n",
              "      <td>20.73</td>\n",
              "      <td>15.53</td>\n",
              "      <td>1724.0</td>\n",
              "      <td>Oxford/AstraZeneca, Sinopharm/Beijing, Sinovac...</td>\n",
              "      <td>Ministry of Health</td>\n",
              "      <td>https://www.arcgis.com/home/webmap/viewer.html...</td>\n",
              "    </tr>\n",
              "    <tr>\n",
              "      <th>49839</th>\n",
              "      <td>Zimbabwe</td>\n",
              "      <td>ZWE</td>\n",
              "      <td>2021-10-06</td>\n",
              "      <td>5499530.0</td>\n",
              "      <td>3140386.0</td>\n",
              "      <td>2359144.0</td>\n",
              "      <td>27045.0</td>\n",
              "      <td>25566.0</td>\n",
              "      <td>36.44</td>\n",
              "      <td>20.81</td>\n",
              "      <td>15.63</td>\n",
              "      <td>1694.0</td>\n",
              "      <td>Oxford/AstraZeneca, Sinopharm/Beijing, Sinovac...</td>\n",
              "      <td>Ministry of Health</td>\n",
              "      <td>https://www.arcgis.com/home/webmap/viewer.html...</td>\n",
              "    </tr>\n",
              "    <tr>\n",
              "      <th>49840</th>\n",
              "      <td>Zimbabwe</td>\n",
              "      <td>ZWE</td>\n",
              "      <td>2021-10-07</td>\n",
              "      <td>5527583.0</td>\n",
              "      <td>3152617.0</td>\n",
              "      <td>2374966.0</td>\n",
              "      <td>28053.0</td>\n",
              "      <td>24538.0</td>\n",
              "      <td>36.63</td>\n",
              "      <td>20.89</td>\n",
              "      <td>15.74</td>\n",
              "      <td>1626.0</td>\n",
              "      <td>Oxford/AstraZeneca, Sinopharm/Beijing, Sinovac...</td>\n",
              "      <td>Ministry of Health</td>\n",
              "      <td>https://www.arcgis.com/home/webmap/viewer.html...</td>\n",
              "    </tr>\n",
              "    <tr>\n",
              "      <th>49841</th>\n",
              "      <td>Zimbabwe</td>\n",
              "      <td>ZWE</td>\n",
              "      <td>2021-10-08</td>\n",
              "      <td>NaN</td>\n",
              "      <td>NaN</td>\n",
              "      <td>NaN</td>\n",
              "      <td>NaN</td>\n",
              "      <td>22130.0</td>\n",
              "      <td>NaN</td>\n",
              "      <td>NaN</td>\n",
              "      <td>NaN</td>\n",
              "      <td>1466.0</td>\n",
              "      <td>Oxford/AstraZeneca, Sinopharm/Beijing, Sinovac...</td>\n",
              "      <td>Ministry of Health</td>\n",
              "      <td>https://www.arcgis.com/home/webmap/viewer.html...</td>\n",
              "    </tr>\n",
              "    <tr>\n",
              "      <th>49842</th>\n",
              "      <td>Zimbabwe</td>\n",
              "      <td>ZWE</td>\n",
              "      <td>2021-10-09</td>\n",
              "      <td>5556506.0</td>\n",
              "      <td>3161809.0</td>\n",
              "      <td>2394697.0</td>\n",
              "      <td>NaN</td>\n",
              "      <td>21072.0</td>\n",
              "      <td>36.82</td>\n",
              "      <td>20.95</td>\n",
              "      <td>15.87</td>\n",
              "      <td>1396.0</td>\n",
              "      <td>Oxford/AstraZeneca, Sinopharm/Beijing, Sinovac...</td>\n",
              "      <td>Ministry of Health</td>\n",
              "      <td>https://www.arcgis.com/home/webmap/viewer.html...</td>\n",
              "    </tr>\n",
              "  </tbody>\n",
              "</table>\n",
              "</div>"
            ],
            "text/plain": [
              "        country  ...                                     source_website\n",
              "49833  Zimbabwe  ...  https://www.arcgis.com/home/webmap/viewer.html...\n",
              "49834  Zimbabwe  ...  https://www.arcgis.com/home/webmap/viewer.html...\n",
              "49835  Zimbabwe  ...  https://www.arcgis.com/home/webmap/viewer.html...\n",
              "49836  Zimbabwe  ...  https://www.arcgis.com/home/webmap/viewer.html...\n",
              "49837  Zimbabwe  ...  https://www.arcgis.com/home/webmap/viewer.html...\n",
              "49838  Zimbabwe  ...  https://www.arcgis.com/home/webmap/viewer.html...\n",
              "49839  Zimbabwe  ...  https://www.arcgis.com/home/webmap/viewer.html...\n",
              "49840  Zimbabwe  ...  https://www.arcgis.com/home/webmap/viewer.html...\n",
              "49841  Zimbabwe  ...  https://www.arcgis.com/home/webmap/viewer.html...\n",
              "49842  Zimbabwe  ...  https://www.arcgis.com/home/webmap/viewer.html...\n",
              "\n",
              "[10 rows x 15 columns]"
            ]
          },
          "metadata": {},
          "execution_count": 6
        }
      ]
    },
    {
      "cell_type": "markdown",
      "metadata": {
        "id": "WtN6S8N0yON5"
      },
      "source": [
        "**Manejo de columnas**\n",
        "\n",
        "Para mejor visualización de las columnas, se decidió eliminar las columnas con información no relevante para nuestro objetivo. Para tomar esta decisión primero se mostrara el nombre de las  columnas existentes y después el tipo de dato que contienen respectivamente \n"
      ]
    },
    {
      "cell_type": "code",
      "metadata": {
        "colab": {
          "base_uri": "https://localhost:8080/"
        },
        "id": "NJFSe-AiceKL",
        "outputId": "0e2f300e-efee-4fae-dac5-77da54faa818"
      },
      "source": [
        "covid.columns\n",
        "\n"
      ],
      "execution_count": null,
      "outputs": [
        {
          "output_type": "execute_result",
          "data": {
            "text/plain": [
              "Index(['country', 'iso_code', 'date', 'total_vaccinations',\n",
              "       'people_vaccinated', 'people_fully_vaccinated',\n",
              "       'daily_vaccinations_raw', 'daily_vaccinations',\n",
              "       'total_vaccinations_per_hundred', 'people_vaccinated_per_hundred',\n",
              "       'people_fully_vaccinated_per_hundred', 'daily_vaccinations_per_million',\n",
              "       'vaccines', 'source_name', 'source_website'],\n",
              "      dtype='object')"
            ]
          },
          "metadata": {},
          "execution_count": 7
        }
      ]
    },
    {
      "cell_type": "code",
      "metadata": {
        "colab": {
          "base_uri": "https://localhost:8080/"
        },
        "id": "sk1iVgUIyrFK",
        "outputId": "f44eddbd-812f-4ec4-c431-82c255f4c306"
      },
      "source": [
        "covid.dtypes"
      ],
      "execution_count": null,
      "outputs": [
        {
          "output_type": "execute_result",
          "data": {
            "text/plain": [
              "country                                 object\n",
              "iso_code                                object\n",
              "date                                    object\n",
              "total_vaccinations                     float64\n",
              "people_vaccinated                      float64\n",
              "people_fully_vaccinated                float64\n",
              "daily_vaccinations_raw                 float64\n",
              "daily_vaccinations                     float64\n",
              "total_vaccinations_per_hundred         float64\n",
              "people_vaccinated_per_hundred          float64\n",
              "people_fully_vaccinated_per_hundred    float64\n",
              "daily_vaccinations_per_million         float64\n",
              "vaccines                                object\n",
              "source_name                             object\n",
              "source_website                          object\n",
              "dtype: object"
            ]
          },
          "metadata": {},
          "execution_count": 8
        }
      ]
    },
    {
      "cell_type": "markdown",
      "metadata": {
        "id": "kYkNZ7Qx2uw2"
      },
      "source": [
        "En este apartado podemos ver las columnas que no nos serán útiles para nuestro objetivo, por lo tanto serán eliminadas \n",
        "\n",
        "\n",
        "Estas son las columnas que consideramos innecesarias para nuestro objetivo:\n",
        "\n",
        "\n",
        "*   iso_code Es la abreviación del país, teniendo el nombre del país este dato \n",
        "es redundante\n",
        "*total_vaccinations este es el número absoluto de inmunizaciones totales en el país.\n",
        "*people_vaccinated son para una determinada entrada de datos, el número de vacunaciones para esa fecha/país\n",
        "*daily_vaccinations_raw son para una determinada entrada de datos, el número de vacunaciones para esa fecha/país\n",
        "*total_vaccinations_per_hundred son relación (en porcentaje) entre el número de vacunaciones y la población total hasta la fecha en el país.\n",
        "*people_vaccinated_per_hundred son la relación (en porcentaje) entre la población inmunizada y la población total hasta la fecha en el país.\n",
        "*people_fully_vaccinated_per_hundred  son la relación (en porcentaje) entre la población totalmente inmunizada y la población total hasta la fecha en el país.   \n",
        "*daily_vaccinations_per_million son la relación (en ppm) entre el número de vacunaciones y la población total para la fecha actual en el país.\n",
        "*source_name y source_website Es el nombre y la pagina de la fuente de los datos, esta información útil para saber que los datos son confiables pero no para la minería de datos.\n",
        "\n",
        "Teniendo en cuenta nuestro objetivo estas columnas son innecesarias ya que no tienen relevancia para ayudarnos a saber cuando México va a regresar a la normalidad, en su mayoria presentan datos redundantes para el analisis.  \n",
        "\n",
        "\n"
      ]
    },
    {
      "cell_type": "code",
      "metadata": {
        "id": "V0zNLL-amYeq",
        "colab": {
          "base_uri": "https://localhost:8080/",
          "height": 419
        },
        "outputId": "52073cfe-dbc1-4286-9cfe-e8041753c757"
      },
      "source": [
        "covid1=covid.drop(['iso_code','total_vaccinations','people_vaccinated','daily_vaccinations_raw', 'total_vaccinations_per_hundred', 'people_vaccinated_per_hundred', 'daily_vaccinations_per_million', 'source_name', 'source_website'],axis=1)\n",
        "covid1"
      ],
      "execution_count": 96,
      "outputs": [
        {
          "output_type": "execute_result",
          "data": {
            "text/html": [
              "<div>\n",
              "<style scoped>\n",
              "    .dataframe tbody tr th:only-of-type {\n",
              "        vertical-align: middle;\n",
              "    }\n",
              "\n",
              "    .dataframe tbody tr th {\n",
              "        vertical-align: top;\n",
              "    }\n",
              "\n",
              "    .dataframe thead th {\n",
              "        text-align: right;\n",
              "    }\n",
              "</style>\n",
              "<table border=\"1\" class=\"dataframe\">\n",
              "  <thead>\n",
              "    <tr style=\"text-align: right;\">\n",
              "      <th></th>\n",
              "      <th>country</th>\n",
              "      <th>date</th>\n",
              "      <th>people_fully_vaccinated</th>\n",
              "      <th>daily_vaccinations</th>\n",
              "      <th>people_fully_vaccinated_per_hundred</th>\n",
              "      <th>vaccines</th>\n",
              "    </tr>\n",
              "  </thead>\n",
              "  <tbody>\n",
              "    <tr>\n",
              "      <th>0</th>\n",
              "      <td>Afghanistan</td>\n",
              "      <td>2021-02-22</td>\n",
              "      <td>NaN</td>\n",
              "      <td>NaN</td>\n",
              "      <td>NaN</td>\n",
              "      <td>Johnson&amp;Johnson, Oxford/AstraZeneca, Pfizer/Bi...</td>\n",
              "    </tr>\n",
              "    <tr>\n",
              "      <th>1</th>\n",
              "      <td>Afghanistan</td>\n",
              "      <td>2021-02-23</td>\n",
              "      <td>NaN</td>\n",
              "      <td>1367.0</td>\n",
              "      <td>NaN</td>\n",
              "      <td>Johnson&amp;Johnson, Oxford/AstraZeneca, Pfizer/Bi...</td>\n",
              "    </tr>\n",
              "    <tr>\n",
              "      <th>2</th>\n",
              "      <td>Afghanistan</td>\n",
              "      <td>2021-02-24</td>\n",
              "      <td>NaN</td>\n",
              "      <td>1367.0</td>\n",
              "      <td>NaN</td>\n",
              "      <td>Johnson&amp;Johnson, Oxford/AstraZeneca, Pfizer/Bi...</td>\n",
              "    </tr>\n",
              "    <tr>\n",
              "      <th>3</th>\n",
              "      <td>Afghanistan</td>\n",
              "      <td>2021-02-25</td>\n",
              "      <td>NaN</td>\n",
              "      <td>1367.0</td>\n",
              "      <td>NaN</td>\n",
              "      <td>Johnson&amp;Johnson, Oxford/AstraZeneca, Pfizer/Bi...</td>\n",
              "    </tr>\n",
              "    <tr>\n",
              "      <th>4</th>\n",
              "      <td>Afghanistan</td>\n",
              "      <td>2021-02-26</td>\n",
              "      <td>NaN</td>\n",
              "      <td>1367.0</td>\n",
              "      <td>NaN</td>\n",
              "      <td>Johnson&amp;Johnson, Oxford/AstraZeneca, Pfizer/Bi...</td>\n",
              "    </tr>\n",
              "    <tr>\n",
              "      <th>...</th>\n",
              "      <td>...</td>\n",
              "      <td>...</td>\n",
              "      <td>...</td>\n",
              "      <td>...</td>\n",
              "      <td>...</td>\n",
              "      <td>...</td>\n",
              "    </tr>\n",
              "    <tr>\n",
              "      <th>49838</th>\n",
              "      <td>Zimbabwe</td>\n",
              "      <td>2021-10-05</td>\n",
              "      <td>2343887.0</td>\n",
              "      <td>26024.0</td>\n",
              "      <td>15.53</td>\n",
              "      <td>Oxford/AstraZeneca, Sinopharm/Beijing, Sinovac...</td>\n",
              "    </tr>\n",
              "    <tr>\n",
              "      <th>49839</th>\n",
              "      <td>Zimbabwe</td>\n",
              "      <td>2021-10-06</td>\n",
              "      <td>2359144.0</td>\n",
              "      <td>25566.0</td>\n",
              "      <td>15.63</td>\n",
              "      <td>Oxford/AstraZeneca, Sinopharm/Beijing, Sinovac...</td>\n",
              "    </tr>\n",
              "    <tr>\n",
              "      <th>49840</th>\n",
              "      <td>Zimbabwe</td>\n",
              "      <td>2021-10-07</td>\n",
              "      <td>2374966.0</td>\n",
              "      <td>24538.0</td>\n",
              "      <td>15.74</td>\n",
              "      <td>Oxford/AstraZeneca, Sinopharm/Beijing, Sinovac...</td>\n",
              "    </tr>\n",
              "    <tr>\n",
              "      <th>49841</th>\n",
              "      <td>Zimbabwe</td>\n",
              "      <td>2021-10-08</td>\n",
              "      <td>NaN</td>\n",
              "      <td>22130.0</td>\n",
              "      <td>NaN</td>\n",
              "      <td>Oxford/AstraZeneca, Sinopharm/Beijing, Sinovac...</td>\n",
              "    </tr>\n",
              "    <tr>\n",
              "      <th>49842</th>\n",
              "      <td>Zimbabwe</td>\n",
              "      <td>2021-10-09</td>\n",
              "      <td>2394697.0</td>\n",
              "      <td>21072.0</td>\n",
              "      <td>15.87</td>\n",
              "      <td>Oxford/AstraZeneca, Sinopharm/Beijing, Sinovac...</td>\n",
              "    </tr>\n",
              "  </tbody>\n",
              "</table>\n",
              "<p>49843 rows × 6 columns</p>\n",
              "</div>"
            ],
            "text/plain": [
              "           country  ...                                           vaccines\n",
              "0      Afghanistan  ...  Johnson&Johnson, Oxford/AstraZeneca, Pfizer/Bi...\n",
              "1      Afghanistan  ...  Johnson&Johnson, Oxford/AstraZeneca, Pfizer/Bi...\n",
              "2      Afghanistan  ...  Johnson&Johnson, Oxford/AstraZeneca, Pfizer/Bi...\n",
              "3      Afghanistan  ...  Johnson&Johnson, Oxford/AstraZeneca, Pfizer/Bi...\n",
              "4      Afghanistan  ...  Johnson&Johnson, Oxford/AstraZeneca, Pfizer/Bi...\n",
              "...            ...  ...                                                ...\n",
              "49838     Zimbabwe  ...  Oxford/AstraZeneca, Sinopharm/Beijing, Sinovac...\n",
              "49839     Zimbabwe  ...  Oxford/AstraZeneca, Sinopharm/Beijing, Sinovac...\n",
              "49840     Zimbabwe  ...  Oxford/AstraZeneca, Sinopharm/Beijing, Sinovac...\n",
              "49841     Zimbabwe  ...  Oxford/AstraZeneca, Sinopharm/Beijing, Sinovac...\n",
              "49842     Zimbabwe  ...  Oxford/AstraZeneca, Sinopharm/Beijing, Sinovac...\n",
              "\n",
              "[49843 rows x 6 columns]"
            ]
          },
          "metadata": {},
          "execution_count": 96
        }
      ]
    },
    {
      "cell_type": "markdown",
      "metadata": {
        "id": "35iSEscE1Ejy"
      },
      "source": [
        "Como nuestro enfoque solamente es en México eliminaremos las filas que no sean México."
      ]
    },
    {
      "cell_type": "code",
      "metadata": {
        "id": "8aOuYA-i1J6b"
      },
      "source": [
        "vect=covid1[covid1['country']!=\"Mexico\"].index\n",
        "covid2=covid1.drop(vect)"
      ],
      "execution_count": 97,
      "outputs": []
    },
    {
      "cell_type": "code",
      "metadata": {
        "colab": {
          "base_uri": "https://localhost:8080/",
          "height": 419
        },
        "id": "NScoUayZlqc0",
        "outputId": "dfd4d031-14da-442f-c237-be1addb82002"
      },
      "source": [
        "covid2"
      ],
      "execution_count": 98,
      "outputs": [
        {
          "output_type": "execute_result",
          "data": {
            "text/html": [
              "<div>\n",
              "<style scoped>\n",
              "    .dataframe tbody tr th:only-of-type {\n",
              "        vertical-align: middle;\n",
              "    }\n",
              "\n",
              "    .dataframe tbody tr th {\n",
              "        vertical-align: top;\n",
              "    }\n",
              "\n",
              "    .dataframe thead th {\n",
              "        text-align: right;\n",
              "    }\n",
              "</style>\n",
              "<table border=\"1\" class=\"dataframe\">\n",
              "  <thead>\n",
              "    <tr style=\"text-align: right;\">\n",
              "      <th></th>\n",
              "      <th>country</th>\n",
              "      <th>date</th>\n",
              "      <th>people_fully_vaccinated</th>\n",
              "      <th>daily_vaccinations</th>\n",
              "      <th>people_fully_vaccinated_per_hundred</th>\n",
              "      <th>vaccines</th>\n",
              "    </tr>\n",
              "  </thead>\n",
              "  <tbody>\n",
              "    <tr>\n",
              "      <th>28655</th>\n",
              "      <td>Mexico</td>\n",
              "      <td>2020-12-24</td>\n",
              "      <td>NaN</td>\n",
              "      <td>NaN</td>\n",
              "      <td>NaN</td>\n",
              "      <td>CanSino, Johnson&amp;Johnson, Moderna, Oxford/Astr...</td>\n",
              "    </tr>\n",
              "    <tr>\n",
              "      <th>28656</th>\n",
              "      <td>Mexico</td>\n",
              "      <td>2020-12-25</td>\n",
              "      <td>NaN</td>\n",
              "      <td>1300.0</td>\n",
              "      <td>NaN</td>\n",
              "      <td>CanSino, Johnson&amp;Johnson, Moderna, Oxford/Astr...</td>\n",
              "    </tr>\n",
              "    <tr>\n",
              "      <th>28657</th>\n",
              "      <td>Mexico</td>\n",
              "      <td>2020-12-26</td>\n",
              "      <td>NaN</td>\n",
              "      <td>1300.0</td>\n",
              "      <td>NaN</td>\n",
              "      <td>CanSino, Johnson&amp;Johnson, Moderna, Oxford/Astr...</td>\n",
              "    </tr>\n",
              "    <tr>\n",
              "      <th>28658</th>\n",
              "      <td>Mexico</td>\n",
              "      <td>2020-12-27</td>\n",
              "      <td>NaN</td>\n",
              "      <td>1300.0</td>\n",
              "      <td>NaN</td>\n",
              "      <td>CanSino, Johnson&amp;Johnson, Moderna, Oxford/Astr...</td>\n",
              "    </tr>\n",
              "    <tr>\n",
              "      <th>28659</th>\n",
              "      <td>Mexico</td>\n",
              "      <td>2020-12-28</td>\n",
              "      <td>NaN</td>\n",
              "      <td>1664.0</td>\n",
              "      <td>NaN</td>\n",
              "      <td>CanSino, Johnson&amp;Johnson, Moderna, Oxford/Astr...</td>\n",
              "    </tr>\n",
              "    <tr>\n",
              "      <th>...</th>\n",
              "      <td>...</td>\n",
              "      <td>...</td>\n",
              "      <td>...</td>\n",
              "      <td>...</td>\n",
              "      <td>...</td>\n",
              "      <td>...</td>\n",
              "    </tr>\n",
              "    <tr>\n",
              "      <th>28939</th>\n",
              "      <td>Mexico</td>\n",
              "      <td>2021-10-04</td>\n",
              "      <td>46309831.0</td>\n",
              "      <td>669396.0</td>\n",
              "      <td>35.55</td>\n",
              "      <td>CanSino, Johnson&amp;Johnson, Moderna, Oxford/Astr...</td>\n",
              "    </tr>\n",
              "    <tr>\n",
              "      <th>28940</th>\n",
              "      <td>Mexico</td>\n",
              "      <td>2021-10-05</td>\n",
              "      <td>NaN</td>\n",
              "      <td>631482.0</td>\n",
              "      <td>NaN</td>\n",
              "      <td>CanSino, Johnson&amp;Johnson, Moderna, Oxford/Astr...</td>\n",
              "    </tr>\n",
              "    <tr>\n",
              "      <th>28941</th>\n",
              "      <td>Mexico</td>\n",
              "      <td>2021-10-06</td>\n",
              "      <td>46986802.0</td>\n",
              "      <td>589964.0</td>\n",
              "      <td>36.07</td>\n",
              "      <td>CanSino, Johnson&amp;Johnson, Moderna, Oxford/Astr...</td>\n",
              "    </tr>\n",
              "    <tr>\n",
              "      <th>28942</th>\n",
              "      <td>Mexico</td>\n",
              "      <td>2021-10-07</td>\n",
              "      <td>47692378.0</td>\n",
              "      <td>619924.0</td>\n",
              "      <td>36.61</td>\n",
              "      <td>CanSino, Johnson&amp;Johnson, Moderna, Oxford/Astr...</td>\n",
              "    </tr>\n",
              "    <tr>\n",
              "      <th>28943</th>\n",
              "      <td>Mexico</td>\n",
              "      <td>2021-10-08</td>\n",
              "      <td>48166370.0</td>\n",
              "      <td>645398.0</td>\n",
              "      <td>36.98</td>\n",
              "      <td>CanSino, Johnson&amp;Johnson, Moderna, Oxford/Astr...</td>\n",
              "    </tr>\n",
              "  </tbody>\n",
              "</table>\n",
              "<p>289 rows × 6 columns</p>\n",
              "</div>"
            ],
            "text/plain": [
              "      country  ...                                           vaccines\n",
              "28655  Mexico  ...  CanSino, Johnson&Johnson, Moderna, Oxford/Astr...\n",
              "28656  Mexico  ...  CanSino, Johnson&Johnson, Moderna, Oxford/Astr...\n",
              "28657  Mexico  ...  CanSino, Johnson&Johnson, Moderna, Oxford/Astr...\n",
              "28658  Mexico  ...  CanSino, Johnson&Johnson, Moderna, Oxford/Astr...\n",
              "28659  Mexico  ...  CanSino, Johnson&Johnson, Moderna, Oxford/Astr...\n",
              "...       ...  ...                                                ...\n",
              "28939  Mexico  ...  CanSino, Johnson&Johnson, Moderna, Oxford/Astr...\n",
              "28940  Mexico  ...  CanSino, Johnson&Johnson, Moderna, Oxford/Astr...\n",
              "28941  Mexico  ...  CanSino, Johnson&Johnson, Moderna, Oxford/Astr...\n",
              "28942  Mexico  ...  CanSino, Johnson&Johnson, Moderna, Oxford/Astr...\n",
              "28943  Mexico  ...  CanSino, Johnson&Johnson, Moderna, Oxford/Astr...\n",
              "\n",
              "[289 rows x 6 columns]"
            ]
          },
          "metadata": {},
          "execution_count": 98
        }
      ]
    },
    {
      "cell_type": "markdown",
      "metadata": {
        "id": "cFEZZWeK7-bq"
      },
      "source": [
        "En el siguiente apartado se identificarán los espacios nulos y se interpolarán"
      ]
    },
    {
      "cell_type": "code",
      "metadata": {
        "colab": {
          "base_uri": "https://localhost:8080/"
        },
        "id": "p1NQUdN-zZXi",
        "outputId": "6d0fbb2c-ba38-4632-860e-62a287bcd547"
      },
      "source": [
        "covid2.isnull().any()"
      ],
      "execution_count": 99,
      "outputs": [
        {
          "output_type": "execute_result",
          "data": {
            "text/plain": [
              "country                                False\n",
              "date                                   False\n",
              "people_fully_vaccinated                 True\n",
              "daily_vaccinations                      True\n",
              "people_fully_vaccinated_per_hundred     True\n",
              "vaccines                               False\n",
              "dtype: bool"
            ]
          },
          "metadata": {},
          "execution_count": 99
        }
      ]
    },
    {
      "cell_type": "code",
      "metadata": {
        "id": "dOVWO_nK07C4"
      },
      "source": [
        "covid2_pfv=covid2['people_fully_vaccinated'].values.tolist()\n",
        "covid2_pfv_int = pd.Series(covid2_pfv)\n",
        "covid2_pfv_int=covid2_pfv_int.interpolate()\n",
        "covid2_pfv_int = np.nan_to_num(covid2_pfv_int)"
      ],
      "execution_count": 100,
      "outputs": []
    },
    {
      "cell_type": "markdown",
      "metadata": {
        "id": "28JdkgOKe2zd"
      },
      "source": [
        "Interpolamos los datos de las personas totalmente vacunadas y eliminamos los datos nulos"
      ]
    },
    {
      "cell_type": "code",
      "metadata": {
        "id": "h802CaYGenL5"
      },
      "source": [
        "covid2_pfvh=covid2['people_fully_vaccinated_per_hundred'].values.tolist()\n",
        "covid2_pfvh_int = pd.Series(covid2_pfvh)\n",
        "covid2_pfvh_int=covid2_pfvh_int.interpolate()\n",
        "covid2_pfvh_int = np.nan_to_num(covid2_pfvh_int)"
      ],
      "execution_count": 101,
      "outputs": []
    },
    {
      "cell_type": "markdown",
      "metadata": {
        "id": "l-yPAmcMfo0e"
      },
      "source": [
        "Realizamos el mismo procedimiento de arriba pero para la columna de personas totalmente vacunadas por cien"
      ]
    },
    {
      "cell_type": "code",
      "metadata": {
        "id": "JBjD3_edgDoX"
      },
      "source": [
        "covid2['people_fully_vaccinated_interplated'] = covid2_pfv_int.tolist()\n",
        "covid2['people_fully_vaccinated_per_hundred_interplated'] = covid2_pfvh_int.tolist()"
      ],
      "execution_count": 102,
      "outputs": []
    },
    {
      "cell_type": "markdown",
      "metadata": {
        "id": "q2JjH2jagL2l"
      },
      "source": [
        "Agregamos las columnas al data frame"
      ]
    },
    {
      "cell_type": "code",
      "metadata": {
        "colab": {
          "base_uri": "https://localhost:8080/",
          "height": 949
        },
        "id": "HN9UUBUdzwbd",
        "outputId": "4f2104b9-5f86-42bb-8550-6c7e6147d2fd"
      },
      "source": [
        "covid2"
      ],
      "execution_count": 103,
      "outputs": [
        {
          "output_type": "execute_result",
          "data": {
            "text/html": [
              "<div>\n",
              "<style scoped>\n",
              "    .dataframe tbody tr th:only-of-type {\n",
              "        vertical-align: middle;\n",
              "    }\n",
              "\n",
              "    .dataframe tbody tr th {\n",
              "        vertical-align: top;\n",
              "    }\n",
              "\n",
              "    .dataframe thead th {\n",
              "        text-align: right;\n",
              "    }\n",
              "</style>\n",
              "<table border=\"1\" class=\"dataframe\">\n",
              "  <thead>\n",
              "    <tr style=\"text-align: right;\">\n",
              "      <th></th>\n",
              "      <th>country</th>\n",
              "      <th>date</th>\n",
              "      <th>people_fully_vaccinated</th>\n",
              "      <th>daily_vaccinations</th>\n",
              "      <th>people_fully_vaccinated_per_hundred</th>\n",
              "      <th>vaccines</th>\n",
              "      <th>people_fully_vaccinated_interplated</th>\n",
              "      <th>people_fully_vaccinated_per_hundred_interplated</th>\n",
              "    </tr>\n",
              "  </thead>\n",
              "  <tbody>\n",
              "    <tr>\n",
              "      <th>28655</th>\n",
              "      <td>Mexico</td>\n",
              "      <td>2020-12-24</td>\n",
              "      <td>NaN</td>\n",
              "      <td>NaN</td>\n",
              "      <td>NaN</td>\n",
              "      <td>CanSino, Johnson&amp;Johnson, Moderna, Oxford/Astr...</td>\n",
              "      <td>0.0</td>\n",
              "      <td>0.00</td>\n",
              "    </tr>\n",
              "    <tr>\n",
              "      <th>28656</th>\n",
              "      <td>Mexico</td>\n",
              "      <td>2020-12-25</td>\n",
              "      <td>NaN</td>\n",
              "      <td>1300.0</td>\n",
              "      <td>NaN</td>\n",
              "      <td>CanSino, Johnson&amp;Johnson, Moderna, Oxford/Astr...</td>\n",
              "      <td>0.0</td>\n",
              "      <td>0.00</td>\n",
              "    </tr>\n",
              "    <tr>\n",
              "      <th>28657</th>\n",
              "      <td>Mexico</td>\n",
              "      <td>2020-12-26</td>\n",
              "      <td>NaN</td>\n",
              "      <td>1300.0</td>\n",
              "      <td>NaN</td>\n",
              "      <td>CanSino, Johnson&amp;Johnson, Moderna, Oxford/Astr...</td>\n",
              "      <td>0.0</td>\n",
              "      <td>0.00</td>\n",
              "    </tr>\n",
              "    <tr>\n",
              "      <th>28658</th>\n",
              "      <td>Mexico</td>\n",
              "      <td>2020-12-27</td>\n",
              "      <td>NaN</td>\n",
              "      <td>1300.0</td>\n",
              "      <td>NaN</td>\n",
              "      <td>CanSino, Johnson&amp;Johnson, Moderna, Oxford/Astr...</td>\n",
              "      <td>0.0</td>\n",
              "      <td>0.00</td>\n",
              "    </tr>\n",
              "    <tr>\n",
              "      <th>28659</th>\n",
              "      <td>Mexico</td>\n",
              "      <td>2020-12-28</td>\n",
              "      <td>NaN</td>\n",
              "      <td>1664.0</td>\n",
              "      <td>NaN</td>\n",
              "      <td>CanSino, Johnson&amp;Johnson, Moderna, Oxford/Astr...</td>\n",
              "      <td>0.0</td>\n",
              "      <td>0.00</td>\n",
              "    </tr>\n",
              "    <tr>\n",
              "      <th>...</th>\n",
              "      <td>...</td>\n",
              "      <td>...</td>\n",
              "      <td>...</td>\n",
              "      <td>...</td>\n",
              "      <td>...</td>\n",
              "      <td>...</td>\n",
              "      <td>...</td>\n",
              "      <td>...</td>\n",
              "    </tr>\n",
              "    <tr>\n",
              "      <th>28939</th>\n",
              "      <td>Mexico</td>\n",
              "      <td>2021-10-04</td>\n",
              "      <td>46309831.0</td>\n",
              "      <td>669396.0</td>\n",
              "      <td>35.55</td>\n",
              "      <td>CanSino, Johnson&amp;Johnson, Moderna, Oxford/Astr...</td>\n",
              "      <td>46309831.0</td>\n",
              "      <td>35.55</td>\n",
              "    </tr>\n",
              "    <tr>\n",
              "      <th>28940</th>\n",
              "      <td>Mexico</td>\n",
              "      <td>2021-10-05</td>\n",
              "      <td>NaN</td>\n",
              "      <td>631482.0</td>\n",
              "      <td>NaN</td>\n",
              "      <td>CanSino, Johnson&amp;Johnson, Moderna, Oxford/Astr...</td>\n",
              "      <td>46648316.5</td>\n",
              "      <td>35.81</td>\n",
              "    </tr>\n",
              "    <tr>\n",
              "      <th>28941</th>\n",
              "      <td>Mexico</td>\n",
              "      <td>2021-10-06</td>\n",
              "      <td>46986802.0</td>\n",
              "      <td>589964.0</td>\n",
              "      <td>36.07</td>\n",
              "      <td>CanSino, Johnson&amp;Johnson, Moderna, Oxford/Astr...</td>\n",
              "      <td>46986802.0</td>\n",
              "      <td>36.07</td>\n",
              "    </tr>\n",
              "    <tr>\n",
              "      <th>28942</th>\n",
              "      <td>Mexico</td>\n",
              "      <td>2021-10-07</td>\n",
              "      <td>47692378.0</td>\n",
              "      <td>619924.0</td>\n",
              "      <td>36.61</td>\n",
              "      <td>CanSino, Johnson&amp;Johnson, Moderna, Oxford/Astr...</td>\n",
              "      <td>47692378.0</td>\n",
              "      <td>36.61</td>\n",
              "    </tr>\n",
              "    <tr>\n",
              "      <th>28943</th>\n",
              "      <td>Mexico</td>\n",
              "      <td>2021-10-08</td>\n",
              "      <td>48166370.0</td>\n",
              "      <td>645398.0</td>\n",
              "      <td>36.98</td>\n",
              "      <td>CanSino, Johnson&amp;Johnson, Moderna, Oxford/Astr...</td>\n",
              "      <td>48166370.0</td>\n",
              "      <td>36.98</td>\n",
              "    </tr>\n",
              "  </tbody>\n",
              "</table>\n",
              "<p>289 rows × 8 columns</p>\n",
              "</div>"
            ],
            "text/plain": [
              "      country  ... people_fully_vaccinated_per_hundred_interplated\n",
              "28655  Mexico  ...                                            0.00\n",
              "28656  Mexico  ...                                            0.00\n",
              "28657  Mexico  ...                                            0.00\n",
              "28658  Mexico  ...                                            0.00\n",
              "28659  Mexico  ...                                            0.00\n",
              "...       ...  ...                                             ...\n",
              "28939  Mexico  ...                                           35.55\n",
              "28940  Mexico  ...                                           35.81\n",
              "28941  Mexico  ...                                           36.07\n",
              "28942  Mexico  ...                                           36.61\n",
              "28943  Mexico  ...                                           36.98\n",
              "\n",
              "[289 rows x 8 columns]"
            ]
          },
          "metadata": {},
          "execution_count": 103
        }
      ]
    },
    {
      "cell_type": "markdown",
      "metadata": {
        "id": "Rlfp_Rm1gl0z"
      },
      "source": [
        "Ahora que tenemos las columnas de nuestro intéres sin errores, eliminaremos las originales"
      ]
    },
    {
      "cell_type": "code",
      "metadata": {
        "id": "a8LkYBtGg1tm"
      },
      "source": [
        "covid3=covid2.drop(['people_fully_vaccinated', 'people_fully_vaccinated_per_hundred'],axis=1)"
      ],
      "execution_count": 104,
      "outputs": []
    },
    {
      "cell_type": "code",
      "metadata": {
        "colab": {
          "base_uri": "https://localhost:8080/",
          "height": 589
        },
        "id": "EqXGmYq8heaL",
        "outputId": "f8b79a40-b5f5-4746-f9aa-4dd64b74ccf0"
      },
      "source": [
        "covid3"
      ],
      "execution_count": 105,
      "outputs": [
        {
          "output_type": "execute_result",
          "data": {
            "text/html": [
              "<div>\n",
              "<style scoped>\n",
              "    .dataframe tbody tr th:only-of-type {\n",
              "        vertical-align: middle;\n",
              "    }\n",
              "\n",
              "    .dataframe tbody tr th {\n",
              "        vertical-align: top;\n",
              "    }\n",
              "\n",
              "    .dataframe thead th {\n",
              "        text-align: right;\n",
              "    }\n",
              "</style>\n",
              "<table border=\"1\" class=\"dataframe\">\n",
              "  <thead>\n",
              "    <tr style=\"text-align: right;\">\n",
              "      <th></th>\n",
              "      <th>country</th>\n",
              "      <th>date</th>\n",
              "      <th>daily_vaccinations</th>\n",
              "      <th>vaccines</th>\n",
              "      <th>people_fully_vaccinated_interplated</th>\n",
              "      <th>people_fully_vaccinated_per_hundred_interplated</th>\n",
              "    </tr>\n",
              "  </thead>\n",
              "  <tbody>\n",
              "    <tr>\n",
              "      <th>28655</th>\n",
              "      <td>Mexico</td>\n",
              "      <td>2020-12-24</td>\n",
              "      <td>NaN</td>\n",
              "      <td>CanSino, Johnson&amp;Johnson, Moderna, Oxford/Astr...</td>\n",
              "      <td>0.0</td>\n",
              "      <td>0.00</td>\n",
              "    </tr>\n",
              "    <tr>\n",
              "      <th>28656</th>\n",
              "      <td>Mexico</td>\n",
              "      <td>2020-12-25</td>\n",
              "      <td>1300.0</td>\n",
              "      <td>CanSino, Johnson&amp;Johnson, Moderna, Oxford/Astr...</td>\n",
              "      <td>0.0</td>\n",
              "      <td>0.00</td>\n",
              "    </tr>\n",
              "    <tr>\n",
              "      <th>28657</th>\n",
              "      <td>Mexico</td>\n",
              "      <td>2020-12-26</td>\n",
              "      <td>1300.0</td>\n",
              "      <td>CanSino, Johnson&amp;Johnson, Moderna, Oxford/Astr...</td>\n",
              "      <td>0.0</td>\n",
              "      <td>0.00</td>\n",
              "    </tr>\n",
              "    <tr>\n",
              "      <th>28658</th>\n",
              "      <td>Mexico</td>\n",
              "      <td>2020-12-27</td>\n",
              "      <td>1300.0</td>\n",
              "      <td>CanSino, Johnson&amp;Johnson, Moderna, Oxford/Astr...</td>\n",
              "      <td>0.0</td>\n",
              "      <td>0.00</td>\n",
              "    </tr>\n",
              "    <tr>\n",
              "      <th>28659</th>\n",
              "      <td>Mexico</td>\n",
              "      <td>2020-12-28</td>\n",
              "      <td>1664.0</td>\n",
              "      <td>CanSino, Johnson&amp;Johnson, Moderna, Oxford/Astr...</td>\n",
              "      <td>0.0</td>\n",
              "      <td>0.00</td>\n",
              "    </tr>\n",
              "    <tr>\n",
              "      <th>...</th>\n",
              "      <td>...</td>\n",
              "      <td>...</td>\n",
              "      <td>...</td>\n",
              "      <td>...</td>\n",
              "      <td>...</td>\n",
              "      <td>...</td>\n",
              "    </tr>\n",
              "    <tr>\n",
              "      <th>28939</th>\n",
              "      <td>Mexico</td>\n",
              "      <td>2021-10-04</td>\n",
              "      <td>669396.0</td>\n",
              "      <td>CanSino, Johnson&amp;Johnson, Moderna, Oxford/Astr...</td>\n",
              "      <td>46309831.0</td>\n",
              "      <td>35.55</td>\n",
              "    </tr>\n",
              "    <tr>\n",
              "      <th>28940</th>\n",
              "      <td>Mexico</td>\n",
              "      <td>2021-10-05</td>\n",
              "      <td>631482.0</td>\n",
              "      <td>CanSino, Johnson&amp;Johnson, Moderna, Oxford/Astr...</td>\n",
              "      <td>46648316.5</td>\n",
              "      <td>35.81</td>\n",
              "    </tr>\n",
              "    <tr>\n",
              "      <th>28941</th>\n",
              "      <td>Mexico</td>\n",
              "      <td>2021-10-06</td>\n",
              "      <td>589964.0</td>\n",
              "      <td>CanSino, Johnson&amp;Johnson, Moderna, Oxford/Astr...</td>\n",
              "      <td>46986802.0</td>\n",
              "      <td>36.07</td>\n",
              "    </tr>\n",
              "    <tr>\n",
              "      <th>28942</th>\n",
              "      <td>Mexico</td>\n",
              "      <td>2021-10-07</td>\n",
              "      <td>619924.0</td>\n",
              "      <td>CanSino, Johnson&amp;Johnson, Moderna, Oxford/Astr...</td>\n",
              "      <td>47692378.0</td>\n",
              "      <td>36.61</td>\n",
              "    </tr>\n",
              "    <tr>\n",
              "      <th>28943</th>\n",
              "      <td>Mexico</td>\n",
              "      <td>2021-10-08</td>\n",
              "      <td>645398.0</td>\n",
              "      <td>CanSino, Johnson&amp;Johnson, Moderna, Oxford/Astr...</td>\n",
              "      <td>48166370.0</td>\n",
              "      <td>36.98</td>\n",
              "    </tr>\n",
              "  </tbody>\n",
              "</table>\n",
              "<p>289 rows × 6 columns</p>\n",
              "</div>"
            ],
            "text/plain": [
              "      country  ... people_fully_vaccinated_per_hundred_interplated\n",
              "28655  Mexico  ...                                            0.00\n",
              "28656  Mexico  ...                                            0.00\n",
              "28657  Mexico  ...                                            0.00\n",
              "28658  Mexico  ...                                            0.00\n",
              "28659  Mexico  ...                                            0.00\n",
              "...       ...  ...                                             ...\n",
              "28939  Mexico  ...                                           35.55\n",
              "28940  Mexico  ...                                           35.81\n",
              "28941  Mexico  ...                                           36.07\n",
              "28942  Mexico  ...                                           36.61\n",
              "28943  Mexico  ...                                           36.98\n",
              "\n",
              "[289 rows x 6 columns]"
            ]
          },
          "metadata": {},
          "execution_count": 105
        }
      ]
    },
    {
      "cell_type": "code",
      "metadata": {
        "id": "BIMgPClP0eZA",
        "colab": {
          "base_uri": "https://localhost:8080/"
        },
        "outputId": "44e6ce87-ea3a-4fc3-a15b-a18ce7fdeed0"
      },
      "source": [
        "covid3.isnull().any()"
      ],
      "execution_count": 106,
      "outputs": [
        {
          "output_type": "execute_result",
          "data": {
            "text/plain": [
              "country                                            False\n",
              "date                                               False\n",
              "daily_vaccinations                                  True\n",
              "vaccines                                           False\n",
              "people_fully_vaccinated_interplated                False\n",
              "people_fully_vaccinated_per_hundred_interplated    False\n",
              "dtype: bool"
            ]
          },
          "metadata": {},
          "execution_count": 106
        }
      ]
    },
    {
      "cell_type": "markdown",
      "metadata": {
        "id": "1hMD1phD7zHG"
      },
      "source": [
        "A continuación se cambiará el nombre de las columnas, para que sea más fácil identificarlas "
      ]
    },
    {
      "cell_type": "code",
      "metadata": {
        "id": "kGTsBcKH2cVo",
        "colab": {
          "base_uri": "https://localhost:8080/",
          "height": 759
        },
        "outputId": "3749a507-1e07-43e4-b64a-03bbb9845e66"
      },
      "source": [
        "covid3.rename(columns={'country':'Pais'}, inplace = True)\n",
        "covid3.rename(columns={'date':'Fecha'}, inplace = True)\n",
        "covid3.rename(columns={'daily_vaccinations':'Vacunaciones_diarias'},inplace = True)\n",
        "covid3.rename(columns={'vaccines':'Vacunas'},inplace = True)\n",
        "covid3.rename(columns={'people_fully_vaccinated_interplated':'Personas_completamente_vacunadas_inter'}, inplace = True)\n",
        "covid3.rename(columns={'people_fully_vaccinated_per_hundred_interplated':'Personas_completamente_vacunadas_por_cien_inter'}, inplace = True)\n",
        "\n",
        "covid3\n"
      ],
      "execution_count": 107,
      "outputs": [
        {
          "output_type": "execute_result",
          "data": {
            "text/html": [
              "<div>\n",
              "<style scoped>\n",
              "    .dataframe tbody tr th:only-of-type {\n",
              "        vertical-align: middle;\n",
              "    }\n",
              "\n",
              "    .dataframe tbody tr th {\n",
              "        vertical-align: top;\n",
              "    }\n",
              "\n",
              "    .dataframe thead th {\n",
              "        text-align: right;\n",
              "    }\n",
              "</style>\n",
              "<table border=\"1\" class=\"dataframe\">\n",
              "  <thead>\n",
              "    <tr style=\"text-align: right;\">\n",
              "      <th></th>\n",
              "      <th>Pais</th>\n",
              "      <th>Fecha</th>\n",
              "      <th>Vacunaciones_diarias</th>\n",
              "      <th>Vacunas</th>\n",
              "      <th>Personas_completamente_vacunadas_inter</th>\n",
              "      <th>Personas_completamente_vacunadas_por_cien_inter</th>\n",
              "    </tr>\n",
              "  </thead>\n",
              "  <tbody>\n",
              "    <tr>\n",
              "      <th>28655</th>\n",
              "      <td>Mexico</td>\n",
              "      <td>2020-12-24</td>\n",
              "      <td>NaN</td>\n",
              "      <td>CanSino, Johnson&amp;Johnson, Moderna, Oxford/Astr...</td>\n",
              "      <td>0.0</td>\n",
              "      <td>0.00</td>\n",
              "    </tr>\n",
              "    <tr>\n",
              "      <th>28656</th>\n",
              "      <td>Mexico</td>\n",
              "      <td>2020-12-25</td>\n",
              "      <td>1300.0</td>\n",
              "      <td>CanSino, Johnson&amp;Johnson, Moderna, Oxford/Astr...</td>\n",
              "      <td>0.0</td>\n",
              "      <td>0.00</td>\n",
              "    </tr>\n",
              "    <tr>\n",
              "      <th>28657</th>\n",
              "      <td>Mexico</td>\n",
              "      <td>2020-12-26</td>\n",
              "      <td>1300.0</td>\n",
              "      <td>CanSino, Johnson&amp;Johnson, Moderna, Oxford/Astr...</td>\n",
              "      <td>0.0</td>\n",
              "      <td>0.00</td>\n",
              "    </tr>\n",
              "    <tr>\n",
              "      <th>28658</th>\n",
              "      <td>Mexico</td>\n",
              "      <td>2020-12-27</td>\n",
              "      <td>1300.0</td>\n",
              "      <td>CanSino, Johnson&amp;Johnson, Moderna, Oxford/Astr...</td>\n",
              "      <td>0.0</td>\n",
              "      <td>0.00</td>\n",
              "    </tr>\n",
              "    <tr>\n",
              "      <th>28659</th>\n",
              "      <td>Mexico</td>\n",
              "      <td>2020-12-28</td>\n",
              "      <td>1664.0</td>\n",
              "      <td>CanSino, Johnson&amp;Johnson, Moderna, Oxford/Astr...</td>\n",
              "      <td>0.0</td>\n",
              "      <td>0.00</td>\n",
              "    </tr>\n",
              "    <tr>\n",
              "      <th>...</th>\n",
              "      <td>...</td>\n",
              "      <td>...</td>\n",
              "      <td>...</td>\n",
              "      <td>...</td>\n",
              "      <td>...</td>\n",
              "      <td>...</td>\n",
              "    </tr>\n",
              "    <tr>\n",
              "      <th>28939</th>\n",
              "      <td>Mexico</td>\n",
              "      <td>2021-10-04</td>\n",
              "      <td>669396.0</td>\n",
              "      <td>CanSino, Johnson&amp;Johnson, Moderna, Oxford/Astr...</td>\n",
              "      <td>46309831.0</td>\n",
              "      <td>35.55</td>\n",
              "    </tr>\n",
              "    <tr>\n",
              "      <th>28940</th>\n",
              "      <td>Mexico</td>\n",
              "      <td>2021-10-05</td>\n",
              "      <td>631482.0</td>\n",
              "      <td>CanSino, Johnson&amp;Johnson, Moderna, Oxford/Astr...</td>\n",
              "      <td>46648316.5</td>\n",
              "      <td>35.81</td>\n",
              "    </tr>\n",
              "    <tr>\n",
              "      <th>28941</th>\n",
              "      <td>Mexico</td>\n",
              "      <td>2021-10-06</td>\n",
              "      <td>589964.0</td>\n",
              "      <td>CanSino, Johnson&amp;Johnson, Moderna, Oxford/Astr...</td>\n",
              "      <td>46986802.0</td>\n",
              "      <td>36.07</td>\n",
              "    </tr>\n",
              "    <tr>\n",
              "      <th>28942</th>\n",
              "      <td>Mexico</td>\n",
              "      <td>2021-10-07</td>\n",
              "      <td>619924.0</td>\n",
              "      <td>CanSino, Johnson&amp;Johnson, Moderna, Oxford/Astr...</td>\n",
              "      <td>47692378.0</td>\n",
              "      <td>36.61</td>\n",
              "    </tr>\n",
              "    <tr>\n",
              "      <th>28943</th>\n",
              "      <td>Mexico</td>\n",
              "      <td>2021-10-08</td>\n",
              "      <td>645398.0</td>\n",
              "      <td>CanSino, Johnson&amp;Johnson, Moderna, Oxford/Astr...</td>\n",
              "      <td>48166370.0</td>\n",
              "      <td>36.98</td>\n",
              "    </tr>\n",
              "  </tbody>\n",
              "</table>\n",
              "<p>289 rows × 6 columns</p>\n",
              "</div>"
            ],
            "text/plain": [
              "         Pais  ... Personas_completamente_vacunadas_por_cien_inter\n",
              "28655  Mexico  ...                                            0.00\n",
              "28656  Mexico  ...                                            0.00\n",
              "28657  Mexico  ...                                            0.00\n",
              "28658  Mexico  ...                                            0.00\n",
              "28659  Mexico  ...                                            0.00\n",
              "...       ...  ...                                             ...\n",
              "28939  Mexico  ...                                           35.55\n",
              "28940  Mexico  ...                                           35.81\n",
              "28941  Mexico  ...                                           36.07\n",
              "28942  Mexico  ...                                           36.61\n",
              "28943  Mexico  ...                                           36.98\n",
              "\n",
              "[289 rows x 6 columns]"
            ]
          },
          "metadata": {},
          "execution_count": 107
        }
      ]
    },
    {
      "cell_type": "markdown",
      "metadata": {
        "id": "G4Sxzvbvlh9M"
      },
      "source": [
        "\n",
        "Reordenamos las columnas de orden según consideramos mas útil, este paso es unicamente para una mejor visualización\n"
      ]
    },
    {
      "cell_type": "code",
      "metadata": {
        "id": "fCjTaC95kOTP"
      },
      "source": [
        "covid3=covid3[['Pais', 'Fecha', 'Vacunaciones_diarias', 'Personas_completamente_vacunadas_inter', 'Personas_completamente_vacunadas_por_cien_inter', 'Vacunas']]"
      ],
      "execution_count": 108,
      "outputs": []
    },
    {
      "cell_type": "code",
      "metadata": {
        "colab": {
          "base_uri": "https://localhost:8080/",
          "height": 759
        },
        "id": "bRZiH6D_lBH_",
        "outputId": "0bf7e44e-32c2-43ef-b4ad-1b06e368d9e5"
      },
      "source": [
        "covid3"
      ],
      "execution_count": 109,
      "outputs": [
        {
          "output_type": "execute_result",
          "data": {
            "text/html": [
              "<div>\n",
              "<style scoped>\n",
              "    .dataframe tbody tr th:only-of-type {\n",
              "        vertical-align: middle;\n",
              "    }\n",
              "\n",
              "    .dataframe tbody tr th {\n",
              "        vertical-align: top;\n",
              "    }\n",
              "\n",
              "    .dataframe thead th {\n",
              "        text-align: right;\n",
              "    }\n",
              "</style>\n",
              "<table border=\"1\" class=\"dataframe\">\n",
              "  <thead>\n",
              "    <tr style=\"text-align: right;\">\n",
              "      <th></th>\n",
              "      <th>Pais</th>\n",
              "      <th>Fecha</th>\n",
              "      <th>Vacunaciones_diarias</th>\n",
              "      <th>Personas_completamente_vacunadas_inter</th>\n",
              "      <th>Personas_completamente_vacunadas_por_cien_inter</th>\n",
              "      <th>Vacunas</th>\n",
              "    </tr>\n",
              "  </thead>\n",
              "  <tbody>\n",
              "    <tr>\n",
              "      <th>28655</th>\n",
              "      <td>Mexico</td>\n",
              "      <td>2020-12-24</td>\n",
              "      <td>NaN</td>\n",
              "      <td>0.0</td>\n",
              "      <td>0.00</td>\n",
              "      <td>CanSino, Johnson&amp;Johnson, Moderna, Oxford/Astr...</td>\n",
              "    </tr>\n",
              "    <tr>\n",
              "      <th>28656</th>\n",
              "      <td>Mexico</td>\n",
              "      <td>2020-12-25</td>\n",
              "      <td>1300.0</td>\n",
              "      <td>0.0</td>\n",
              "      <td>0.00</td>\n",
              "      <td>CanSino, Johnson&amp;Johnson, Moderna, Oxford/Astr...</td>\n",
              "    </tr>\n",
              "    <tr>\n",
              "      <th>28657</th>\n",
              "      <td>Mexico</td>\n",
              "      <td>2020-12-26</td>\n",
              "      <td>1300.0</td>\n",
              "      <td>0.0</td>\n",
              "      <td>0.00</td>\n",
              "      <td>CanSino, Johnson&amp;Johnson, Moderna, Oxford/Astr...</td>\n",
              "    </tr>\n",
              "    <tr>\n",
              "      <th>28658</th>\n",
              "      <td>Mexico</td>\n",
              "      <td>2020-12-27</td>\n",
              "      <td>1300.0</td>\n",
              "      <td>0.0</td>\n",
              "      <td>0.00</td>\n",
              "      <td>CanSino, Johnson&amp;Johnson, Moderna, Oxford/Astr...</td>\n",
              "    </tr>\n",
              "    <tr>\n",
              "      <th>28659</th>\n",
              "      <td>Mexico</td>\n",
              "      <td>2020-12-28</td>\n",
              "      <td>1664.0</td>\n",
              "      <td>0.0</td>\n",
              "      <td>0.00</td>\n",
              "      <td>CanSino, Johnson&amp;Johnson, Moderna, Oxford/Astr...</td>\n",
              "    </tr>\n",
              "    <tr>\n",
              "      <th>...</th>\n",
              "      <td>...</td>\n",
              "      <td>...</td>\n",
              "      <td>...</td>\n",
              "      <td>...</td>\n",
              "      <td>...</td>\n",
              "      <td>...</td>\n",
              "    </tr>\n",
              "    <tr>\n",
              "      <th>28939</th>\n",
              "      <td>Mexico</td>\n",
              "      <td>2021-10-04</td>\n",
              "      <td>669396.0</td>\n",
              "      <td>46309831.0</td>\n",
              "      <td>35.55</td>\n",
              "      <td>CanSino, Johnson&amp;Johnson, Moderna, Oxford/Astr...</td>\n",
              "    </tr>\n",
              "    <tr>\n",
              "      <th>28940</th>\n",
              "      <td>Mexico</td>\n",
              "      <td>2021-10-05</td>\n",
              "      <td>631482.0</td>\n",
              "      <td>46648316.5</td>\n",
              "      <td>35.81</td>\n",
              "      <td>CanSino, Johnson&amp;Johnson, Moderna, Oxford/Astr...</td>\n",
              "    </tr>\n",
              "    <tr>\n",
              "      <th>28941</th>\n",
              "      <td>Mexico</td>\n",
              "      <td>2021-10-06</td>\n",
              "      <td>589964.0</td>\n",
              "      <td>46986802.0</td>\n",
              "      <td>36.07</td>\n",
              "      <td>CanSino, Johnson&amp;Johnson, Moderna, Oxford/Astr...</td>\n",
              "    </tr>\n",
              "    <tr>\n",
              "      <th>28942</th>\n",
              "      <td>Mexico</td>\n",
              "      <td>2021-10-07</td>\n",
              "      <td>619924.0</td>\n",
              "      <td>47692378.0</td>\n",
              "      <td>36.61</td>\n",
              "      <td>CanSino, Johnson&amp;Johnson, Moderna, Oxford/Astr...</td>\n",
              "    </tr>\n",
              "    <tr>\n",
              "      <th>28943</th>\n",
              "      <td>Mexico</td>\n",
              "      <td>2021-10-08</td>\n",
              "      <td>645398.0</td>\n",
              "      <td>48166370.0</td>\n",
              "      <td>36.98</td>\n",
              "      <td>CanSino, Johnson&amp;Johnson, Moderna, Oxford/Astr...</td>\n",
              "    </tr>\n",
              "  </tbody>\n",
              "</table>\n",
              "<p>289 rows × 6 columns</p>\n",
              "</div>"
            ],
            "text/plain": [
              "         Pais  ...                                            Vacunas\n",
              "28655  Mexico  ...  CanSino, Johnson&Johnson, Moderna, Oxford/Astr...\n",
              "28656  Mexico  ...  CanSino, Johnson&Johnson, Moderna, Oxford/Astr...\n",
              "28657  Mexico  ...  CanSino, Johnson&Johnson, Moderna, Oxford/Astr...\n",
              "28658  Mexico  ...  CanSino, Johnson&Johnson, Moderna, Oxford/Astr...\n",
              "28659  Mexico  ...  CanSino, Johnson&Johnson, Moderna, Oxford/Astr...\n",
              "...       ...  ...                                                ...\n",
              "28939  Mexico  ...  CanSino, Johnson&Johnson, Moderna, Oxford/Astr...\n",
              "28940  Mexico  ...  CanSino, Johnson&Johnson, Moderna, Oxford/Astr...\n",
              "28941  Mexico  ...  CanSino, Johnson&Johnson, Moderna, Oxford/Astr...\n",
              "28942  Mexico  ...  CanSino, Johnson&Johnson, Moderna, Oxford/Astr...\n",
              "28943  Mexico  ...  CanSino, Johnson&Johnson, Moderna, Oxford/Astr...\n",
              "\n",
              "[289 rows x 6 columns]"
            ]
          },
          "metadata": {},
          "execution_count": 109
        }
      ]
    },
    {
      "cell_type": "code",
      "metadata": {
        "id": "snK3XAFGnjvm"
      },
      "source": [
        "covid3=covid2.drop(['people_fully_vaccinated', 'people_fully_vaccinated_per_hundred'],axis=1)"
      ],
      "execution_count": null,
      "outputs": []
    },
    {
      "cell_type": "code",
      "metadata": {
        "id": "rP2qPDBrmVFb"
      },
      "source": [
        "covid3.to_csv(r'covid3.csv',index=False,header=True)"
      ],
      "execution_count": 120,
      "outputs": []
    },
    {
      "cell_type": "markdown",
      "metadata": {
        "id": "pxkrBCdOqBft"
      },
      "source": [
        "# Visualización de la segunda base de datos"
      ]
    },
    {
      "cell_type": "code",
      "metadata": {
        "id": "h3WyRnCuqAo8",
        "colab": {
          "base_uri": "https://localhost:8080/",
          "height": 419
        },
        "outputId": "dfd1beb6-be80-4ca5-f7f1-b42739fe8752"
      },
      "source": [
        "covid.tipo"
      ],
      "execution_count": null,
      "outputs": [
        {
          "output_type": "execute_result",
          "data": {
            "text/html": [
              "<div>\n",
              "<style scoped>\n",
              "    .dataframe tbody tr th:only-of-type {\n",
              "        vertical-align: middle;\n",
              "    }\n",
              "\n",
              "    .dataframe tbody tr th {\n",
              "        vertical-align: top;\n",
              "    }\n",
              "\n",
              "    .dataframe thead th {\n",
              "        text-align: right;\n",
              "    }\n",
              "</style>\n",
              "<table border=\"1\" class=\"dataframe\">\n",
              "  <thead>\n",
              "    <tr style=\"text-align: right;\">\n",
              "      <th></th>\n",
              "      <th>location</th>\n",
              "      <th>date</th>\n",
              "      <th>vaccine</th>\n",
              "      <th>total_vaccinations</th>\n",
              "    </tr>\n",
              "  </thead>\n",
              "  <tbody>\n",
              "    <tr>\n",
              "      <th>0</th>\n",
              "      <td>Austria</td>\n",
              "      <td>2021-01-08</td>\n",
              "      <td>Johnson&amp;Johnson</td>\n",
              "      <td>0</td>\n",
              "    </tr>\n",
              "    <tr>\n",
              "      <th>1</th>\n",
              "      <td>Austria</td>\n",
              "      <td>2021-01-08</td>\n",
              "      <td>Moderna</td>\n",
              "      <td>0</td>\n",
              "    </tr>\n",
              "    <tr>\n",
              "      <th>2</th>\n",
              "      <td>Austria</td>\n",
              "      <td>2021-01-08</td>\n",
              "      <td>Oxford/AstraZeneca</td>\n",
              "      <td>0</td>\n",
              "    </tr>\n",
              "    <tr>\n",
              "      <th>3</th>\n",
              "      <td>Austria</td>\n",
              "      <td>2021-01-08</td>\n",
              "      <td>Pfizer/BioNTech</td>\n",
              "      <td>31131</td>\n",
              "    </tr>\n",
              "    <tr>\n",
              "      <th>4</th>\n",
              "      <td>Austria</td>\n",
              "      <td>2021-01-15</td>\n",
              "      <td>Johnson&amp;Johnson</td>\n",
              "      <td>0</td>\n",
              "    </tr>\n",
              "    <tr>\n",
              "      <th>...</th>\n",
              "      <td>...</td>\n",
              "      <td>...</td>\n",
              "      <td>...</td>\n",
              "      <td>...</td>\n",
              "    </tr>\n",
              "    <tr>\n",
              "      <th>17654</th>\n",
              "      <td>European Union</td>\n",
              "      <td>2021-10-09</td>\n",
              "      <td>Moderna</td>\n",
              "      <td>57676732</td>\n",
              "    </tr>\n",
              "    <tr>\n",
              "      <th>17655</th>\n",
              "      <td>European Union</td>\n",
              "      <td>2021-10-09</td>\n",
              "      <td>Oxford/AstraZeneca</td>\n",
              "      <td>67150901</td>\n",
              "    </tr>\n",
              "    <tr>\n",
              "      <th>17656</th>\n",
              "      <td>European Union</td>\n",
              "      <td>2021-10-09</td>\n",
              "      <td>Pfizer/BioNTech</td>\n",
              "      <td>403612939</td>\n",
              "    </tr>\n",
              "    <tr>\n",
              "      <th>17657</th>\n",
              "      <td>European Union</td>\n",
              "      <td>2021-10-09</td>\n",
              "      <td>Sinopharm/Beijing</td>\n",
              "      <td>2108368</td>\n",
              "    </tr>\n",
              "    <tr>\n",
              "      <th>17658</th>\n",
              "      <td>European Union</td>\n",
              "      <td>2021-10-09</td>\n",
              "      <td>Sputnik V</td>\n",
              "      <td>1843001</td>\n",
              "    </tr>\n",
              "  </tbody>\n",
              "</table>\n",
              "<p>17659 rows × 4 columns</p>\n",
              "</div>"
            ],
            "text/plain": [
              "             location        date             vaccine  total_vaccinations\n",
              "0             Austria  2021-01-08     Johnson&Johnson                   0\n",
              "1             Austria  2021-01-08             Moderna                   0\n",
              "2             Austria  2021-01-08  Oxford/AstraZeneca                   0\n",
              "3             Austria  2021-01-08     Pfizer/BioNTech               31131\n",
              "4             Austria  2021-01-15     Johnson&Johnson                   0\n",
              "...               ...         ...                 ...                 ...\n",
              "17654  European Union  2021-10-09             Moderna            57676732\n",
              "17655  European Union  2021-10-09  Oxford/AstraZeneca            67150901\n",
              "17656  European Union  2021-10-09     Pfizer/BioNTech           403612939\n",
              "17657  European Union  2021-10-09   Sinopharm/Beijing             2108368\n",
              "17658  European Union  2021-10-09           Sputnik V             1843001\n",
              "\n",
              "[17659 rows x 4 columns]"
            ]
          },
          "metadata": {},
          "execution_count": 54
        }
      ]
    },
    {
      "cell_type": "markdown",
      "metadata": {
        "id": "rZ5-LOhQqgBT"
      },
      "source": [
        "En esta base de datos no consideramos necesario el limpiar los datos, ya que la información ya viene de una manera útil para nuestro objetivo"
      ]
    },
    {
      "cell_type": "markdown",
      "metadata": {
        "id": "jSBtNXwyve-q"
      },
      "source": [
        "# Preguntas de interes\n",
        "# Cuál es el país que ha vacunado a mayor parte de su población?\n",
        "\n",
        "\n",
        "Utilizaremos la función gruopby para agrupar los datos por países y calcularemos el máximo de los índices de vacunación con la funcion agg"
      ]
    },
    {
      "cell_type": "code",
      "metadata": {
        "colab": {
          "base_uri": "https://localhost:8080/"
        },
        "id": "_-IPJkiBnV91",
        "outputId": "64cf32a6-03fa-4102-dcb9-f51b201331ab"
      },
      "source": [
        "grup=covid.groupby(\"country\")['people_fully_vaccinated_per_hundred'].max().nlargest(10)\n",
        "grup"
      ],
      "execution_count": 121,
      "outputs": [
        {
          "output_type": "execute_result",
          "data": {
            "text/plain": [
              "country\n",
              "Gibraltar               117.79\n",
              "Pitcairn                100.00\n",
              "Portugal                 85.85\n",
              "United Arab Emirates     84.34\n",
              "Cayman Islands           83.51\n",
              "Malta                    81.71\n",
              "Iceland                  80.73\n",
              "Spain                    78.73\n",
              "Singapore                78.02\n",
              "Qatar                    75.70\n",
              "Name: people_fully_vaccinated_per_hundred, dtype: float64"
            ]
          },
          "metadata": {},
          "execution_count": 121
        }
      ]
    },
    {
      "cell_type": "markdown",
      "metadata": {
        "id": "ibmjEDIQxvAG"
      },
      "source": [
        "El resultado a esta pregunta es interesante, puesto que el país con mayor parte de su población vacunada es gibraltar, con mas de un 100%\n",
        "\n",
        "¿pero como es esto posible?\n",
        "\n",
        "Gibraltar es un país pequeño con alta afluencia de extranjeros\n",
        "y los datos solo miden las vacunas aplicadas sin considerar si los pacientes eran locales o no , entonces podemos asumir que Gibraltar ha aplicado más vacunas que toda su población por el flujo de extranjeros\n",
        "\n"
      ]
    },
    {
      "cell_type": "markdown",
      "metadata": {
        "id": "gQFDsvPWy9_c"
      },
      "source": [
        "# ¿Qué país es el que ha tenido menor número de vacunaciones por día?\n"
      ]
    },
    {
      "cell_type": "code",
      "metadata": {
        "colab": {
          "base_uri": "https://localhost:8080/",
          "height": 450
        },
        "id": "Q8tT-Z0gzAWm",
        "outputId": "d934768d-bb72-4e21-f71d-be91dd6e97fe"
      },
      "source": [
        "grup1=covid.groupby(\"country\").agg({\n",
        "    \"daily_vaccinations_per_million\": \"mean\"\n",
        "    \n",
        "})\n",
        "grup1"
      ],
      "execution_count": 123,
      "outputs": [
        {
          "output_type": "execute_result",
          "data": {
            "text/html": [
              "<div>\n",
              "<style scoped>\n",
              "    .dataframe tbody tr th:only-of-type {\n",
              "        vertical-align: middle;\n",
              "    }\n",
              "\n",
              "    .dataframe tbody tr th {\n",
              "        vertical-align: top;\n",
              "    }\n",
              "\n",
              "    .dataframe thead th {\n",
              "        text-align: right;\n",
              "    }\n",
              "</style>\n",
              "<table border=\"1\" class=\"dataframe\">\n",
              "  <thead>\n",
              "    <tr style=\"text-align: right;\">\n",
              "      <th></th>\n",
              "      <th>daily_vaccinations_per_million</th>\n",
              "    </tr>\n",
              "    <tr>\n",
              "      <th>country</th>\n",
              "      <th></th>\n",
              "    </tr>\n",
              "  </thead>\n",
              "  <tbody>\n",
              "    <tr>\n",
              "      <th>Afghanistan</th>\n",
              "      <td>266.313636</td>\n",
              "    </tr>\n",
              "    <tr>\n",
              "      <th>Albania</th>\n",
              "      <td>2276.254613</td>\n",
              "    </tr>\n",
              "    <tr>\n",
              "      <th>Algeria</th>\n",
              "      <td>1232.343096</td>\n",
              "    </tr>\n",
              "    <tr>\n",
              "      <th>Andorra</th>\n",
              "      <td>5350.397541</td>\n",
              "    </tr>\n",
              "    <tr>\n",
              "      <th>Angola</th>\n",
              "      <td>423.296651</td>\n",
              "    </tr>\n",
              "    <tr>\n",
              "      <th>...</th>\n",
              "      <td>...</td>\n",
              "    </tr>\n",
              "    <tr>\n",
              "      <th>Wales</th>\n",
              "      <td>4878.842282</td>\n",
              "    </tr>\n",
              "    <tr>\n",
              "      <th>Wallis and Futuna</th>\n",
              "      <td>4689.525510</td>\n",
              "    </tr>\n",
              "    <tr>\n",
              "      <th>Yemen</th>\n",
              "      <td>79.985816</td>\n",
              "    </tr>\n",
              "    <tr>\n",
              "      <th>Zambia</th>\n",
              "      <td>229.556180</td>\n",
              "    </tr>\n",
              "    <tr>\n",
              "      <th>Zimbabwe</th>\n",
              "      <td>1563.021459</td>\n",
              "    </tr>\n",
              "  </tbody>\n",
              "</table>\n",
              "<p>222 rows × 1 columns</p>\n",
              "</div>"
            ],
            "text/plain": [
              "                   daily_vaccinations_per_million\n",
              "country                                          \n",
              "Afghanistan                            266.313636\n",
              "Albania                               2276.254613\n",
              "Algeria                               1232.343096\n",
              "Andorra                               5350.397541\n",
              "Angola                                 423.296651\n",
              "...                                           ...\n",
              "Wales                                 4878.842282\n",
              "Wallis and Futuna                     4689.525510\n",
              "Yemen                                   79.985816\n",
              "Zambia                                 229.556180\n",
              "Zimbabwe                              1563.021459\n",
              "\n",
              "[222 rows x 1 columns]"
            ]
          },
          "metadata": {},
          "execution_count": 123
        }
      ]
    },
    {
      "cell_type": "code",
      "metadata": {
        "colab": {
          "base_uri": "https://localhost:8080/"
        },
        "id": "-7jNHoLgzjyp",
        "outputId": "1436e3fc-7ba7-4bcf-ffd1-e0d4bc9592ef"
      },
      "source": [
        "v5=grup1[\"daily_vaccinations_per_million\"].idxmin()\n",
        "v6=grup1[\"daily_vaccinations_per_million\"].min()\n",
        "\n",
        "print(\"el pais con menor numero de vacunaciones diarias es \",v5,\" con un promedio de \",v6,\" por cada millon de habitantes\")"
      ],
      "execution_count": 60,
      "outputs": [
        {
          "output_type": "stream",
          "name": "stdout",
          "text": [
            "el pais con menor numero de vacunaciones diarias es  Democratic Republic of Congo  con un promedio de  8.951515151515151  por cada millon de habitantes\n"
          ]
        }
      ]
    },
    {
      "cell_type": "markdown",
      "metadata": {
        "id": "5AfkMUNA2414"
      },
      "source": [
        "Podemos observar que el país Bonaire Sint Eustatius and Saba es el que menos vacunas diarias aplica ya que no ha empezado su proceso de vacunaciones."
      ]
    },
    {
      "cell_type": "markdown",
      "metadata": {
        "id": "ALT7R4VP3SHi"
      },
      "source": [
        "Ahora buscaremos la respuesta a la misma pregunta excluyendo a los países que no han empezado a vacunar a su poblacion"
      ]
    },
    {
      "cell_type": "code",
      "metadata": {
        "colab": {
          "base_uri": "https://localhost:8080/",
          "height": 450
        },
        "id": "Pp5cgVC50wb9",
        "outputId": "e66e5d2d-c4fb-4fc5-8547-74965746f609"
      },
      "source": [
        "grup2=grup1[grup1[\"daily_vaccinations_per_million\"] > 0]\n",
        "grup2"
      ],
      "execution_count": 61,
      "outputs": [
        {
          "output_type": "execute_result",
          "data": {
            "text/html": [
              "<div>\n",
              "<style scoped>\n",
              "    .dataframe tbody tr th:only-of-type {\n",
              "        vertical-align: middle;\n",
              "    }\n",
              "\n",
              "    .dataframe tbody tr th {\n",
              "        vertical-align: top;\n",
              "    }\n",
              "\n",
              "    .dataframe thead th {\n",
              "        text-align: right;\n",
              "    }\n",
              "</style>\n",
              "<table border=\"1\" class=\"dataframe\">\n",
              "  <thead>\n",
              "    <tr style=\"text-align: right;\">\n",
              "      <th></th>\n",
              "      <th>daily_vaccinations_per_million</th>\n",
              "    </tr>\n",
              "    <tr>\n",
              "      <th>country</th>\n",
              "      <th></th>\n",
              "    </tr>\n",
              "  </thead>\n",
              "  <tbody>\n",
              "    <tr>\n",
              "      <th>Afghanistan</th>\n",
              "      <td>266.313636</td>\n",
              "    </tr>\n",
              "    <tr>\n",
              "      <th>Albania</th>\n",
              "      <td>2276.254613</td>\n",
              "    </tr>\n",
              "    <tr>\n",
              "      <th>Algeria</th>\n",
              "      <td>1232.343096</td>\n",
              "    </tr>\n",
              "    <tr>\n",
              "      <th>Andorra</th>\n",
              "      <td>5350.397541</td>\n",
              "    </tr>\n",
              "    <tr>\n",
              "      <th>Angola</th>\n",
              "      <td>423.296651</td>\n",
              "    </tr>\n",
              "    <tr>\n",
              "      <th>...</th>\n",
              "      <td>...</td>\n",
              "    </tr>\n",
              "    <tr>\n",
              "      <th>Wales</th>\n",
              "      <td>4878.842282</td>\n",
              "    </tr>\n",
              "    <tr>\n",
              "      <th>Wallis and Futuna</th>\n",
              "      <td>4689.525510</td>\n",
              "    </tr>\n",
              "    <tr>\n",
              "      <th>Yemen</th>\n",
              "      <td>79.985816</td>\n",
              "    </tr>\n",
              "    <tr>\n",
              "      <th>Zambia</th>\n",
              "      <td>229.556180</td>\n",
              "    </tr>\n",
              "    <tr>\n",
              "      <th>Zimbabwe</th>\n",
              "      <td>1563.021459</td>\n",
              "    </tr>\n",
              "  </tbody>\n",
              "</table>\n",
              "<p>221 rows × 1 columns</p>\n",
              "</div>"
            ],
            "text/plain": [
              "                   daily_vaccinations_per_million\n",
              "country                                          \n",
              "Afghanistan                            266.313636\n",
              "Albania                               2276.254613\n",
              "Algeria                               1232.343096\n",
              "Andorra                               5350.397541\n",
              "Angola                                 423.296651\n",
              "...                                           ...\n",
              "Wales                                 4878.842282\n",
              "Wallis and Futuna                     4689.525510\n",
              "Yemen                                   79.985816\n",
              "Zambia                                 229.556180\n",
              "Zimbabwe                              1563.021459\n",
              "\n",
              "[221 rows x 1 columns]"
            ]
          },
          "metadata": {},
          "execution_count": 61
        }
      ]
    },
    {
      "cell_type": "code",
      "metadata": {
        "colab": {
          "base_uri": "https://localhost:8080/"
        },
        "id": "PlOJn4-w1VGd",
        "outputId": "766b839b-df10-4398-929d-47b243b93efc"
      },
      "source": [
        "v7=grup2[\"daily_vaccinations_per_million\"].idxmin()\n",
        "v8=grup2[\"daily_vaccinations_per_million\"].min()\n",
        "print(\"El pais con menor numero de vacunaciones diarias es \",v7,\" con un promedio de \",v8,\" por cada millon de habitantes\")"
      ],
      "execution_count": 62,
      "outputs": [
        {
          "output_type": "stream",
          "name": "stdout",
          "text": [
            "El pais con menor numero de vacunaciones diarias es  Democratic Republic of Congo  con un promedio de  8.951515151515151  por cada millon de habitantes\n"
          ]
        }
      ]
    },
    {
      "cell_type": "markdown",
      "metadata": {
        "id": "PdROF8FU3M8s"
      },
      "source": [
        "El país con menor promedio de vacunaciones diarias es Democratic Republic of Congo, con apenas ~7.5 vacunaciones diarias por cada millon de habitantes"
      ]
    },
    {
      "cell_type": "markdown",
      "metadata": {
        "id": "YgzyxWbOn-oY"
      },
      "source": [
        "# ¿Cuál es el país que tiene a la menor parte de su población vacunada?"
      ]
    },
    {
      "cell_type": "code",
      "metadata": {
        "colab": {
          "base_uri": "https://localhost:8080/"
        },
        "id": "VkpKf90qoN58",
        "outputId": "990c0ba8-7447-4859-cf8e-dab14850ab0a"
      },
      "source": [
        "grup2=covid.groupby(\"country\")['people_fully_vaccinated_per_hundred'].min().nlargest(10)\n",
        "grup2"
      ],
      "execution_count": 124,
      "outputs": [
        {
          "output_type": "execute_result",
          "data": {
            "text/plain": [
              "country\n",
              "Pitcairn                     63.83\n",
              "China                        53.80\n",
              "Falkland Islands             48.67\n",
              "Turks and Caicos Islands     25.49\n",
              "Sint Maarten (Dutch part)    22.93\n",
              "Tuvalu                       19.30\n",
              "Qatar                        18.94\n",
              "Monaco                       18.12\n",
              "Nauru                        16.68\n",
              "Wallis and Futuna            13.41\n",
              "Name: people_fully_vaccinated_per_hundred, dtype: float64"
            ]
          },
          "metadata": {},
          "execution_count": 124
        }
      ]
    },
    {
      "cell_type": "markdown",
      "metadata": {
        "id": "BVmi2-xgo2AN"
      },
      "source": [
        "El país que tiene el menor porcentaje de personas vacunadas en su país es Wallis and Futuna"
      ]
    },
    {
      "cell_type": "markdown",
      "metadata": {
        "id": "WL7BtG9as62B"
      },
      "source": [
        "# Estadística Descriptiva"
      ]
    },
    {
      "cell_type": "markdown",
      "metadata": {
        "id": "ANdDGzGWq6Uj"
      },
      "source": [
        "Para visualizar de mejor manera las bases de datos y como apoyo pra nuestros objetivos realizaremos algunas funciones sencillas de estadística descriptiva pero que nos arrojan información de suma relevancia"
      ]
    },
    {
      "cell_type": "code",
      "metadata": {
        "colab": {
          "base_uri": "https://localhost:8080/"
        },
        "id": "OK2O0Q70q5HM",
        "outputId": "3aeb6229-8240-4183-ecbd-44545216ca1b"
      },
      "source": [
        "covid3['Vacunaciones_diarias'].min()"
      ],
      "execution_count": 125,
      "outputs": [
        {
          "output_type": "execute_result",
          "data": {
            "text/plain": [
              "2302.0"
            ]
          },
          "metadata": {},
          "execution_count": 125
        }
      ]
    },
    {
      "cell_type": "markdown",
      "metadata": {
        "id": "XVDo3mrnrfv5"
      },
      "source": [
        "La columna vacunaciones diarias de la base de datos covid3 la cual es la previamnete depurada con la información de México nos indica precisamente eso cuantas vacunas se aplicaron diariamente y al aplicarle la función min nos da un resultado de 2302 que es un número considerable. Pero comparemos con el mejor país en vacunar a mayor parte de su población el cual es Gibraltar"
      ]
    },
    {
      "cell_type": "code",
      "metadata": {
        "id": "wVFzf1tBr5vi"
      },
      "source": [
        "vect1=covid[covid['country']!=\"Gibraltar\"].index\n",
        "gi=covid.drop(vect)"
      ],
      "execution_count": 126,
      "outputs": []
    },
    {
      "cell_type": "code",
      "metadata": {
        "colab": {
          "base_uri": "https://localhost:8080/"
        },
        "id": "qMYXPyV3s7Mn",
        "outputId": "bcb6d8a7-0f21-4886-a3e3-4bdece85c89c"
      },
      "source": [
        "gi['daily_vaccinations'].min()"
      ],
      "execution_count": 127,
      "outputs": [
        {
          "output_type": "execute_result",
          "data": {
            "text/plain": [
              "1300.0"
            ]
          },
          "metadata": {},
          "execution_count": 127
        }
      ]
    },
    {
      "cell_type": "markdown",
      "metadata": {
        "id": "AMkXFkjRtGxx"
      },
      "source": [
        "El mínimo de vacunaciones diarias en gibraltar es menor al de México y esto hace total sentido si miramos la diferencia entre la población total de México y Gibraltar"
      ]
    },
    {
      "cell_type": "code",
      "metadata": {
        "colab": {
          "base_uri": "https://localhost:8080/"
        },
        "id": "kqnPBwCXtWY8",
        "outputId": "e87e9e6b-fa70-4435-a6a0-e36bb9a55283"
      },
      "source": [
        "covid3['Personas_completamente_vacunadas_por_cien_inter'].max()"
      ],
      "execution_count": 128,
      "outputs": [
        {
          "output_type": "execute_result",
          "data": {
            "text/plain": [
              "36.98"
            ]
          },
          "metadata": {},
          "execution_count": 128
        }
      ]
    },
    {
      "cell_type": "code",
      "metadata": {
        "colab": {
          "base_uri": "https://localhost:8080/"
        },
        "id": "L2f7F6h1t806",
        "outputId": "008bb6f2-b92a-4a17-8887-b12ef9e8c675"
      },
      "source": [
        "covid['people_fully_vaccinated_per_hundred'].mean()"
      ],
      "execution_count": 129,
      "outputs": [
        {
          "output_type": "execute_result",
          "data": {
            "text/plain": [
              "21.721746449237298"
            ]
          },
          "metadata": {},
          "execution_count": 129
        }
      ]
    },
    {
      "cell_type": "markdown",
      "metadata": {
        "id": "OY79sN2PttRR"
      },
      "source": [
        "El número de personas completamente vacunadas por cien es de 36.98 el cual esta por encima del promedio"
      ]
    },
    {
      "cell_type": "code",
      "metadata": {
        "colab": {
          "base_uri": "https://localhost:8080/"
        },
        "id": "SWaqAjTpuQSX",
        "outputId": "8de4758e-0e90-4560-c271-fa231156a917"
      },
      "source": [
        "covid3['Vacunaciones_diarias'].std()"
      ],
      "execution_count": 130,
      "outputs": [
        {
          "output_type": "execute_result",
          "data": {
            "text/plain": [
              "242257.06198371368"
            ]
          },
          "metadata": {},
          "execution_count": 130
        }
      ]
    },
    {
      "cell_type": "markdown",
      "metadata": {
        "id": "NI_9uEDbueat"
      },
      "source": [
        "La desviación estandar de las Vacunaciones diarias en México es de 242,257 lo cual en esta ocasión podría ser un buen indicador, puesto que, entre mas vacunaciones hagamos diariamente mejor."
      ]
    },
    {
      "cell_type": "code",
      "metadata": {
        "colab": {
          "base_uri": "https://localhost:8080/",
          "height": 162
        },
        "id": "nYQj-RNIuzr-",
        "outputId": "2e5b59b7-0823-413a-a0f4-8d204a6a9e02"
      },
      "source": [
        "covid3.corr()"
      ],
      "execution_count": 131,
      "outputs": [
        {
          "output_type": "execute_result",
          "data": {
            "text/html": [
              "<div>\n",
              "<style scoped>\n",
              "    .dataframe tbody tr th:only-of-type {\n",
              "        vertical-align: middle;\n",
              "    }\n",
              "\n",
              "    .dataframe tbody tr th {\n",
              "        vertical-align: top;\n",
              "    }\n",
              "\n",
              "    .dataframe thead th {\n",
              "        text-align: right;\n",
              "    }\n",
              "</style>\n",
              "<table border=\"1\" class=\"dataframe\">\n",
              "  <thead>\n",
              "    <tr style=\"text-align: right;\">\n",
              "      <th></th>\n",
              "      <th>Vacunaciones_diarias</th>\n",
              "      <th>Personas_completamente_vacunadas_inter</th>\n",
              "      <th>Personas_completamente_vacunadas_por_cien_inter</th>\n",
              "    </tr>\n",
              "  </thead>\n",
              "  <tbody>\n",
              "    <tr>\n",
              "      <th>Vacunaciones_diarias</th>\n",
              "      <td>1.000000</td>\n",
              "      <td>0.734677</td>\n",
              "      <td>0.734666</td>\n",
              "    </tr>\n",
              "    <tr>\n",
              "      <th>Personas_completamente_vacunadas_inter</th>\n",
              "      <td>0.734677</td>\n",
              "      <td>1.000000</td>\n",
              "      <td>1.000000</td>\n",
              "    </tr>\n",
              "    <tr>\n",
              "      <th>Personas_completamente_vacunadas_por_cien_inter</th>\n",
              "      <td>0.734666</td>\n",
              "      <td>1.000000</td>\n",
              "      <td>1.000000</td>\n",
              "    </tr>\n",
              "  </tbody>\n",
              "</table>\n",
              "</div>"
            ],
            "text/plain": [
              "                                                 Vacunaciones_diarias  ...  Personas_completamente_vacunadas_por_cien_inter\n",
              "Vacunaciones_diarias                                         1.000000  ...                                         0.734666\n",
              "Personas_completamente_vacunadas_inter                       0.734677  ...                                         1.000000\n",
              "Personas_completamente_vacunadas_por_cien_inter              0.734666  ...                                         1.000000\n",
              "\n",
              "[3 rows x 3 columns]"
            ]
          },
          "metadata": {},
          "execution_count": 131
        }
      ]
    },
    {
      "cell_type": "markdown",
      "metadata": {
        "id": "7aV8c3CSvHMV"
      },
      "source": [
        "Al aplicar la función correlación podemos observar como es que se presenta una correlación positiva entre las vacunaciones diarias y las personas completamente vacunadas, esto se debe a que van en la misma dirección si una sube, la otra también, que en este caso se busca que suba lo mayor posible."
      ]
    },
    {
      "cell_type": "code",
      "metadata": {
        "colab": {
          "base_uri": "https://localhost:8080/",
          "height": 297
        },
        "id": "PYFgH-_L3Km5",
        "outputId": "f40e009d-8f41-404b-de2f-824ff6ff3d83"
      },
      "source": [
        "covid3.describe()"
      ],
      "execution_count": 111,
      "outputs": [
        {
          "output_type": "execute_result",
          "data": {
            "text/html": [
              "<div>\n",
              "<style scoped>\n",
              "    .dataframe tbody tr th:only-of-type {\n",
              "        vertical-align: middle;\n",
              "    }\n",
              "\n",
              "    .dataframe tbody tr th {\n",
              "        vertical-align: top;\n",
              "    }\n",
              "\n",
              "    .dataframe thead th {\n",
              "        text-align: right;\n",
              "    }\n",
              "</style>\n",
              "<table border=\"1\" class=\"dataframe\">\n",
              "  <thead>\n",
              "    <tr style=\"text-align: right;\">\n",
              "      <th></th>\n",
              "      <th>Vacunaciones_diarias</th>\n",
              "      <th>Personas_completamente_vacunadas_inter</th>\n",
              "      <th>Personas_completamente_vacunadas_por_cien_inter</th>\n",
              "    </tr>\n",
              "  </thead>\n",
              "  <tbody>\n",
              "    <tr>\n",
              "      <th>count</th>\n",
              "      <td>2.880000e+02</td>\n",
              "      <td>2.890000e+02</td>\n",
              "      <td>289.000000</td>\n",
              "    </tr>\n",
              "    <tr>\n",
              "      <th>mean</th>\n",
              "      <td>3.640481e+05</td>\n",
              "      <td>1.431734e+07</td>\n",
              "      <td>10.991176</td>\n",
              "    </tr>\n",
              "    <tr>\n",
              "      <th>std</th>\n",
              "      <td>2.539585e+05</td>\n",
              "      <td>1.473957e+07</td>\n",
              "      <td>11.315557</td>\n",
              "    </tr>\n",
              "    <tr>\n",
              "      <th>min</th>\n",
              "      <td>1.300000e+03</td>\n",
              "      <td>0.000000e+00</td>\n",
              "      <td>0.000000</td>\n",
              "    </tr>\n",
              "    <tr>\n",
              "      <th>25%</th>\n",
              "      <td>1.254192e+05</td>\n",
              "      <td>6.034470e+05</td>\n",
              "      <td>0.460000</td>\n",
              "    </tr>\n",
              "    <tr>\n",
              "      <th>50%</th>\n",
              "      <td>3.906055e+05</td>\n",
              "      <td>1.065250e+07</td>\n",
              "      <td>8.180000</td>\n",
              "    </tr>\n",
              "    <tr>\n",
              "      <th>75%</th>\n",
              "      <td>5.281770e+05</td>\n",
              "      <td>2.520509e+07</td>\n",
              "      <td>19.350000</td>\n",
              "    </tr>\n",
              "    <tr>\n",
              "      <th>max</th>\n",
              "      <td>1.088095e+06</td>\n",
              "      <td>4.816637e+07</td>\n",
              "      <td>36.980000</td>\n",
              "    </tr>\n",
              "  </tbody>\n",
              "</table>\n",
              "</div>"
            ],
            "text/plain": [
              "       Vacunaciones_diarias  ...  Personas_completamente_vacunadas_por_cien_inter\n",
              "count          2.880000e+02  ...                                       289.000000\n",
              "mean           3.640481e+05  ...                                        10.991176\n",
              "std            2.539585e+05  ...                                        11.315557\n",
              "min            1.300000e+03  ...                                         0.000000\n",
              "25%            1.254192e+05  ...                                         0.460000\n",
              "50%            3.906055e+05  ...                                         8.180000\n",
              "75%            5.281770e+05  ...                                        19.350000\n",
              "max            1.088095e+06  ...                                        36.980000\n",
              "\n",
              "[8 rows x 3 columns]"
            ]
          },
          "metadata": {},
          "execution_count": 111
        }
      ]
    },
    {
      "cell_type": "markdown",
      "metadata": {
        "id": "hHyawO6vwjUq"
      },
      "source": [
        "Investigamos como sacar los estadísticos que íbamos a necesitar para analizar correctamente los datos. La función describe nos arroja la cuenta de los datos, la media, la desviación estándar, el mínimo, el máximo y los cuartiles del total de los pia. La cuenta de los datos nos ayuda a visualizar mejor la tabla, para saber con cuantos datos estamos trabajando y señar mejor las distribuciones de los datos. La media nos da una descripción de la característica que nos interesa de una población dada por la base de datos. La desviación estándar nos indica que tan dispersos están los datos respecto a la media. El máximo y el mínimo nos ayudan a ver el rango en el cual están los datos. Los cuartiles nos muestran una mejor distribución de los datos."
      ]
    },
    {
      "cell_type": "code",
      "metadata": {
        "colab": {
          "base_uri": "https://localhost:8080/",
          "height": 419
        },
        "id": "4UcFye350eAe",
        "outputId": "17af1f92-7678-4864-d306-2db9020f2f20"
      },
      "source": [
        "info2=covid.tipo.groupby([\"location\",\"vaccine\"], as_index=False).agg({\n",
        "          \"total_vaccinations\": \"sum\"\n",
        "\n",
        "    \n",
        "})\n",
        "info2"
      ],
      "execution_count": 69,
      "outputs": [
        {
          "output_type": "execute_result",
          "data": {
            "text/html": [
              "<div>\n",
              "<style scoped>\n",
              "    .dataframe tbody tr th:only-of-type {\n",
              "        vertical-align: middle;\n",
              "    }\n",
              "\n",
              "    .dataframe tbody tr th {\n",
              "        vertical-align: top;\n",
              "    }\n",
              "\n",
              "    .dataframe thead th {\n",
              "        text-align: right;\n",
              "    }\n",
              "</style>\n",
              "<table border=\"1\" class=\"dataframe\">\n",
              "  <thead>\n",
              "    <tr style=\"text-align: right;\">\n",
              "      <th></th>\n",
              "      <th>location</th>\n",
              "      <th>vaccine</th>\n",
              "      <th>total_vaccinations</th>\n",
              "    </tr>\n",
              "  </thead>\n",
              "  <tbody>\n",
              "    <tr>\n",
              "      <th>0</th>\n",
              "      <td>Austria</td>\n",
              "      <td>Johnson&amp;Johnson</td>\n",
              "      <td>3966651</td>\n",
              "    </tr>\n",
              "    <tr>\n",
              "      <th>1</th>\n",
              "      <td>Austria</td>\n",
              "      <td>Moderna</td>\n",
              "      <td>20373234</td>\n",
              "    </tr>\n",
              "    <tr>\n",
              "      <th>2</th>\n",
              "      <td>Austria</td>\n",
              "      <td>Oxford/AstraZeneca</td>\n",
              "      <td>35656470</td>\n",
              "    </tr>\n",
              "    <tr>\n",
              "      <th>3</th>\n",
              "      <td>Austria</td>\n",
              "      <td>Pfizer/BioNTech</td>\n",
              "      <td>151139544</td>\n",
              "    </tr>\n",
              "    <tr>\n",
              "      <th>4</th>\n",
              "      <td>Belgium</td>\n",
              "      <td>Johnson&amp;Johnson</td>\n",
              "      <td>5932789</td>\n",
              "    </tr>\n",
              "    <tr>\n",
              "      <th>...</th>\n",
              "      <td>...</td>\n",
              "      <td>...</td>\n",
              "      <td>...</td>\n",
              "    </tr>\n",
              "    <tr>\n",
              "      <th>142</th>\n",
              "      <td>United States</td>\n",
              "      <td>Moderna</td>\n",
              "      <td>26544971049</td>\n",
              "    </tr>\n",
              "    <tr>\n",
              "      <th>143</th>\n",
              "      <td>United States</td>\n",
              "      <td>Pfizer/BioNTech</td>\n",
              "      <td>35308079060</td>\n",
              "    </tr>\n",
              "    <tr>\n",
              "      <th>144</th>\n",
              "      <td>Uruguay</td>\n",
              "      <td>Oxford/AstraZeneca</td>\n",
              "      <td>11270453</td>\n",
              "    </tr>\n",
              "    <tr>\n",
              "      <th>145</th>\n",
              "      <td>Uruguay</td>\n",
              "      <td>Pfizer/BioNTech</td>\n",
              "      <td>217625836</td>\n",
              "    </tr>\n",
              "    <tr>\n",
              "      <th>146</th>\n",
              "      <td>Uruguay</td>\n",
              "      <td>Sinovac</td>\n",
              "      <td>491975278</td>\n",
              "    </tr>\n",
              "  </tbody>\n",
              "</table>\n",
              "<p>147 rows × 3 columns</p>\n",
              "</div>"
            ],
            "text/plain": [
              "          location             vaccine  total_vaccinations\n",
              "0          Austria     Johnson&Johnson             3966651\n",
              "1          Austria             Moderna            20373234\n",
              "2          Austria  Oxford/AstraZeneca            35656470\n",
              "3          Austria     Pfizer/BioNTech           151139544\n",
              "4          Belgium     Johnson&Johnson             5932789\n",
              "..             ...                 ...                 ...\n",
              "142  United States             Moderna         26544971049\n",
              "143  United States     Pfizer/BioNTech         35308079060\n",
              "144        Uruguay  Oxford/AstraZeneca            11270453\n",
              "145        Uruguay     Pfizer/BioNTech           217625836\n",
              "146        Uruguay             Sinovac           491975278\n",
              "\n",
              "[147 rows x 3 columns]"
            ]
          },
          "metadata": {},
          "execution_count": 69
        }
      ]
    },
    {
      "cell_type": "markdown",
      "metadata": {
        "id": "F0SjS7KD4p4o"
      },
      "source": [
        "Nos muestra los países agrupados por el tipo de vacuna que se ha aplicado y el total de dosis aplicadas, nos sirve para visualizar cuantas vacunas de un tipo especifico aplicaron por país, tomando en cuenta la efectividad que se muestra que tienen con respecto al virus. "
      ]
    },
    {
      "cell_type": "markdown",
      "metadata": {
        "id": "7biYaUTDQydQ"
      },
      "source": [
        "# **Graficas**"
      ]
    },
    {
      "cell_type": "code",
      "metadata": {
        "id": "be2lvAWyQ20O",
        "colab": {
          "base_uri": "https://localhost:8080/",
          "height": 696
        },
        "outputId": "0a46aa69-4510-451e-a2df-767280f77972"
      },
      "source": [
        "covid4=covid1.groupby(\"country\")[\"daily_vaccinations\"].sum().nlargest(5)\n",
        "plt.figure(figsize=(10,10))\n",
        "covid4.plot(x = \"Pais\", kind = 'bar', alpha = 0.75)\n",
        "plt.xlabel(\"Paises\")\n",
        "plt.ylabel(\"Total de vacunas aplicadas\")\n",
        "plt.title(\"Paises con mayor cantidad de vacunas aplicadas\")\n"
      ],
      "execution_count": 70,
      "outputs": [
        {
          "output_type": "execute_result",
          "data": {
            "text/plain": [
              "Text(0.5, 1.0, 'Paises con mayor cantidad de vacunas aplicadas')"
            ]
          },
          "metadata": {},
          "execution_count": 70
        },
        {
          "output_type": "display_data",
          "data": {
            "image/png": "[encoded data removed]",
            "text/plain": [
              "<Figure size 720x720 with 1 Axes>"
            ]
          },
          "metadata": {
            "needs_background": "light"
          }
        }
      ]
    },
    {
      "cell_type": "markdown",
      "metadata": {
        "id": "fvcyGKv_Xaak"
      },
      "source": [
        "Para empezar a realizar todas las gráficas puestas a continuación. Se hizo una investigación de cómo hacer diferentes tipos de graficas, se analizo cuales serían las más adecuadas para trabajar con nuestros datos. \n",
        "\n",
        "Dentro de la grafica podemos notar la cantidad de vacunas que se han aplicado dentro de los 10 paises con mayor cantidad de vacunas aplicadas.\n",
        "\n",
        "Podemos observar que EUA es uno de los paises mas fuertes en el mundo en cuanto a vacunaciones por día que se aplican. Esto nos indica que como vecino es muy bueno compararnos con ellos debido a que podemos tomar como ejemplo para poder ver que tan bien se estan haciendo las cosas dentro de Mexico. "
      ]
    },
    {
      "cell_type": "code",
      "metadata": {
        "colab": {
          "base_uri": "https://localhost:8080/"
        },
        "id": "wOPO1i46zjGT",
        "outputId": "091202a6-7aa2-479d-c659-2f9216a5a836"
      },
      "source": [
        "vacusa=covid1[covid1['country']==\"United States\"]\n",
        "vacusa['date'] = pd.to_datetime(vacusa['date'],)\n",
        "vacusa = vacusa.set_index('date')\n",
        "vacusa=vacusa.dropna()"
      ],
      "execution_count": 152,
      "outputs": [
        {
          "output_type": "stream",
          "name": "stderr",
          "text": [
            "/usr/local/lib/python3.7/dist-packages/ipykernel_launcher.py:2: SettingWithCopyWarning: \n",
            "A value is trying to be set on a copy of a slice from a DataFrame.\n",
            "Try using .loc[row_indexer,col_indexer] = value instead\n",
            "\n",
            "See the caveats in the documentation: https://pandas.pydata.org/pandas-docs/stable/user_guide/indexing.html#returning-a-view-versus-a-copy\n",
            "  \n"
          ]
        }
      ]
    },
    {
      "cell_type": "code",
      "metadata": {
        "colab": {
          "base_uri": "https://localhost:8080/"
        },
        "id": "QMC9JFYd2LFO",
        "outputId": "fbd67c47-8d11-43d2-ebc4-b85b41a97cb5"
      },
      "source": [
        "vacmx=covid1[covid1['country']==\"Mexico\"]\n",
        "vacmx['date'] = pd.to_datetime(vacmx['date'],)\n",
        "vacmx = vacmx.set_index('date')\n"
      ],
      "execution_count": 155,
      "outputs": [
        {
          "output_type": "stream",
          "name": "stderr",
          "text": [
            "/usr/local/lib/python3.7/dist-packages/ipykernel_launcher.py:2: SettingWithCopyWarning: \n",
            "A value is trying to be set on a copy of a slice from a DataFrame.\n",
            "Try using .loc[row_indexer,col_indexer] = value instead\n",
            "\n",
            "See the caveats in the documentation: https://pandas.pydata.org/pandas-docs/stable/user_guide/indexing.html#returning-a-view-versus-a-copy\n",
            "  \n"
          ]
        }
      ]
    },
    {
      "cell_type": "code",
      "metadata": {
        "id": "tg8TJo9gXPAW",
        "colab": {
          "base_uri": "https://localhost:8080/",
          "height": 624
        },
        "outputId": "bf47105b-2bba-4ab4-8977-38c852d5dab2"
      },
      "source": [
        "plt.figure(figsize=(10,10))\n",
        "plt.plot(vacmx[\"daily_vaccinations\"])\n",
        "plt.plot(vacusa[\"daily_vaccinations\"])\n",
        "plt.title(\"Mexico vs USA  vacunaciones diarias\")"
      ],
      "execution_count": 156,
      "outputs": [
        {
          "output_type": "execute_result",
          "data": {
            "text/plain": [
              "Text(0.5, 1.0, 'Mexico vs USA  vacunaciones diarias')"
            ]
          },
          "metadata": {},
          "execution_count": 156
        },
        {
          "output_type": "display_data",
          "data": {
            "image/png": "[encoded data removed]",
            "text/plain": [
              "<Figure size 720x720 with 1 Axes>"
            ]
          },
          "metadata": {
            "needs_background": "light"
          }
        }
      ]
    },
    {
      "cell_type": "markdown",
      "metadata": {
        "id": "-LtTJ2aJrXCn"
      },
      "source": [
        "Siendo México nuestro país principal en el cual nos vamos a enfocar en el análisis de nuestros datos, mostramos esta gráfica, en la cual se exhiben el numero total de vacunas diarias por día. En el eje de las “y” son millones de habitantes. \n",
        "\n",
        "Para poder realizar esta gráfica filtramos a México, se hizo una pequeña modificación a los datos iguales a 0 para mejor visualización de la grafica.\n",
        "\n",
        "Lo mismo hacemos con EUA ya que es el pais que vamos a comparar debido a que comparten mucha relacion economica y politica estos dos paises.\n",
        "\n",
        "Esta grafica es fundamental para nuestro análisis porque nos ayuda a estar mas cerca de cumplir nuestro objetivo (Predicción de la fecha en la que volveremos a la \"normalidad\" en México) puesto que nos da una idea de como se ha estado vacunando diario en mexico y si se estan aplicando muchas o pocas.  \n"
      ]
    },
    {
      "cell_type": "code",
      "metadata": {
        "colab": {
          "base_uri": "https://localhost:8080/",
          "height": 638
        },
        "id": "BniZm7FBidqG",
        "outputId": "6ac6970b-8728-45f9-b7b1-9fddb61a91b7"
      },
      "source": [
        "top5=covid1[covid1['country'].isin([\"Mexico\",\"Canada\",\"United States\"])]\n",
        "top5=top5.dropna()\n",
        "plt.figure(figsize=(10,10))\n",
        "sns.violinplot(\n",
        "    x=\"country\",\n",
        "    y=\"people_fully_vaccinated\",\n",
        "    data= top5\n",
        ")\n",
        "plt.ylabel(\"Personas completamente vacunadas\")\n",
        "plt.xlabel(\"Paises\")\n",
        "plt.title(\"Comparacion paises T-MEC\")"
      ],
      "execution_count": 136,
      "outputs": [
        {
          "output_type": "execute_result",
          "data": {
            "text/plain": [
              "Text(0.5, 1.0, 'Comparacion paises T-MEC')"
            ]
          },
          "metadata": {},
          "execution_count": 136
        },
        {
          "output_type": "display_data",
          "data": {
            "image/png": "[encoded data removed]",
            "text/plain": [
              "<Figure size 720x720 with 1 Axes>"
            ]
          },
          "metadata": {
            "needs_background": "light"
          }
        }
      ]
    },
    {
      "cell_type": "markdown",
      "metadata": {
        "id": "K7dzR7Tfti39"
      },
      "source": [
        "La grafica anterior nos muestra una comparación del numero total de personas totalmente vacunadas entre los países de Norteamérica que son Canadá, Estados Unidos y México. Como es de esperarse, Estados unidos tiene la mayor cantidad de habitantes totalmente vacunados, puesto que es el país con más habitantes de los tres y el que tiene mejor acceso a las vacunas y por lo tanto tiene un mayor rango y parece que tiene una distribución simétrica. \n",
        "\n",
        "En cambio, México y Canadá cuentan con asimetría positiva ya que los datos se concentran en la parte inferior de la distribución, como se observa cuentan con datos menos dispersos. \n",
        "\n"
      ]
    },
    {
      "cell_type": "code",
      "metadata": {
        "colab": {
          "base_uri": "https://localhost:8080/",
          "height": 638
        },
        "id": "KKeI254Um9iJ",
        "outputId": "5d320186-efdf-41d8-8162-6911c1662416"
      },
      "source": [
        "Bottom5=covid1[covid1['country'].isin([\"Mexico\",\"United States\",\"Argentina\",\"Chile\",\"Colombia\",\"Peru\"])]\n",
        "plt.figure(figsize=(10,10))\n",
        "sns.boxplot(\n",
        "    x=\"country\",\n",
        "    y=\"people_fully_vaccinated\",\n",
        "    data= Bottom5\n",
        ")\n",
        "plt.ylabel(\"Personas completamente vacunadas\")\n",
        "plt.xlabel(\"Paises\")\n",
        "plt.title(\"Comparacion paises LATAM y EUA\")"
      ],
      "execution_count": 74,
      "outputs": [
        {
          "output_type": "execute_result",
          "data": {
            "text/plain": [
              "Text(0.5, 1.0, 'Comparacion paises LATAM y EUA')"
            ]
          },
          "metadata": {},
          "execution_count": 74
        },
        {
          "output_type": "display_data",
          "data": {
            "image/png": "[encoded data removed]",
            "text/plain": [
              "<Figure size 720x720 with 1 Axes>"
            ]
          },
          "metadata": {
            "needs_background": "light"
          }
        }
      ]
    },
    {
      "cell_type": "markdown",
      "metadata": {
        "id": "lhQI-v_ouWVg"
      },
      "source": [
        "En esta grafica quisimos observar y comparar a México con algunos de los países más importantes de Latinoamérica puesto que las costumbres, nivel y calidad de vida en estos países, no difiere mucho que los de México. Estos países son Argentina, Chile, Colombia y peru. Al observar como se distribuyen el numero total de personas totalmente vacunadas, la mediana de los 5 países se encuentra en un rango de entre 0-1, parece que entre Argentina y Perú son los que tienen la mediana más baja y el que la tiene más elevada es Chile. \n",
        "\n",
        "\n",
        "\n",
        "Por ultimo podemos ver como claramente EUA es superior a todos los paises por diferencia y Mexico al ser vecino debria aspirar a parecerse mas a este ultimo."
      ]
    },
    {
      "cell_type": "code",
      "metadata": {
        "colab": {
          "base_uri": "https://localhost:8080/",
          "height": 861
        },
        "id": "ZmJmTDsmnQfJ",
        "outputId": "ed4a98ec-2834-4dad-f175-c750e03f4d9e"
      },
      "source": [
        "f,ax=plt.subplots(figsize = (10,10))\n",
        "sns.heatmap(covid3.corr(),annot= True,linewidths=0.5,fmt = \".1f\",ax=ax)\n",
        "plt.xticks(rotation=90)\n",
        "plt.yticks(rotation=0)\n",
        "plt.title('Mapa de correlación')\n",
        "plt.savefig('graph.png')\n",
        "plt.show()"
      ],
      "execution_count": 119,
      "outputs": [
        {
          "output_type": "display_data",
          "data": {
            "image/png": "[encoded data removed]",
            "text/plain": [
              "<Figure size 720x720 with 2 Axes>"
            ]
          },
          "metadata": {
            "needs_background": "light"
          }
        }
      ]
    },
    {
      "cell_type": "markdown",
      "metadata": {
        "id": "Ho2pYiVOujmN"
      },
      "source": [
        "Este grafico nos permitió demostrar la relación existente entre las clases de datos y cuantificar la intensidad de dicha relación. Se utiliza para conocer si efectivamente existe una correlación entre las magnitudes o parámetros de un problema y, en caso positivo, de qué tipo es la correlación."
      ]
    },
    {
      "cell_type": "markdown",
      "metadata": {
        "id": "VQnAsYs4v8GO"
      },
      "source": [
        "# **Conclusión**"
      ]
    },
    {
      "cell_type": "markdown",
      "metadata": {
        "id": "ETvs_RfEv_9q"
      },
      "source": [
        "Se analizó la información actual México y se logró cumplir el objetivo secundario que era la comparación de nuestro país para ver que tan bien o mal vamos y la conclusión fue que estamos por encima del promedio a nivel mundial, a nivel de Lationamerica llevamos la delantera y comparado con nuestros vecinos de la frontera vamos relativamente bien. Respecto al objetivo princial a mayor porcentaje de la población completamente vacunada, más pronto llegaremos a la inmunidad de rebaño que refiere a la protección o resistencia que posee una comunidad a la infección debido a la presencia de individuos inmunes a ella. En el caso del coronavirus, según varios informes científicos, la inmunidad colectiva se lograría si alrededor del 60% de la población desarrollara anticuerpos, y con todo esto estimar la fecha en la que México podría implementar el seguro regreso a las actividades, cabe aclarar que esta estimación solamente tomará la información y factores de la base de datos trabajada en este proyecto. De esta manera, será posible cumplir con el objetivo principal haciendo uso de la técnica previamente seleccionada de minería de datos, series de tiempo."
      ]
    }
  ]
}