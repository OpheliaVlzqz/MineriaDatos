{
  "nbformat": 4,
  "nbformat_minor": 0,
  "metadata": {
    "colab": {
      "name": "Ej_Python_1856652.ipynb",
      "provenance": [],
      "collapsed_sections": [],
      "authorship_tag": "ABX9TyOgI5o0fkiwN+uusXcYrlBF",
      "include_colab_link": true
    },
    "kernelspec": {
      "name": "python3",
      "display_name": "Python 3"
    },
    "language_info": {
      "name": "python"
    }
  },
  "cells": [
    {
      "cell_type": "markdown",
      "metadata": {
        "id": "view-in-github",
        "colab_type": "text"
      },
      "source": [
        "<a href=\"https://colab.research.google.com/github/OpheliaVlzqz/MineriaDatos/blob/main/Ej_Python_1856652.ipynb\" target=\"_parent\"><img src=\"https://colab.research.google.com/assets/colab-badge.svg\" alt=\"Open In Colab\"/></a>"
      ]
    },
    {
      "cell_type": "markdown",
      "metadata": {
        "id": "EFMoxfz31J5y"
      },
      "source": [
        "Ejercicios de Python "
      ]
    },
    {
      "cell_type": "markdown",
      "metadata": {
        "id": "VpQSFINV1WPy"
      },
      "source": [
        "Ejercicio #1"
      ]
    },
    {
      "cell_type": "code",
      "metadata": {
        "colab": {
          "base_uri": "https://localhost:8080/"
        },
        "id": "oHyWRiYD1QzN",
        "outputId": "ec52cba4-de9a-4d30-f994-61d3ad200419"
      },
      "source": [
        "matri=1856652\n",
        "print(\"Ofelia Velázquez Montemyor\", matri )"
      ],
      "execution_count": null,
      "outputs": [
        {
          "output_type": "stream",
          "text": [
            "Ofelia Velázquez Montemyor 1856652\n"
          ],
          "name": "stdout"
        }
      ]
    },
    {
      "cell_type": "markdown",
      "metadata": {
        "id": "bDMI99KGBSFT"
      },
      "source": [
        "Ejercicio #2"
      ]
    },
    {
      "cell_type": "code",
      "metadata": {
        "colab": {
          "base_uri": "https://localhost:8080/"
        },
        "id": "1kxolsvr8DpE",
        "outputId": "b9246762-e558-4e06-a405-57639d68f684"
      },
      "source": [
        "class calculadora:\n",
        "    def sumar(self, x, y):\n",
        "        print ('El resultado de la suma de  ' +str(x) + ' y '+str(y)+ ' es igual a: '+str((x+y)) )\n",
        "    def restar(self, x, y):\n",
        "        print ('El resultado de la resta de  '+str(x) + ' y '+str(y)+ ' es igual a: '+str((x-y)) )\n",
        "    def multiplicar(self, x, y):\n",
        "        print ('El resultado de la multiplicar de '+str(x) + ' y '+str(y)+ ' es igual a: '+str((x*y)) )\n",
        "    def dividir(self, x, y):\n",
        "        print ('El resultado de dividir  '+str(x) + ' y '+str(y)+ ' es igual a: '+str((x/y)) )\n",
        "    def exponente(self, x, y):\n",
        "        print ('El resultado de elevar a una potencia  '+str(x) + ' y ' +str(y)+ ' es igual a: '+str((x**y)) )\n",
        "\n",
        "calc= calculadora()\n",
        "def menu():\n",
        "    print(\"\"\"\n",
        "    ¿Qué quieres hacer?\n",
        "    1) Sumar los números\n",
        "    2) Restar los números\n",
        "    3) Multiplicar los números\n",
        "    4) Dividir los números\n",
        "    5) El exponente de los números \n",
        "    6) Salir\n",
        "    \"\"\")\n",
        "    return int(input('Introduce una opción: '))\n",
        "\n",
        "while(True):\n",
        "    opción= menu()\n",
        "    if(opción==6):\n",
        "        break\n",
        "    else:\n",
        "        num1= int(input('Ingresa el primer número: '))\n",
        "        num2= int(input('Ingresa el segundo número: '))\n",
        "        \n",
        "        if(opción==1):\n",
        "            calc.sumar(num1, num2)\n",
        "        elif(opción==2):\n",
        "            calc.restar(num1, num2)\n",
        "        elif(opción==3):\n",
        "            calc.multiplicar(num1, num2)\n",
        "        elif(opción==4):\n",
        "            calc.dividir(num1, num2)\n",
        "        elif(opción==5):\n",
        "            calc.exponente(num1, num2)\n",
        "        else:\n",
        "            print('Opción no valida')\n",
        " \n",
        "\n",
        " "
      ],
      "execution_count": 214,
      "outputs": [
        {
          "output_type": "stream",
          "text": [
            "\n",
            "    ¿Qué quieres hacer?\n",
            "    1) Sumar los números\n",
            "    2) Restar los números\n",
            "    3) Multiplicar los números\n",
            "    4) Dividir los números\n",
            "    5) El exponente de los números \n",
            "    6) Salir\n",
            "    \n",
            "Introduce una opción: 1\n",
            "Ingresa el primer número: 2\n",
            "Ingresa el segundo número: 3\n",
            "El resultado de la suma de  2 y 3 es igual a: 5\n",
            "\n",
            "    ¿Qué quieres hacer?\n",
            "    1) Sumar los números\n",
            "    2) Restar los números\n",
            "    3) Multiplicar los números\n",
            "    4) Dividir los números\n",
            "    5) El exponente de los números \n",
            "    6) Salir\n",
            "    \n",
            "Introduce una opción: 2\n",
            "Ingresa el primer número: 2\n",
            "Ingresa el segundo número: 3\n",
            "El resultado de la resta de  2 y 3 es igual a: -1\n",
            "\n",
            "    ¿Qué quieres hacer?\n",
            "    1) Sumar los números\n",
            "    2) Restar los números\n",
            "    3) Multiplicar los números\n",
            "    4) Dividir los números\n",
            "    5) El exponente de los números \n",
            "    6) Salir\n",
            "    \n",
            "Introduce una opción: 6\n"
          ],
          "name": "stdout"
        }
      ]
    },
    {
      "cell_type": "markdown",
      "metadata": {
        "id": "BlTMzYJfRync"
      },
      "source": [
        "Ejercicio #3"
      ]
    },
    {
      "cell_type": "code",
      "metadata": {
        "colab": {
          "base_uri": "https://localhost:8080/"
        },
        "id": "JiZWYnLBR0yD",
        "outputId": "252d9a31-9d5a-4f52-9fc4-fabcb4b88c37"
      },
      "source": [
        "multi3=[]\n",
        "i=3\n",
        "for j in range(1,11):\n",
        "\n",
        " multi3.append(i)\n",
        " j=j+1\n",
        " i=i+3\n",
        "\n",
        " multi3\n"
      ],
      "execution_count": null,
      "outputs": [
        {
          "output_type": "stream",
          "text": [
            "[3]\n",
            "[3, 6]\n",
            "[3, 6, 9]\n",
            "[3, 6, 9, 12]\n",
            "[3, 6, 9, 12, 15]\n",
            "[3, 6, 9, 12, 15, 18]\n",
            "[3, 6, 9, 12, 15, 18, 21]\n",
            "[3, 6, 9, 12, 15, 18, 21, 24]\n",
            "[3, 6, 9, 12, 15, 18, 21, 24, 27]\n",
            "[3, 6, 9, 12, 15, 18, 21, 24, 27, 30]\n"
          ],
          "name": "stdout"
        }
      ]
    },
    {
      "cell_type": "markdown",
      "metadata": {
        "id": "YOM6TxeKksWj"
      },
      "source": [
        "Ejercicio #4"
      ]
    },
    {
      "cell_type": "code",
      "metadata": {
        "colab": {
          "base_uri": "https://localhost:8080/"
        },
        "id": "ZyASonqZkyWq",
        "outputId": "e97eb97d-2002-42aa-9cf9-69b85c74a33b"
      },
      "source": [
        "def parim(num1):\n",
        " resid=num1%2\n",
        "\n",
        "if resid!=0:\n",
        "\n",
        "  print(\"El numero es impar\")\n",
        "\n",
        "else:\n",
        "\n",
        "  print(\"El numero es par\")\n",
        "\n",
        "def primo(num):\n",
        "\n",
        " if num==2:\n",
        "  return true \n",
        " else:\n",
        "  return false\n",
        "\n",
        "  for i in range(2,num):\n",
        "   if num % i ==0:\n",
        "    return false \n",
        "  return true\n",
        "\n",
        "\n",
        "\n",
        "\n"
      ],
      "execution_count": 195,
      "outputs": [
        {
          "output_type": "stream",
          "text": [
            "El numero es impar\n"
          ],
          "name": "stdout"
        }
      ]
    },
    {
      "cell_type": "markdown",
      "metadata": {
        "id": "s207QhHl2OwR"
      },
      "source": [
        "Ejercicio #5"
      ]
    },
    {
      "cell_type": "code",
      "metadata": {
        "colab": {
          "base_uri": "https://localhost:8080/"
        },
        "id": "uQ2HlwZj2Ru8",
        "outputId": "c51a64de-3b43-4f5e-9cbb-d1717a95a2b2"
      },
      "source": [
        "class calculadora:\n",
        "    def sumar(self, x, y):\n",
        "        print ('El resultado de la suma de  ' +str(x) + ' y '+str(y)+ ' es igual a: '+str((x+y)) )\n",
        "    def restar(self, x, y):\n",
        "        print ('El resultado de la resta de  '+str(x) + ' y '+str(y)+ ' es igual a: '+str((x-y)) )\n",
        "    def multiplicar(self, x, y):\n",
        "        print ('El resultado de la multiplicar de '+str(x) + ' y '+str(y)+ ' es igual a: '+str((x*y)) )\n",
        "    def dividir(self, x, y):\n",
        "        print ('El resultado de dividir  '+str(x) + ' y '+str(y)+ ' es igual a: '+str((x/y)) )\n",
        "    def exponente(self, x, y):\n",
        "        print ('El resultado de elevar a una potencia  '+str(x) + ' y ' +str(y)+ ' es igual a: '+str((x**y)) )\n",
        "\n",
        "calc= calculadora()\n",
        "def menu():\n",
        "    print(\"\"\"\n",
        "    ¿Qué quieres hacer?\n",
        "    1) Sumar los números\n",
        "    2) Restar los números\n",
        "    3) Multiplicar los números\n",
        "    4) Dividir los números\n",
        "    5) El exponente de los números \n",
        "    6) Salir\n",
        "    \"\"\")\n",
        "    return int(input('Introduce una opción: '))\n",
        "\n",
        "while(True):\n",
        "    opción= menu()\n",
        "    if(opción==6):\n",
        "        break\n",
        "    else:\n",
        "        num1= int(input('Ingresa el primer número: '))\n",
        "        num2= int(input('Ingresa el segundo número: '))\n",
        "        \n",
        "        if(opción==1):\n",
        "            calc.sumar(num1, num2)\n",
        "        elif(opción==2):\n",
        "            calc.restar(num1, num2)\n",
        "        elif(opción==3):\n",
        "            calc.multiplicar(num1, num2)\n",
        "        elif(opción==4):\n",
        "            calc.dividir(num1, num2)\n",
        "        elif(opción==5):\n",
        "            calc.exponente(num1, num2)\n",
        "        else:\n",
        "            print('Opción no valida')"
      ],
      "execution_count": 213,
      "outputs": [
        {
          "output_type": "stream",
          "text": [
            "\n",
            "    ¿Qué quieres hacer?\n",
            "    1) Sumar los números\n",
            "    2) Restar los números\n",
            "    3) Multiplicar los números\n",
            "    4) Dividir los números\n",
            "    5) El exponente de los números \n",
            "    6) Salir\n",
            "    \n",
            "Introduce una opción: 1\n",
            "Ingresa el primer número: 2\n",
            "Ingresa el segundo número: 3\n",
            "El resultado de la suma de  2 y 3 es igual a: 5\n",
            "\n",
            "    ¿Qué quieres hacer?\n",
            "    1) Sumar los números\n",
            "    2) Restar los números\n",
            "    3) Multiplicar los números\n",
            "    4) Dividir los números\n",
            "    5) El exponente de los números \n",
            "    6) Salir\n",
            "    \n",
            "Introduce una opción: 6\n"
          ],
          "name": "stdout"
        }
      ]
    },
    {
      "cell_type": "markdown",
      "metadata": {
        "id": "PzqSLSe6BZDc"
      },
      "source": [
        "TUPLAS"
      ]
    },
    {
      "cell_type": "code",
      "metadata": {
        "colab": {
          "base_uri": "https://localhost:8080/"
        },
        "id": "uVSZFr6iED8a",
        "outputId": "74a3f73b-996e-49f0-bbb5-142dc10f6965"
      },
      "source": [
        "#primer punto\n",
        "\n",
        "f=3.1416\n",
        "inte=20\n",
        "boleana=5>4\n",
        "comples=3j\n",
        "type(f)\n",
        "type(inte)\n",
        "type(comples)\n",
        "type(boleana)\n",
        "\n",
        "#segundo punto\n",
        "\n",
        "t1=(1,2,3,4,5,6)\n",
        "t1[0]\n",
        "t1[5]\n",
        "\n",
        "#tercer punto\n",
        "\n",
        "t1=t1.__add__(('hola',))\n",
        "t1=t1.__add__(('como',))\n",
        "t1=t1.__add__(('estas',))\n",
        "\n",
        "#cuarto punto\n",
        "\n",
        "2 in t1\n"
      ],
      "execution_count": 246,
      "outputs": [
        {
          "output_type": "execute_result",
          "data": {
            "text/plain": [
              "True"
            ]
          },
          "metadata": {},
          "execution_count": 246
        }
      ]
    },
    {
      "cell_type": "markdown",
      "metadata": {
        "id": "TF_8QJ0RHq7x"
      },
      "source": [
        "LISTAS"
      ]
    },
    {
      "cell_type": "code",
      "metadata": {
        "colab": {
          "base_uri": "https://localhost:8080/"
        },
        "id": "zRJCY6dlHvVD",
        "outputId": "9b73ed5a-12ba-43ae-a3b1-d69715772f75"
      },
      "source": [
        "\n",
        "import random\n",
        "lista=[random.randint(0,200) for i in range(40)]\n",
        "\n",
        "print(lista)\n",
        "\n",
        "lpar=[]\n",
        "limpar=[]\n",
        "def listas():\n",
        "    for i in range(40):\n",
        "        h=lista[i]%2\n",
        "        if h==0:\n",
        "            lpar.append(lista[i])\n",
        "        else:\n",
        "            limpar.append(lista[i])\n",
        "\n",
        "    print(\"Pares\",lpar)\n",
        "    print(\"Impares:\",limpar)\n",
        "listas()\n",
        "     "
      ],
      "execution_count": 259,
      "outputs": [
        {
          "output_type": "stream",
          "text": [
            "[8, 161, 135, 27, 4, 1, 2, 153, 181, 172, 143, 15, 113, 119, 152, 63, 108, 79, 173, 91, 192, 136, 2, 95, 5, 151, 14, 66, 10, 86, 163, 180, 136, 149, 15, 66, 183, 60, 195, 123]\n",
            "Pares [8, 4, 2, 172, 152, 108, 192, 136, 2, 14, 66, 10, 86, 180, 136, 66, 60]\n",
            "Impares: [161, 135, 27, 1, 153, 181, 143, 15, 113, 119, 63, 79, 173, 91, 95, 5, 151, 163, 149, 15, 183, 195, 123]\n"
          ],
          "name": "stdout"
        }
      ]
    },
    {
      "cell_type": "code",
      "metadata": {
        "colab": {
          "base_uri": "https://localhost:8080/"
        },
        "id": "8qdWeOmKMBSt",
        "outputId": "65b68448-207e-4355-a14a-16fc9d526b5b"
      },
      "source": [
        "len1=len(lpar)\n",
        "len2=len(limpar)\n",
        "\n",
        "print(\"Longitud de la primera\",len1)\n",
        "print(\"Longitud de la primera\",len2)\n"
      ],
      "execution_count": 267,
      "outputs": [
        {
          "output_type": "stream",
          "text": [
            "Longitud de la primera 17\n",
            "Longitud de la primera 23\n"
          ],
          "name": "stdout"
        }
      ]
    },
    {
      "cell_type": "code",
      "metadata": {
        "colab": {
          "base_uri": "https://localhost:8080/"
        },
        "id": "RouYnExNM1s9",
        "outputId": "fdd4988d-1f52-4933-8863-a8d0e6279f6e"
      },
      "source": [
        "lpar.sort(reverse=True)\n",
        "limpar.sort()\n",
        "print(\"Par:\", lpar)\n",
        "print(\"Impar\", limpar)"
      ],
      "execution_count": 268,
      "outputs": [
        {
          "output_type": "stream",
          "text": [
            "Par: [192, 180, 172, 152, 136, 136, 108, 86, 66, 66, 60, 14, 10, 8, 4, 2, 2]\n",
            "Impar [1, 5, 15, 15, 27, 63, 79, 91, 95, 113, 119, 123, 135, 143, 149, 151, 153, 161, 163, 173, 181, 183, 195]\n"
          ],
          "name": "stdout"
        }
      ]
    },
    {
      "cell_type": "code",
      "metadata": {
        "colab": {
          "base_uri": "https://localhost:8080/"
        },
        "id": "llVsGkZuNSNI",
        "outputId": "cd5d33d4-ebf5-4fc9-b4b0-641e4561252b"
      },
      "source": [
        "longii=len(lista)\n",
        "lista.reverse()\n",
        "lista.append(2)\n",
        "\n",
        "print(\"Longitud de la lista:\",longii)\n",
        "print(\"Imprimir lista al reves: \",lista)\n",
        "\n",
        "print(\"Numero mayor de los datos:\",max(lista),\"\\nNumero menor de los datos:\",min(lista))"
      ],
      "execution_count": 272,
      "outputs": [
        {
          "output_type": "stream",
          "text": [
            "Longitud de la lista: 43\n",
            "Imprimir lista al reves:  [52, 21, 8, 161, 135, 27, 4, 1, 2, 153, 181, 172, 143, 15, 113, 119, 152, 63, 108, 79, 173, 91, 192, 136, 2, 95, 5, 151, 14, 66, 10, 86, 163, 180, 136, 149, 15, 66, 183, 60, 195, 123, 21, 2]\n",
            "Numero mayor de los datos: 195 \n",
            "Numero menor de los datos: 1\n"
          ],
          "name": "stdout"
        }
      ]
    },
    {
      "cell_type": "markdown",
      "metadata": {
        "id": "t4R-PbehN3-4"
      },
      "source": [
        "DICCIONARIOS"
      ]
    },
    {
      "cell_type": "code",
      "metadata": {
        "colab": {
          "base_uri": "https://localhost:8080/"
        },
        "id": "5x29VD2MN7L5",
        "outputId": "e4e5873e-ec52-4662-9c4e-2369e73f5456"
      },
      "source": [
        "D={'Fanny':'22','Consuelo':'43','Victoria':'12','Diego':'20','Jose':'26','Monse':'20'}\n",
        "print(D)"
      ],
      "execution_count": 273,
      "outputs": [
        {
          "output_type": "stream",
          "text": [
            "{'Fanny': '22', 'Consuelo': '43', 'Victoria': '12', 'Diego': '20', 'Jose': '26', 'Monse': '20'}\n"
          ],
          "name": "stdout"
        }
      ]
    },
    {
      "cell_type": "code",
      "metadata": {
        "colab": {
          "base_uri": "https://localhost:8080/"
        },
        "id": "M5ANI23MPJVW",
        "outputId": "0a880859-79a9-4907-c17b-47568cca4f39"
      },
      "source": [
        "D={'Fanny':22,'Consuelo':43,'Victoria':12,'Diego':20,'Jose':26,'Monse':20}\n",
        "edad=[]\n",
        "for i in D:\n",
        "    if type(D[i]) == type(inte):\n",
        "        edad.append(D[i])\n",
        "edad.sort()\n",
        "print(\"Edades\",edad)"
      ],
      "execution_count": 283,
      "outputs": [
        {
          "output_type": "stream",
          "text": [
            "Edades [12, 20, 20, 22, 26, 43]\n"
          ],
          "name": "stdout"
        }
      ]
    },
    {
      "cell_type": "code",
      "metadata": {
        "colab": {
          "base_uri": "https://localhost:8080/"
        },
        "id": "2kuDiutQQOHs",
        "outputId": "2da31805-81c3-4839-9630-ae8092c197a3"
      },
      "source": [
        "Nom=D.keys()\n",
        "\n",
        "print(Nom)"
      ],
      "execution_count": 284,
      "outputs": [
        {
          "output_type": "stream",
          "text": [
            "dict_keys(['Fanny', 'Consuelo', 'Victoria', 'Diego', 'Jose', 'Monse'])\n"
          ],
          "name": "stdout"
        }
      ]
    },
    {
      "cell_type": "code",
      "metadata": {
        "colab": {
          "base_uri": "https://localhost:8080/"
        },
        "id": "Dsq-uZOOQXTU",
        "outputId": "53042561-b5ee-44d1-8308-fb1eeeeb07f3"
      },
      "source": [
        "\n",
        "D['Aaron']=30\n",
        "D['Jorge']=24\n",
        "\n",
        "print(D)"
      ],
      "execution_count": 285,
      "outputs": [
        {
          "output_type": "stream",
          "text": [
            "{'Fanny': 22, 'Consuelo': 43, 'Victoria': 12, 'Diego': 20, 'Jose': 26, 'Monse': 20, 'Aaron': 30, 'Jorge': 24}\n"
          ],
          "name": "stdout"
        }
      ]
    },
    {
      "cell_type": "markdown",
      "metadata": {
        "id": "ggUa6Px8QwKV"
      },
      "source": [
        "SETS"
      ]
    },
    {
      "cell_type": "code",
      "metadata": {
        "colab": {
          "base_uri": "https://localhost:8080/"
        },
        "id": "lSV9PDTFQxna",
        "outputId": "e52301ad-b95f-4052-bdcf-ced7a05a0960"
      },
      "source": [
        "import random\n",
        "aleaSET=[random.randint(1,25) for i in range(100)]\n",
        "print (aleaSET)"
      ],
      "execution_count": 288,
      "outputs": [
        {
          "output_type": "stream",
          "text": [
            "[25, 19, 10, 12, 1, 9, 20, 23, 7, 16, 3, 8, 22, 19, 19, 4, 5, 5, 6, 23, 5, 21, 15, 2, 16, 15, 25, 2, 25, 4, 17, 18, 16, 1, 6, 16, 4, 16, 19, 4, 6, 3, 3, 14, 11, 12, 16, 9, 15, 7, 1, 9, 2, 20, 18, 11, 19, 1, 15, 2, 10, 10, 16, 8, 13, 4, 21, 5, 22, 25, 4, 10, 19, 2, 4, 1, 15, 9, 6, 7, 22, 7, 19, 11, 16, 14, 24, 20, 1, 19, 3, 16, 11, 20, 8, 1, 5, 9, 17, 20]\n"
          ],
          "name": "stdout"
        }
      ]
    },
    {
      "cell_type": "code",
      "metadata": {
        "colab": {
          "base_uri": "https://localhost:8080/"
        },
        "id": "i_vnein8RuXr",
        "outputId": "3589d1d7-2d27-4048-ab1c-259609bae95c"
      },
      "source": [
        "lenSET=len(aleaSET)\n",
        "print(lenSET)"
      ],
      "execution_count": 290,
      "outputs": [
        {
          "output_type": "stream",
          "text": [
            "100\n"
          ],
          "name": "stdout"
        }
      ]
    },
    {
      "cell_type": "code",
      "metadata": {
        "colab": {
          "base_uri": "https://localhost:8080/"
        },
        "id": "GsFQ_m0NR0sL",
        "outputId": "1705df35-3cb8-41a1-c4fc-5a3b1160e6a9"
      },
      "source": [
        "import random\n",
        "aleaSET2=[random.randint(1,10) for i in range(5)]\n",
        "print (aleaSET2)"
      ],
      "execution_count": 292,
      "outputs": [
        {
          "output_type": "stream",
          "text": [
            "[4, 3, 6, 10, 7]\n"
          ],
          "name": "stdout"
        }
      ]
    },
    {
      "cell_type": "code",
      "metadata": {
        "colab": {
          "base_uri": "https://localhost:8080/"
        },
        "id": "3ZvxpBkVSQmx",
        "outputId": "c0858ede-0a6c-46e3-eea3-0aa7b859de93"
      },
      "source": [
        "4 in aleaSET2\n",
        "3 in aleaSET2\n",
        "6 in aleaSET2\n",
        "10 in aleaSET2\n",
        "7 in aleaSET2"
      ],
      "execution_count": 293,
      "outputs": [
        {
          "output_type": "execute_result",
          "data": {
            "text/plain": [
              "True"
            ]
          },
          "metadata": {},
          "execution_count": 293
        }
      ]
    }
  ]
}